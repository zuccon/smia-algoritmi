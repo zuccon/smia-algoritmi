{
 "cells": [
  {
   "cell_type": "markdown",
   "metadata": {
    "id": "sjbmb9-dQqqu"
   },
   "source": [
    "Fine pausa ore 16:24"
   ]
  },
  {
   "cell_type": "markdown",
   "metadata": {
    "id": "nPz_YorYfeA-"
   },
   "source": [
    "#Greedy"
   ]
  },
  {
   "cell_type": "markdown",
   "metadata": {
    "id": "DkQfIxaDfj-l"
   },
   "source": [
    "## 🔢 Split with Minimum Sum 📗"
   ]
  },
  {
   "cell_type": "markdown",
   "metadata": {
    "id": "kSrNPAN2eWrs"
   },
   "source": [
    "\n",
    "\n",
    "Dato un numero intero positivo `num`, suddividilo in due numeri interi non negativi `num1` e `num2` tali che:\n",
    "\n",
    "- La concatenazione di `num1` e `num2` sia una permutazione di `num`.\n",
    "- In altre parole, la somma delle occorrenze di ciascuna cifra in `num1` e `num2` deve essere uguale al numero di occorrenze di quella cifra in `num`.\n",
    "- `num1` e `num2` possono contenere zeri iniziali.\n",
    "\n",
    "Restituisci la somma minima possibile tra `num1` e `num2`.\n",
    "\n",
    "### Note:\n",
    "\n",
    "- È garantito che `num` non contenga zeri iniziali.\n",
    "- L'ordine di comparsa delle cifre in `num1` e `num2` può differire da quello in `num`.\n",
    "\n",
    "### Esempi:\n",
    "\n",
    "**Esempio 1:**\n",
    "\n",
    "Input: `num = 4325`  \n",
    "Output: `59`  \n",
    "Spiegazione: Possiamo dividere 4325 in `num1 = 24` e `num2 = 35`, ottenendo una somma pari a 59. Si può dimostrare che 59 è effettivamente la somma minima possibile.\n",
    "\n",
    "**Esempio 2:**\n",
    "\n",
    "Input: `num = 687`  \n",
    "Output: `75`  \n",
    "Spiegazione: Possiamo dividere 687 in `num1 = 68` e `num2 = 7`, ottenendo la somma ottimale di 75.\n"
   ]
  },
  {
   "cell_type": "markdown",
   "metadata": {
    "id": "hJZSg27UR-Kd"
   },
   "source": [
    "####Obiettivo\n",
    "$$ sum = num_1 + num_2 $$\n",
    "1. Ogni cifra di num deve essere utilizzata in num1 o num2\n",
    "2. Possiamo avere zeri iniziali in entrambi i numeri (num1 che in num2)\n",
    "3. L'ordine delle cifre non deve rispettare quello di num, possiamo permutarlo liberamente\n",
    "4. sum deve essere la minima possibile\n",
    "\n",
    "#### L'idea\n",
    "- Nelle cifre più significative devono comparire le cifre più piccole #scelta greedy ### 7526, 752+6 > 75+26\n",
    "\n",
    "####Algoritmo\n",
    "\n",
    "1. Estrarre le cifre di num e salvarle singolarmente in una lista\n",
    "2. Ordinare in maniera crescente la lista\n",
    "3. prediamo a turno la cifra più piccola non utilizzata e la appendiamo ad una lista (num1, num2), e ripetiamo fino alla fine della lista values\n",
    "\n",
    "4. Num1 e Num2 avranno come cifra più significative (decine,centinaia ecc ) le cifre più piccole possibili\n",
    "5. Cosa succede se una delle due sequenze finisce prima? Continueremo a aggiungere le cifre ad un solo dei due numeri #massimo una cifra in più\n",
    "\n",
    "6. Esempio: num = 4325\n",
    "\n",
    "- Cifre -> [4,3,2,5]\n",
    "-Ordinarle -> [2,3,4,5]\n",
    "-Distribuzione: num1 ->2 ; num2 -> 3 ; num1 ->4 e cosi vià\n",
    "-Unire la lista in un interno num1 e num2\n",
    "\n",
    "Return Somma\n"
   ]
  },
  {
   "cell_type": "code",
   "execution_count": null,
   "metadata": {
    "id": "BQewknjIVKJh"
   },
   "outputs": [],
   "source": [
    "def minimumSum(num: int) -> int:\n",
    "  digits = list(str(num)) #Trasforma l'interno in una lista\n",
    "\n",
    "  digits.sort()\n",
    "\n",
    "  num1_str = ''\n",
    "  num2_str = ''\n",
    "\n",
    "  for i,d in enumerate(digits): #i = 0 d = digits[0] ->\n",
    "    if i%2 ==0:\n",
    "      num1_str += d #posizione pari a num1\n",
    "    else:\n",
    "      num2_str += d #posizione dispari\n",
    "\n",
    "\n",
    "  #convertiamo da stringhe a intero\n",
    "  num1 = int(num1_str)\n",
    "  num2= int(num2_str)\n",
    "\n",
    "  return num1+num2\n",
    "\n"
   ]
  },
  {
   "cell_type": "code",
   "execution_count": null,
   "metadata": {
    "colab": {
     "base_uri": "https://localhost:8080/"
    },
    "id": "6vdt8cwcWiBA",
    "outputId": "58b408c7-c066-47fa-afb4-1d4682d1cac3"
   },
   "outputs": [
    {
     "name": "stdout",
     "output_type": "stream",
     "text": [
      "59\n",
      "9\n",
      "75\n"
     ]
    }
   ],
   "source": [
    "print(minimumSum(4325))\n",
    "print(minimumSum(27))\n",
    "print(minimumSum(687))"
   ]
  },
  {
   "cell_type": "code",
   "execution_count": 1,
   "metadata": {},
   "outputs": [
    {
     "name": "stdout",
     "output_type": "stream",
     "text": [
      "145\n"
     ]
    }
   ],
   "source": [
    "# mio\n",
    "num=21232\n",
    "list(str(num))\n",
    "list(map(int, str(num)))\n",
    "\n",
    "def minimum_sum(num):\n",
    "    num1=[]\n",
    "    num2=[]\n",
    "    num_list=sorted(list(str(num)))\n",
    "    while len(num_list)>1:\n",
    "        num1.append(num_list.pop(0))\n",
    "        num2.append(num_list.pop(0))\n",
    "    num1.append(num_list.pop(0))\n",
    "\n",
    "    return int(\"\".join(num1)) + int(\"\".join(num2))\n",
    "\n",
    "print(minimum_sum(num))"
   ]
  },
  {
   "cell_type": "markdown",
   "metadata": {
    "id": "8QHd2xSqfv9K"
   },
   "source": [
    "##  🔝 Maximum 69 Number"
   ]
  },
  {
   "cell_type": "markdown",
   "metadata": {
    "id": "Cw2soQDTfLdt"
   },
   "source": [
    "\n",
    "Ti viene dato un numero intero positivo `num` composto solo dalle cifre 6 e 9.\n",
    "\n",
    "Restituisci il numero massimo che puoi ottenere cambiando **al massimo una cifra** (una cifra 6 può diventare 9 e una cifra 9 può diventare 6).\n",
    "\n",
    "### Esempi:\n",
    "\n",
    "**Esempio 1:**\n",
    "\n",
    "Input: `num = 9669`  \n",
    "Output: `9969`  \n",
    "Spiegazione:  \n",
    "- Cambiando la prima cifra si ottiene `6669`.  \n",
    "- Cambiando la seconda cifra si ottiene `9969`.  \n",
    "- Cambiando la terza cifra si ottiene `9699`.  \n",
    "- Cambiando la quarta cifra si ottiene `9666`.  \n",
    "Il numero massimo ottenibile è `9969`.\n",
    "\n",
    "**Esempio 2:**\n",
    "\n",
    "Input: `num = 9996`  \n",
    "Output: `9999`  \n",
    "Spiegazione: Cambiando l'ultima cifra 6 in 9 otteniamo il numero massimo.\n",
    "\n",
    "**Esempio 3:**\n",
    "\n",
    "Input: `num = 9999`  \n",
    "Output: `9999`  \n",
    "Spiegazione: È meglio non effettuare alcuna modifica.\n"
   ]
  },
  {
   "cell_type": "markdown",
   "metadata": {
    "id": "tDk4TdFUiMr8"
   },
   "source": [
    "#Cosa fare\n",
    "\n",
    "- Ogni cifra in posizione più alta (da sinistra) pesa di più.\n",
    "- Trasformare un 6 in un 9, il numero aumenta di: $$ 3 \\times 10 ^ \\text{posizione} $$\n",
    "-Trasformiamo un 9 in un 6,  il numero diminuisce di: $$ 3 \\times 10 ^ \\text{posizione} $$\n",
    "\n",
    "#Procedimetno\n",
    "- Leggere il nostro numero da sinistra a destra\n",
    "-Appena andiamo a trovare un 6 in posizione più alta possibile, lo trasformiamo in 9 e ci fermiamo\n",
    "-Se non c'è alcun 6 allora non dobbiamo fare nulla\n"
   ]
  },
  {
   "cell_type": "code",
   "execution_count": null,
   "metadata": {
    "colab": {
     "base_uri": "https://localhost:8080/"
    },
    "id": "xvsrKVTbjIDN",
    "outputId": "025e8c97-a3ce-4bb0-cec1-d0ab435106a1"
   },
   "outputs": [
    {
     "name": "stdout",
     "output_type": "stream",
     "text": [
      "9999\n",
      "9999\n",
      "9666\n"
     ]
    }
   ],
   "source": [
    "def MaximumNumber(num: int ) -> int:\n",
    "  return  int(str(num).replace(\"6\",\"9\",1))\n",
    "\n",
    "print(MaximumNumber(9699))\n",
    "print(MaximumNumber(9999))\n",
    "print(MaximumNumber(6666))"
   ]
  },
  {
   "cell_type": "markdown",
   "metadata": {
    "id": "6F79NMuff03h"
   },
   "source": [
    "## 🔤 Remove Duplicate Letters"
   ]
  },
  {
   "cell_type": "markdown",
   "metadata": {
    "id": "xePAZjf_fYc6"
   },
   "source": [
    "\n",
    "\n",
    "Data una stringa `s`, rimuovi le lettere duplicate in modo che **ogni lettera compaia una sola volta**.  \n",
    "Devi inoltre assicurarti che il risultato sia **il più piccolo possibile in ordine lessicografico** tra tutti i risultati validi.\n",
    "\n",
    "### Esempi:\n",
    "\n",
    "**Esempio 1:**\n",
    "\n",
    "Input: `s = \"bcabc\"`  \n",
    "Output: `\"abc\"`\n",
    "\n",
    "**Esempio 2:**\n",
    "\n",
    "Input: `s = \"cbacdcbc\"`  \n",
    "Output: `\"acdb\"`\n"
   ]
  },
  {
   "cell_type": "markdown",
   "metadata": {
    "id": "S87tmpg4kvBS"
   },
   "source": [
    "#Algortimo\n",
    "\n",
    "1. Scansioniamo s, e vediamo quante volte compare ciascun carattere (con un dizionario)\n",
    "2. Creare set per sapere se un carattere è già nel nostro stack cosi che non lo inseriamo due volte\n",
    "3. Scansioniamo s da sinistra a destra\n",
    "\n",
    "4. Creiamo un contatore che decrementiamo ogni volta che esauriamo una occorrenza di character\n",
    "5. Se c è gia utilizzato lo saltiamo\n",
    "6. Altrimenti\n",
    "- Mentre lo stack nonè vuoto e l'ultimo carattere è maggiore di c (quindi dobbiamo inserire c a \"destra\" dell'ultimo caratter ) facciamo un push di c e lo aggiungiamo alla lista dei già visti\n",
    "7. Lo stack contiene solamente i caratteri in ordine crescetne contati una sola volta, per ottenere l'output  dobbiamo unire gli elementi dello stack per creare un stringa\n",
    "\n",
    "esempio: s= \"cbacdcbc\":\n",
    "1. Counter iniziale: {c : 4, b:2 ...}\n",
    "2. scansione c-> stack[], push c, visited = {c}, counter[c] = 3\n",
    "3. b -> b<c e counter[c] >0, pop c, push b, push c visited = {b}\n",
    "\n",
    "\n",
    "\n"
   ]
  },
  {
   "cell_type": "code",
   "execution_count": null,
   "metadata": {
    "colab": {
     "base_uri": "https://localhost:8080/"
    },
    "id": "GIq22aRUm4T6",
    "outputId": "8f9eba9c-8d9b-408d-d8d5-583b56b06b71"
   },
   "outputs": [
    {
     "name": "stdout",
     "output_type": "stream",
     "text": [
      "acdb\n"
     ]
    }
   ],
   "source": [
    "def remove(s: str)-> str:\n",
    "\n",
    "  from collections import Counter\n",
    "\n",
    "  # Contare quante volte compare ogni carattere\n",
    "  rimanenti = Counter(s)\n",
    "  # Tenere traccia dei caratteri già nel risultato\n",
    "  visited = set()\n",
    "  #il risultato in ordine\n",
    "  stack = []\n",
    "\n",
    "\n",
    "  for c in s: #scorriamo sulla stringa\n",
    "    rimanenti[c] -= 1 #togliamo una occorrenza\n",
    "\n",
    "    if c in visited: #se lo abbiamo già usato allora ok vado avanti\n",
    "      continue\n",
    "\n",
    "    while stack and c<stack[-1] and rimanenti[stack[-1]] > 0: #se posso migliorare il risultato\n",
    "      removed = stack.pop() #rimuovo l'ultimo elemento\n",
    "      visited.remove(removed) #non è più nello stack\n",
    "\n",
    "    stack.append(c) #inseriamo c nello stack\n",
    "    visited.add(c) #inseriamo c tra i visitati\n",
    "\n",
    "  return \"\".join(stack)\n",
    "\n",
    "print(remove(\"cbacdcbc\"))"
   ]
  },
  {
   "cell_type": "markdown",
   "metadata": {
    "id": "c_dbO6iRf5gu"
   },
   "source": [
    "#Dynamic"
   ]
  },
  {
   "cell_type": "markdown",
   "metadata": {
    "id": "1FdXPJY4f7TU"
   },
   "source": [
    "## 🛑 Integer Break"
   ]
  },
  {
   "cell_type": "markdown",
   "metadata": {
    "id": "s2SxNw2RgHeb"
   },
   "source": [
    "\n",
    "\n",
    "Dato un intero `n`, suddividilo come somma di `k` interi positivi, dove `k ≥ 2`, e **massimizza il prodotto** di questi interi.\n",
    "\n",
    "Restituisci il prodotto massimo ottenibile.\n",
    "\n",
    "### Esempi:\n",
    "\n",
    "**Esempio 1:**\n",
    "\n",
    "Input: `n = 2`  \n",
    "Output: `1`  \n",
    "Spiegazione: 2 = 1 + 1, 1 × 1 = 1.\n",
    "\n",
    "**Esempio 2:**\n",
    "\n",
    "Input: `n = 10`  \n",
    "Output: `36`  \n",
    "Spiegazione: 10 = 3 + 3 + 4, 3 × 3 × 4 = 36.\n"
   ]
  },
  {
   "cell_type": "markdown",
   "metadata": {
    "id": "XuFblWq9YVZA"
   },
   "source": [
    "###Obiettivo\n",
    "$$ \\max_{x_1+x_2+ \\cdots + x_k = n; x_i >0}  x_1*x_2* \\cdots * x_k $$"
   ]
  },
  {
   "cell_type": "markdown",
   "metadata": {
    "id": "9XJ45BchY17L"
   },
   "source": [
    "## casi base\n",
    "\n",
    "1. Per n= 2 l'unica possibile scomposizione è 1+1\n",
    "2. Per n= 3 (1+2) (1+1+1) il prodotto massimo è 2\n",
    "\n",
    "##Algoritmo\n",
    "\n",
    "1. Se n <= 3 restituiamo n-1\n",
    "2. Creiamo la variabile prod = 1\n",
    "3. Mentre (n>4): Moltiplichiamo prod per 3 (scelgo un addendo di valore 3); Decrementiamo n di 3\n",
    "4. Alla fine n sarà compreso tra due 2 e 4, moltiplicare prod per l'ultimo n rimasto\n",
    "\n",
    "5. Restituire prod"
   ]
  },
  {
   "cell_type": "markdown",
   "metadata": {
    "id": "G_DYuqmXa4sa"
   },
   "source": [
    "Ipotizziamo di spezzare un numero reale \\(n\\) in \\(k\\) parti tutte uguali \\(x\\), l'ottimizzazione $$ \\max_{k,x}\\; x^k \\quad \\text{soggetto a} \\quad k\\,x = n$$\n",
    "Ridurre ad una funzione\n",
    "$$\n",
    "f(k) = \\bigl(\\tfrac{n}{k}\\bigr)^{\\!k}$$\n",
    "\n",
    "raggiunge il massimo quando? per x>0\n",
    "$$\n",
    "\\( \\ln(n/k) = 1\\)\n",
    "$$\n",
    "$$\n",
    "\\( x= n/e\\)\n",
    "$$\n",
    "Perchè se n fissato, la dimensione ottima della fetta tende a e\n",
    "\n",
    "- Spezzasssimo n, in 2, $$2^{\\,n/2}$$ -> 1.414\n",
    "- Spezzasssimo n, in 3, $$3^{\\,n/3}$$ -> 1.442\n",
    "\n"
   ]
  },
  {
   "cell_type": "code",
   "execution_count": null,
   "metadata": {
    "colab": {
     "base_uri": "https://localhost:8080/"
    },
    "id": "1Sy6vyIMdfIO",
    "outputId": "1d855bcc-4313-48f6-dbe4-6a65c4afba90"
   },
   "outputs": [
    {
     "name": "stdout",
     "output_type": "stream",
     "text": [
      "243\n",
      "36\n",
      "1\n",
      "108\n"
     ]
    }
   ],
   "source": [
    "def integerBreak(n: int) -> int:\n",
    "\n",
    "    #caso base\n",
    "  if n <= 3:\n",
    "    return n-1\n",
    "\n",
    "\n",
    "    #inizialire prod\n",
    "  prod = 1\n",
    "\n",
    "   # Prendiamo quanti più 3 possibili finché n > 4\n",
    "  while n>4:\n",
    "    prod *=3\n",
    "    n -= 3\n",
    "\n",
    "  prod *= n\n",
    "\n",
    "  return prod\n",
    "\n",
    "\n",
    "print(integerBreak(15))\n",
    "print(integerBreak(10))\n",
    "print(integerBreak(2))\n",
    "print(integerBreak(13))\n"
   ]
  },
  {
   "cell_type": "markdown",
   "metadata": {
    "id": "ZsfO9vnVfGIE"
   },
   "source": [
    "9 = 2 * 4 * 3\n",
    "13= 3 * 3 *3 *3 *1\n"
   ]
  },
  {
   "cell_type": "markdown",
   "metadata": {
    "id": "YXsSfwYTgJKG"
   },
   "source": [
    "## 💵 Coin Change"
   ]
  },
  {
   "cell_type": "markdown",
   "metadata": {
    "id": "klVFrAq_gL_G"
   },
   "source": [
    "\n",
    "Ti viene dato un array di interi `coins` che rappresenta monete di diversi tagli, e un intero `amount` che rappresenta un importo totale di denaro.\n",
    "\n",
    "Restituisci **il numero minimo di monete** necessario per ottenere quell’importo.  \n",
    "Se **non è possibile** ottenere l’importo usando nessuna combinazione delle monete disponibili, restituisci `-1`.\n",
    "\n",
    "Puoi assumere di avere un **numero infinito di ciascun tipo di moneta**.\n",
    "\n",
    "### Esempi:\n",
    "\n",
    "**Esempio 1:**\n",
    "\n",
    "Input: `coins = [1, 2, 5]`, `amount = 11`  \n",
    "Output: `3`  \n",
    "Spiegazione: 11 = 5 + 5 + 1\n",
    "\n",
    "**Esempio 2:**\n",
    "\n",
    "Input: `coins = [2]`, `amount = 3`  \n",
    "Output: `-1`\n",
    "\n",
    "**Esempio 3:**\n",
    "\n",
    "Input: `coins = [1]`, `amount = 0`  \n",
    "Output: `0`\n"
   ]
  },
  {
   "cell_type": "markdown",
   "metadata": {
    "id": "fIFKQnuwqtdt"
   },
   "source": [
    "dp[i]\n",
    "-dp[0] = 0\n",
    "- per tutti gli altri i > 0 inizialiamo a +inf\n",
    "\n",
    "Per ogni importo i da 1 a amount, e per ogni monete c in coins $$\\text{se}\\quad i \\ge c, \\quad dp[i] = \\min(dp[i]), dp[i-c]+1)$$"
   ]
  },
  {
   "cell_type": "code",
   "execution_count": null,
   "metadata": {
    "colab": {
     "base_uri": "https://localhost:8080/"
    },
    "id": "tuIG1kQYrXpp",
    "outputId": "95d2a6b4-fb17-4b74-dc67-7cb27b712f95"
   },
   "outputs": [
    {
     "name": "stdout",
     "output_type": "stream",
     "text": [
      "3\n",
      "-1\n"
     ]
    }
   ],
   "source": [
    "def coinChange(coins: list[int], amount: int) -> int:\n",
    "\n",
    "  dp = [float('inf')] * (amount + 1)\n",
    "\n",
    "  dp[0] = 0\n",
    "\n",
    "  for i in range(1, amount +1):\n",
    "    for c in coins:\n",
    "      if i>=c: #uso la ricorrenza dp[i-c]+1\n",
    "        dp[i] = min(dp[i], dp[i-c]+1)\n",
    "\n",
    "  return -1 if dp[amount] == float('inf') else dp[amount]\n",
    "\n",
    "print(coinChange([1,2,5],11))\n",
    "print(coinChange([2],3))"
   ]
  },
  {
   "cell_type": "markdown",
   "metadata": {
    "id": "6bNUKG0-gPAW"
   },
   "source": [
    "## ✌ Can I Win"
   ]
  },
  {
   "cell_type": "markdown",
   "metadata": {
    "id": "GUIxMRcFgVJt"
   },
   "source": [
    "\n",
    "Nel \"gioco del 100\", due giocatori si alternano nell'aggiungere, a un totale cumulativo, un intero compreso tra 1 e 10. Il giocatore che per primo fa raggiungere o superare 100 al totale, vince.\n",
    "\n",
    "E se modifichiamo il gioco in modo che **i numeri non possano essere riutilizzati**?\n",
    "\n",
    "Ad esempio, due giocatori si alternano nel pescare numeri da un **insieme comune da 1 a 15** (senza reinserimento) fino a raggiungere un totale ≥ 100.\n",
    "\n",
    "Dati due interi `maxChoosableInteger` e `desiredTotal`, restituisci `true` se il **primo giocatore può forzare la vittoria**, altrimenti restituisci `false`.  \n",
    "Si assume che **entrambi i giocatori giochino in modo ottimale**.\n",
    "\n",
    "### Esempi:\n",
    "\n",
    "**Esempio 1:**\n",
    "\n",
    "Input: `maxChoosableInteger = 10`, `desiredTotal = 11`  \n",
    "Output: `false`  \n",
    "Spiegazione:  \n",
    "Qualsiasi numero scelga il primo giocatore, perderà.  \n",
    "Ad esempio, se sceglie 1, il secondo può scegliere 10 e arrivare a 11.  \n",
    "Questo vale per qualsiasi prima mossa: il secondo giocatore può sempre vincere.\n",
    "\n",
    "**Esempio 2:**\n",
    "\n",
    "Input: `maxChoosableInteger = 10`, `desiredTotal = 0`  \n",
    "Output: `true`\n",
    "\n",
    "**Esempio 3:**\n",
    "\n",
    "Input: `maxChoosableInteger = 10`, `desiredTotal = 1`  \n",
    "Output: `true`\n"
   ]
  },
  {
   "cell_type": "markdown",
   "metadata": {
    "id": "AIWqxl2FtSX1"
   },
   "source": [
    "#Coin Change 2"
   ]
  },
  {
   "cell_type": "markdown",
   "metadata": {
    "id": "0IQ5aUMjtWcQ"
   },
   "source": [
    "1. dp[i] il numero di modi per ottenere esattamente i\n",
    "2. dp[0] = 1\n",
    "3. $ ∀ i = c \\dots \\text{amount}: \\quad dp[i] += dp[i-c]$"
   ]
  },
  {
   "cell_type": "code",
   "execution_count": null,
   "metadata": {
    "colab": {
     "base_uri": "https://localhost:8080/"
    },
    "id": "-4OGGlPmtU2d",
    "outputId": "d3c79b88-1928-49a0-f7a5-bb91c33a153b"
   },
   "outputs": [
    {
     "name": "stdout",
     "output_type": "stream",
     "text": [
      "4\n",
      "5\n"
     ]
    }
   ],
   "source": [
    "def change(amount, coins):\n",
    "\n",
    "  dp = [0] * (amount+1)\n",
    "\n",
    "  dp[0] = 1\n",
    "\n",
    "  for c in coins:\n",
    "    for i in range(c, amount+1):\n",
    "      dp[i] += dp[i-c]\n",
    "\n",
    "  return dp[amount]\n",
    "\n",
    "#amount = 5, coins = [1,2,5]\n",
    "print(change(5,[1,2,5]))\n",
    "#`coins = [2, 5, 3, 6], target = 10`\n",
    "print(change(10,[2, 5, 3, 6]))"
   ]
  }
 ],
 "metadata": {
  "colab": {
   "provenance": [],
   "toc_visible": true
  },
  "kernelspec": {
   "display_name": "Python 3 (ipykernel)",
   "language": "python",
   "name": "python3"
  },
  "language_info": {
   "codemirror_mode": {
    "name": "ipython",
    "version": 3
   },
   "file_extension": ".py",
   "mimetype": "text/x-python",
   "name": "python",
   "nbconvert_exporter": "python",
   "pygments_lexer": "ipython3",
   "version": "3.13.3"
  }
 },
 "nbformat": 4,
 "nbformat_minor": 4
}
