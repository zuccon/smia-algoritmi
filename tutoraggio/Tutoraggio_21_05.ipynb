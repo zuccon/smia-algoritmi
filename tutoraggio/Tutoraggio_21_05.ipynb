{
 "cells": [
  {
   "cell_type": "markdown",
   "metadata": {
    "id": "TTdFe2QSTWHH"
   },
   "source": [
    "# **Greedy**"
   ]
  },
  {
   "cell_type": "markdown",
   "metadata": {
    "id": "Vr75iD_hRb-W"
   },
   "source": [
    "## 🧩 Problema: Il più grande intero palindromo : 🟠\n"
   ]
  },
  {
   "cell_type": "markdown",
   "metadata": {
    "id": "UKD6a7h2Rntx"
   },
   "source": [
    "\n",
    "Ti viene fornita una stringa `num` composta **solo da cifre decimali**.\n",
    "\n",
    "**Restituisci il più grande intero palindromo** (sotto forma di stringa) che può essere formato utilizzando le cifre prese da `num`.  \n",
    "**Non deve contenere zeri iniziali.**\n",
    "\n",
    "### ℹ️ Note:\n",
    "\n",
    "- Non è necessario usare tutte le cifre di `num`, ma **devi usarne almeno una**.\n",
    "- Le cifre **possono essere riordinate**.\n",
    "\n",
    "---\n",
    "\n",
    "### 📘 Esempio 1:\n",
    "\n",
    "**Input:**  \n",
    "`num = \"444947137\"`\n",
    "\n",
    "**Output:**  \n",
    "`\"7449447\"`\n",
    "\n",
    "**Spiegazione:**  \n",
    "Usiamo le cifre `\"4449477\"` da `\"444947137\"` per formare il palindromo `\"7449447\"`.  \n",
    "Si può dimostrare che `\"7449447\"` è il più grande intero palindromo che si possa formare.\n",
    "\n",
    "---\n",
    "\n",
    "### 📘 Esempio 2:\n",
    "\n",
    "**Input:**  \n",
    "`num = \"00009\"`\n",
    "\n",
    "**Output:**  \n",
    "`\"9\"`\n",
    "\n",
    "**Spiegazione:**  \n",
    "Si può dimostrare che `\"9\"` è il più grande intero palindromo formabile.  \n",
    "Nota che l'intero restituito **non deve contenere zeri iniziali**.\n"
   ]
  },
  {
   "cell_type": "markdown",
   "metadata": {
    "id": "Z1Dg57QWRrWX"
   },
   "source": [
    "## 🔄 Array With Elements Not Equal to Average of Neighbors 🟠"
   ]
  },
  {
   "cell_type": "markdown",
   "metadata": {
    "id": "61oKLRKGSN6S"
   },
   "source": [
    "\n",
    "\n",
    "Ti viene fornito un array `nums` indicizzato da 0, contenente **interi distinti**.\n",
    "\n",
    "Vuoi **riordinare gli elementi** dell’array in modo tale che **nessun elemento sia uguale alla media dei suoi due vicini**.\n",
    "\n",
    "Più formalmente, l'array riordinato deve avere la seguente proprietà:\n",
    "\n",
    "Per ogni indice `i` nel range `1 <= i < nums.length - 1`, deve valere:\n",
    "\n",
    "(nums[i - 1] + nums[i + 1]) / 2 ≠ nums[i]\n",
    "\n",
    "\n",
    "**Restituisci** una qualsiasi disposizione di `nums` che soddisfi questa condizione.\n",
    "\n",
    "---\n",
    "\n",
    "### 📘 Esempio 1:\n",
    "\n",
    "**Input:**  \n",
    "`nums = [1,2,3,4,5]`\n",
    "\n",
    "**Output:**  \n",
    "`[1,2,4,5,3]`\n",
    "\n",
    "**Spiegazione:**  \n",
    "- Per `i = 1`: `nums[1] = 2` e la media dei vicini è `(1+4)/2 = 2.5`  \n",
    "- Per `i = 2`: `nums[2] = 4` e la media è `(2+5)/2 = 3.5`  \n",
    "- Per `i = 3`: `nums[3] = 5` e la media è `(4+3)/2 = 3.5`  \n",
    "Tutte le condizioni sono rispettate.\n",
    "\n",
    "---\n",
    "\n",
    "### 📘 Esempio 2:\n",
    "\n",
    "**Input:**  \n",
    "`nums = [6,2,0,9,7]`\n",
    "\n",
    "**Output:**  \n",
    "`[9,7,6,2,0]`\n",
    "\n",
    "**Spiegazione:**  \n",
    "- Per `i = 1`: `nums[1] = 7` e la media è `(9+6)/2 = 7.5`  \n",
    "- Per `i = 2`: `nums[2] = 6` e la media è `(7+2)/2 = 4.5`  \n",
    "- Per `i = 3`: `nums[3] = 2` e la media è `(6+0)/2 = 3`  \n",
    "Nota: Anche l'array originale `[6,2,0,9,7]` soddisfa le condizioni.\n",
    "\n",
    "---\n",
    "\n",
    "### 🔒 Vincoli:\n",
    "\n",
    "- `3 <= nums.length <= 1000`  \n",
    "- Gli elementi di `nums` sono **tutti distinti**"
   ]
  },
  {
   "cell_type": "markdown",
   "metadata": {
    "id": "ufYVA80WSy8m"
   },
   "source": [
    "## 🔺 Largest perimeter triangle 🟢"
   ]
  },
  {
   "cell_type": "markdown",
   "metadata": {
    "id": "iNL302Y5S5LC"
   },
   "source": [
    "\n",
    "Dato un array di interi `nums`, restituisci il **perimetro massimo** di un triangolo con **area non nulla**, formato da **tre** di queste lunghezze.\n",
    "\n",
    "Se non è possibile formare **nessun triangolo** con area diversa da zero, restituisci `0`.\n",
    "\n",
    "---\n",
    "\n",
    "### 📘 Esempio 1:\n",
    "\n",
    "**Input:**  \n",
    "`nums = [2,1,2]`\n",
    "\n",
    "**Output:**  \n",
    "`5`\n",
    "\n",
    "**Spiegazione:**  \n",
    "È possibile formare un triangolo con i lati di lunghezza `1`, `2` e `2`.\n",
    "\n",
    "---\n",
    "\n",
    "### 📘 Esempio 2:\n",
    "\n",
    "**Input:**  \n",
    "`nums = [1,2,1,10]`\n",
    "\n",
    "**Output:**  \n",
    "`0`\n",
    "\n",
    "**Spiegazione:**  \n",
    "Non è possibile formare un triangolo con area non nulla usando nessuna combinazione di tre lati.  \n",
    "Infatti, per formare un triangolo valido, **la somma delle lunghezze di due lati deve essere maggiore della lunghezza del terzo lato**.  \n",
    "Nessuna combinazione in questo caso soddisfa tale condizione.\n",
    "\n"
   ]
  },
  {
   "cell_type": "markdown",
   "metadata": {
    "id": "ATTmdBYWTE9e"
   },
   "source": [
    "##  💺 Minumum number of moves to seat everyone 🟢"
   ]
  },
  {
   "cell_type": "markdown",
   "metadata": {
    "id": "tiScH1RhTN42"
   },
   "source": [
    "\n",
    "Ci sono `n` posti disponibili e `n` studenti in piedi in una stanza.  \n",
    "Ti vengono forniti due array di lunghezza `n`:\n",
    "\n",
    "- `seats`, dove `seats[i]` rappresenta la posizione del `i`-esimo posto.\n",
    "- `students`, dove `students[j]` rappresenta la posizione del `j`-esimo studente.\n",
    "\n",
    "Puoi eseguire **quante volte vuoi** la seguente operazione:\n",
    "\n",
    "➡️ Spostare uno studente dalla posizione `x` a `x + 1` oppure a `x - 1` (ossia di una unità a destra o sinistra).\n",
    "\n",
    "**Restituisci il numero minimo di mosse necessarie** per far sedere **ogni studente in un posto**, in modo che **nessun posto venga occupato da più di uno studente**.\n",
    "\n",
    "🔎 Nota: all'inizio possono esserci **più posti o studenti nella stessa posizione**.\n",
    "\n",
    "---\n",
    "\n",
    "### 📘 Esempio 1:\n",
    "\n",
    "**Input:**  \n",
    "`seats = [3,1,5]`  \n",
    "`students = [2,7,4]`\n",
    "\n",
    "**Output:**  \n",
    "`4`\n",
    "\n",
    "**Spiegazione:**  \n",
    "- Lo studente 1 va da 2 a 1 → 1 mossa  \n",
    "- Lo studente 2 va da 7 a 5 → 2 mosse  \n",
    "- Lo studente 3 va da 4 a 3 → 1 mossa  \n",
    "Totale: `1 + 2 + 1 = 4` mosse\n",
    "\n",
    "---\n",
    "\n",
    "### 📘 Esempio 2:\n",
    "\n",
    "**Input:**  \n",
    "`seats = [4,1,5,9]`  \n",
    "`students = [1,3,2,6]`\n",
    "\n",
    "**Output:**  \n",
    "`7`\n",
    "\n",
    "**Spiegazione:**  \n",
    "- Studente 1: nessun movimento  \n",
    "- Studente 2: da 3 a 4 → 1 mossa  \n",
    "- Studente 3: da 2 a 5 → 3 mosse  \n",
    "- Studente 4: da 6 a 9 → 3 mosse  \n",
    "Totale: `0 + 1 + 3 + 3 = 7` mosse\n",
    "\n",
    "---\n",
    "\n",
    "### 📘 Esempio 3:\n",
    "\n",
    "**Input:**  \n",
    "`seats = [2,2,6,6]`  \n",
    "`students = [1,3,2,6]`\n",
    "\n",
    "**Output:**  \n",
    "`4`\n",
    "\n",
    "**Spiegazione:**  \n",
    "- Studente 1: da 1 a 2 → 1 mossa  \n",
    "- Studente 2: da 3 a 6 → 3 mosse  \n",
    "- Studente 3: già in posizione  \n",
    "- Studente 4: già in posizione  \n",
    "Totale: `1 + 3 + 0 + 0 = 4` mosse\n"
   ]
  },
  {
   "cell_type": "markdown",
   "metadata": {
    "id": "4nMFwakiJeDe"
   },
   "source": [
    "##🔢 Largest Odd Number in a string 🟢"
   ]
  },
  {
   "cell_type": "markdown",
   "metadata": {
    "id": "YBa6TeWPKMAH"
   },
   "source": [
    "Ti viene fornita una stringa `num` che rappresenta un grande intero.  \n",
    "Restituisci il più grande intero dispari (come stringa) che sia una sottostringa non vuota di `num`, oppure una stringa vuota `\"\"` se non esistono interi dispari.\n",
    "\n",
    "Una **sottostringa** è una sequenza contigua di caratteri all'interno di una stringa.\n",
    "\n",
    "---\n",
    "\n",
    "### Esempio 1:\n",
    "\n",
    "**Input:**  \n",
    "`num = \"52\"`  \n",
    "**Output:**  \n",
    "`\"5\"`  \n",
    "**Spiegazione:**  \n",
    "Le uniche sottostringhe non vuote sono `\"5\"`, `\"2\"` e `\"52\"`.  \n",
    "Tra queste, `\"5\"` è l’unica dispari.\n",
    "\n",
    "---\n",
    "\n",
    "### Esempio 2:\n",
    "\n",
    "**Input:**  \n",
    "`num = \"4206\"`  \n",
    "**Output:**  \n",
    "`\"\"`  \n",
    "**Spiegazione:**  \n",
    "Non ci sono cifre dispari in `\"4206\"`, quindi non esistono sottostringhe dispari.\n",
    "\n",
    "---\n",
    "\n",
    "### Esempio 3:\n",
    "\n",
    "**Input:**  \n",
    "`num = \"35427\"`  \n",
    "**Output:**  \n",
    "`\"35427\"`  \n",
    "**Spiegazione:**  \n",
    "`\"35427\"` è già un numero dispari.  "
   ]
  },
  {
   "cell_type": "markdown",
   "metadata": {
    "id": "sl3k8d6JTfSH"
   },
   "source": [
    "# **Programmazione Dinamica**"
   ]
  },
  {
   "cell_type": "markdown",
   "metadata": {
    "id": "udDxHi0sVbrM"
   },
   "source": [
    "## 🔺 Triangolo di Pascal 🟢"
   ]
  },
  {
   "cell_type": "markdown",
   "metadata": {
    "id": "qtx2QckTVeKB"
   },
   "source": [
    "\n",
    "\n",
    "Dato un intero `numRows`, restituisci le prime `numRows` righe del **triangolo di Pascal**.\n",
    "\n",
    "Nel triangolo di Pascal, ogni numero è la somma dei **due numeri direttamente sopra di esso**, come mostrato di seguito:\n",
    "  \n",
    "\n",
    "<pre>\n",
    "```plaintext\n",
    "          1\n",
    "        1   1\n",
    "      1   2   1\n",
    "    1   3   3   1\n",
    "  1   4   6   4   1\n",
    "1   5  10  10  5   1\n",
    "```\n",
    "</pre>\n",
    "\n",
    "\n",
    "---\n",
    "\n",
    "### 📘 Esempio 1:\n",
    "\n",
    "**Input:**  \n",
    "`numRows = 5`\n",
    "\n",
    "**Output:**  \n",
    "`[[1], [1,1], [1,2,1], [1,3,3,1], [1,4,6,4,1]]`\n",
    "\n",
    "---\n",
    "\n",
    "### 📘 Esempio 2:\n",
    "\n",
    "**Input:**  \n",
    "`numRows = 1`\n",
    "\n",
    "**Output:**  \n",
    "`[[1]]`\n",
    "\n"
   ]
  },
  {
   "cell_type": "markdown",
   "metadata": {
    "id": "HWtKdMy0V6B6"
   },
   "source": [
    "## ⬛ Perfect Square **🟠**"
   ]
  },
  {
   "cell_type": "markdown",
   "metadata": {
    "id": "B-rnV5GMWO0m"
   },
   "source": [
    "\n",
    "\n",
    "Dato un intero `n`, restituisci il **minimo numero di numeri quadrati perfetti** la cui somma è uguale a `n`.\n",
    "\n",
    "📌 Un **quadrato perfetto** è un numero intero che è il quadrato di un altro intero, ovvero il **prodotto di un numero per sé stesso**.  \n",
    "Ad esempio: `1`, `4`, `9`, `16` sono quadrati perfetti, mentre `3` e `11` non lo sono.\n",
    "\n",
    "---\n",
    "\n",
    "### 📘 Esempio 1:\n",
    "\n",
    "**Input:**  \n",
    "`n = 12`\n",
    "\n",
    "**Output:**  \n",
    "`3`\n",
    "\n",
    "**Spiegazione:**  \n",
    "`12 = 4 + 4 + 4`  \n",
    "Abbiamo usato tre quadrati perfetti.\n",
    "\n",
    "---\n",
    "\n",
    "### 📘 Esempio 2:\n",
    "\n",
    "**Input:**  \n",
    "`n = 13`\n",
    "\n",
    "**Output:**  \n",
    "`2`\n",
    "\n",
    "**Spiegazione:**  \n",
    "`13 = 4 + 9`  \n",
    "Abbiamo usato due quadrati perfetti.\n"
   ]
  },
  {
   "cell_type": "code",
   "execution_count": 21,
   "metadata": {},
   "outputs": [],
   "source": [
    "# usiamo programmazione dinamica, soluzione ricorsiva\n",
    "\n",
    "\n",
    "# non dinamico, non ricorsivo, sbajato\n",
    "import math\n",
    "def perfect_square_sum(n):\n",
    "    squares=[]\n",
    "    while n>0:\n",
    "        large = int(math.sqrt(n))\n",
    "        if large>0:\n",
    "            n=n-(large**2)\n",
    "            squares.append(large)\n",
    "        if large==0:\n",
    "            n=n-1\n",
    "            squares.append(1)\n",
    "    return len(squares), squares"
   ]
  },
  {
   "cell_type": "code",
   "execution_count": 20,
   "metadata": {},
   "outputs": [
    {
     "data": {
      "text/plain": [
       "(4, [3, 1, 1, 1])"
      ]
     },
     "execution_count": 20,
     "metadata": {},
     "output_type": "execute_result"
    }
   ],
   "source": [
    "perfect_square_sum(12)"
   ]
  },
  {
   "cell_type": "markdown",
   "metadata": {
    "id": "ssxfnv9aWVZe"
   },
   "source": [
    "## 🔀 Longest square streak in an Array 🟠"
   ]
  },
  {
   "cell_type": "markdown",
   "metadata": {
    "id": "vdl6QB3WWvpr"
   },
   "source": [
    "\n",
    "Ti viene fornito un array di interi `nums`.\n",
    "\n",
    "Una **sottosequenza** di `nums` si dice essere una **square streak** se:\n",
    "\n",
    "1. La lunghezza della sottosequenza è **almeno 2**, e  \n",
    "2. Dopo aver **ordinato** la sottosequenza, **ogni elemento (eccetto il primo)** è il **quadrato del precedente**.\n",
    "\n",
    "🔄 Una **sottosequenza** è un array che può essere ottenuto da un altro array **eliminando alcuni (o nessun) elemento** senza cambiare l’ordine dei restanti elementi.\n",
    "\n",
    "**Restituisci** la lunghezza della più lunga `square streak` presente in `nums`, oppure `-1` se **non esiste alcuna square streak**.\n",
    "\n",
    "---\n",
    "\n",
    "### 📘 Esempio 1:\n",
    "\n",
    "**Input:**  \n",
    "`nums = [4,3,6,16,8,2]`\n",
    "\n",
    "**Output:**  \n",
    "`3`\n",
    "\n",
    "**Spiegazione:**  \n",
    "Scegli la sottosequenza `[4,16,2]`. Dopo averla ordinata, otteniamo `[2,4,16]`.  \n",
    "- `4 = 2 * 2`  \n",
    "- `16 = 4 * 4`  \n",
    "Quindi `[4,16,2]` è una square streak di lunghezza `3`.\n",
    "\n",
    "---\n",
    "\n",
    "### 📘 Esempio 2:\n",
    "\n",
    "**Input:**  \n",
    "`nums = [2,3,5,6,7]`\n",
    "\n",
    "**Output:**  \n",
    "`-1`\n",
    "\n",
    "**Spiegazione:**  \n",
    "Nessuna sottosequenza soddisfa le condizioni di square streak.\n"
   ]
  },
  {
   "cell_type": "markdown",
   "metadata": {
    "id": "vdl6QB3WWvpr"
   },
   "source": [
    "\n",
    "Ti viene fornito un array di interi `nums`.\n",
    "\n",
    "Una **sottosequenza** di `nums` si dice essere una **square streak** se:\n",
    "\n",
    "1. La lunghezza della sottosequenza è **almeno 2**, e  \n",
    "2. Dopo aver **ordinato** la sottosequenza, **ogni elemento (eccetto il primo)** è il **quadrato del precedente**.\n",
    "\n",
    "🔄 Una **sottosequenza** è un array che può essere ottenuto da un altro array **eliminando alcuni (o nessun) elemento** senza cambiare l’ordine dei restanti elementi.\n",
    "\n",
    "**Restituisci** la lunghezza della più lunga `square streak` presente in `nums`, oppure `-1` se **non esiste alcuna square streak**.\n",
    "\n",
    "---\n",
    "\n",
    "### 📘 Esempio 1:\n",
    "\n",
    "**Input:**  \n",
    "`nums = [4,3,6,16,8,2]`\n",
    "\n",
    "**Output:**  \n",
    "`3`\n",
    "\n",
    "**Spiegazione:**  \n",
    "Scegli la sottosequenza `[4,16,2]`. Dopo averla ordinata, otteniamo `[2,4,16]`.  \n",
    "- `4 = 2 * 2`  \n",
    "- `16 = 4 * 4`  \n",
    "Quindi `[4,16,2]` è una square streak di lunghezza `3`.\n",
    "\n",
    "---\n",
    "\n",
    "### 📘 Esempio 2:\n",
    "\n",
    "**Input:**  \n",
    "`nums = [2,3,5,6,7]`\n",
    "\n",
    "**Output:**  \n",
    "`-1`\n",
    "\n",
    "**Spiegazione:**  \n",
    "Nessuna sottosequenza soddisfa le condizioni di square streak.\n"
   ]
  },
  {
   "cell_type": "code",
   "execution_count": null,
   "metadata": {},
   "outputs": [],
   "source": [
    "def squares_subseq(nums,squares={}):\n",
    "    \n",
    "    "
   ]
  }
 ],
 "metadata": {
  "colab": {
   "provenance": [],
   "toc_visible": true
  },
  "kernelspec": {
   "display_name": "Python 3 (ipykernel)",
   "language": "python",
   "name": "python3"
  },
  "language_info": {
   "codemirror_mode": {
    "name": "ipython",
    "version": 3
   },
   "file_extension": ".py",
   "mimetype": "text/x-python",
   "name": "python",
   "nbconvert_exporter": "python",
   "pygments_lexer": "ipython3",
   "version": "3.13.3"
  }
 },
 "nbformat": 4,
 "nbformat_minor": 4
}
