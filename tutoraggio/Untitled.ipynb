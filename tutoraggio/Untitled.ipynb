{
 "cells": [
  {
   "cell_type": "code",
   "execution_count": 6,
   "id": "7f36139a-0fc0-4395-a082-ce0bf4280054",
   "metadata": {},
   "outputs": [],
   "source": [
    "def asd(k: str=\"asd\") -> str:\n",
    "\n",
    "    pass"
   ]
  },
  {
   "cell_type": "code",
   "execution_count": null,
   "id": "50bbb012-0be3-44f1-8f5c-7fda633ec09c",
   "metadata": {},
   "outputs": [],
   "source": [
    "# e' un albero binario\n",
    "# e' un grafo pesato\n",
    "# costruisco un albero binario con le somme - ricorsivo?\n",
    "def triang(tri):\n"
   ]
  },
  {
   "cell_type": "code",
   "execution_count": 9,
   "id": "b85bbddf-0e79-4109-8562-59c8dad50fdb",
   "metadata": {},
   "outputs": [
    {
     "data": {
      "text/plain": [
       "0"
      ]
     },
     "execution_count": 9,
     "metadata": {},
     "output_type": "execute_result"
    }
   ],
   "source": [
    "n=10\n",
    "dp=[[0]*n]*n\n",
    "dp\n",
    "dp[0][0]"
   ]
  },
  {
   "cell_type": "code",
   "execution_count": 31,
   "id": "31f497bb-58a3-4c58-a325-ecfe6267e4a1",
   "metadata": {},
   "outputs": [
    {
     "name": "stdout",
     "output_type": "stream",
     "text": [
      "[[0, 0, 0, 0, 0, 0, 0, 0, 0], [0, 0, 0, 0, 0, 0, 0, 0, 0], [0, 0, 0, 0, 0, 0, 0, 0, 0]]\n",
      "a [0, 5, 8]\n",
      "0 a\n",
      "['a', 0, 0, 0, 0, 0, 0, 0, 0]\n",
      "5 a\n",
      "['a', 0, 0, 0, 0, 'a', 0, 0, 0]\n",
      "8 a\n",
      "['a', 0, 0, 0, 0, 'a', 0, 0, 'a']\n",
      "s [1, 2, 3, 7]\n",
      "1 s\n",
      "['a', 's', 0, 0, 0, 'a', 0, 0, 'a']\n",
      "2 s\n",
      "['a', 's', 's', 0, 0, 'a', 0, 0, 'a']\n",
      "3 s\n",
      "['a', 's', 's', 's', 0, 'a', 0, 0, 'a']\n",
      "7 s\n",
      "['a', 's', 's', 's', 0, 'a', 0, 's', 'a']\n",
      "d [4, 6]\n",
      "4 d\n",
      "['a', 's', 's', 's', 'd', 'a', 0, 's', 'a']\n",
      "6 d\n",
      "['a', 's', 's', 's', 'd', 'a', 'd', 's', 'a']\n",
      "{'a': [0, 5, 8], 's': [1, 2, 3, 7], 'd': [4, 6]}\n",
      "[['a', 's', 's', 's', 'd', 'a', 'd', 's', 'a'], ['a', 's', 's', 's', 'd', 'a', 'd', 's', 'a'], ['a', 's', 's', 's', 'd', 'a', 'd', 's', 'a']]\n"
     ]
    }
   ],
   "source": [
    "class Solution:\n",
    "    def longestPalindrome(self, s: str) -> str:\n",
    "        # opzioni\n",
    "        ## brute force\n",
    "        ## dict di indici dei caratteri\n",
    "        ## matrice\n",
    "        ## find triangles\n",
    "        n=len(s)\n",
    "        # dp=[[0]*n]*n\n",
    "        # dp=[]\n",
    "        #dp=[]\n",
    "        dictp={}\n",
    "        if n<= 1:\n",
    "            return s\n",
    "            # can you already see something in here?\n",
    "        for char in s:\n",
    "            if char not in dictp:\n",
    "                dictp[char] = [i for i,c in enumerate(s) if c == char]\n",
    "        dp=[[0]*n]*len(dictp)\n",
    "        ii=0\n",
    "        print(dp)\n",
    "        for k,v in dictp.items():\n",
    "            print(k,v)\n",
    "            for i in v:\n",
    "                print(i,k)\n",
    "                dp[ii][i]=k\n",
    "                print(dp[ii])\n",
    "            ii=ii+1\n",
    "                \n",
    "                \n",
    "        # sort dp by diff\n",
    "        print(dictp)\n",
    "        print(dp)\n",
    "\n",
    "        # [0,2] [1,3]\n",
    "        # asddsa \n",
    "\n",
    "s=Solution()\n",
    "s.longestPalindrome(s=\"asssdadsa\")\n"
   ]
  },
  {
   "cell_type": "code",
   "execution_count": 24,
   "id": "3d8e3ac7-0fca-487f-95b0-dfaa1d6ed296",
   "metadata": {},
   "outputs": [
    {
     "data": {
      "text/plain": [
       "[[True, False, False, False, False],\n",
       " [False, True, False, False, False],\n",
       " [False, False, True, False, False],\n",
       " [False, False, False, True, False],\n",
       " [False, False, False, False, True]]"
      ]
     },
     "execution_count": 24,
     "metadata": {},
     "output_type": "execute_result"
    }
   ],
   "source": [
    "n=5\n",
    "[[True if x==y else False for x in range(n)  ] for y in range(n) ]\n"
   ]
  },
  {
   "cell_type": "code",
   "execution_count": 33,
   "id": "cf2e4c34-a5af-405d-ad4f-a432fbdb99e9",
   "metadata": {},
   "outputs": [
    {
     "data": {
      "text/plain": [
       "[0, 0, 0, 0, 0]"
      ]
     },
     "execution_count": 33,
     "metadata": {},
     "output_type": "execute_result"
    }
   ],
   "source": [
    "n=5\n",
    "dp=[0]*n\n",
    "dp"
   ]
  },
  {
   "cell_type": "code",
   "execution_count": 38,
   "id": "6d43e7d9-b7b8-4f56-a7a3-ba435791cf77",
   "metadata": {},
   "outputs": [
    {
     "data": {
      "text/plain": [
       "[[0], [0, 0], [0, 0, 0], [0, 0, 0, 0], [0, 0, 0, 0, 0]]"
      ]
     },
     "execution_count": 38,
     "metadata": {},
     "output_type": "execute_result"
    }
   ],
   "source": [
    "dp=[[0]*i for i in range(1,5+1)]\n",
    "dp"
   ]
  },
  {
   "cell_type": "code",
   "execution_count": 65,
   "id": "721bd4e4-770c-443e-a9fa-a02edb80cc21",
   "metadata": {},
   "outputs": [
    {
     "data": {
      "text/plain": [
       "[[1]]"
      ]
     },
     "execution_count": 65,
     "metadata": {},
     "output_type": "execute_result"
    }
   ],
   "source": [
    "numRows=1\n",
    "dp=[[1]*i for i in range(1,numRows+1)]\n",
    "def recurse(row):\n",
    "    if row==1:\n",
    "        return dp\n",
    "    row_index=row-1\n",
    "    dp[row_index] = [1] + [ recurse(row_index)[row_index-1][i-1] + recurse(row_index)[row_index-1][i] for i in range(1,row-1) ] + [1]\n",
    "    return dp\n",
    "recurse(numRows)"
   ]
  },
  {
   "cell_type": "code",
   "execution_count": 74,
   "id": "c958b1c6-9a73-43a6-b0e5-b87f6058f9c8",
   "metadata": {},
   "outputs": [
    {
     "name": "stdout",
     "output_type": "stream",
     "text": [
      "1\n",
      "4\n",
      "Help on built-in function min in module builtins:\n",
      "\n",
      "min(...)\n",
      "    min(iterable, *[, default=obj, key=func]) -> value\n",
      "    min(arg1, arg2, *args, *[, key=func]) -> value\n",
      "\n",
      "    With a single iterable argument, return its smallest item. The\n",
      "    default keyword-only argument specifies an object to return if\n",
      "    the provided iterable is empty.\n",
      "    With two or more positional arguments, return the smallest argument.\n",
      "\n"
     ]
    },
    {
     "data": {
      "text/plain": [
       "4"
      ]
     },
     "execution_count": 74,
     "metadata": {},
     "output_type": "execute_result"
    }
   ],
   "source": [
    "prices=[1,3,1,4,6,2,4,5]\n",
    "prices=[7,1,5,3,6,4]\n",
    "print(prices.index(min(prices)))\n",
    "print(prices.index(max(prices[1:])))\n",
    "help(min)\n",
    "\n",
    "prices.index(max(prices[prices.index(min(prices))+1:]))\n",
    "\n"
   ]
  },
  {
   "cell_type": "code",
   "execution_count": 91,
   "id": "804a9ba5-ddf0-4a2f-aca3-b20e4e83a134",
   "metadata": {},
   "outputs": [
    {
     "name": "stdout",
     "output_type": "stream",
     "text": [
      "  0            0 0\n",
      "  1            1 1\n",
      "  2           10 1\n",
      "  3           11 2\n",
      "  4          100 1\n",
      "  5          101 2\n",
      "  6          110 2\n",
      "  7          111 3\n",
      "  8         1000 1\n",
      "  9         1001 2\n",
      " 10         1010 2\n",
      " 11         1011 3\n",
      " 12         1100 2\n",
      " 13         1101 3\n",
      " 14         1110 3\n",
      " 15         1111 4\n",
      " 16        10000 1\n",
      " 17        10001 2\n",
      " 18        10010 2\n",
      " 19        10011 3\n",
      " 20        10100 2\n",
      " 21        10101 3\n",
      " 22        10110 3\n",
      " 23        10111 4\n",
      " 24        11000 2\n",
      " 25        11001 3\n",
      " 26        11010 3\n",
      " 27        11011 4\n",
      " 28        11100 3\n",
      " 29        11101 4\n",
      " 30        11110 4\n",
      " 31        11111 5\n",
      " 32       100000 1\n",
      " 33       100001 2\n",
      " 34       100010 2\n",
      " 35       100011 3\n",
      " 36       100100 2\n",
      " 37       100101 3\n",
      " 38       100110 3\n",
      " 39       100111 4\n",
      " 40       101000 2\n",
      " 41       101001 3\n",
      " 42       101010 3\n",
      " 43       101011 4\n",
      " 44       101100 3\n",
      " 45       101101 4\n",
      " 46       101110 4\n",
      " 47       101111 5\n",
      " 48       110000 2\n",
      " 49       110001 3\n",
      " 50       110010 3\n",
      " 51       110011 4\n",
      " 52       110100 3\n",
      " 53       110101 4\n",
      " 54       110110 4\n",
      " 55       110111 5\n",
      " 56       111000 3\n",
      " 57       111001 4\n",
      " 58       111010 4\n",
      " 59       111011 5\n",
      " 60       111100 4\n",
      " 61       111101 5\n",
      " 62       111110 5\n",
      " 63       111111 6\n",
      " 64      1000000 1\n",
      " 65      1000001 2\n",
      " 66      1000010 2\n",
      " 67      1000011 3\n",
      " 68      1000100 2\n",
      " 69      1000101 3\n",
      " 70      1000110 3\n",
      " 71      1000111 4\n",
      " 72      1001000 2\n",
      " 73      1001001 3\n",
      " 74      1001010 3\n",
      " 75      1001011 4\n",
      " 76      1001100 3\n",
      " 77      1001101 4\n",
      " 78      1001110 4\n",
      " 79      1001111 5\n",
      " 80      1010000 2\n",
      " 81      1010001 3\n",
      " 82      1010010 3\n",
      " 83      1010011 4\n",
      " 84      1010100 3\n",
      " 85      1010101 4\n",
      " 86      1010110 4\n",
      " 87      1010111 5\n",
      " 88      1011000 3\n",
      " 89      1011001 4\n",
      " 90      1011010 4\n",
      " 91      1011011 5\n",
      " 92      1011100 4\n",
      " 93      1011101 5\n",
      " 94      1011110 5\n",
      " 95      1011111 6\n",
      " 96      1100000 2\n",
      " 97      1100001 3\n",
      " 98      1100010 3\n",
      " 99      1100011 4\n",
      "[0, 1, 1, 2, 1, 2, 2, 3, 1, 2, 2, 3, 2, 3, 3, 4, 1, 2, 2, 3, 2, 3, 3, 4, 2, 3, 3, 4, 3, 4, 4, 5, 1, 2, 2, 3, 2, 3, 3, 4, 2, 3, 3, 4, 3, 4, 4, 5, 2, 3, 3, 4, 3, 4, 4, 5, 3, 4, 4, 5, 4, 5, 5, 6, 1, 2, 2, 3, 2, 3, 3, 4, 2, 3, 3, 4, 3, 4, 4, 5, 2, 3, 3, 4, 3, 4, 4, 5, 3, 4, 4, 5, 4, 5, 5, 6, 2, 3, 3, 4]\n"
     ]
    }
   ],
   "source": [
    "dp=[]\n",
    "for i in range(100):\n",
    "    print(f\"{i:3} {str(bin(i))[2:]:>12} {list(bin(i)).count('1')}\")\n",
    "    dp.append(list(bin(i)).count('1'))\n",
    "print(dp)"
   ]
  },
  {
   "cell_type": "code",
   "execution_count": 79,
   "id": "f3ebec5b-8cb5-4158-bf50-103ca1e56a26",
   "metadata": {},
   "outputs": [
    {
     "ename": "IndexError",
     "evalue": "list index out of range",
     "output_type": "error",
     "traceback": [
      "\u001b[31m---------------------------------------------------------------------------\u001b[39m",
      "\u001b[31mIndexError\u001b[39m                                Traceback (most recent call last)",
      "\u001b[36mCell\u001b[39m\u001b[36m \u001b[39m\u001b[32mIn[79]\u001b[39m\u001b[32m, line 2\u001b[39m\n\u001b[32m      1\u001b[39m a=[\u001b[32m1\u001b[39m,\u001b[32m2\u001b[39m,\u001b[32m3\u001b[39m]\n\u001b[32m----> \u001b[39m\u001b[32m2\u001b[39m \u001b[38;5;28;01mif\u001b[39;00m \u001b[38;5;129;01mnot\u001b[39;00m \u001b[43ma\u001b[49m\u001b[43m[\u001b[49m\u001b[32;43m4\u001b[39;49m\u001b[43m]\u001b[49m:\n\u001b[32m      3\u001b[39m     \u001b[38;5;28mprint\u001b[39m(\u001b[33m\"\u001b[39m\u001b[33masd\u001b[39m\u001b[33m\"\u001b[39m)\n",
      "\u001b[31mIndexError\u001b[39m: list index out of range"
     ]
    }
   ],
   "source": [
    "a=[1,2,3]\n",
    "if not a[4]:\n",
    "    print(\"asd\")"
   ]
  },
  {
   "cell_type": "code",
   "execution_count": 82,
   "id": "464c39aa-12f3-4f22-9eb0-b71b47493ea3",
   "metadata": {},
   "outputs": [
    {
     "data": {
      "text/plain": [
       "3"
      ]
     },
     "execution_count": 82,
     "metadata": {},
     "output_type": "execute_result"
    }
   ],
   "source": [
    "list(bin(13)).count('1')"
   ]
  },
  {
   "cell_type": "code",
   "execution_count": 96,
   "id": "7d35ef72-547a-4af8-8bb7-8acd97d83e84",
   "metadata": {},
   "outputs": [
    {
     "data": {
      "text/plain": [
       "30"
      ]
     },
     "execution_count": 96,
     "metadata": {},
     "output_type": "execute_result"
    }
   ],
   "source": [
    "60 >> 1"
   ]
  },
  {
   "cell_type": "code",
   "execution_count": 98,
   "id": "cdce8a48-5875-4467-a040-51f26f4b7939",
   "metadata": {},
   "outputs": [
    {
     "name": "stdout",
     "output_type": "stream",
     "text": [
      "Help on class enumerate in module builtins:\n",
      "\n",
      "class enumerate(object)\n",
      " |  enumerate(iterable, start=0)\n",
      " |\n",
      " |  Return an enumerate object.\n",
      " |\n",
      " |    iterable\n",
      " |      an object supporting iteration\n",
      " |\n",
      " |  The enumerate object yields pairs containing a count (from start, which\n",
      " |  defaults to zero) and a value yielded by the iterable argument.\n",
      " |\n",
      " |  enumerate is useful for obtaining an indexed list:\n",
      " |      (0, seq[0]), (1, seq[1]), (2, seq[2]), ...\n",
      " |\n",
      " |  Methods defined here:\n",
      " |\n",
      " |  __getattribute__(self, name, /)\n",
      " |      Return getattr(self, name).\n",
      " |\n",
      " |  __iter__(self, /)\n",
      " |      Implement iter(self).\n",
      " |\n",
      " |  __next__(self, /)\n",
      " |      Implement next(self).\n",
      " |\n",
      " |  __reduce__(self, /)\n",
      " |      Return state information for pickling.\n",
      " |\n",
      " |  ----------------------------------------------------------------------\n",
      " |  Class methods defined here:\n",
      " |\n",
      " |  __class_getitem__(object, /)\n",
      " |      See PEP 585\n",
      " |\n",
      " |  ----------------------------------------------------------------------\n",
      " |  Static methods defined here:\n",
      " |\n",
      " |  __new__(*args, **kwargs)\n",
      " |      Create and return a new object.  See help(type) for accurate signature.\n",
      "\n",
      "2 a\n",
      "3 s\n",
      "4 d\n",
      "5 f\n",
      "6 g\n",
      "7 h\n"
     ]
    }
   ],
   "source": [
    "help(enumerate)\n",
    "a=\"asdfgh\"\n",
    "for i,c in enumerate(a,2):\n",
    "    print(i,c)"
   ]
  },
  {
   "cell_type": "code",
   "execution_count": 99,
   "id": "54b8805e-357f-42c3-a58f-c95c3b6330df",
   "metadata": {},
   "outputs": [
    {
     "name": "stdout",
     "output_type": "stream",
     "text": [
      "Help on built-in function min in module builtins:\n",
      "\n",
      "min(...)\n",
      "    min(iterable, *[, default=obj, key=func]) -> value\n",
      "    min(arg1, arg2, *args, *[, key=func]) -> value\n",
      "\n",
      "    With a single iterable argument, return its smallest item. The\n",
      "    default keyword-only argument specifies an object to return if\n",
      "    the provided iterable is empty.\n",
      "    With two or more positional arguments, return the smallest argument.\n",
      "\n"
     ]
    }
   ],
   "source": [
    "help(min)"
   ]
  },
  {
   "cell_type": "code",
   "execution_count": 100,
   "id": "0511c2ca-6a03-4a4c-bb7f-600e3744ffd7",
   "metadata": {},
   "outputs": [
    {
     "data": {
      "text/plain": [
       "10"
      ]
     },
     "execution_count": 100,
     "metadata": {},
     "output_type": "execute_result"
    }
   ],
   "source": [
    "len([1,100,1,1,1,100,1,1,100,1])"
   ]
  }
 ],
 "metadata": {
  "kernelspec": {
   "display_name": "Python 3 (ipykernel)",
   "language": "python",
   "name": "python3"
  },
  "language_info": {
   "codemirror_mode": {
    "name": "ipython",
    "version": 3
   },
   "file_extension": ".py",
   "mimetype": "text/x-python",
   "name": "python",
   "nbconvert_exporter": "python",
   "pygments_lexer": "ipython3",
   "version": "3.13.3"
  }
 },
 "nbformat": 4,
 "nbformat_minor": 5
}
