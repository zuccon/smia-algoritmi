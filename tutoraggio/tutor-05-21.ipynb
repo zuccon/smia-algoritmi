{
 "cells": [
  {
   "cell_type": "code",
   "execution_count": 8,
   "id": "24c4c4bd-5a74-4793-bdfc-947630fde956",
   "metadata": {},
   "outputs": [],
   "source": [
    "# bottom up:\n",
    "#  - crea triangolo\n",
    "#  \n",
    "\n",
    "def pascal_triangle_bottom_up(row_n=1):\n",
    "    triangle=[]\n",
    "    for i in range(row_n):\n",
    "        row=[1]*(i+1)\n",
    "        for j in range(1,i):\n",
    "            row[j]=triangle[i-1][j-1] + triangle[i-1][j]\n",
    "        triangle.append(row)\n",
    "    return triangle"
   ]
  },
  {
   "cell_type": "code",
   "execution_count": 9,
   "id": "8a9f0215-1d2e-48fe-9ea9-6cd791a85d44",
   "metadata": {},
   "outputs": [
    {
     "data": {
      "text/plain": [
       "[[1], [1, 1], [1, 2, 1], [1, 3, 3, 1], [1, 4, 6, 4, 1]]"
      ]
     },
     "execution_count": 9,
     "metadata": {},
     "output_type": "execute_result"
    }
   ],
   "source": [
    "pascal_triangle_bottom_up(5)"
   ]
  },
  {
   "cell_type": "markdown",
   "id": "268600f5-0cef-44aa-8492-e18d0aff9447",
   "metadata": {},
   "source": [
    "complessita' temporale: $o(n^2)$\n",
    "complessita' spaziale: $\\Theta(n^2)$ $1+2+...+n=\\frac{n\\cdot(n+1)}{2}$"
   ]
  },
  {
   "cell_type": "code",
   "execution_count": null,
   "id": "299ffe29-08f7-416b-b54d-aa0169053779",
   "metadata": {},
   "outputs": [],
   "source": [
    "def pascal_triangle_matrix\n",
    "# ritorna triangle[i][j]\n",
    "triangle[i] e' lungo i+1\n",
    "triangle[i][0] e triangle[i][i] sono = 1\n",
    "triangle[i][j] = \n",
    "triangle[i-1][j-1] + triangle[i-1][j] per j da 1 a i"
   ]
  },
  {
   "cell_type": "code",
   "execution_count": 1,
   "id": "85aad1ae-dcfd-4710-aaab-346c8aa3ad60",
   "metadata": {},
   "outputs": [
    {
     "data": {
      "text/plain": [
       "range(0, 1)"
      ]
     },
     "execution_count": 1,
     "metadata": {},
     "output_type": "execute_result"
    }
   ],
   "source": [
    "range(1)"
   ]
  },
  {
   "cell_type": "markdown",
   "id": "ca0a5f65-1dd5-4d97-a8a4-af588dcfa5c1",
   "metadata": {},
   "source": [
    "## Somma di Quadrati Perfetti"
   ]
  },
  {
   "cell_type": "code",
   "execution_count": null,
   "id": "f8cbddde-408d-4a77-977e-dc610506446d",
   "metadata": {},
   "outputs": [],
   "source": []
  }
 ],
 "metadata": {
  "kernelspec": {
   "display_name": "Python 3 (ipykernel)",
   "language": "python",
   "name": "python3"
  },
  "language_info": {
   "codemirror_mode": {
    "name": "ipython",
    "version": 3
   },
   "file_extension": ".py",
   "mimetype": "text/x-python",
   "name": "python",
   "nbconvert_exporter": "python",
   "pygments_lexer": "ipython3",
   "version": "3.13.3"
  }
 },
 "nbformat": 4,
 "nbformat_minor": 5
}
