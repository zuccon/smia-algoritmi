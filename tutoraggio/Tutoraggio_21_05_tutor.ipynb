{
 "cells": [
  {
   "cell_type": "markdown",
   "metadata": {
    "id": "TTdFe2QSTWHH"
   },
   "source": [
    "# **Greedy**"
   ]
  },
  {
   "cell_type": "markdown",
   "metadata": {
    "id": "Vr75iD_hRb-W"
   },
   "source": [
    "## 🧩 Problema: Il più grande intero palindromo : 🟠\n"
   ]
  },
  {
   "cell_type": "markdown",
   "metadata": {
    "id": "UKD6a7h2Rntx"
   },
   "source": [
    "\n",
    "Ti viene fornita una stringa `num` composta **solo da cifre decimali**.\n",
    "\n",
    "**Restituisci il più grande intero palindromo** (sotto forma di stringa) che può essere formato utilizzando le cifre prese da `num`.  \n",
    "**Non deve contenere zeri iniziali.**\n",
    "\n",
    "### ℹ️ Note:\n",
    "\n",
    "- Non è necessario usare tutte le cifre di `num`, ma **devi usarne almeno una**.\n",
    "- Le cifre **possono essere riordinate**.\n",
    "\n",
    "---\n",
    "\n",
    "### 📘 Esempio 1:\n",
    "\n",
    "**Input:**  \n",
    "`num = \"444947137\"`\n",
    "\n",
    "**Output:**  \n",
    "`\"7449447\"`\n",
    "\n",
    "**Spiegazione:**  \n",
    "Usiamo le cifre `\"4449477\"` da `\"444947137\"` per formare il palindromo `\"7449447\"`.  \n",
    "Si può dimostrare che `\"7449447\"` è il più grande intero palindromo che si possa formare.\n",
    "\n",
    "---\n",
    "\n",
    "### 📘 Esempio 2:\n",
    "\n",
    "**Input:**  \n",
    "`num = \"00009\"`\n",
    "\n",
    "**Output:**  \n",
    "`\"9\"`\n",
    "\n",
    "**Spiegazione:**  \n",
    "Si può dimostrare che `\"9\"` è il più grande intero palindromo formabile.  \n",
    "Nota che l'intero restituito **non deve contenere zeri iniziali**.\n"
   ]
  },
  {
   "cell_type": "code",
   "execution_count": 2,
   "metadata": {},
   "outputs": [
    {
     "name": "stdout",
     "output_type": "stream",
     "text": [
      "9433228223349\n",
      "99099\n",
      "9\n"
     ]
    }
   ],
   "source": [
    "# mio\n",
    "def palindromo_maggiore(numeri):\n",
    "    ret=[]\n",
    "    single=[]\n",
    "    numeri=sorted(list(numeri),reverse=True)\n",
    "    while len(numeri):\n",
    "        count = numeri.count(numeri[0])\n",
    "        for _ in range(count//2):\n",
    "            n = numeri.pop(0)\n",
    "            n = numeri.pop(0)\n",
    "            if n != \"0\": ret.append(n)\n",
    "        for _ in range(count%2):\n",
    "            n = numeri.pop(0)\n",
    "            single.append(n)\n",
    "    ret += sorted(ret.copy())\n",
    "    if len(single): ret.insert(len(ret)//2,single[0])\n",
    "    return \"\".join(ret)\n",
    "print(palindromo_maggiore(\"33442342998370221\"))\n",
    "print(palindromo_maggiore(\"99990\"))\n",
    "print(palindromo_maggiore(\"0000009\"))"
   ]
  },
  {
   "cell_type": "markdown",
   "metadata": {
    "id": "Z1Dg57QWRrWX"
   },
   "source": [
    "## 🔄 Array With Elements Not Equal to Average of Neighbors 🟠"
   ]
  },
  {
   "cell_type": "markdown",
   "metadata": {
    "id": "61oKLRKGSN6S"
   },
   "source": [
    "\n",
    "\n",
    "Ti viene fornito un array `nums` indicizzato da 0, contenente **interi distinti**.\n",
    "\n",
    "Vuoi **riordinare gli elementi** dell’array in modo tale che **nessun elemento sia uguale alla media dei suoi due vicini**.\n",
    "\n",
    "Più formalmente, l'array riordinato deve avere la seguente proprietà:\n",
    "\n",
    "Per ogni indice `i` nel range `1 <= i < nums.length - 1`, deve valere:\n",
    "\n",
    "(nums[i - 1] + nums[i + 1]) / 2 ≠ nums[i]\n",
    "\n",
    "\n",
    "**Restituisci** una qualsiasi disposizione di `nums` che soddisfi questa condizione.\n",
    "\n",
    "---\n",
    "\n",
    "### 📘 Esempio 1:\n",
    "\n",
    "**Input:**  \n",
    "`nums = [1,2,3,4,5]`\n",
    "\n",
    "**Output:**  \n",
    "`[1,2,4,5,3]`\n",
    "\n",
    "**Spiegazione:**  \n",
    "- Per `i = 1`: `nums[1] = 2` e la media dei vicini è `(1+4)/2 = 2.5`  \n",
    "- Per `i = 2`: `nums[2] = 4` e la media è `(2+5)/2 = 3.5`  \n",
    "- Per `i = 3`: `nums[3] = 5` e la media è `(4+3)/2 = 3.5`  \n",
    "Tutte le condizioni sono rispettate.\n",
    "\n",
    "---\n",
    "\n",
    "### 📘 Esempio 2:\n",
    "\n",
    "**Input:**  \n",
    "`nums = [6,2,0,9,7]`\n",
    "\n",
    "**Output:**  \n",
    "`[9,7,6,2,0]`\n",
    "\n",
    "**Spiegazione:**  \n",
    "- Per `i = 1`: `nums[1] = 7` e la media è `(9+6)/2 = 7.5`  \n",
    "- Per `i = 2`: `nums[2] = 6` e la media è `(7+2)/2 = 4.5`  \n",
    "- Per `i = 3`: `nums[3] = 2` e la media è `(6+0)/2 = 3`  \n",
    "Nota: Anche l'array originale `[6,2,0,9,7]` soddisfa le condizioni.\n",
    "\n",
    "---\n",
    "\n",
    "### 🔒 Vincoli:\n",
    "\n",
    "- `3 <= nums.length <= 1000`  \n",
    "- Gli elementi di `nums` sono **tutti distinti**"
   ]
  },
  {
   "cell_type": "markdown",
   "metadata": {
    "id": "ufYVA80WSy8m"
   },
   "source": [
    "## 🔺 Largest perimeter triangle 🟢"
   ]
  },
  {
   "cell_type": "markdown",
   "metadata": {
    "id": "iNL302Y5S5LC"
   },
   "source": [
    "\n",
    "Dato un array di interi `nums`, restituisci il **perimetro massimo** di un triangolo con **area non nulla**, formato da **tre** di queste lunghezze.\n",
    "\n",
    "Se non è possibile formare **nessun triangolo** con area diversa da zero, restituisci `0`.\n",
    "\n",
    "---\n",
    "\n",
    "### 📘 Esempio 1:\n",
    "\n",
    "**Input:**  \n",
    "`nums = [2,1,2]`\n",
    "\n",
    "**Output:**  \n",
    "`5`\n",
    "\n",
    "**Spiegazione:**  \n",
    "È possibile formare un triangolo con i lati di lunghezza `1`, `2` e `2`.\n",
    "\n",
    "---\n",
    "\n",
    "### 📘 Esempio 2:\n",
    "\n",
    "**Input:**  \n",
    "`nums = [1,2,1,10]`\n",
    "\n",
    "**Output:**  \n",
    "`0`\n",
    "\n",
    "**Spiegazione:**  \n",
    "Non è possibile formare un triangolo con area non nulla usando nessuna combinazione di tre lati.  \n",
    "Infatti, per formare un triangolo valido, **la somma delle lunghezze di due lati deve essere maggiore della lunghezza del terzo lato**.  \n",
    "Nessuna combinazione in questo caso soddisfa tale condizione.\n",
    "\n"
   ]
  },
  {
   "cell_type": "markdown",
   "metadata": {
    "id": "ATTmdBYWTE9e"
   },
   "source": [
    "##  💺 Minumum number of moves to seat everyone 🟢"
   ]
  },
  {
   "cell_type": "markdown",
   "metadata": {
    "id": "tiScH1RhTN42"
   },
   "source": [
    "\n",
    "Ci sono `n` posti disponibili e `n` studenti in piedi in una stanza.  \n",
    "Ti vengono forniti due array di lunghezza `n`:\n",
    "\n",
    "- `seats`, dove `seats[i]` rappresenta la posizione del `i`-esimo posto.\n",
    "- `students`, dove `students[j]` rappresenta la posizione del `j`-esimo studente.\n",
    "\n",
    "Puoi eseguire **quante volte vuoi** la seguente operazione:\n",
    "\n",
    "➡️ Spostare uno studente dalla posizione `x` a `x + 1` oppure a `x - 1` (ossia di una unità a destra o sinistra).\n",
    "\n",
    "**Restituisci il numero minimo di mosse necessarie** per far sedere **ogni studente in un posto**, in modo che **nessun posto venga occupato da più di uno studente**.\n",
    "\n",
    "🔎 Nota: all'inizio possono esserci **più posti o studenti nella stessa posizione**.\n",
    "\n",
    "---\n",
    "\n",
    "### 📘 Esempio 1:\n",
    "\n",
    "**Input:**  \n",
    "`seats = [3,1,5]`  \n",
    "`students = [2,7,4]`\n",
    "\n",
    "**Output:**  \n",
    "`4`\n",
    "\n",
    "**Spiegazione:**  \n",
    "- Lo studente 1 va da 2 a 1 → 1 mossa  \n",
    "- Lo studente 2 va da 7 a 5 → 2 mosse  \n",
    "- Lo studente 3 va da 4 a 3 → 1 mossa  \n",
    "Totale: `1 + 2 + 1 = 4` mosse\n",
    "\n",
    "---\n",
    "\n",
    "### 📘 Esempio 2:\n",
    "\n",
    "**Input:**  \n",
    "`seats = [4,1,5,9]`  \n",
    "`students = [1,3,2,6]`\n",
    "\n",
    "**Output:**  \n",
    "`7`\n",
    "\n",
    "**Spiegazione:**  \n",
    "- Studente 1: nessun movimento  \n",
    "- Studente 2: da 3 a 4 → 1 mossa  \n",
    "- Studente 3: da 2 a 5 → 3 mosse  \n",
    "- Studente 4: da 6 a 9 → 3 mosse  \n",
    "Totale: `0 + 1 + 3 + 3 = 7` mosse\n",
    "\n",
    "---\n",
    "\n",
    "### 📘 Esempio 3:\n",
    "\n",
    "**Input:**  \n",
    "`seats = [2,2,6,6]`  \n",
    "`students = [1,3,2,6]`\n",
    "\n",
    "**Output:**  \n",
    "`4`\n",
    "\n",
    "**Spiegazione:**  \n",
    "- Studente 1: da 1 a 2 → 1 mossa  \n",
    "- Studente 2: da 3 a 6 → 3 mosse  \n",
    "- Studente 3: già in posizione  \n",
    "- Studente 4: già in posizione  \n",
    "Totale: `1 + 3 + 0 + 0 = 4` mosse\n"
   ]
  },
  {
   "cell_type": "markdown",
   "metadata": {
    "id": "4nMFwakiJeDe"
   },
   "source": [
    "##🔢 Largest Odd Number in a string 🟢"
   ]
  },
  {
   "cell_type": "markdown",
   "metadata": {
    "id": "YBa6TeWPKMAH"
   },
   "source": [
    "Ti viene fornita una stringa `num` che rappresenta un grande intero.  \n",
    "Restituisci il più grande intero dispari (come stringa) che sia una sottostringa non vuota di `num`, oppure una stringa vuota `\"\"` se non esistono interi dispari.\n",
    "\n",
    "Una **sottostringa** è una sequenza contigua di caratteri all'interno di una stringa.\n",
    "\n",
    "---\n",
    "\n",
    "### Esempio 1:\n",
    "\n",
    "**Input:**  \n",
    "`num = \"52\"`  \n",
    "**Output:**  \n",
    "`\"5\"`  \n",
    "**Spiegazione:**  \n",
    "Le uniche sottostringhe non vuote sono `\"5\"`, `\"2\"` e `\"52\"`.  \n",
    "Tra queste, `\"5\"` è l’unica dispari.\n",
    "\n",
    "---\n",
    "\n",
    "### Esempio 2:\n",
    "\n",
    "**Input:**  \n",
    "`num = \"4206\"`  \n",
    "**Output:**  \n",
    "`\"\"`  \n",
    "**Spiegazione:**  \n",
    "Non ci sono cifre dispari in `\"4206\"`, quindi non esistono sottostringhe dispari.\n",
    "\n",
    "---\n",
    "\n",
    "### Esempio 3:\n",
    "\n",
    "**Input:**  \n",
    "`num = \"35427\"`  \n",
    "**Output:**  \n",
    "`\"35427\"`  \n",
    "**Spiegazione:**  \n",
    "`\"35427\"` è già un numero dispari.  "
   ]
  },
  {
   "cell_type": "markdown",
   "metadata": {
    "id": "sl3k8d6JTfSH"
   },
   "source": [
    "# **Programmazione Dinamica**"
   ]
  },
  {
   "cell_type": "markdown",
   "metadata": {
    "id": "udDxHi0sVbrM"
   },
   "source": [
    "## 🔺 Triangolo di Pascal 🟢"
   ]
  },
  {
   "cell_type": "markdown",
   "metadata": {
    "id": "qtx2QckTVeKB"
   },
   "source": [
    "\n",
    "\n",
    "Dato un intero `numRows`, restituisci le prime `numRows` righe del **triangolo di Pascal**.\n",
    "\n",
    "Nel triangolo di Pascal, ogni numero è la somma dei **due numeri direttamente sopra di esso**, come mostrato di seguito:\n",
    "  \n",
    "\n",
    "<pre>\n",
    "```plaintext\n",
    "          1\n",
    "        1   1\n",
    "      1   2   1\n",
    "    1   3   3   1\n",
    "  1   4   6   4   1\n",
    "1   5  10  10  5   1\n",
    "```\n",
    "</pre>\n",
    "\n",
    "\n",
    "---\n",
    "\n",
    "### 📘 Esempio 1:\n",
    "\n",
    "**Input:**  \n",
    "`numRows = 5`\n",
    "\n",
    "**Output:**  \n",
    "`[[1], [1,1], [1,2,1], [1,3,3,1], [1,4,6,4,1]]`\n",
    "\n",
    "---\n",
    "\n",
    "### 📘 Esempio 2:\n",
    "\n",
    "**Input:**  \n",
    "`numRows = 1`\n",
    "\n",
    "**Output:**  \n",
    "`[[1]]`\n",
    "\n"
   ]
  },
  {
   "cell_type": "code",
   "execution_count": null,
   "metadata": {
    "id": "kDqLamfK_RlG"
   },
   "outputs": [],
   "source": []
  },
  {
   "cell_type": "code",
   "execution_count": null,
   "metadata": {
    "id": "E52PdbRM_RiD"
   },
   "outputs": [],
   "source": []
  },
  {
   "cell_type": "code",
   "execution_count": null,
   "metadata": {
    "id": "qW3nJZCh_Rfi"
   },
   "outputs": [],
   "source": []
  },
  {
   "cell_type": "markdown",
   "metadata": {
    "id": "21WMqW1l_gzX"
   },
   "source": [
    "triangle[i] ha una lunghezza (i+1) -> riga 0 ha come valore 1 ... la riga 5 ha 6 valori"
   ]
  },
  {
   "cell_type": "code",
   "execution_count": null,
   "metadata": {
    "id": "jVqs7JBk-iW6"
   },
   "outputs": [],
   "source": [
    "triangle[i][j] = triangle[i-1][j-1] + triangle[i-1][j] per 1<j< i"
   ]
  },
  {
   "cell_type": "markdown",
   "metadata": {
    "id": "kfp17KbqALIj"
   },
   "source": [
    "**bottom up**\n",
    "-creare triangle []\n",
    "-per ogni i da 0 a numRows-1 dobbiammo creare una row lunghezza i+1, inizializziamo tutta la riga a 1\n",
    "-per j va da 1... i-1 aggiornare row[j] con la somma dei due elementi sopra\n",
    "- aggiungere row a triangle\n",
    "-return triangle"
   ]
  },
  {
   "cell_type": "code",
   "execution_count": null,
   "metadata": {
    "id": "7FC6FieMADP4"
   },
   "outputs": [],
   "source": [
    "def pascal_triangle(numRows):\n",
    "\n",
    "  triangle = [] #lista che conterrà il triangolo di pascal\n",
    "\n",
    "  for i in range(numRows): #ciclo riga per riga a partire dalla prima\n",
    "\n",
    "    #creare una lista di lunghezza i+1 (riga)\n",
    "    row = [1] * (1+i)\n",
    "\n",
    "    for j in range(1,i): #1 e i-1 sono compresi, escludiamo le posizioni 0  e i\n",
    "\n",
    "      row[j] = triangle[i-1][j-1] + triangle[i-1][j]\n",
    "\n",
    "    triangle.append(row)\n",
    "\n",
    "  return triangle\n"
   ]
  },
  {
   "cell_type": "code",
   "execution_count": null,
   "metadata": {
    "colab": {
     "base_uri": "https://localhost:8080/"
    },
    "id": "iYefzsZj_SQ_",
    "outputId": "c24af2e0-a5b0-48a4-e43d-f6479cd6f6de"
   },
   "outputs": [
    {
     "name": "stdout",
     "output_type": "stream",
     "text": [
      "[[1], [1, 1], [1, 2, 1], [1, 3, 3, 1], [1, 4, 6, 4, 1]]\n",
      "[[1], [1, 1]]\n"
     ]
    }
   ],
   "source": [
    "print(pascal_triangle(5))\n",
    "print(pascal_triangle(2))\n"
   ]
  },
  {
   "cell_type": "markdown",
   "metadata": {
    "id": "tBDJEpRSB_gT"
   },
   "source": [
    "- Complessità temporale : Θ(n^2)\n",
    "-Complessità spaziale : Θ(n^2) 1+2+3+....+n = n(n+1)/2  =Θ(n^2)\n"
   ]
  },
  {
   "cell_type": "code",
   "execution_count": null,
   "metadata": {
    "id": "I-Y0t5By_SOo"
   },
   "outputs": [],
   "source": []
  },
  {
   "cell_type": "code",
   "execution_count": null,
   "metadata": {
    "id": "Jta4xwV-_SML"
   },
   "outputs": [],
   "source": []
  },
  {
   "cell_type": "markdown",
   "metadata": {
    "id": "HWtKdMy0V6B6"
   },
   "source": [
    "## ⬛ Perfect Square **🟠**"
   ]
  },
  {
   "cell_type": "markdown",
   "metadata": {
    "id": "B-rnV5GMWO0m"
   },
   "source": [
    "\n",
    "\n",
    "Dato un intero `n`, restituisci il **minimo numero di numeri quadrati perfetti** la cui somma è uguale a `n`.\n",
    "\n",
    "📌 Un **quadrato perfetto** è un numero intero che è il quadrato di un altro intero, ovvero il **prodotto di un numero per sé stesso**.  \n",
    "Ad esempio: `1`, `4`, `9`, `16` sono quadrati perfetti, mentre `3` e `11` non lo sono.\n",
    "\n",
    "---\n",
    "\n",
    "### 📘 Esempio 1:\n",
    "\n",
    "**Input:**  \n",
    "`n = 12`\n",
    "\n",
    "**Output:**  \n",
    "`3`\n",
    "\n",
    "**Spiegazione:**  \n",
    "`12 = 4 + 4 + 4`  \n",
    "Abbiamo usato tre quadrati perfetti.\n",
    "\n",
    "---\n",
    "\n",
    "### 📘 Esempio 2:\n",
    "\n",
    "**Input:**  \n",
    "`n = 13`\n",
    "\n",
    "**Output:**  \n",
    "`2`\n",
    "\n",
    "**Spiegazione:**  \n",
    "`13 = 4 + 9`  \n",
    "Abbiamo usato due quadrati perfetti.\n"
   ]
  },
  {
   "cell_type": "markdown",
   "metadata": {
    "id": "V0-U2yt4GI9z"
   },
   "source": [
    "Definiamo una variabile dp[i], il numero minimo di quadrati perfetti la cui somma è esattamente i"
   ]
  },
  {
   "cell_type": "markdown",
   "metadata": {
    "id": "BaC_rzsvGZeL"
   },
   "source": [
    "Per ciascun valore i (da 1 a n), consideriamo tutti i quadrati perfetti che devono essere minori o uguali a i.\n",
    "Se j  * j è uno di questi, allora lo possiamo utilizzare per calcolare i e ci riduciamo ad un sotto problema\n",
    "$$\n",
    "dp[i] = \\min_{1\\leq j \\leq [\\sqrt(i)]} (dp[i-j^2] + 1)\n",
    "$$"
   ]
  },
  {
   "cell_type": "markdown",
   "metadata": {
    "id": "aVbjAg0pHV82"
   },
   "source": [
    "dp[0] =  0 #condizione iniziale"
   ]
  },
  {
   "cell_type": "markdown",
   "metadata": {
    "id": "uCwCcUFAHf8p"
   },
   "source": [
    "dp[0] - dp[1] - ...... dp[n]"
   ]
  },
  {
   "cell_type": "code",
   "execution_count": null,
   "metadata": {
    "colab": {
     "base_uri": "https://localhost:8080/"
    },
    "id": "Lh6r8ndxHVt7",
    "outputId": "2cbd5904-f0de-4c9a-9179-e0ce6cb2276c"
   },
   "outputs": [
    {
     "name": "stdout",
     "output_type": "stream",
     "text": [
      "3\n",
      "2\n"
     ]
    }
   ],
   "source": [
    "def numSquares(n):\n",
    "  #dp[i] minimo numero di quadrati perfetti che sommano a i\n",
    "  # inizializziamo con +inf e impostare dp[0] = 0\n",
    "\n",
    "  dp = [float('inf')] * (n+1) #creazione dell'array\n",
    "  dp[0]  = 0 #condizione iniziale\n",
    "\n",
    "  #calcolare dp[i]\n",
    "  for i in range(1,n+1):\n",
    "    #considerare ogni possibile quadrato perfetto j*j <= i\n",
    "    #j varia da 1 a sqrt(i)\n",
    "\n",
    "    for j in range(1, int(i ** 0.5)+1):\n",
    "      square = j*j #quadrato perfetto\n",
    "\n",
    "      #aggiornare dp[i] usando il sottoproblema dp[i-square]\n",
    "      candidato = dp[i-square]+1\n",
    "      if candidato < dp[i]:   #scegliere il nostro minimo\n",
    "        dp[i] = candidato\n",
    "\n",
    "  return dp[n]\n",
    "\n",
    "print(numSquares(12))\n",
    "print(numSquares(101))"
   ]
  },
  {
   "cell_type": "code",
   "execution_count": null,
   "metadata": {
    "id": "IWnV6YgZKg4V"
   },
   "outputs": [],
   "source": [
    "import math\n",
    "def perfect_square_sum(n):\n",
    "    squares=[]\n",
    "    while n>0:\n",
    "        large = int(math.sqrt(n))\n",
    "        if large>0: ##scelta greedy prendo il quadrato perfetto più vicino\n",
    "            n=n-(large**2)\n",
    "            squares.append(large)\n",
    "        if large==0:\n",
    "            n=n-1\n",
    "            squares.append(1)\n",
    "    return len(squares), squares"
   ]
  },
  {
   "cell_type": "code",
   "execution_count": null,
   "metadata": {
    "id": "IYQGBhi0KlQ9"
   },
   "outputs": [],
   "source": []
  },
  {
   "cell_type": "code",
   "execution_count": null,
   "metadata": {
    "colab": {
     "base_uri": "https://localhost:8080/"
    },
    "id": "Znb_M47cKlrA",
    "outputId": "1557b337-c563-435f-ee36-d0eb69ce7bd7"
   },
   "outputs": [
    {
     "name": "stdout",
     "output_type": "stream",
     "text": [
      "(4, [3, 2, 1, 1])\n",
      "(2, [10, 1])\n"
     ]
    }
   ],
   "source": [
    "\n",
    "\n",
    "print(perfect_square_sum(15))\n",
    "print(perfect_square_sum(101))"
   ]
  },
  {
   "cell_type": "markdown",
   "metadata": {
    "id": "ssxfnv9aWVZe"
   },
   "source": [
    "## 🔀 Longest square streak in an Array 🟠"
   ]
  },
  {
   "cell_type": "markdown",
   "metadata": {
    "id": "vdl6QB3WWvpr"
   },
   "source": [
    "\n",
    "Ti viene fornito un array di interi `nums`.\n",
    "\n",
    "Una **sottosequenza** di `nums` si dice essere una **square streak** se:\n",
    "\n",
    "1. La lunghezza della sottosequenza è **almeno 2**, e  \n",
    "2. Dopo aver **ordinato** la sottosequenza, **ogni elemento (eccetto il primo)** è il **quadrato del precedente**.\n",
    "\n",
    "🔄 Una **sottosequenza** è un array che può essere ottenuto da un altro array **eliminando alcuni (o nessun) elemento** senza cambiare l’ordine dei restanti elementi.\n",
    "\n",
    "**Restituisci** la lunghezza della più lunga `square streak` presente in `nums`, oppure `-1` se **non esiste alcuna square streak**.\n",
    "\n",
    "---\n",
    "\n",
    "### 📘 Esempio 1:\n",
    "\n",
    "**Input:**  \n",
    "`nums = [4,3,6,16,8,2]`\n",
    "\n",
    "**Output:**  \n",
    "`3`\n",
    "\n",
    "**Spiegazione:**  \n",
    "Scegli la sottosequenza `[4,16,2]`. Dopo averla ordinata, otteniamo `[2,4,16]`.  \n",
    "- `4 = 2 * 2`  \n",
    "- `16 = 4 * 4`  \n",
    "Quindi `[4,16,2]` è una square streak di lunghezza `3`.\n",
    "\n",
    "---\n",
    "\n",
    "### 📘 Esempio 2:\n",
    "\n",
    "**Input:**  \n",
    "`nums = [2,3,5,6,7]`\n",
    "\n",
    "**Output:**  \n",
    "`-1`\n",
    "\n",
    "**Spiegazione:**  \n",
    "Nessuna sottosequenza soddisfa le condizioni di square streak.\n"
   ]
  },
  {
   "cell_type": "markdown",
   "metadata": {
    "id": "PM-FQsJsMfKw"
   },
   "source": [
    "[a, a^2, .... a^n], trovare len(values)"
   ]
  },
  {
   "cell_type": "markdown",
   "metadata": {
    "id": "LmLZtSIBMq1n"
   },
   "source": [
    "se c'è un numero x all'interno dei valori dell'array e c'è anche x^2 allora abbiamo una sottosequenza di quadrati."
   ]
  },
  {
   "cell_type": "markdown",
   "metadata": {
    "id": "XKW-GoOQN2if"
   },
   "source": [
    "**Algortmo**\n",
    "- Costruire un **set** di valori di tutti gli elementi che stanno dentro nums\n",
    "- Da tutti i numeri possibili x, che non hanno un intero dentro il nostro se tale che y^2 = x\n",
    "- Per ogni punto di partenza (x) costruire la catena [ x -> x^2 ...], ci fermiamo quando x^k non è più presente all'interno del nostro set di valori\n",
    "-Calcoliamo la lunghezza di ciascuna catena e prendiamo quella massima\n",
    "- Se il massimo è maggiore di 2, sennò restituiamo -1\n"
   ]
  },
  {
   "cell_type": "code",
   "execution_count": null,
   "metadata": {
    "colab": {
     "base_uri": "https://localhost:8080/"
    },
    "id": "wedBVxE-Oy62",
    "outputId": "6f66b1ad-d86e-4aa1-cedc-fdbac9c24302"
   },
   "outputs": [
    {
     "name": "stdout",
     "output_type": "stream",
     "text": [
      "2\n",
      "3\n",
      "3\n",
      "4\n"
     ]
    }
   ],
   "source": [
    "import math\n",
    "\n",
    "def longest_square_streak(nums):\n",
    "\n",
    "  values = set(nums) # un set è una struttura di dati\n",
    "  massimo =  0 # variabile che tiene solamente la streak più lunga\n",
    "\n",
    "  #1) trovare tutti gli x possibili\n",
    "  start = []\n",
    "  for x in values:\n",
    "    root = math.isqrt(x)\n",
    "    #se root * root ==x allora x è un quadrato perfetto\n",
    "    # e root appartiene a valori allora lo saltiamo\n",
    "    if not(root*root == x and root in values):\n",
    "      start.append(x)\n",
    "\n",
    "  #2)\n",
    "  for x in start: # ciclo su tutti i possibili valori iniziali\n",
    "    lunghezza = 1 #salvare la lunghezza della catena\n",
    "    y = x #variabile d'appoggio\n",
    "    while y*y in values: #controlliamo se y ha quadrato dentro valori\n",
    "      lunghezza += 1 #aggiorniamo la lunghezza\n",
    "      y = y*y #passiamo al prossimo valore della catena\n",
    "\n",
    "    if lunghezza > massimo: #prendiamo la lunghezza più lunga\n",
    "      massimo = lunghezza\n",
    "\n",
    "  return max(massimo, nums.count(1)) if massimo >=2 else -1\n",
    "\n",
    "\n",
    "print(longest_square_streak([1,4,6,2,1]))\n",
    "print(longest_square_streak([4,3,6,16,8,2]))  # atteso 3\n",
    "print(longest_square_streak([4,3,2,9,16]))   # atteso -1\n",
    "print(longest_square_streak([1,1,1,1,2,4,16]))"
   ]
  },
  {
   "cell_type": "markdown",
   "metadata": {
    "id": "RzmKp5bxTKaq"
   },
   "source": [
    "-costruzione del set O(n)\n",
    "-ciclo sugli start O(U) U il numero di valori del set U minore n\n",
    "-ciclo x in start O(\\log M) M = massimo di(nums)\n",
    "\n",
    "-Totale O(n+u\\logM)  = O(n)\n",
    "-Spaziale O(n) - salviamo anche in start O(k) con K al massimo = U minore di N"
   ]
  },
  {
   "cell_type": "code",
   "execution_count": null,
   "metadata": {
    "id": "SavVAR3NMqNk"
   },
   "outputs": [],
   "source": []
  }
 ],
 "metadata": {
  "colab": {
   "provenance": [],
   "toc_visible": true
  },
  "kernelspec": {
   "display_name": "Python 3 (ipykernel)",
   "language": "python",
   "name": "python3"
  },
  "language_info": {
   "codemirror_mode": {
    "name": "ipython",
    "version": 3
   },
   "file_extension": ".py",
   "mimetype": "text/x-python",
   "name": "python",
   "nbconvert_exporter": "python",
   "pygments_lexer": "ipython3",
   "version": "3.13.3"
  }
 },
 "nbformat": 4,
 "nbformat_minor": 4
}
