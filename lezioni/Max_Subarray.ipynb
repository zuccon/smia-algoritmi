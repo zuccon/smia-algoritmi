{
  "nbformat": 4,
  "nbformat_minor": 0,
  "metadata": {
    "colab": {
      "provenance": []
    },
    "kernelspec": {
      "name": "python3",
      "display_name": "Python 3"
    },
    "language_info": {
      "name": "python"
    }
  },
  "cells": [
    {
      "cell_type": "markdown",
      "source": [
        "# **Max Subarray Problem**\n",
        "\n",
        "Dato in input una lista `arr` di interi, trovare la sottolista di somma massima.\n",
        "Formalmente, definiamo con $s_{i,j}$ la somma degli elementi di `arr` dall'indice `i` all'indice `j`, inclusi:\n",
        "$$\n",
        "    s_{i,j} = \\sum_{k=i}^j arr[k]\n",
        "$$\n",
        "\n",
        "Vogliamo trovare il seguente output:\n",
        "$\n",
        "    \\max_{i\\le j} s_{i,j}.\n",
        "$"
      ],
      "metadata": {
        "id": "NITnVZrozY2M"
      }
    },
    {
      "cell_type": "markdown",
      "source": [
        "In questo colab implementiamo gli algoritmi visti a lezione per Max_subarray\n",
        "\n",
        "1.   Brute Force\n",
        "2.   Fix_i\n",
        "3.   Programmazione Dinamica\n",
        "\n"
      ],
      "metadata": {
        "id": "P6t5xWSr5FVh"
      }
    },
    {
      "cell_type": "code",
      "execution_count": 2,
      "metadata": {
        "id": "ft1A6xsv5B-L"
      },
      "outputs": [],
      "source": [
        "# Brute force\n",
        "\n",
        "def brute_force(arr):\n",
        "    ''' Algoritmo Brute Force, running time O(n^3) che non usa memoria aggiuntiva'''\n",
        "    max_so_far = - float('inf')\n",
        "    n = len(arr)\n",
        "    for i in range(n):\n",
        "        for j in range(i,n):\n",
        "            sij = sum(arr[i:j+1])\n",
        "            max_so_far = max(sij, max_so_far)\n",
        "    return max_so_far"
      ]
    },
    {
      "cell_type": "code",
      "source": [
        "# quadratic algorithm\n",
        "\n",
        "def fix_i(arr):\n",
        "    ''' Algoritmo quadratico che ha bisogno di O(n) memoria aggiuntiva'''\n",
        "    max_so_far = - float('inf')\n",
        "    n = len(arr)\n",
        "    for i in range(n):\n",
        "        current_sum = 0\n",
        "        for j in range(i,n):\n",
        "            current_sum += arr[j]\n",
        "            max_so_far = max(max_so_far, current_sum)\n",
        "    return max_so_far"
      ],
      "metadata": {
        "id": "FvwyYpwx8AL4"
      },
      "execution_count": 11,
      "outputs": []
    },
    {
      "cell_type": "code",
      "source": [
        "def programmazione_dinamica(arr):\n",
        "    ''' Algoritmo lineare che ha bisogno di O(n) memoria aggiuntiva'''\n",
        "    n = len(arr)\n",
        "    phi = [arr[0]]\n",
        "    for i in range(1,n):\n",
        "        phi_i = max(arr[i],arr[i] + phi[-1])\n",
        "        phi.append(phi_i)\n",
        "\n",
        "    return max(phi)"
      ],
      "metadata": {
        "id": "BTqnT3C6Bykj"
      },
      "execution_count": 19,
      "outputs": []
    }
  ]
}