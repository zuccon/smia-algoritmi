{
  "nbformat": 4,
  "nbformat_minor": 0,
  "metadata": {
    "colab": {
      "provenance": []
    },
    "kernelspec": {
      "name": "python3",
      "display_name": "Python 3"
    },
    "language_info": {
      "name": "python"
    }
  },
  "cells": [
    {
      "cell_type": "markdown",
      "source": [
        "# **Find Majority Element**\n",
        "\n",
        "Dato in input una lista `arr` di `n` elementi, trovare (se esiste) il valore che ha la maggioranza. Un elemento ha la maggioranza se è contenuto almeno $\\lfloor n/2\\rfloor + 1$ volte in `arr`.\n",
        "\n",
        "\n",
        "\n"
      ],
      "metadata": {
        "id": "I6VoMurX2P0E"
      }
    },
    {
      "cell_type": "code",
      "execution_count": 1,
      "metadata": {
        "id": "q1Od80ngkbnQ"
      },
      "outputs": [],
      "source": [
        "def counters(arr):\n",
        "    ''' Algoritmo basato sul dizionario occurrencies, tempo e memoria sono lineari'''\n",
        "    occurrencies = {}\n",
        "    n = len(arr)\n",
        "    # Popolo il dizionario occurrencies\n",
        "    for element in arr:\n",
        "        if element in occurrencies:\n",
        "            occurrencies[element] += 1\n",
        "        else:\n",
        "            occurrencies[element] = 1\n",
        "    # Cerco in occurrencies se esiste un elemento che ha la maggioranza assoluta\n",
        "    for element in occurrencies:\n",
        "        if occurrencies[element] > n // 2:\n",
        "            return element\n",
        "    return 'No majority element'"
      ]
    },
    {
      "cell_type": "code",
      "source": [
        "def bm_algorithm(arr):\n",
        "    ''' Implementazione dell'algoritmo di Boyer-Moore'''\n",
        "    '''https://en.wikipedia.org/wiki/Boyer%E2%80%93Moore_majority_vote_algorithm'''\n",
        "    current, counter = nums[0],1\n",
        "    for el in nums[1:]:\n",
        "        if current == el:\n",
        "            counter += 1\n",
        "        else:\n",
        "            counter -= 1\n",
        "            if counter == -1:\n",
        "                current, counter = el, 1\n",
        "    if nums.count(current) > len(arr)//2:\n",
        "        return current\n",
        "    return 'No majority element'"
      ],
      "metadata": {
        "id": "fk8w9lv23gQK"
      },
      "execution_count": null,
      "outputs": []
    }
  ]
}