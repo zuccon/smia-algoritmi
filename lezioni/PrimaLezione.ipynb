{
  "nbformat": 4,
  "nbformat_minor": 0,
  "metadata": {
    "colab": {
      "provenance": [],
      "collapsed_sections": [
        "7nPP_2mng4Ip",
        "RcLKlwr6g4Fy",
        "WYWuG-EMg4DL",
        "R8ANHBjkg4Ak",
        "HkDV42l0g39t",
        "5MTxCnfjg361",
        "h1kxL68Ug34Q",
        "mBxrSY3ng31Y",
        "3EFsZqJ2g3yx",
        "lalOkGeVg3vp"
      ]
    },
    "kernelspec": {
      "name": "python3",
      "display_name": "Python 3"
    },
    "language_info": {
      "name": "python"
    }
  },
  "cells": [
    {
      "cell_type": "markdown",
      "source": [
        "# 10 Esercizi!"
      ],
      "metadata": {
        "id": "-ORe3yGOgsBq"
      }
    },
    {
      "cell_type": "markdown",
      "source": [
        "### 1. Hello, World!\n",
        "- **Task:** Write a program that prints \"Hello, World!\" to the console."
      ],
      "metadata": {
        "id": "7nPP_2mng4Ip"
      }
    },
    {
      "cell_type": "code",
      "source": [
        "print(\"Hello World\")\n"
      ],
      "metadata": {
        "id": "qKGrPw_xg5tM",
        "colab": {
          "base_uri": "https://localhost:8080/"
        },
        "outputId": "ac2c5d63-8c7e-4b9d-b23f-3e515b26abc4"
      },
      "execution_count": null,
      "outputs": [
        {
          "output_type": "stream",
          "name": "stdout",
          "text": [
            "Hello World\n"
          ]
        }
      ]
    },
    {
      "cell_type": "code",
      "source": [
        "print(\"Hello World\")"
      ],
      "metadata": {
        "id": "KAdFwxtnwCV0"
      },
      "execution_count": null,
      "outputs": []
    },
    {
      "cell_type": "code",
      "source": [
        "nome= \"ciao\"\n",
        "eta= 23\n",
        "studente=True\n",
        "print(nome, eta, studente)"
      ],
      "metadata": {
        "colab": {
          "base_uri": "https://localhost:8080/"
        },
        "id": "XoEZM7YIwS3v",
        "outputId": "b8fa60aa-1264-4efd-ca30-521c5fd8094f"
      },
      "execution_count": null,
      "outputs": [
        {
          "output_type": "stream",
          "name": "stdout",
          "text": [
            "ciao 23 True\n"
          ]
        }
      ]
    },
    {
      "cell_type": "code",
      "source": [
        "x = int(input(\"dimmi un numero:\"))\n",
        "y=int(input(\"dimmi un altro numero:\"))\n",
        "print(x+y)\n",
        "print(x*y)\n",
        "print(x/y)"
      ],
      "metadata": {
        "colab": {
          "base_uri": "https://localhost:8080/"
        },
        "id": "Fm2TAvQcwukg",
        "outputId": "11eb82ee-f755-4038-c2e6-51474a1f7055"
      },
      "execution_count": null,
      "outputs": [
        {
          "output_type": "stream",
          "name": "stdout",
          "text": [
            "dimmi un numero:3\n",
            "dimmi un altro numero:4\n",
            "7\n",
            "12\n",
            "0.75\n"
          ]
        }
      ]
    },
    {
      "cell_type": "code",
      "source": [
        "numero= int(input(\"dimmi un numero:\"))\n",
        "if numero>0:\n",
        "   print(\"è positivo\")\n",
        "elif numero<0:\n",
        "  print(\"è negativo\")\n",
        "else:\n",
        "  print(\"è zero\")"
      ],
      "metadata": {
        "colab": {
          "base_uri": "https://localhost:8080/"
        },
        "id": "YNoJHj3sxHZV",
        "outputId": "242bf7fc-f860-45d7-a727-d186df439f68"
      },
      "execution_count": null,
      "outputs": [
        {
          "output_type": "stream",
          "name": "stdout",
          "text": [
            "dimmi un numero:5\n",
            "è positivo\n"
          ]
        }
      ]
    },
    {
      "cell_type": "markdown",
      "source": [
        "### 2. Variable Manipulations\n",
        "- **Task:** Create variables to store your name, age, and a boolean indicating whether you are a student or not. Then, print these variables."
      ],
      "metadata": {
        "id": "RcLKlwr6g4Fy"
      }
    },
    {
      "cell_type": "code",
      "source": [
        "name=\"Alessandro Centomini\"\n",
        "Age=66\n",
        "student=False\n",
        "print(name, Age, student)"
      ],
      "metadata": {
        "id": "6YqVDFc3g_dc",
        "colab": {
          "base_uri": "https://localhost:8080/"
        },
        "outputId": "a91db0f9-5c6f-415b-cea9-131b4d88bb8b"
      },
      "execution_count": null,
      "outputs": [
        {
          "output_type": "stream",
          "name": "stdout",
          "text": [
            "Alessandro Centomini 66 False\n"
          ]
        }
      ]
    },
    {
      "cell_type": "code",
      "source": [],
      "metadata": {
        "id": "CgUFJ7NwwC2a"
      },
      "execution_count": null,
      "outputs": []
    },
    {
      "cell_type": "code",
      "source": [],
      "metadata": {
        "id": "4iEPjILdwEc1"
      },
      "execution_count": null,
      "outputs": []
    },
    {
      "cell_type": "code",
      "source": [],
      "metadata": {
        "id": "1E6wJGcgwGvC"
      },
      "execution_count": null,
      "outputs": []
    },
    {
      "cell_type": "markdown",
      "source": [
        "### 3. Basic Math Operations\n",
        "- **Task:** Write a program that asks for two numbers from the user, calculates their sum, product, and difference, then prints the results."
      ],
      "metadata": {
        "id": "WYWuG-EMg4DL"
      }
    },
    {
      "cell_type": "code",
      "source": [
        "num1 = int(input(\"Dr. Salis favorisca un numero\"))\n",
        "num2 = int(input(\"Due se preferisce\"))\n",
        "\n",
        "print(f\"{num1+num2} {num1*num2} {num1-num2}\")"
      ],
      "metadata": {
        "id": "3gduFT7hhFGW",
        "colab": {
          "base_uri": "https://localhost:8080/"
        },
        "outputId": "c12fde19-5e60-41cd-fe0f-fed7cd1a8617"
      },
      "execution_count": null,
      "outputs": [
        {
          "output_type": "stream",
          "name": "stdout",
          "text": [
            "Dr. Salis favorisca un numero5\n",
            "Due se preferisce10\n",
            "15 50 -5\n"
          ]
        }
      ]
    },
    {
      "cell_type": "markdown",
      "source": [
        "### 4. Conditional Statements\n",
        "- **Task:** Ask the user for a number and print whether it is positive, negative, or zero."
      ],
      "metadata": {
        "id": "R8ANHBjkg4Ak"
      }
    },
    {
      "cell_type": "code",
      "source": [
        "n=5\n",
        "if n>0:\n",
        "  print(n)\n",
        "elif n<0:\n",
        "  print(n)\n",
        "elif n==0:\n",
        "  print(n)"
      ],
      "metadata": {
        "id": "e5E1cgvrhPqo",
        "colab": {
          "base_uri": "https://localhost:8080/"
        },
        "outputId": "b3c87fb3-4a71-46ab-af49-f43252d30a68"
      },
      "execution_count": null,
      "outputs": [
        {
          "output_type": "stream",
          "name": "stdout",
          "text": [
            "5\n"
          ]
        }
      ]
    },
    {
      "cell_type": "markdown",
      "source": [
        "### 5. Loops: Counting and Sum\n",
        "- **Task:** Write a program that prints all the numbers from 1 to 100. Then, modify the program to sum those numbers and print the total."
      ],
      "metadata": {
        "id": "HkDV42l0g39t"
      }
    },
    {
      "cell_type": "code",
      "source": [
        "print(list(range(101)),'\\n',sum(list(range(101))))"
      ],
      "metadata": {
        "id": "bzKSlK40hVVZ",
        "colab": {
          "base_uri": "https://localhost:8080/"
        },
        "outputId": "b1b46713-c88f-4da4-9b92-4ef17a70da87"
      },
      "execution_count": null,
      "outputs": [
        {
          "output_type": "stream",
          "name": "stdout",
          "text": [
            "[0, 1, 2, 3, 4, 5, 6, 7, 8, 9, 10, 11, 12, 13, 14, 15, 16, 17, 18, 19, 20, 21, 22, 23, 24, 25, 26, 27, 28, 29, 30, 31, 32, 33, 34, 35, 36, 37, 38, 39, 40, 41, 42, 43, 44, 45, 46, 47, 48, 49, 50, 51, 52, 53, 54, 55, 56, 57, 58, 59, 60, 61, 62, 63, 64, 65, 66, 67, 68, 69, 70, 71, 72, 73, 74, 75, 76, 77, 78, 79, 80, 81, 82, 83, 84, 85, 86, 87, 88, 89, 90, 91, 92, 93, 94, 95, 96, 97, 98, 99, 100] \n",
            " 5050\n"
          ]
        }
      ]
    },
    {
      "cell_type": "code",
      "source": [],
      "metadata": {
        "id": "cpOF6Mffy_iF"
      },
      "execution_count": null,
      "outputs": []
    },
    {
      "cell_type": "markdown",
      "source": [
        "### soluzioni 2"
      ],
      "metadata": {
        "id": "R9JbGCokzBUQ"
      }
    },
    {
      "cell_type": "code",
      "source": [
        "somma=0\n",
        "for i in range(101):\n",
        "  somma+=i\n",
        "print(somma)"
      ],
      "metadata": {
        "colab": {
          "base_uri": "https://localhost:8080/"
        },
        "id": "q4a0NY4LzGAh",
        "outputId": "2e019195-3a49-4b8b-8171-9f53a05c19f4"
      },
      "execution_count": null,
      "outputs": [
        {
          "output_type": "stream",
          "name": "stdout",
          "text": [
            "5050\n"
          ]
        }
      ]
    },
    {
      "cell_type": "code",
      "source": [
        "lista=[]\n",
        "for i in range(1,11):\n",
        "  lista.append(i**2)\n",
        "print(lista)"
      ],
      "metadata": {
        "colab": {
          "base_uri": "https://localhost:8080/"
        },
        "id": "5rRnQVxDzF9o",
        "outputId": "19c49ed6-986a-44d4-eaab-762d83e58adf"
      },
      "execution_count": null,
      "outputs": [
        {
          "output_type": "stream",
          "name": "stdout",
          "text": [
            "[1, 4, 9, 16, 25, 36, 49, 64, 81, 100]\n"
          ]
        }
      ]
    },
    {
      "cell_type": "code",
      "source": [],
      "metadata": {
        "id": "8GE2-GstzF7B"
      },
      "execution_count": null,
      "outputs": []
    },
    {
      "cell_type": "code",
      "source": [],
      "metadata": {
        "id": "WGZs25SWzF4t"
      },
      "execution_count": null,
      "outputs": []
    },
    {
      "cell_type": "code",
      "source": [
        "def power(base,exp):\n",
        "  return pow(base,exp)\n",
        "\n",
        "power(4,2)"
      ],
      "metadata": {
        "colab": {
          "base_uri": "https://localhost:8080/"
        },
        "id": "53ZM_pROzF2E",
        "outputId": "98cad4f3-cb7d-4c2d-b50a-b5601c5fe3ec"
      },
      "execution_count": null,
      "outputs": [
        {
          "output_type": "execute_result",
          "data": {
            "text/plain": [
              "16"
            ]
          },
          "metadata": {},
          "execution_count": 9
        }
      ]
    },
    {
      "cell_type": "code",
      "source": [
        "def"
      ],
      "metadata": {
        "id": "6Hd4r1FgzFzM"
      },
      "execution_count": null,
      "outputs": []
    },
    {
      "cell_type": "code",
      "source": [
        "!touch prova.txt"
      ],
      "metadata": {
        "id": "6JZ_ntr50TQq"
      },
      "execution_count": null,
      "outputs": []
    },
    {
      "cell_type": "markdown",
      "source": [
        "### 6. Lists and Iteration\n",
        "- **Task:** Create a list of the first 10 square numbers (1, 4, 9, ..., 100). Use a loop to print each element of the list."
      ],
      "metadata": {
        "id": "5MTxCnfjg361"
      }
    },
    {
      "cell_type": "code",
      "source": [
        "lista = []\n",
        "for i in range(1, 11):\n",
        "  lista.append(i**2)\n",
        "  print(lista[-1])\n"
      ],
      "metadata": {
        "id": "a4EmORWHhZ7a",
        "colab": {
          "base_uri": "https://localhost:8080/"
        },
        "outputId": "c094a91a-c6e6-45e4-c6aa-003bc9c04988"
      },
      "execution_count": null,
      "outputs": [
        {
          "output_type": "stream",
          "name": "stdout",
          "text": [
            "1\n",
            "4\n",
            "9\n",
            "16\n",
            "25\n",
            "36\n",
            "49\n",
            "64\n",
            "81\n",
            "100\n"
          ]
        }
      ]
    },
    {
      "cell_type": "markdown",
      "source": [
        "### 7. Functions and Scope\n",
        "- **Task:** Write a function that takes two arguments, a base and an exponent, and returns the base raised to the exponent. Test your function with some arguments."
      ],
      "metadata": {
        "id": "h1kxL68Ug34Q"
      }
    },
    {
      "cell_type": "code",
      "source": [
        "def func(base,exp):\n",
        "  return base**exp\n",
        "print(func(4,2))"
      ],
      "metadata": {
        "id": "PuyJf2TThdxO",
        "colab": {
          "base_uri": "https://localhost:8080/"
        },
        "outputId": "e11e2b26-ea8f-4742-f42f-5262b335c10b"
      },
      "execution_count": null,
      "outputs": [
        {
          "output_type": "stream",
          "name": "stdout",
          "text": [
            "16\n"
          ]
        }
      ]
    },
    {
      "cell_type": "markdown",
      "source": [
        "### 8. Reading and Writing Files\n",
        "- **Task:** Write a program that reads a text file containing a list of names (one per line) and writes to another file the names in uppercase."
      ],
      "metadata": {
        "id": "mBxrSY3ng31Y"
      }
    },
    {
      "cell_type": "code",
      "source": [
        "stringa = \"Ciao \\n Hello Word \\n\"\n",
        "with open(\"nome_file.txt\", 'w') as f:\n",
        "  f.write(stringa)\n",
        "\n",
        "with open(\"nome_file.txt\", 'r') as f:\n",
        "  list_lines = f.readlines()\n",
        "\n",
        "for i in list_lines:\n",
        "  print(i.upper())"
      ],
      "metadata": {
        "id": "3e3eBoHLiCVm",
        "colab": {
          "base_uri": "https://localhost:8080/"
        },
        "outputId": "1534bb8a-c468-43c4-cc9d-54a53f4ed8e0"
      },
      "execution_count": null,
      "outputs": [
        {
          "output_type": "stream",
          "name": "stdout",
          "text": [
            "CIAO \n",
            "\n",
            " HELLO WORD \n",
            "\n"
          ]
        }
      ]
    },
    {
      "cell_type": "markdown",
      "source": [
        "### 9. Exception Handling\n",
        "- **Task:** Modify the program from exercise 3 to handle the case where the input is not a number, printing an error message instead of crashing."
      ],
      "metadata": {
        "id": "3EFsZqJ2g3yx"
      }
    },
    {
      "cell_type": "code",
      "source": [
        "try:\n",
        "  num1 = int(input(\"Dr. Salis favorisca un numero\"))\n",
        "  num2 = int(input(\"Due se preferisce\"))\n",
        "except:\n",
        "  print('hai sbagliato Salis')\n",
        "print(f\"{num1+num2} {num1*num2} {num1-num2}\")\n",
        "\n"
      ],
      "metadata": {
        "id": "Nn6fllroho10",
        "colab": {
          "base_uri": "https://localhost:8080/",
          "height": 216
        },
        "outputId": "a46df27f-f522-4d63-b7d3-ae047e908bd4"
      },
      "execution_count": null,
      "outputs": [
        {
          "output_type": "stream",
          "name": "stdout",
          "text": [
            "hai sbagliato Salis\n"
          ]
        },
        {
          "output_type": "error",
          "ename": "NameError",
          "evalue": "name 'num1' is not defined",
          "traceback": [
            "\u001b[0;31m---------------------------------------------------------------------------\u001b[0m",
            "\u001b[0;31mNameError\u001b[0m                                 Traceback (most recent call last)",
            "\u001b[0;32m<ipython-input-2-d6670605aa45>\u001b[0m in \u001b[0;36m<cell line: 0>\u001b[0;34m()\u001b[0m\n\u001b[1;32m      4\u001b[0m \u001b[0;32mexcept\u001b[0m\u001b[0;34m:\u001b[0m\u001b[0;34m\u001b[0m\u001b[0;34m\u001b[0m\u001b[0m\n\u001b[1;32m      5\u001b[0m   \u001b[0mprint\u001b[0m\u001b[0;34m(\u001b[0m\u001b[0;34m'hai sbagliato Salis'\u001b[0m\u001b[0;34m)\u001b[0m\u001b[0;34m\u001b[0m\u001b[0;34m\u001b[0m\u001b[0m\n\u001b[0;32m----> 6\u001b[0;31m \u001b[0mprint\u001b[0m\u001b[0;34m(\u001b[0m\u001b[0;34mf\"{num1+num2} {num1*num2} {num1-num2}\"\u001b[0m\u001b[0;34m)\u001b[0m\u001b[0;34m\u001b[0m\u001b[0;34m\u001b[0m\u001b[0m\n\u001b[0m\u001b[1;32m      7\u001b[0m \u001b[0;34m\u001b[0m\u001b[0m\n",
            "\u001b[0;31mNameError\u001b[0m: name 'num1' is not defined"
          ]
        }
      ]
    },
    {
      "cell_type": "markdown",
      "source": [
        "### 10. Classes and Objects\n",
        "- **Task:** Define a Python class representing a Rectangle. It should have attributes for width and height, a method to calculate the area, and another method to calculate the perimeter. Create a few Rectangle objects, and use them to demonstrate that your class works as expected."
      ],
      "metadata": {
        "id": "lalOkGeVg3vp"
      }
    },
    {
      "cell_type": "code",
      "source": [
        "class Rettangolo:\n",
        "  def __init__(self, w, h):\n",
        "    self.w = w\n",
        "    self.h = h\n",
        "\n",
        "  def area(self):\n",
        "    return self.h*self.w\n",
        "\n",
        "  def perimetri(self):\n",
        "    return self.h *2 + self.w*2\n",
        "\n",
        "h = int(input(\"Inserisci altezza\"))\n",
        "w = int(input(\"Inserisci base\"))\n",
        "rettangolo = Rettangolo(w,h)\n",
        "\n",
        "print(f\"{rettangolo.area()}, {rettangolo.perimetri()}\")\n",
        "\n"
      ],
      "metadata": {
        "id": "6NdAw3JPhtGg",
        "colab": {
          "base_uri": "https://localhost:8080/"
        },
        "outputId": "0af8f01e-bf7b-4c47-e810-6d82998ca05e"
      },
      "execution_count": null,
      "outputs": [
        {
          "output_type": "stream",
          "name": "stdout",
          "text": [
            "Inserisci altezza3\n",
            "Inserisci base2\n",
            "6, 10\n"
          ]
        }
      ]
    },
    {
      "cell_type": "code",
      "execution_count": null,
      "metadata": {
        "id": "pEDGCcGzgpn4"
      },
      "outputs": [],
      "source": []
    }
  ]
}