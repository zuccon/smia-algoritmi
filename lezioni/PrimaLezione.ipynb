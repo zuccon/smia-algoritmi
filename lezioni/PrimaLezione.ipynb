{
 "cells": [
  {
   "cell_type": "markdown",
   "metadata": {
    "id": "-ORe3yGOgsBq"
   },
   "source": [
    "# 10 Esercizi!"
   ]
  },
  {
   "cell_type": "markdown",
   "metadata": {
    "id": "7nPP_2mng4Ip"
   },
   "source": [
    "### 1. Hello, World!\n",
    "- **Task:** Write a program that prints \"Hello, World!\" to the console."
   ]
  },
  {
   "cell_type": "code",
   "execution_count": null,
   "metadata": {
    "colab": {
     "base_uri": "https://localhost:8080/"
    },
    "id": "qKGrPw_xg5tM",
    "outputId": "ac2c5d63-8c7e-4b9d-b23f-3e515b26abc4"
   },
   "outputs": [
    {
     "name": "stdout",
     "output_type": "stream",
     "text": [
      "Hello World\n"
     ]
    }
   ],
   "source": [
    "print(\"Hello World\")\n"
   ]
  },
  {
   "cell_type": "code",
   "execution_count": null,
   "metadata": {
    "id": "KAdFwxtnwCV0"
   },
   "outputs": [],
   "source": [
    "print(\"Hello World\")"
   ]
  },
  {
   "cell_type": "code",
   "execution_count": null,
   "metadata": {
    "colab": {
     "base_uri": "https://localhost:8080/"
    },
    "id": "XoEZM7YIwS3v",
    "outputId": "b8fa60aa-1264-4efd-ca30-521c5fd8094f"
   },
   "outputs": [
    {
     "name": "stdout",
     "output_type": "stream",
     "text": [
      "ciao 23 True\n"
     ]
    }
   ],
   "source": [
    "nome= \"ciao\"\n",
    "eta= 23\n",
    "studente=True\n",
    "print(nome, eta, studente)"
   ]
  },
  {
   "cell_type": "code",
   "execution_count": null,
   "metadata": {
    "colab": {
     "base_uri": "https://localhost:8080/"
    },
    "id": "Fm2TAvQcwukg",
    "outputId": "11eb82ee-f755-4038-c2e6-51474a1f7055"
   },
   "outputs": [
    {
     "name": "stdout",
     "output_type": "stream",
     "text": [
      "dimmi un numero:3\n",
      "dimmi un altro numero:4\n",
      "7\n",
      "12\n",
      "0.75\n"
     ]
    }
   ],
   "source": [
    "x = int(input(\"dimmi un numero:\"))\n",
    "y=int(input(\"dimmi un altro numero:\"))\n",
    "print(x+y)\n",
    "print(x*y)\n",
    "print(x/y)"
   ]
  },
  {
   "cell_type": "code",
   "execution_count": null,
   "metadata": {
    "colab": {
     "base_uri": "https://localhost:8080/"
    },
    "id": "YNoJHj3sxHZV",
    "outputId": "242bf7fc-f860-45d7-a727-d186df439f68"
   },
   "outputs": [
    {
     "name": "stdout",
     "output_type": "stream",
     "text": [
      "dimmi un numero:5\n",
      "è positivo\n"
     ]
    }
   ],
   "source": [
    "numero= int(input(\"dimmi un numero:\"))\n",
    "if numero>0:\n",
    "   print(\"è positivo\")\n",
    "elif numero<0:\n",
    "  print(\"è negativo\")\n",
    "else:\n",
    "  print(\"è zero\")"
   ]
  },
  {
   "cell_type": "markdown",
   "metadata": {
    "id": "RcLKlwr6g4Fy"
   },
   "source": [
    "### 2. Variable Manipulations\n",
    "- **Task:** Create variables to store your name, age, and a boolean indicating whether you are a student or not. Then, print these variables."
   ]
  },
  {
   "cell_type": "code",
   "execution_count": null,
   "metadata": {
    "colab": {
     "base_uri": "https://localhost:8080/"
    },
    "id": "6YqVDFc3g_dc",
    "outputId": "a91db0f9-5c6f-415b-cea9-131b4d88bb8b"
   },
   "outputs": [
    {
     "name": "stdout",
     "output_type": "stream",
     "text": [
      "Alessandro Centomini 66 False\n"
     ]
    }
   ],
   "source": [
    "name=\"Alessandro Centomini\"\n",
    "Age=66\n",
    "student=False\n",
    "print(name, Age, student)"
   ]
  },
  {
   "cell_type": "code",
   "execution_count": null,
   "metadata": {
    "id": "CgUFJ7NwwC2a"
   },
   "outputs": [],
   "source": []
  },
  {
   "cell_type": "code",
   "execution_count": null,
   "metadata": {
    "id": "4iEPjILdwEc1"
   },
   "outputs": [],
   "source": []
  },
  {
   "cell_type": "code",
   "execution_count": null,
   "metadata": {
    "id": "1E6wJGcgwGvC"
   },
   "outputs": [],
   "source": []
  },
  {
   "cell_type": "markdown",
   "metadata": {
    "id": "WYWuG-EMg4DL"
   },
   "source": [
    "### 3. Basic Math Operations\n",
    "- **Task:** Write a program that asks for two numbers from the user, calculates their sum, product, and difference, then prints the results."
   ]
  },
  {
   "cell_type": "code",
   "execution_count": null,
   "metadata": {
    "colab": {
     "base_uri": "https://localhost:8080/"
    },
    "id": "3gduFT7hhFGW",
    "outputId": "c12fde19-5e60-41cd-fe0f-fed7cd1a8617"
   },
   "outputs": [
    {
     "name": "stdout",
     "output_type": "stream",
     "text": [
      "Dr. Salis favorisca un numero5\n",
      "Due se preferisce10\n",
      "15 50 -5\n"
     ]
    }
   ],
   "source": [
    "num1 = int(input(\"Dr. Salis favorisca un numero\"))\n",
    "num2 = int(input(\"Due se preferisce\"))\n",
    "\n",
    "print(f\"{num1+num2} {num1*num2} {num1-num2}\")"
   ]
  },
  {
   "cell_type": "markdown",
   "metadata": {
    "id": "R8ANHBjkg4Ak"
   },
   "source": [
    "### 4. Conditional Statements\n",
    "- **Task:** Ask the user for a number and print whether it is positive, negative, or zero."
   ]
  },
  {
   "cell_type": "code",
   "execution_count": null,
   "metadata": {
    "colab": {
     "base_uri": "https://localhost:8080/"
    },
    "id": "e5E1cgvrhPqo",
    "outputId": "b3c87fb3-4a71-46ab-af49-f43252d30a68"
   },
   "outputs": [
    {
     "name": "stdout",
     "output_type": "stream",
     "text": [
      "5\n"
     ]
    }
   ],
   "source": [
    "n=5\n",
    "if n>0:\n",
    "  print(n)\n",
    "elif n<0:\n",
    "  print(n)\n",
    "elif n==0:\n",
    "  print(n)"
   ]
  },
  {
   "cell_type": "markdown",
   "metadata": {
    "id": "HkDV42l0g39t"
   },
   "source": [
    "### 5. Loops: Counting and Sum\n",
    "- **Task:** Write a program that prints all the numbers from 1 to 100. Then, modify the program to sum those numbers and print the total."
   ]
  },
  {
   "cell_type": "code",
   "execution_count": null,
   "metadata": {
    "colab": {
     "base_uri": "https://localhost:8080/"
    },
    "id": "bzKSlK40hVVZ",
    "outputId": "b1b46713-c88f-4da4-9b92-4ef17a70da87"
   },
   "outputs": [
    {
     "name": "stdout",
     "output_type": "stream",
     "text": [
      "[0, 1, 2, 3, 4, 5, 6, 7, 8, 9, 10, 11, 12, 13, 14, 15, 16, 17, 18, 19, 20, 21, 22, 23, 24, 25, 26, 27, 28, 29, 30, 31, 32, 33, 34, 35, 36, 37, 38, 39, 40, 41, 42, 43, 44, 45, 46, 47, 48, 49, 50, 51, 52, 53, 54, 55, 56, 57, 58, 59, 60, 61, 62, 63, 64, 65, 66, 67, 68, 69, 70, 71, 72, 73, 74, 75, 76, 77, 78, 79, 80, 81, 82, 83, 84, 85, 86, 87, 88, 89, 90, 91, 92, 93, 94, 95, 96, 97, 98, 99, 100] \n",
      " 5050\n"
     ]
    }
   ],
   "source": [
    "print(list(range(101)),'\\n',sum(list(range(101))))"
   ]
  },
  {
   "cell_type": "code",
   "execution_count": null,
   "metadata": {
    "id": "cpOF6Mffy_iF"
   },
   "outputs": [],
   "source": []
  },
  {
   "cell_type": "markdown",
   "metadata": {
    "id": "R9JbGCokzBUQ"
   },
   "source": [
    "### soluzioni 2"
   ]
  },
  {
   "cell_type": "code",
   "execution_count": null,
   "metadata": {
    "colab": {
     "base_uri": "https://localhost:8080/"
    },
    "id": "q4a0NY4LzGAh",
    "outputId": "2e019195-3a49-4b8b-8171-9f53a05c19f4"
   },
   "outputs": [
    {
     "name": "stdout",
     "output_type": "stream",
     "text": [
      "5050\n"
     ]
    }
   ],
   "source": [
    "somma=0\n",
    "for i in range(101):\n",
    "  somma+=i\n",
    "print(somma)"
   ]
  },
  {
   "cell_type": "code",
   "execution_count": null,
   "metadata": {
    "colab": {
     "base_uri": "https://localhost:8080/"
    },
    "id": "5rRnQVxDzF9o",
    "outputId": "19c49ed6-986a-44d4-eaab-762d83e58adf"
   },
   "outputs": [
    {
     "name": "stdout",
     "output_type": "stream",
     "text": [
      "[1, 4, 9, 16, 25, 36, 49, 64, 81, 100]\n"
     ]
    }
   ],
   "source": [
    "lista=[]\n",
    "for i in range(1,11):\n",
    "  lista.append(i**2)\n",
    "print(lista)"
   ]
  },
  {
   "cell_type": "code",
   "execution_count": null,
   "metadata": {
    "id": "8GE2-GstzF7B"
   },
   "outputs": [],
   "source": []
  },
  {
   "cell_type": "code",
   "execution_count": null,
   "metadata": {
    "id": "WGZs25SWzF4t"
   },
   "outputs": [],
   "source": []
  },
  {
   "cell_type": "code",
   "execution_count": null,
   "metadata": {
    "colab": {
     "base_uri": "https://localhost:8080/"
    },
    "id": "53ZM_pROzF2E",
    "outputId": "98cad4f3-cb7d-4c2d-b50a-b5601c5fe3ec"
   },
   "outputs": [
    {
     "data": {
      "text/plain": [
       "16"
      ]
     },
     "execution_count": 9,
     "metadata": {},
     "output_type": "execute_result"
    }
   ],
   "source": [
    "def power(base,exp):\n",
    "  return pow(base,exp)\n",
    "\n",
    "power(4,2)"
   ]
  },
  {
   "cell_type": "code",
   "execution_count": null,
   "metadata": {
    "id": "6Hd4r1FgzFzM"
   },
   "outputs": [],
   "source": [
    "def"
   ]
  },
  {
   "cell_type": "code",
   "execution_count": null,
   "metadata": {
    "id": "6JZ_ntr50TQq"
   },
   "outputs": [],
   "source": [
    "!touch prova.txt"
   ]
  },
  {
   "cell_type": "markdown",
   "metadata": {
    "id": "5MTxCnfjg361"
   },
   "source": [
    "### 6. Lists and Iteration\n",
    "- **Task:** Create a list of the first 10 square numbers (1, 4, 9, ..., 100). Use a loop to print each element of the list."
   ]
  },
  {
   "cell_type": "code",
   "execution_count": null,
   "metadata": {
    "colab": {
     "base_uri": "https://localhost:8080/"
    },
    "id": "a4EmORWHhZ7a",
    "outputId": "c094a91a-c6e6-45e4-c6aa-003bc9c04988"
   },
   "outputs": [
    {
     "name": "stdout",
     "output_type": "stream",
     "text": [
      "1\n",
      "4\n",
      "9\n",
      "16\n",
      "25\n",
      "36\n",
      "49\n",
      "64\n",
      "81\n",
      "100\n"
     ]
    }
   ],
   "source": [
    "lista = []\n",
    "for i in range(1, 11):\n",
    "  lista.append(i**2)\n",
    "  print(lista[-1])\n"
   ]
  },
  {
   "cell_type": "markdown",
   "metadata": {
    "id": "h1kxL68Ug34Q"
   },
   "source": [
    "### 7. Functions and Scope\n",
    "- **Task:** Write a function that takes two arguments, a base and an exponent, and returns the base raised to the exponent. Test your function with some arguments."
   ]
  },
  {
   "cell_type": "code",
   "execution_count": null,
   "metadata": {
    "colab": {
     "base_uri": "https://localhost:8080/"
    },
    "id": "PuyJf2TThdxO",
    "outputId": "e11e2b26-ea8f-4742-f42f-5262b335c10b"
   },
   "outputs": [
    {
     "name": "stdout",
     "output_type": "stream",
     "text": [
      "16\n"
     ]
    }
   ],
   "source": [
    "def func(base,exp):\n",
    "  return base**exp\n",
    "print(func(4,2))"
   ]
  },
  {
   "cell_type": "markdown",
   "metadata": {
    "id": "mBxrSY3ng31Y"
   },
   "source": [
    "### 8. Reading and Writing Files\n",
    "- **Task:** Write a program that reads a text file containing a list of names (one per line) and writes to another file the names in uppercase."
   ]
  },
  {
   "cell_type": "code",
   "execution_count": null,
   "metadata": {
    "colab": {
     "base_uri": "https://localhost:8080/"
    },
    "id": "3e3eBoHLiCVm",
    "outputId": "1534bb8a-c468-43c4-cc9d-54a53f4ed8e0"
   },
   "outputs": [
    {
     "name": "stdout",
     "output_type": "stream",
     "text": [
      "CIAO \n",
      "\n",
      " HELLO WORD \n",
      "\n"
     ]
    }
   ],
   "source": [
    "stringa = \"Ciao \\n Hello Word \\n\"\n",
    "with open(\"nome_file.txt\", 'w') as f:\n",
    "  f.write(stringa)\n",
    "\n",
    "with open(\"nome_file.txt\", 'r') as f:\n",
    "  list_lines = f.readlines()\n",
    "\n",
    "for i in list_lines:\n",
    "  print(i.upper())"
   ]
  },
  {
   "cell_type": "markdown",
   "metadata": {
    "id": "3EFsZqJ2g3yx"
   },
   "source": [
    "### 9. Exception Handling\n",
    "- **Task:** Modify the program from exercise 3 to handle the case where the input is not a number, printing an error message instead of crashing."
   ]
  },
  {
   "cell_type": "code",
   "execution_count": null,
   "metadata": {
    "colab": {
     "base_uri": "https://localhost:8080/",
     "height": 216
    },
    "id": "Nn6fllroho10",
    "outputId": "a46df27f-f522-4d63-b7d3-ae047e908bd4"
   },
   "outputs": [
    {
     "name": "stdout",
     "output_type": "stream",
     "text": [
      "hai sbagliato Salis\n"
     ]
    },
    {
     "ename": "NameError",
     "evalue": "name 'num1' is not defined",
     "output_type": "error",
     "traceback": [
      "\u001b[0;31m---------------------------------------------------------------------------\u001b[0m",
      "\u001b[0;31mNameError\u001b[0m                                 Traceback (most recent call last)",
      "\u001b[0;32m<ipython-input-2-d6670605aa45>\u001b[0m in \u001b[0;36m<cell line: 0>\u001b[0;34m()\u001b[0m\n\u001b[1;32m      4\u001b[0m \u001b[0;32mexcept\u001b[0m\u001b[0;34m:\u001b[0m\u001b[0;34m\u001b[0m\u001b[0;34m\u001b[0m\u001b[0m\n\u001b[1;32m      5\u001b[0m   \u001b[0mprint\u001b[0m\u001b[0;34m(\u001b[0m\u001b[0;34m'hai sbagliato Salis'\u001b[0m\u001b[0;34m)\u001b[0m\u001b[0;34m\u001b[0m\u001b[0;34m\u001b[0m\u001b[0m\n\u001b[0;32m----> 6\u001b[0;31m \u001b[0mprint\u001b[0m\u001b[0;34m(\u001b[0m\u001b[0;34mf\"{num1+num2} {num1*num2} {num1-num2}\"\u001b[0m\u001b[0;34m)\u001b[0m\u001b[0;34m\u001b[0m\u001b[0;34m\u001b[0m\u001b[0m\n\u001b[0m\u001b[1;32m      7\u001b[0m \u001b[0;34m\u001b[0m\u001b[0m\n",
      "\u001b[0;31mNameError\u001b[0m: name 'num1' is not defined"
     ]
    }
   ],
   "source": [
    "try:\n",
    "  num1 = int(input(\"Dr. Salis favorisca un numero\"))\n",
    "  num2 = int(input(\"Due se preferisce\"))\n",
    "except:\n",
    "  print('hai sbagliato Salis')\n",
    "print(f\"{num1+num2} {num1*num2} {num1-num2}\")\n",
    "\n"
   ]
  },
  {
   "cell_type": "markdown",
   "metadata": {
    "id": "lalOkGeVg3vp"
   },
   "source": [
    "### 10. Classes and Objects\n",
    "- **Task:** Define a Python class representing a Rectangle. It should have attributes for width and height, a method to calculate the area, and another method to calculate the perimeter. Create a few Rectangle objects, and use them to demonstrate that your class works as expected."
   ]
  },
  {
   "cell_type": "code",
   "execution_count": null,
   "metadata": {
    "colab": {
     "base_uri": "https://localhost:8080/"
    },
    "id": "6NdAw3JPhtGg",
    "outputId": "0af8f01e-bf7b-4c47-e810-6d82998ca05e"
   },
   "outputs": [
    {
     "name": "stdout",
     "output_type": "stream",
     "text": [
      "Inserisci altezza3\n",
      "Inserisci base2\n",
      "6, 10\n"
     ]
    }
   ],
   "source": [
    "class Rettangolo:\n",
    "  def __init__(self, w, h):\n",
    "    self.w = w\n",
    "    self.h = h\n",
    "\n",
    "  def area(self):\n",
    "    return self.h*self.w\n",
    "\n",
    "  def perimetri(self):\n",
    "    return self.h *2 + self.w*2\n",
    "\n",
    "h = int(input(\"Inserisci altezza\"))\n",
    "w = int(input(\"Inserisci base\"))\n",
    "rettangolo = Rettangolo(w,h)\n",
    "\n",
    "print(f\"{rettangolo.area()}, {rettangolo.perimetri()}\")\n",
    "\n"
   ]
  },
  {
   "cell_type": "code",
   "execution_count": null,
   "metadata": {
    "id": "pEDGCcGzgpn4"
   },
   "outputs": [],
   "source": []
  }
 ],
 "metadata": {
  "colab": {
   "collapsed_sections": [
    "7nPP_2mng4Ip",
    "RcLKlwr6g4Fy",
    "WYWuG-EMg4DL",
    "R8ANHBjkg4Ak",
    "HkDV42l0g39t",
    "5MTxCnfjg361",
    "h1kxL68Ug34Q",
    "mBxrSY3ng31Y",
    "3EFsZqJ2g3yx",
    "lalOkGeVg3vp"
   ],
   "provenance": []
  },
  "kernelspec": {
   "display_name": "Python 3 (ipykernel)",
   "language": "python",
   "name": "python3"
  },
  "language_info": {
   "codemirror_mode": {
    "name": "ipython",
    "version": 3
   },
   "file_extension": ".py",
   "mimetype": "text/x-python",
   "name": "python",
   "nbconvert_exporter": "python",
   "pygments_lexer": "ipython3",
   "version": "3.13.5"
  }
 },
 "nbformat": 4,
 "nbformat_minor": 4
}
