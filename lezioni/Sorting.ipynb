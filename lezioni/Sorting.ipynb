{
 "cells": [
  {
   "cell_type": "markdown",
   "metadata": {
    "id": "1N9TQAUTeTIk"
   },
   "source": [
    "# Tecniche di Programmazione\n",
    "## Sorting"
   ]
  },
  {
   "cell_type": "markdown",
   "metadata": {
    "id": "4eyAIpnUe8S-"
   },
   "source": [
    "### **Exercise 1. Sort Colors**"
   ]
  },
  {
   "cell_type": "markdown",
   "metadata": {
    "id": "KODqEtL5LpBf"
   },
   "source": [
    "**INPUT**\n",
    "*   There is an integer list `colors` colored red, white, or blue.\n",
    "*   Note that this is equivalent to having numbers `0, 1, 2` each encoding the colors.\n",
    "\n",
    "**OUTPUT**\n",
    "Given the list `colors`, sort them **in-place** so that objects of the same color are adjacent, with the colors in the order red, white, and blue.\n",
    "\n",
    "**REQUIREMENT**\n",
    "You must solve this problem without using the library's sort function."
   ]
  },
  {
   "cell_type": "markdown",
   "metadata": {
    "id": "auSE2v7ziOrD"
   },
   "source": [
    "### **Solution 1: Use Quicksort/Mergesort --> O(n*log(n)) runtime and O(1) space**\n",
    "\n",
    "\n",
    "\n"
   ]
  },
  {
   "cell_type": "markdown",
   "metadata": {
    "id": "yhM7RLVUoWo7"
   },
   "source": [
    "Maintain 2 pointers `low, high`, initialized at the two extreme of the list. We now use recursion.\n",
    "\n",
    "**TERMINATION CASE**\n",
    "\n",
    "If `low >= high` , then we are done.\n",
    "\n",
    "**COMPARISON**\n",
    "\n",
    "For each `low, high`, set the pivot `pi = a[high]` and the larger element to be (potentially) exchanged at index `i = low - 1`.\n",
    "1.   Traverse all elements between `low` and `high`, and check whether the current element is smaller than the pivot element. In this case, swap it with the `i`-th element. We need to update `i += 1`\n",
    "2.   After the above procedure ends, we have to exchange the element after the current one with the pivot.\n",
    "\n",
    "Now the part to left of the pivot is smaller than the pivot (but might still be unsorted) and the one to the right is larger than the pivot (but might still be unsorted). So, we recurse.\n",
    "\n",
    "**EXAMPLE**\n",
    "\n",
    "`[1, 8, 3, 9, 4, 5, 7]` : Pivot at 7\n",
    "\n",
    "`[1, 3, 8, 9, 4, 5, 7]` : i = 0, j = 2, 3 and 8 swapped, increase i\n",
    "\n",
    "`[1, 3, 8, 9, 4, 5, 7]` : i = 1, j = 3, do nothing\n",
    "\n",
    "`[1, 3, 4, 9, 8, 5, 7]` : i = 1, j = 4, 4 and 8 swapped, increase i\n",
    "\n",
    "`[1, 3, 4, 5, 8, 9, 7]` : i = 2, j = 5, 5 and 9 swapped, increase i\n",
    "\n",
    "`[1, 3, 4, 5, 7, 8, 9]` : i = 3, j = 5, 8 and 7 swapped, increase i\n",
    "\n",
    "Recurse."
   ]
  },
  {
   "cell_type": "code",
   "execution_count": null,
   "metadata": {
    "id": "jHTHgVWNePF6"
   },
   "outputs": [],
   "source": [
    "# Function to find the partition position\n",
    "def partition(array, low, high):\n",
    "\n",
    "\t# Choose the rightmost element as pivot\n",
    "\tpivot = array[high]\n",
    "\n",
    "\t# Pointer for greater element\n",
    "\ti = low - 1\n",
    "\n",
    "\t# Traverse through all elements\n",
    "\t# compare each element with pivot\n",
    "\tfor j in range(low, high):\n",
    "\t\tif array[j] <= pivot:\n",
    "\t\t\t# If element smaller than pivot is found\n",
    "\t\t\t# swap it with the greater element pointed by i\n",
    "\t\t\ti += 1\n",
    "\n",
    "\t\t\t# Swapping element at i with element at j\n",
    "\t\t\t(array[i], array[j]) = (array[j], array[i])\n",
    "\n",
    "\t# Swap the pivot element with\n",
    "\t# e greater element specified by i\n",
    "\t(array[i + 1], array[high]) = (array[high], array[i + 1])\n",
    "\n",
    "\t# Return the position from where partition is done\n",
    "\treturn i + 1\n",
    "\n",
    "# Function to perform quicksort\n",
    "def quick_sort(array, low, high):\n",
    "\tif low < high:\n",
    "\n",
    "\t\t# Find pivot element such that\n",
    "\t\t# element smaller than pivot are on the left\n",
    "\t\t# element greater than pivot are on the right\n",
    "\t\tpi = partition(array, low, high)\n",
    "\n",
    "\t\t# Recursive call on the left of pivot\n",
    "\t\tquick_sort(array, low, pi - 1)\n",
    "\n",
    "\t\t# Recursive call on the right of pivot\n",
    "\t\tquick_sort(array, pi + 1, high)\n",
    "\n",
    "# This code is contributed by Adnan Aliakbar\n",
    "\n",
    "def quicksort(colors):\n",
    "  quick_sort(colors, 0, len(colors) - 1)"
   ]
  },
  {
   "cell_type": "markdown",
   "metadata": {
    "id": "BE7EGzSkujDX"
   },
   "source": [
    "### **Solution 2: Use Bucketsort --> O(n) runtime and O(n) space, 2 passes needed**"
   ]
  },
  {
   "cell_type": "markdown",
   "metadata": {
    "id": "tr8rEN04yj7G"
   },
   "source": [
    "We can do better than above since there are only `3` types of colors: `0,1,2`. For `k` colors we will have **O(k)** since the dictionary has size `k`.\n",
    "\n",
    "**FIRST PASS**\n",
    "\n",
    "Initialize an empty has table (dictionary) `counts`. Iterate through the list and count how many colors of each type there are, i.e., `count[col] += 1` everytime you see `col` in the list.\n",
    "\n",
    "**SECOND PASS**\n",
    "\n",
    "Now that you know how many of each color there are, place as many 0's, 1's and 2's as you have counted, i.e., set `colors[i] = col` for `col in {0,1,2}` `counts[col]` many times."
   ]
  },
  {
   "cell_type": "code",
   "execution_count": null,
   "metadata": {
    "id": "4X3jpZ-tRUMD"
   },
   "outputs": [],
   "source": [
    "from collections import defaultdict\n",
    "\n",
    "def bucketsort(colors):\n",
    "    counts = defaultdict(int)\n",
    "    for col in colors:\n",
    "        counts[col] += 1\n",
    "    i = 0\n",
    "    while i < counts[0]:\n",
    "        colors[i] = 0\n",
    "        i += 1\n",
    "    while i < counts[0] + counts[1]:\n",
    "        colors[i] = 1\n",
    "        i += 1\n",
    "    while i < counts[0] + counts[1] + counts[2]:\n",
    "        colors[i] = 2\n",
    "        i += 1\n",
    "\n",
    "# code by https://guides.codepath.com/compsci/Sorting-colors"
   ]
  },
  {
   "cell_type": "markdown",
   "metadata": {
    "id": "nJ20PSjNQvos"
   },
   "source": [
    "### **Solution 3: Quicksort Partition (Dutch Flag Problem) --> O(n) runtime and O(1) space, but only 1 pass needed**"
   ]
  },
  {
   "cell_type": "markdown",
   "metadata": {
    "id": "nelxDNwZ5CvV"
   },
   "source": [
    "We can improve upon the second solution (not asymptotically though), by only doing a single pass.\n",
    "\n",
    "**OBSERVATION**\n",
    "\n",
    "Since there are only `3` colors, we essentially need to partition the colors to have `0` on the left, `1` in the middle, and `2` at the end. This is called a 3-way partition. Maintain three pointers: `lo, hi, i` (left, right, iterator).\n",
    "\n",
    "**MAIN LOOP**\n",
    "\n",
    "Until the `i <= hi`, we have to consider 2 cases:\n",
    "*   If we encounter a `0`, then we want to swap the left element with the current element. At this point, we increment the left pointer `lo` as well the iterator `i`. **Once `lo` has been incremented, every element before it is guaranteed to be a 0**.\n",
    "*   Otherwise, if we encounter a `2`, we want to swap the right element with the current element.  At this point, we decrement the right pointer `hi` **but not** the iterator `i`.\n",
    "\n",
    "This is because it may happen (as in the following example) that we introduce a `0` in the middle of the list. If we were to increment the iterator `i`, then we would leave the `0` in the middle and output a wrong sorting.\n",
    "\n",
    "**EXAMPLE**\n",
    "\n",
    "`[0, 1, 2, 1, 0, 2] : lo, hi, i = 0, 5, 0`\n",
    "\n",
    "`[0, 1, 2, 1, 0, 2] : lo, hi, i = 1, 5, 2`\n",
    "\n",
    "`[0, 1, 2, 1, 0, 2] : lo, hi, i = 1, 4, 2`\n",
    "\n",
    "`[0, 1, 0, 1, 2, 2] : lo, hi, i = 1, 3, 2`\n",
    "\n",
    "`[0, 0, 1, 1, 2, 2] : lo, hi, i = 2, 3, 3`\n",
    "\n",
    "`[0, 0, 1, 1, 2, 2] : lo, hi, i = 2, 3, 4`"
   ]
  },
  {
   "cell_type": "code",
   "execution_count": null,
   "metadata": {
    "id": "iJSBilnF3tp1"
   },
   "outputs": [],
   "source": [
    "def quickpartition(colors):\n",
    "  lo, hi, i = 0, len(colors) - 1, 0\n",
    "  while i <= hi:\n",
    "    if colors[i] == 0:\n",
    "      (colors[i], colors[lo]) = (colors[lo], colors[i])\n",
    "      lo += 1\n",
    "    elif colors[i] == 2:\n",
    "      (colors[hi], colors[i]) = (colors[i], colors[hi])\n",
    "      hi -= 1\n",
    "      i -= 1\n",
    "    i += 1\n",
    "#     print('Colors:', colors)\n",
    "#     print('(lo, hi, i):', (lo, hi, i))\n",
    "#     print('^^^^^^^^^^^^^^^^^^^^^^^^^')\n",
    "\n",
    "# quickpartition([0, 1, 2, 1, 0, 2])\n",
    "# code by https://neetcode.io/"
   ]
  },
  {
   "cell_type": "markdown",
   "metadata": {
    "id": "pXUS2D4uLfcJ"
   },
   "source": [
    "### TESTS"
   ]
  },
  {
   "cell_type": "code",
   "execution_count": null,
   "metadata": {
    "colab": {
     "base_uri": "https://localhost:8080/"
    },
    "id": "exquwwEno464",
    "outputId": "aa7f387b-fe3d-4607-8082-9cc19a61ce41"
   },
   "outputs": [
    {
     "name": "stdout",
     "output_type": "stream",
     "text": [
      "Ordered colors from our Quicksort: [0, 0, 1, 1, 2, 2, 2]\n",
      "Ordered colors from our Bucketsort: [0, 0, 1, 1, 2, 2, 2]\n",
      "Ordered colors from our Quickpartition: [0, 0, 1, 1, 2, 2, 2]\n",
      "Ordered colors from Python library sorting: [0, 0, 1, 1, 2, 2, 2]\n",
      "---------------------------------\n",
      "Ordered colors from our Quicksort: [0, 0, 1, 1, 2, 2]\n",
      "Ordered colors from our Bucketsort: [0, 0, 1, 1, 2, 2]\n",
      "Ordered colors from our Quickpartition: [0, 0, 1, 1, 2, 2]\n",
      "Ordered colors from Python library sorting: [0, 0, 1, 1, 2, 2]\n",
      "---------------------------------\n",
      "Ordered colors from our Quicksort: [0, 0, 0, 0, 0, 1, 1, 1, 1, 1, 2, 2, 2, 2, 2]\n",
      "Ordered colors from our Bucketsort: [0, 0, 0, 0, 0, 1, 1, 1, 1, 1, 2, 2, 2, 2, 2]\n",
      "Ordered colors from our Quickpartition: [0, 0, 0, 0, 0, 1, 1, 1, 1, 1, 2, 2, 2, 2, 2]\n",
      "Ordered colors from Python library sorting: [0, 0, 0, 0, 0, 1, 1, 1, 1, 1, 2, 2, 2, 2, 2]\n",
      "---------------------------------\n",
      "Ordered colors from our Quicksort: [0, 1, 2, 4, 5, 6, 7, 8, 9, 11, 11, 12, 12, 13, 14, 15, 15]\n",
      "Ordered colors from our Bucketsort: [0, 1, 2, 7, 0, 1, 2, 8, 9, 15, 11, 12, 11, 12, 13, 14, 15]\n",
      "Ordered colors from our Quickpartition: [0, 5, 6, 7, 4, 1, 15, 8, 9, 15, 11, 12, 11, 12, 13, 14, 2]\n",
      "Ordered colors from Python library sorting: [0, 1, 2, 4, 5, 6, 7, 8, 9, 11, 11, 12, 12, 13, 14, 15, 15]\n",
      "---------------------------------\n"
     ]
    }
   ],
   "source": [
    "# TEST\n",
    "tests = [[1,0,2,2,0,1,2], [0, 1, 2, 1, 0, 2], [0,1,2,0,1,2,0,1,2,0,1,2,0,1,2], [4,5,6,7,0,1,2,8,9,15,11,12,11,12,13,14,15]]\n",
    "for colors in tests:\n",
    "  cols_copy = colors.copy()\n",
    "  quicksort(colors)\n",
    "  print('Ordered colors from our Quicksort:', colors)\n",
    "  colors = cols_copy.copy()\n",
    "  bucketsort(colors)\n",
    "  print('Ordered colors from our Bucketsort:', colors)\n",
    "  colors = cols_copy.copy()\n",
    "  quickpartition(colors)\n",
    "  print('Ordered colors from our Quickpartition:', colors)\n",
    "  colors = cols_copy.copy()\n",
    "  print('Ordered colors from Python library sorting:', sorted(colors))\n",
    "  print('---------------------------------')"
   ]
  },
  {
   "cell_type": "markdown",
   "metadata": {
    "id": "pUh0QjFpy5Yk"
   },
   "source": [
    "### **References**\n",
    "\n",
    "https://guides.codepath.com/compsci/Sorting-colors\n",
    "\n",
    "https://neetcode.io/\n",
    "\n",
    "https://www.geeksforgeeks.org/quick-sort/"
   ]
  }
 ],
 "metadata": {
  "colab": {
   "provenance": []
  },
  "kernelspec": {
   "display_name": "Python 3 (ipykernel)",
   "language": "python",
   "name": "python3"
  },
  "language_info": {
   "codemirror_mode": {
    "name": "ipython",
    "version": 3
   },
   "file_extension": ".py",
   "mimetype": "text/x-python",
   "name": "python",
   "nbconvert_exporter": "python",
   "pygments_lexer": "ipython3",
   "version": "3.13.5"
  }
 },
 "nbformat": 4,
 "nbformat_minor": 4
}
