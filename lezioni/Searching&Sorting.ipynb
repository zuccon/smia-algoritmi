{
  "nbformat": 4,
  "nbformat_minor": 0,
  "metadata": {
    "colab": {
      "provenance": [],
      "collapsed_sections": [
        "4eyAIpnUe8S-",
        "auSE2v7ziOrD",
        "BE7EGzSkujDX",
        "1IPpHpcLVNiA",
        "nJ20PSjNQvos",
        "BrwxfG7Ye1SS"
      ]
    },
    "kernelspec": {
      "name": "python3",
      "display_name": "Python 3"
    },
    "language_info": {
      "name": "python"
    }
  },
  "cells": [
    {
      "cell_type": "markdown",
      "source": [
        "# Tecniche di Programmazione\n",
        "## Searching and Sorting (yet again!)"
      ],
      "metadata": {
        "id": "1N9TQAUTeTIk"
      }
    },
    {
      "cell_type": "markdown",
      "source": [
        "### **Exercise 1. Wiggle Sort**"
      ],
      "metadata": {
        "id": "BE7EGzSkujDX"
      }
    },
    {
      "cell_type": "markdown",
      "source": [
        "**INPUT**\n",
        "\n",
        "We are given an unsorted list `nums` of integers.\n",
        "\n",
        "**OUTPUT**\n",
        "\n",
        "Sort `nums` **in-place** such that `nums[0] <= nums[1] >= nums[2] <= nums[3] ...`. Note that the output list may not be unique and *all* such *wiggle-sorted* lists are valid/admitted.\n",
        "\n",
        "**REQUIREMENT**\n",
        "\n",
        "There is an easy **O(nlog(n))** runtime solution. However, you must solve this problem in **O(n)** runtime and **O(1)** extra space."
      ],
      "metadata": {
        "id": "tr8rEN04yj7G"
      }
    },
    {
      "cell_type": "markdown",
      "source": [
        "### **Solution**"
      ],
      "metadata": {
        "id": "1IPpHpcLVNiA"
      }
    },
    {
      "cell_type": "markdown",
      "source": [
        "**EASY SOLUTION**\n",
        "\n",
        "Note that if the list were sorted, we could simply iterate through the sorted list and swap numbers whenever `nums[i] < nums[i+1]`, starting from 1 and making `i` jump by 2 at a time.\n",
        "\n",
        "We may ask ourselves whether this swap has broken the wiggling in the earlier part of the list. The answer is **no** because we are always going to swap a smaller number larger than a preceding value with a larger number. Transitivity guarantees the invariant.\n",
        "\n",
        "This runs in **nlog(n) + n/2 = O(nlog(n))** time in the worst case.\n",
        "\n",
        "-------------------------\n",
        "\n",
        "**ALGORITHM**\n",
        "\n",
        "Run through the list and swap whenever `nums[i] > nums[i+1]` or `nums[i] < nums[i+1]`, depending on whether `i` is even or odd.\n",
        "\n",
        "We note that, at **odd** indices, the value must be larger than the previous, whilst at **even** indices it should be smaller.\n",
        "\n",
        "Again, this swap has **not** broken the wiggling in the earlier part of the list because we are always going to\n",
        "*   (Odd indices) Swap a larger number smaller than a preceding value with a smaller number;\n",
        "*   (Even indices) Swap a smaller number larger than a preceding value with a larger number.\n",
        "\n",
        "In both cases, transitivity guarantees the invariant.\n",
        "\n",
        "This runs in **n = O(n)** time always."
      ],
      "metadata": {
        "id": "cZliD-2bVPfj"
      }
    },
    {
      "cell_type": "code",
      "source": [
        "def easy_wiggle(nums):\n",
        "  nums = sorted(nums)\n",
        "  for i in range(1, len(nums) - 2, 2):\n",
        "    if nums[i] <= nums[i+1]:\n",
        "      (nums[i], nums[i+1]) = (nums[i+1], nums[i])\n",
        "  return nums # this is not strictly necessary\n",
        "\n",
        "def wiggle(nums):\n",
        "  for i in range(1, len(nums)):\n",
        "    if (i % 2 == 1 and nums[i] < nums[i-1]) or (i % 2 == 0 and nums[i] > nums[i-1]):\n",
        "      (nums[i], nums[i-1]) = (nums[i-1], nums[i])\n",
        "  return nums # this is not strictly necessary"
      ],
      "metadata": {
        "id": "4X3jpZ-tRUMD"
      },
      "execution_count": null,
      "outputs": []
    },
    {
      "cell_type": "code",
      "source": [
        "# TESTS\n",
        "tests = [[3,5,2,1,6,4], [1,5,7,3,2,4,-1,6]]\n",
        "for nums in tests:\n",
        "  print('nums =', nums)\n",
        "  print('Easy Wiggle outputs:', easy_wiggle(nums))\n",
        "  print('Wiggle outputs:', wiggle(nums))\n",
        "  print('---------------------------------')"
      ],
      "metadata": {
        "colab": {
          "base_uri": "https://localhost:8080/"
        },
        "id": "6ru55Q03WmGr",
        "outputId": "0c61416a-5746-4948-e726-62dda655c5c9"
      },
      "execution_count": null,
      "outputs": [
        {
          "output_type": "stream",
          "name": "stdout",
          "text": [
            "nums = [3, 5, 2, 1, 6, 4]\n",
            "Easy Wiggle outputs: [1, 3, 2, 5, 4, 6]\n",
            "Wiggle outputs: [3, 5, 1, 6, 2, 4]\n",
            "---------------------------------\n",
            "nums = [1, 5, 7, 3, 2, 4, -1, 6]\n",
            "Easy Wiggle outputs: [-1, 2, 1, 4, 3, 6, 5, 7]\n",
            "Wiggle outputs: [1, 7, 3, 5, 2, 4, -1, 6]\n",
            "---------------------------------\n"
          ]
        }
      ]
    },
    {
      "cell_type": "markdown",
      "source": [
        "### **Exercise 2. Insert Interval**"
      ],
      "metadata": {
        "id": "4eyAIpnUe8S-"
      }
    },
    {
      "cell_type": "markdown",
      "source": [
        "**INPUT**\n",
        "*   We are given a list `intervals` composed of entries `intervals[i] = [start_i, end_i]`, representing the start and end of the i-th interval.\n",
        "*   The list is sorted in ascending order by `start_i`.\n",
        "*   We are also given an interval `new_interval = [start, end]` that represents the start and end of a new interval.\n",
        "\n",
        "**OUTPUT**\n",
        "\n",
        "Insert `new_interval` into `intervals` such that\n",
        "\n",
        "*   `intervals` is still sorted in ascending order by `start_i`\n",
        "*   `intervals` still does not have any overlapping intervals (**merge overlapping intervals if necessary**).\n",
        "\n",
        "Return `intervals` after the insertion of `new_interval`.\n",
        "\n",
        "**REQUIREMENT**\n",
        "\n",
        "You must solve this problem in **O(n)** runtime and space."
      ],
      "metadata": {
        "id": "KODqEtL5LpBf"
      }
    },
    {
      "cell_type": "markdown",
      "source": [
        "### **Solution**\n",
        "\n",
        "\n",
        "\n"
      ],
      "metadata": {
        "id": "auSE2v7ziOrD"
      }
    },
    {
      "cell_type": "markdown",
      "source": [
        "**INITIALIZATION**\n",
        "\n",
        "Let us initialize the result vector to `res = []`. Below, when we write insert, we mean to appropriately append either `new_interval` or `intervals[i]` to `res`.\n",
        "\n",
        "**TWO EASY CASES**\n",
        "*   If `end < start_1`, insert `new_interval` at the beginning of `intervals`.\n",
        "*   If `start > end_n`, insert `new_interval` at the end of `intervals`.\n",
        "\n",
        "**ALGORITHM**\n",
        "\n",
        "What we showed above for the easy cases is true for all intervals we are iterating through. This means that we have 3 cases for the i-th interval:\n",
        "*   If `end < start_i`, insert `new_interval` before `intervals[i]`, and return the resulting list of intervals so far together with `intervals[i:]`;\n",
        "*   Else if `start > end_i`, insert `new_interval` after `intervals[i]`;\n",
        "*   Else, it means that `new_interval` overlaps with `intervals[i]`, and thus we merge them by taking the minimum of the start times and the maximum of the end times: insert `[min(start, start_i), max(end, end_i)]`.\n",
        "\n",
        "\n",
        "\n",
        "\n",
        "\n",
        "\n",
        "\n",
        "\n"
      ],
      "metadata": {
        "id": "yhM7RLVUoWo7"
      }
    },
    {
      "cell_type": "code",
      "execution_count": null,
      "metadata": {
        "id": "jHTHgVWNePF6"
      },
      "outputs": [],
      "source": [
        "def insert(new_interval, intervals):\n",
        "\tres = []\n",
        "\n",
        "\tfor i in range(len(intervals)):\n",
        "\t\tif new_interval[1] < intervals[i][0]:\n",
        "\t\t\tres.append(new_interval)\n",
        "\t\t\treturn res + intervals[i:]\n",
        "\t\telif new_interval[0] > intervals[i][1]:\n",
        "\t\t\tres.append(intervals[i])\n",
        "\t\telse:\n",
        "\t\t \tnew_interval = [min(new_interval[0], intervals[i][0]), max(new_interval[1], intervals[i][1])]\n",
        "\n",
        "\tres.append(new_interval)\n",
        "\treturn res\n",
        "\n",
        "\t# code inspired by https://www.youtube.com/watch?v=A8NUOmlwOlM&t=69s"
      ]
    },
    {
      "cell_type": "code",
      "source": [
        "# TESTS\n",
        "tests = [[[[1,3],[6,9]], [2,5]], [[[1,2],[3,5],[6,7],[8,10],[12,16]], [4,8]]]\n",
        "for intervals, new_interval in tests:\n",
        "  print('The intervals are:', intervals)\n",
        "  print('The new interval is:', new_interval)\n",
        "  print('The resulting sequence is: ', insert(new_interval, intervals))\n",
        "  print('---------------------------------')"
      ],
      "metadata": {
        "colab": {
          "base_uri": "https://localhost:8080/"
        },
        "id": "aXFbgsXvU_z_",
        "outputId": "74fa0604-e9b7-481d-b72a-16d31fb7d691"
      },
      "execution_count": null,
      "outputs": [
        {
          "output_type": "stream",
          "name": "stdout",
          "text": [
            "The intervals are: [[1, 3], [6, 9]]\n",
            "The new interval is: [2, 5]\n",
            "The resulting sequence is:  [[1, 5], [6, 9]]\n",
            "---------------------------------\n",
            "The intervals are: [[1, 2], [3, 5], [6, 7], [8, 10], [12, 16]]\n",
            "The new interval is: [4, 8]\n",
            "The resulting sequence is:  [[1, 2], [3, 10], [12, 16]]\n",
            "---------------------------------\n"
          ]
        }
      ]
    },
    {
      "cell_type": "markdown",
      "source": [
        "### **Exercise 3. Non-overlapping Intervals**"
      ],
      "metadata": {
        "id": "nJ20PSjNQvos"
      }
    },
    {
      "cell_type": "markdown",
      "source": [
        "**INPUT**\n",
        "We are given a list `intervals` composed of entries `intervals[i] = [start_i, end_i]`, representing the start and end of the i-th interval.\n",
        "\n",
        "**OUTPUT**\n",
        "\n",
        "Return the minimum number of intervals that you need to remove in order to make `intervals` have non-overlapping intervals only.\n",
        "\n",
        "**REQUIREMENT**\n",
        "\n",
        "You must solve this problem in **O(nlog(n))** runtime and **O(1)** extra space."
      ],
      "metadata": {
        "id": "nelxDNwZ5CvV"
      }
    },
    {
      "cell_type": "markdown",
      "source": [
        "### **Solution**"
      ],
      "metadata": {
        "id": "BrwxfG7Ye1SS"
      }
    },
    {
      "cell_type": "markdown",
      "source": [
        "**BRUTE FORCE**\n",
        "\n",
        "Check for each interval whether or not to keep it: this would take **O(2^n)** because there are 2 possibilities for each interval.\n",
        "\n",
        "-----\n",
        "\n",
        "**ALGORITHM**\n",
        "*   Throughout, keep track of the most recent end so far, `prev_end`, and of the number of deleted intervals, `deletes`;\n",
        "*   Sort `intervals` by the start time;\n",
        "*   Iterate through all `start, end` times;\n",
        "*   If `start >= prev_end`, intervals do not overlap, so update the most recent end to be the current one, i.e., `prev_end = end`;\n",
        "*   Else, it means that the intervals do overlap and we should delete the current interval from `intervals`, i.e., `deletes += 1`. Also, update the most recent end to be the least between the current end and the previous most recent one, i.e., `prev_end = min(end, prev_end)`;\n",
        "\n",
        "This runs in **nlog(n) + n = O(nlog(n))** runtime."
      ],
      "metadata": {
        "id": "wnsTn04ee5UQ"
      }
    },
    {
      "cell_type": "code",
      "source": [
        "def no_overlap(intervals):\n",
        "  intervals.sort()\n",
        "\n",
        "  deletes = 0\n",
        "  prev_end = intervals[0][1]\n",
        "\n",
        "  for start, end in intervals[1:]:\n",
        "    if start >= prev_end:\n",
        "      prev_end = end\n",
        "    else:\n",
        "      deletes += 1\n",
        "      prev_end = min(end, prev_end)\n",
        "\n",
        "  return deletes\n",
        "\n",
        "# code by https://www.youtube.com/watch?v=nONCGxWoUfM&t=497s"
      ],
      "metadata": {
        "id": "bksT74sjn0K7"
      },
      "execution_count": null,
      "outputs": []
    },
    {
      "cell_type": "code",
      "source": [
        "# TESTS\n",
        "tests = [[[1,2],[2,3],[3,4],[1,3]], [[1,2],[1,2],[1,2]], [[1,2],[2,3]]]\n",
        "for intervals in tests:\n",
        "  print('The intervals are:', intervals)\n",
        "  print('Non-overlapping intervals:', no_overlap(intervals))\n",
        "  print('---------------------------------')"
      ],
      "metadata": {
        "colab": {
          "base_uri": "https://localhost:8080/"
        },
        "id": "tJu0Aj5xoW0B",
        "outputId": "81dc0c41-abbc-4811-d65e-8d91f6498b38"
      },
      "execution_count": null,
      "outputs": [
        {
          "output_type": "stream",
          "name": "stdout",
          "text": [
            "The intervals are: [[1, 2], [2, 3], [3, 4], [1, 3]]\n",
            "Non-overlapping intervals: 1\n",
            "---------------------------------\n",
            "The intervals are: [[1, 2], [1, 2], [1, 2]]\n",
            "Non-overlapping intervals: 2\n",
            "---------------------------------\n",
            "The intervals are: [[1, 2], [2, 3]]\n",
            "Non-overlapping intervals: 0\n",
            "---------------------------------\n"
          ]
        }
      ]
    },
    {
      "cell_type": "markdown",
      "source": [
        "### **References**\n",
        "\n",
        "https://leetcode.com/problems\n",
        "\n",
        "https://neetcode.io/"
      ],
      "metadata": {
        "id": "pUh0QjFpy5Yk"
      }
    }
  ]
}