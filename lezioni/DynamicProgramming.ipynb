{
  "nbformat": 4,
  "nbformat_minor": 0,
  "metadata": {
    "colab": {
      "provenance": [],
      "collapsed_sections": [
        "4eyAIpnUe8S-",
        "auSE2v7ziOrD",
        "BE7EGzSkujDX",
        "1IPpHpcLVNiA",
        "nJ20PSjNQvos",
        "BrwxfG7Ye1SS"
      ]
    },
    "kernelspec": {
      "name": "python3",
      "display_name": "Python 3"
    },
    "language_info": {
      "name": "python"
    }
  },
  "cells": [
    {
      "cell_type": "markdown",
      "source": [
        "# Tecniche di Programmazione\n",
        "## Dynamic Programming"
      ],
      "metadata": {
        "id": "1N9TQAUTeTIk"
      }
    },
    {
      "cell_type": "markdown",
      "source": [
        "### **Exercise 1. Stock Trading**"
      ],
      "metadata": {
        "id": "4eyAIpnUe8S-"
      }
    },
    {
      "cell_type": "markdown",
      "source": [
        "**INPUT**\n",
        "\n",
        "*   We are given a list `prices` composed of (positive integer) prices of a given stock each day.\n",
        "*   Each day you can either buy **1** share of the stock, sell any number of such shares, or not make any transaction at all.\n",
        "\n",
        "**OUTPUT**\n",
        "\n",
        "The maximum profit achievable.\n",
        "\n",
        "**REQUIREMENT**\n",
        "\n",
        "You must solve this problem in **O(n)** runtime and **O(1)** space."
      ],
      "metadata": {
        "id": "KODqEtL5LpBf"
      }
    },
    {
      "cell_type": "markdown",
      "source": [
        "### **Solution**\n",
        "\n",
        "\n",
        "\n"
      ],
      "metadata": {
        "id": "auSE2v7ziOrD"
      }
    },
    {
      "cell_type": "markdown",
      "source": [
        "**ALGORITHM**\n",
        "\n",
        "We solve the problem by dynamic programming and in particular by the technique of backtracking.\n",
        "\n",
        "We start from the last day, keep track of the maximum price so far `max_p`, initializing it to `max_p = prices[-1]`. We also initialize `profit = 0`.\n",
        "\n",
        "We have 2 cases on each day `i`, going backwards:\n",
        "*   If `max_p <= prices[i-1]`, then you cannot make (positive) profit by buying at time `i-1` and selling at time `i`, so you update `max_p = prices[i-1]`.\n",
        "* Else, you can make profit and you continue until you see a pair of consecutive prices of the form `prices[j-1] >= prices[j]`. In that case, the optimal strategy would have been that of buying 1 share on each day from `j` till `i-1` and sell everything at time `i`. This is equivalent to first updating `profit += (i-j)*prices[i] - (prices[i-1] + ... + prices[j])`, and second updating `max_p = prices[j-1]`.\n",
        "\n",
        "\n",
        "\n",
        "\n",
        "\n",
        "\n",
        "\n",
        "\n"
      ],
      "metadata": {
        "id": "yhM7RLVUoWo7"
      }
    },
    {
      "cell_type": "code",
      "execution_count": null,
      "metadata": {
        "id": "jHTHgVWNePF6"
      },
      "outputs": [],
      "source": [
        "def max_profit(prices):\n",
        "\tmax_p = 0\n",
        "\tprofit = 0\n",
        "\n",
        "\tfor i in reversed(range(0, len(prices))):\n",
        "\t\t\tif max_p < prices[i]:\n",
        "\t\t\t\t\tmax_p = prices[i]\n",
        "\t\t\tprofit += max_p - prices[i]\n",
        "\n",
        "\treturn profit"
      ]
    },
    {
      "cell_type": "code",
      "source": [
        "# TESTS\n",
        "tests = [[5, 3, 2], [1, 2, 100], [1, 3, 1, 2]]\n",
        "for prices in tests:\n",
        "  print('Stock prices:', prices)\n",
        "  print('Maximum profit:', max_profit(prices))\n",
        "  print('---------------------------------')"
      ],
      "metadata": {
        "colab": {
          "base_uri": "https://localhost:8080/"
        },
        "id": "aXFbgsXvU_z_",
        "outputId": "833e8008-f271-46d2-e57a-358b558e3a27"
      },
      "execution_count": null,
      "outputs": [
        {
          "output_type": "stream",
          "name": "stdout",
          "text": [
            "Stock prices: [5, 3, 2]\n",
            "Maximum profit: 0\n",
            "---------------------------------\n",
            "Stock prices: [1, 2, 100]\n",
            "Maximum profit: 197\n",
            "---------------------------------\n",
            "Stock prices: [1, 3, 1, 2]\n",
            "Maximum profit: 3\n",
            "---------------------------------\n"
          ]
        }
      ]
    },
    {
      "cell_type": "markdown",
      "source": [
        "### **Exercise 2. House Robbing**"
      ],
      "metadata": {
        "id": "BE7EGzSkujDX"
      }
    },
    {
      "cell_type": "markdown",
      "source": [
        "**INPUT**\n",
        "\n",
        "We are given a list `a` of integers representing how much money is stashed in each house.\n",
        "\n",
        "For each of the following versions the task is to determine how much money overall you can rob from the houses while not violating the constraints.\n",
        "\n",
        "- Version 1: n houses are along the street, each with an amount of stashed money, and you cannot rob two adjacent ones.\n",
        "- Version 2: n houses are along a circle, each with an amount of stashed money, and you cannot rob two adjacent ones.\n",
        "- Version 3: n houses are placed in a binary tree, each with an amount of stashed money, and you cannot rob a parent and a child simultaneously.\n",
        "\n",
        "**OUTPUT**\n",
        "\n",
        "Return the maximum amount of money you can rob.\n",
        "\n",
        "**REQUIREMENT**\n",
        "\n",
        "You must solve this problem in **O(n)** runtime and **O(1)** space when possible."
      ],
      "metadata": {
        "id": "tr8rEN04yj7G"
      }
    },
    {
      "cell_type": "markdown",
      "source": [
        "### **Solution**"
      ],
      "metadata": {
        "id": "1IPpHpcLVNiA"
      }
    },
    {
      "cell_type": "markdown",
      "source": [
        "**ALGORITHM**\n",
        "\n",
        "- Version 1: We use Dynamic Programming with the following table, where y/x (yes/no) represent whether or not we have decided to rob the house.\n",
        "             --> DP[0][y] = a[0], DP[0][x] = 0\n",
        "             --> DP[1][y] = a[1], DP[1][x] = a[0]\n",
        "             --> DP[i][y] = a[i] + DP[i - 1][x], DP[i][x] = DP[i - 1][y]\n",
        "We notice that we only need to store the preceeding DP values only, hence we only keep track of those.\n",
        "\n",
        "- Version 2: We use Version 1 but checking whether the subarray excluding the first house or the one excluding the last house gives higher reward.        This is because first and last house are adjacent and cannot be robbed simultaneously. We also need to account for the case where there is a single house, in which case we return its value.\n",
        "\n",
        "- Version 3: We again use Dynamic Programming: the base case is at leaves, where DP[leaf] = a[leaf].\n",
        "             --> For a parent v with children l and r, we have pair (DP[v][y], DP[v][x]) representing the maximum value the burglar can rob in the subtree\n",
        "                 rooted at v if he robbed v or not.\n",
        "             --> Hence, DP[v][y] = a[v] + DP[l][x] + DP[r][x], while DP[v][x] = DP[l][y] + DP[r][y].\n",
        "             --> We return max(DP[root][y], DP[root][x])."
      ],
      "metadata": {
        "id": "cZliD-2bVPfj"
      }
    },
    {
      "cell_type": "code",
      "source": [
        "def house_robbing(a):\n",
        "  rob_y, rob_x, dp = a[0], 0, 0\n",
        "  for i in range(1, len(a)):\n",
        "    dp = max(a[i] + rob_x, rob_y)\n",
        "    rob_x = rob_y\n",
        "    rob_y = dp\n",
        "  return dp\n",
        "\n",
        "def house_robbing_cycle(a):\n",
        "  return max(a[0], house_robbing(a[1:]), house_robbing(a[:-1]))\n",
        "\n",
        "# def house_robbing_btree(a): # not implemented because when a represented as array all the indices of parents and children have to be recognized"
      ],
      "metadata": {
        "id": "4X3jpZ-tRUMD"
      },
      "execution_count": null,
      "outputs": []
    },
    {
      "cell_type": "code",
      "source": [
        "# TESTS\n",
        "tests = [[2,3,2], [1,2,3,1], [2,7,9,3,1]]\n",
        "for a in tests:\n",
        "  print('Money:', a)\n",
        "  print('In a path graph, you can rob $', house_robbing(a))\n",
        "  print('In a cycle graph, you can rob $', house_robbing_cycle(a))\n",
        "  print('---------------------------------')"
      ],
      "metadata": {
        "colab": {
          "base_uri": "https://localhost:8080/"
        },
        "id": "6ru55Q03WmGr",
        "outputId": "44231d87-a44f-4526-8865-c3b9e626cdbf"
      },
      "execution_count": null,
      "outputs": [
        {
          "output_type": "stream",
          "name": "stdout",
          "text": [
            "Money: [2, 3, 2]\n",
            "In a path graph, you can rob $ 4\n",
            "In a cycle graph, you can rob $ 3\n",
            "---------------------------------\n",
            "Money: [1, 2, 3, 1]\n",
            "In a path graph, you can rob $ 4\n",
            "In a cycle graph, you can rob $ 4\n",
            "---------------------------------\n",
            "Money: [2, 7, 9, 3, 1]\n",
            "In a path graph, you can rob $ 12\n",
            "In a cycle graph, you can rob $ 11\n",
            "---------------------------------\n"
          ]
        }
      ]
    },
    {
      "cell_type": "markdown",
      "source": [
        "### **References**\n",
        "\n",
        "https://www.hackerrank.com/challenges\n",
        "\n",
        "https://leetcode.com/problems\n",
        "\n",
        "https://neetcode.io/"
      ],
      "metadata": {
        "id": "pUh0QjFpy5Yk"
      }
    }
  ]
}