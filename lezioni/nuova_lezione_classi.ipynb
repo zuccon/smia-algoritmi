{
 "cells": [
  {
   "cell_type": "markdown",
   "metadata": {},
   "source": [
    "**Astrazione**: Ci aiuta a porre l'attenzione solo sugli aspetti essenziali e ad ignorare tutti i dettagli meno importanti per la modellazione.\n",
    "\n",
    "\n",
    "**Incapsulamento**: E' un principio per cui una classe nasconde il suo funzionamento interno al di fuori di essa. Dunque, solo alcuni dei suoi attribute e metodi possono essere acceduti dall'esterno.\n",
    "\n",
    "**Eredità**: Consente di creare nuovi classi sulla base di altre classi già esistenti, con le quali esiste una certa relazione. Questa aiuta la modularità del codice e la sua mantenibilità.\n",
    "\n",
    "**Polimorfismo**: Principio per cui una stessa funzionalità (metodo) viene presentata da classi differenti, mantenendo lo stesso nome."
   ]
  },
  {
   "cell_type": "code",
   "execution_count": 260,
   "metadata": {
    "executionInfo": {
     "elapsed": 6,
     "status": "ok",
     "timestamp": 1711475550781,
     "user": {
      "displayName": "Florin Cuconasu",
      "userId": "03020322964199448520"
     },
     "user_tz": -60
    },
    "id": "ESYDyZ22gRF8"
   },
   "outputs": [],
   "source": [
    "class Person:\n",
    "    # Costruttore\n",
    "    def __init__(self, name, age, address):\n",
    "        self.name = name\n",
    "        self.age = age\n",
    "        self.address = address\n",
    "\n",
    "    def introduce_yourself(self):\n",
    "        print(f\"Hello, my name is {self.name} and I'm {self.age} years old.\")\n",
    "\n",
    "    def change_address(self, new_adress):\n",
    "        self.address = new_adress\n",
    "\n",
    "    def __str__(self):  # funzione chiamata da print\n",
    "        return f\"{self.name} {self.age} {self.address}\""
   ]
  },
  {
   "cell_type": "code",
   "execution_count": 261,
   "metadata": {
    "executionInfo": {
     "elapsed": 2,
     "status": "ok",
     "timestamp": 1711475598320,
     "user": {
      "displayName": "Florin Cuconasu",
      "userId": "03020322964199448520"
     },
     "user_tz": -60
    },
    "id": "3DHra8YshWFB"
   },
   "outputs": [],
   "source": [
    "p = Person(\"Leo\", 20, \"via Ariosto 25\")"
   ]
  },
  {
   "cell_type": "code",
   "execution_count": 262,
   "metadata": {
    "colab": {
     "base_uri": "https://localhost:8080/"
    },
    "executionInfo": {
     "elapsed": 7,
     "status": "ok",
     "timestamp": 1711475647967,
     "user": {
      "displayName": "Florin Cuconasu",
      "userId": "03020322964199448520"
     },
     "user_tz": -60
    },
    "id": "YuLsHnt25dYu",
    "outputId": "ec8c672e-e518-493d-8284-28860125c3ae"
   },
   "outputs": [
    {
     "name": "stdout",
     "output_type": "stream",
     "text": [
      "Leo 20 via Ariosto 25\n"
     ]
    }
   ],
   "source": [
    "# Quando si esegue una print, viene chiamato il metodo __str__\n",
    "print(p)"
   ]
  },
  {
   "cell_type": "code",
   "execution_count": 263,
   "metadata": {
    "colab": {
     "base_uri": "https://localhost:8080/"
    },
    "executionInfo": {
     "elapsed": 244,
     "status": "ok",
     "timestamp": 1711475674283,
     "user": {
      "displayName": "Florin Cuconasu",
      "userId": "03020322964199448520"
     },
     "user_tz": -60
    },
    "id": "mqJzjwD7hf1f",
    "outputId": "51ab5885-49f9-4f32-dd1d-76c4ed1753eb"
   },
   "outputs": [
    {
     "name": "stdout",
     "output_type": "stream",
     "text": [
      "Hello, my name is Leo and I'm 20 years old.\n"
     ]
    }
   ],
   "source": [
    "p.introduce_yourself()"
   ]
  },
  {
   "cell_type": "code",
   "execution_count": 264,
   "metadata": {},
   "outputs": [],
   "source": [
    "p.change_address(\"via Leopardi 10\")"
   ]
  },
  {
   "cell_type": "code",
   "execution_count": 265,
   "metadata": {},
   "outputs": [
    {
     "name": "stdout",
     "output_type": "stream",
     "text": [
      "Leo 20 via Leopardi 10\n"
     ]
    }
   ],
   "source": [
    "print(p)"
   ]
  },
  {
   "cell_type": "markdown",
   "metadata": {
    "id": "2nOn6oKb5qjg"
   },
   "source": [
    "`__dict__` è un altro metodo speciale che ritorna, in forma di dizionario, tutti gli attributi di una classe."
   ]
  },
  {
   "cell_type": "code",
   "execution_count": 266,
   "metadata": {
    "colab": {
     "base_uri": "https://localhost:8080/"
    },
    "executionInfo": {
     "elapsed": 298,
     "status": "ok",
     "timestamp": 1711475754319,
     "user": {
      "displayName": "Florin Cuconasu",
      "userId": "03020322964199448520"
     },
     "user_tz": -60
    },
    "id": "cIyTMLZaiQvM",
    "outputId": "02d64fcf-4aab-496f-9e9d-8fae157cfff6"
   },
   "outputs": [
    {
     "data": {
      "text/plain": [
       "{'name': 'Leo', 'age': 20, 'address': 'via Leopardi 10'}"
      ]
     },
     "execution_count": 266,
     "metadata": {},
     "output_type": "execute_result"
    }
   ],
   "source": [
    "p.__dict__"
   ]
  },
  {
   "cell_type": "markdown",
   "metadata": {
    "id": "jL14IE4X57xv"
   },
   "source": [
    "### Eredità"
   ]
  },
  {
   "cell_type": "markdown",
   "metadata": {
    "id": "QNbXDhwb6GsT"
   },
   "source": [
    "Tutti gli attributi e metodi della classe padre (`Person`) vengono \"ereditati\" dalla sottoclasse (`Student`)."
   ]
  },
  {
   "cell_type": "code",
   "execution_count": 267,
   "metadata": {
    "executionInfo": {
     "elapsed": 3,
     "status": "ok",
     "timestamp": 1711475805941,
     "user": {
      "displayName": "Florin Cuconasu",
      "userId": "03020322964199448520"
     },
     "user_tz": -60
    },
    "id": "lkmgYeCri0j4"
   },
   "outputs": [],
   "source": [
    "class Student(Person):\n",
    "    def __init__(self, name, age, address, matricola, degree_program):\n",
    "        super().__init__(name, age, address)\n",
    "        self.matricola = matricola\n",
    "        self.degree_program = degree_program\n",
    "\n",
    "    # override - polimorfismo\n",
    "    def introduce_yourself(self):\n",
    "        super().introduce_yourself()\n",
    "        print(f\"I study {self.degree_program}\")"
   ]
  },
  {
   "cell_type": "code",
   "execution_count": 268,
   "metadata": {
    "colab": {
     "base_uri": "https://localhost:8080/"
    },
    "executionInfo": {
     "elapsed": 252,
     "status": "ok",
     "timestamp": 1711475807709,
     "user": {
      "displayName": "Florin Cuconasu",
      "userId": "03020322964199448520"
     },
     "user_tz": -60
    },
    "id": "M27epvcHjXDm",
    "outputId": "207781a8-3200-4c37-d4a8-82bdd0d9b631"
   },
   "outputs": [
    {
     "name": "stdout",
     "output_type": "stream",
     "text": [
      "Hello, my name is Paolo and I'm 15 years old.\n",
      "I study Scienze matematiche per l'intelligenza artificiale\n"
     ]
    }
   ],
   "source": [
    "s = Student(\"Paolo\", \"15\", \"Via ariosto 25\", \"1848\", \"Scienze matematiche per l'intelligenza artificiale\")\n",
    "s.introduce_yourself()"
   ]
  },
  {
   "cell_type": "markdown",
   "metadata": {
    "id": "1xjRBbIVmaYt"
   },
   "source": [
    "### Aggiungere alla classe `Student` un attributo che rappresenta la lista degli esami passati dallo studente. Ogni esame deve includere il nome dell'esame passato ed il voto. Inoltre, aggiungere tre metodi alla classe: uno per inserire un nuovo esame; il secondo per stampare tutti gli esami passati dallo studente; il terzo per la stampare la media degli esami."
   ]
  },
  {
   "cell_type": "markdown",
   "metadata": {
    "id": "EJQ_7LR-6Wl7"
   },
   "source": [
    "#### **Primo approccio**: rappresentare l'esame come una tupla"
   ]
  },
  {
   "cell_type": "code",
   "execution_count": 269,
   "metadata": {
    "executionInfo": {
     "elapsed": 4,
     "status": "ok",
     "timestamp": 1711475900841,
     "user": {
      "displayName": "Florin Cuconasu",
      "userId": "03020322964199448520"
     },
     "user_tz": -60
    },
    "id": "N8Hza62BmZX9"
   },
   "outputs": [],
   "source": [
    "class Student(Person):\n",
    "    def __init__(self, name, age, address, matricola, degree_program, exams=[]):\n",
    "        super().__init__(name, age, address)\n",
    "        self.matricola = matricola\n",
    "        self.degree_program = degree_program\n",
    "\n",
    "        # Lista di tuple (nome_esame, voto)\n",
    "        self.exams = exams\n",
    "\n",
    "    # override\n",
    "    def introduce_yourself(self):\n",
    "        super().introduce_yourself()\n",
    "        print(f\"I study {self.degree_program}\")\n",
    "\n",
    "    def add_exam(self, exam_name, mark):\n",
    "        self.exams.append((exam_name, mark))\n",
    "\n",
    "    def print_exams(self):\n",
    "        print(\"I've passed the following exams:\")\n",
    "        for name, mark in self.exams:\n",
    "            print(f\"Exam: {name}, Mark: {mark}\")\n",
    "\n",
    "    def compute_mean(self):\n",
    "        return sum([mark for _, mark in self.exams]) / len(self.exams)\n"
   ]
  },
  {
   "cell_type": "code",
   "execution_count": 270,
   "metadata": {
    "executionInfo": {
     "elapsed": 271,
     "status": "ok",
     "timestamp": 1711475902310,
     "user": {
      "displayName": "Florin Cuconasu",
      "userId": "03020322964199448520"
     },
     "user_tz": -60
    },
    "id": "FduEVbJRoUMK"
   },
   "outputs": [],
   "source": [
    "s = Student(\"Florin\", \"25\", \"via Ariosto\", \"1848\", \"Scienze matematiche per l'intelligenza artificiale\")"
   ]
  },
  {
   "cell_type": "code",
   "execution_count": 271,
   "metadata": {
    "executionInfo": {
     "elapsed": 264,
     "status": "ok",
     "timestamp": 1711475903926,
     "user": {
      "displayName": "Florin Cuconasu",
      "userId": "03020322964199448520"
     },
     "user_tz": -60
    },
    "id": "UWWCuuXYoqG-"
   },
   "outputs": [],
   "source": [
    "s.add_exam(\"Tecniche di Programmazione\", 30)"
   ]
  },
  {
   "cell_type": "code",
   "execution_count": 272,
   "metadata": {
    "executionInfo": {
     "elapsed": 15,
     "status": "ok",
     "timestamp": 1711475914769,
     "user": {
      "displayName": "Florin Cuconasu",
      "userId": "03020322964199448520"
     },
     "user_tz": -60
    },
    "id": "rcIfd0dpo0bg"
   },
   "outputs": [],
   "source": [
    "s.add_exam(\"Analisi I\", 27)"
   ]
  },
  {
   "cell_type": "code",
   "execution_count": 273,
   "metadata": {
    "colab": {
     "base_uri": "https://localhost:8080/"
    },
    "executionInfo": {
     "elapsed": 14,
     "status": "ok",
     "timestamp": 1711475914769,
     "user": {
      "displayName": "Florin Cuconasu",
      "userId": "03020322964199448520"
     },
     "user_tz": -60
    },
    "id": "11gdZTU_oXmW",
    "outputId": "2788c1fa-65a4-489b-a6a5-476fb8ba3a4e"
   },
   "outputs": [
    {
     "name": "stdout",
     "output_type": "stream",
     "text": [
      "I've passed the following exams:\n",
      "Exam: Tecniche di Programmazione, Mark: 30\n",
      "Exam: Analisi I, Mark: 27\n"
     ]
    }
   ],
   "source": [
    "s.print_exams()"
   ]
  },
  {
   "cell_type": "code",
   "execution_count": 274,
   "metadata": {},
   "outputs": [
    {
     "name": "stdout",
     "output_type": "stream",
     "text": [
      "La mia media è 28.5\n"
     ]
    }
   ],
   "source": [
    "print(f\"La mia media è {s.compute_mean()}\")"
   ]
  },
  {
   "cell_type": "markdown",
   "metadata": {
    "id": "o4hYSggDrThR"
   },
   "source": [
    "#### **Secondo approccio**: rappresentare l'esame come una classe"
   ]
  },
  {
   "cell_type": "code",
   "execution_count": 275,
   "metadata": {
    "executionInfo": {
     "elapsed": 2,
     "status": "ok",
     "timestamp": 1711476044261,
     "user": {
      "displayName": "Florin Cuconasu",
      "userId": "03020322964199448520"
     },
     "user_tz": -60
    },
    "id": "TIMWSpBCrCQX"
   },
   "outputs": [],
   "source": [
    "class Exam:\n",
    "    def __init__(self, name, mark):\n",
    "        self.name = name\n",
    "        self.mark = mark\n",
    "\n",
    "    def get_mark(self):\n",
    "        return self.mark\n",
    "\n",
    "    def __str__(self):\n",
    "        return f\"Exam: {self.name}, Mark: {self.mark}\""
   ]
  },
  {
   "cell_type": "code",
   "execution_count": 276,
   "metadata": {
    "executionInfo": {
     "elapsed": 258,
     "status": "ok",
     "timestamp": 1711476045726,
     "user": {
      "displayName": "Florin Cuconasu",
      "userId": "03020322964199448520"
     },
     "user_tz": -60
    },
    "id": "ISYhCzb8r5jv"
   },
   "outputs": [],
   "source": [
    "e = Exam(\"Tecniche di Programmazione\", 30)"
   ]
  },
  {
   "cell_type": "code",
   "execution_count": 277,
   "metadata": {
    "colab": {
     "base_uri": "https://localhost:8080/"
    },
    "executionInfo": {
     "elapsed": 380,
     "status": "ok",
     "timestamp": 1711476046480,
     "user": {
      "displayName": "Florin Cuconasu",
      "userId": "03020322964199448520"
     },
     "user_tz": -60
    },
    "id": "ZerlDKqxr6XF",
    "outputId": "1a94a5da-4cfd-4599-a996-973b1e3a1e76"
   },
   "outputs": [
    {
     "name": "stdout",
     "output_type": "stream",
     "text": [
      "Exam: Tecniche di Programmazione, Mark: 30\n"
     ]
    }
   ],
   "source": [
    "print(e)"
   ]
  },
  {
   "cell_type": "code",
   "execution_count": 293,
   "metadata": {
    "executionInfo": {
     "elapsed": 252,
     "status": "ok",
     "timestamp": 1711476055360,
     "user": {
      "displayName": "Florin Cuconasu",
      "userId": "03020322964199448520"
     },
     "user_tz": -60
    },
    "id": "RbO3S5ryrRgh"
   },
   "outputs": [],
   "source": [
    "class Student(Person):\n",
    "    def __init__(self, name, age, address, matricola, degree_program, exams=[]):\n",
    "        super().__init__(name, age, address)\n",
    "        self.matricola = matricola\n",
    "        self.degree_program = degree_program\n",
    "\n",
    "        # Lista di oggetti Exam\n",
    "        self.exams = exams\n",
    "\n",
    "    # override\n",
    "    def introduce_yourself(self):\n",
    "        super().introduce_yourself()\n",
    "        print(f\"I study {self.degree_program}\")\n",
    "\n",
    "    # In questo caso si passa direttamente l'oggetto Esame\n",
    "    def add_exam(self, exam: Exam):\n",
    "        self.exams.append(exam)\n",
    "\n",
    "    def print_exams(self):\n",
    "        print(\"I've passed the following exams:\")\n",
    "        for exam in self.exams:\n",
    "            # print(f\"Exam: {name}, Mark: {mark}\")\n",
    "            print(exam)\n",
    "\n",
    "    def compute_mean(self):\n",
    "        return sum([exam.get_mark() for exam in self.exams]) / len(self.exams)\n",
    "        exam.mark\n"
   ]
  },
  {
   "cell_type": "code",
   "execution_count": 294,
   "metadata": {
    "executionInfo": {
     "elapsed": 2,
     "status": "ok",
     "timestamp": 1711476056825,
     "user": {
      "displayName": "Florin Cuconasu",
      "userId": "03020322964199448520"
     },
     "user_tz": -60
    },
    "id": "exyISiXGrg-h"
   },
   "outputs": [],
   "source": [
    "s = Student(\"Alberta\", \"23\", \"via Ariosto\", \"2428\", \"Scienze matematiche per l'intelligenza artificiale\")"
   ]
  },
  {
   "cell_type": "code",
   "execution_count": 295,
   "metadata": {
    "executionInfo": {
     "elapsed": 2,
     "status": "ok",
     "timestamp": 1711476057080,
     "user": {
      "displayName": "Florin Cuconasu",
      "userId": "03020322964199448520"
     },
     "user_tz": -60
    },
    "id": "mxrPD16MP2Gg"
   },
   "outputs": [],
   "source": [
    "e = Exam(\"Tecniche di Programmazione\", 30)"
   ]
  },
  {
   "cell_type": "code",
   "execution_count": 296,
   "metadata": {
    "executionInfo": {
     "elapsed": 2,
     "status": "ok",
     "timestamp": 1711476058320,
     "user": {
      "displayName": "Florin Cuconasu",
      "userId": "03020322964199448520"
     },
     "user_tz": -60
    },
    "id": "nxdA0KqSReja"
   },
   "outputs": [],
   "source": [
    "s.add_exam(e)"
   ]
  },
  {
   "cell_type": "code",
   "execution_count": 297,
   "metadata": {
    "colab": {
     "base_uri": "https://localhost:8080/"
    },
    "executionInfo": {
     "elapsed": 5,
     "status": "ok",
     "timestamp": 1711476059093,
     "user": {
      "displayName": "Florin Cuconasu",
      "userId": "03020322964199448520"
     },
     "user_tz": -60
    },
    "id": "ocSI8Gs4rkfg",
    "outputId": "8074384a-9f16-4eae-a365-7e37203d19e1"
   },
   "outputs": [
    {
     "name": "stdout",
     "output_type": "stream",
     "text": [
      "I've passed the following exams:\n",
      "Exam: Tecniche di Programmazione, Mark: 30\n"
     ]
    }
   ],
   "source": [
    "s.print_exams()"
   ]
  },
  {
   "cell_type": "code",
   "execution_count": 298,
   "metadata": {},
   "outputs": [
    {
     "name": "stdout",
     "output_type": "stream",
     "text": [
      "La mia media è 30.0\n"
     ]
    }
   ],
   "source": [
    "print(f\"La mia media è {s.compute_mean()}\")"
   ]
  },
  {
   "cell_type": "markdown",
   "metadata": {
    "id": "esNooF6ckslW"
   },
   "source": [
    "### Definire una class Python che rappresenta uno studente laureato (`GraduateStudent`). Tra i suoi attributi ci devono essere la data di laurea ed il titolo della tesi"
   ]
  },
  {
   "cell_type": "code",
   "execution_count": null,
   "metadata": {},
   "outputs": [],
   "source": []
  },
  {
   "cell_type": "code",
   "execution_count": null,
   "metadata": {},
   "outputs": [],
   "source": []
  },
  {
   "cell_type": "code",
   "execution_count": 328,
   "metadata": {
    "executionInfo": {
     "elapsed": 238,
     "status": "ok",
     "timestamp": 1711476125759,
     "user": {
      "displayName": "Florin Cuconasu",
      "userId": "03020322964199448520"
     },
     "user_tz": -60
    },
    "id": "ktAcV1B5tL_T"
   },
   "outputs": [],
   "source": [
    "class Person:\n",
    "    def __init__(self, name, age, address):\n",
    "        # Due underscore davanti al nome dell'attibuto indicano che\n",
    "        # l'attribute deve essere 'privato'\n",
    "        self.__name = name\n",
    "        self.__age = age\n",
    "        self.address = address\n",
    "\n",
    "    @property # Read-only\n",
    "    def name(self):\n",
    "        print(\"Ciao, questo è il mio nome\")\n",
    "        return self.__name\n",
    "\n",
    "    @property\n",
    "    def age(self):\n",
    "        return self.__age\n",
    "\n",
    "    @age.setter\n",
    "    def age(self, new_age):\n",
    "        print(\"My preceding age: \", self.__age)\n",
    "        assert new_age > 0, \"The age cannot be negative!\"\n",
    "        self.__age = new_age\n",
    "\n",
    "\n",
    "    def introduce_yourself(self):\n",
    "        print(f\"Hello, my name is {self.name} and I'm {self.age} years old.\")\n",
    "\n",
    "    def __str__(self):\n",
    "        return f\"{self.name} {self.age} {self.address}\""
   ]
  },
  {
   "cell_type": "code",
   "execution_count": 332,
   "metadata": {
    "colab": {
     "base_uri": "https://localhost:8080/"
    },
    "executionInfo": {
     "elapsed": 243,
     "status": "ok",
     "timestamp": 1711476127380,
     "user": {
      "displayName": "Florin Cuconasu",
      "userId": "03020322964199448520"
     },
     "user_tz": -60
    },
    "id": "ZeCRWqWntfKQ",
    "outputId": "b7c5f697-2925-4da8-81ae-c38f8e3b3874"
   },
   "outputs": [
    {
     "name": "stdout",
     "output_type": "stream",
     "text": [
      "Ciao, questo è il mio nome\n",
      "Alice 24 via Ariosto 25\n"
     ]
    }
   ],
   "source": [
    "p = Person(\"Alice\", 24, \"via Ariosto 25\")\n",
    "print(p)"
   ]
  },
  {
   "cell_type": "code",
   "execution_count": 330,
   "metadata": {},
   "outputs": [
    {
     "name": "stdout",
     "output_type": "stream",
     "text": [
      "Ciao, questo è il mio nome\n"
     ]
    },
    {
     "data": {
      "text/plain": [
       "'Alice'"
      ]
     },
     "execution_count": 330,
     "metadata": {},
     "output_type": "execute_result"
    }
   ],
   "source": [
    "p.name"
   ]
  },
  {
   "cell_type": "code",
   "execution_count": 331,
   "metadata": {},
   "outputs": [
    {
     "data": {
      "text/plain": [
       "24"
      ]
     },
     "execution_count": 331,
     "metadata": {},
     "output_type": "execute_result"
    }
   ],
   "source": [
    "p.age"
   ]
  },
  {
   "cell_type": "code",
   "execution_count": 307,
   "metadata": {
    "colab": {
     "base_uri": "https://localhost:8080/"
    },
    "executionInfo": {
     "elapsed": 242,
     "status": "ok",
     "timestamp": 1711476132109,
     "user": {
      "displayName": "Florin Cuconasu",
      "userId": "03020322964199448520"
     },
     "user_tz": -60
    },
    "id": "qD5P4lgxukPz",
    "outputId": "7c2c5738-1049-4202-dbf2-7090e113fd35"
   },
   "outputs": [
    {
     "name": "stdout",
     "output_type": "stream",
     "text": [
      "My preceding age:  24\n"
     ]
    }
   ],
   "source": [
    "p.age = 10"
   ]
  },
  {
   "cell_type": "code",
   "execution_count": 308,
   "metadata": {
    "colab": {
     "base_uri": "https://localhost:8080/",
     "height": 280
    },
    "executionInfo": {
     "elapsed": 13,
     "status": "error",
     "timestamp": 1711476145912,
     "user": {
      "displayName": "Florin Cuconasu",
      "userId": "03020322964199448520"
     },
     "user_tz": -60
    },
    "id": "f8TUhSvv7VO3",
    "outputId": "aad0ce72-ceb0-4d56-bcc5-5ac0588f8e7a"
   },
   "outputs": [
    {
     "name": "stdout",
     "output_type": "stream",
     "text": [
      "My preceding age:  10\n"
     ]
    },
    {
     "ename": "AssertionError",
     "evalue": "The age cannot be negative!",
     "output_type": "error",
     "traceback": [
      "\u001b[31m---------------------------------------------------------------------------\u001b[39m",
      "\u001b[31mAssertionError\u001b[39m                            Traceback (most recent call last)",
      "\u001b[36mCell\u001b[39m\u001b[36m \u001b[39m\u001b[32mIn[308]\u001b[39m\u001b[32m, line 1\u001b[39m\n\u001b[32m----> \u001b[39m\u001b[32m1\u001b[39m \u001b[43mp\u001b[49m\u001b[43m.\u001b[49m\u001b[43mage\u001b[49m = -\u001b[32m2\u001b[39m\n",
      "\u001b[36mCell\u001b[39m\u001b[36m \u001b[39m\u001b[32mIn[301]\u001b[39m\u001b[32m, line 21\u001b[39m, in \u001b[36mPerson.age\u001b[39m\u001b[34m(self, new_age)\u001b[39m\n\u001b[32m     18\u001b[39m \u001b[38;5;129m@age\u001b[39m.setter\n\u001b[32m     19\u001b[39m \u001b[38;5;28;01mdef\u001b[39;00m\u001b[38;5;250m \u001b[39m\u001b[34mage\u001b[39m(\u001b[38;5;28mself\u001b[39m, new_age):\n\u001b[32m     20\u001b[39m     \u001b[38;5;28mprint\u001b[39m(\u001b[33m\"\u001b[39m\u001b[33mMy preceding age: \u001b[39m\u001b[33m\"\u001b[39m, \u001b[38;5;28mself\u001b[39m.__age)\n\u001b[32m---> \u001b[39m\u001b[32m21\u001b[39m     \u001b[38;5;28;01massert\u001b[39;00m new_age > \u001b[32m0\u001b[39m, \u001b[33m\"\u001b[39m\u001b[33mThe age cannot be negative!\u001b[39m\u001b[33m\"\u001b[39m\n\u001b[32m     22\u001b[39m     \u001b[38;5;28mself\u001b[39m.__age = new_age\n",
      "\u001b[31mAssertionError\u001b[39m: The age cannot be negative!"
     ]
    }
   ],
   "source": [
    "p.age = -2"
   ]
  },
  {
   "cell_type": "markdown",
   "metadata": {
    "id": "a-hPp7lv7OjQ"
   },
   "source": [
    "### Classmethod\n",
    "\n",
    "Un metodo di classe (`classmethod`) è un metodo che è legato alla classe in qualche modo, ma non richiede la crezione di un oggetto per essere utilizzato.\n",
    "\n",
    "Utilizzo:\n",
    "```\n",
    "Class.classmethod()\n",
    "```"
   ]
  },
  {
   "cell_type": "code",
   "execution_count": 314,
   "metadata": {
    "executionInfo": {
     "elapsed": 2,
     "status": "ok",
     "timestamp": 1711476225703,
     "user": {
      "displayName": "Florin Cuconasu",
      "userId": "03020322964199448520"
     },
     "user_tz": -60
    },
    "id": "h9LAP3mc7YDG"
   },
   "outputs": [],
   "source": [
    "class Student(Person):\n",
    "    # Attributo di classe comune a tutte le istanze di 'Student'\n",
    "    university_name = \"Sapienza\"\n",
    "\n",
    "    def __init__(self, name, age, address, matricola, degree_program):\n",
    "        super().__init__(name, age, address)\n",
    "        self.matricola = matricola\n",
    "        self.degree_program = degree_program\n",
    "\n",
    "    def introduce_yourself(self):\n",
    "        super().introduce_yourself()\n",
    "        print(f\"I study {self.degree_program}\")\n",
    "\n",
    "    @classmethod\n",
    "    def change_university(cls, new_uni):\n",
    "        cls.university_name = new_uni"
   ]
  },
  {
   "cell_type": "code",
   "execution_count": 315,
   "metadata": {
    "colab": {
     "base_uri": "https://localhost:8080/"
    },
    "executionInfo": {
     "elapsed": 372,
     "status": "ok",
     "timestamp": 1711476227776,
     "user": {
      "displayName": "Florin Cuconasu",
      "userId": "03020322964199448520"
     },
     "user_tz": -60
    },
    "id": "REZUTIiP76Wu",
    "outputId": "57d9efc0-d07c-4584-b71c-beb8454c9669"
   },
   "outputs": [
    {
     "name": "stdout",
     "output_type": "stream",
     "text": [
      "Ciao, questo è il mio nome\n",
      "Hello, my name is Florin and I'm 75 years old.\n",
      "I study Scienze matematiche per l'intelligenza artificiale\n"
     ]
    }
   ],
   "source": [
    "s = Student(\"Florin\", \"75\", \"via Ariosto\", \"1848\", \"Scienze matematiche per l'intelligenza artificiale\")\n",
    "s.introduce_yourself()"
   ]
  },
  {
   "cell_type": "code",
   "execution_count": 317,
   "metadata": {},
   "outputs": [
    {
     "name": "stdout",
     "output_type": "stream",
     "text": [
      "Ciao, questo è il mio nome\n",
      "Hello, my name is Maria and I'm 20 years old.\n",
      "I study Scienze matematiche per l'intelligenza artificiale\n"
     ]
    }
   ],
   "source": [
    "s2 = Student(\"Maria\", \"20\", \"via Ariosto\", \"112848\", \"Scienze matematiche per l'intelligenza artificiale\")\n",
    "s2.introduce_yourself()"
   ]
  },
  {
   "cell_type": "code",
   "execution_count": 318,
   "metadata": {},
   "outputs": [
    {
     "data": {
      "text/plain": [
       "'Sapienza'"
      ]
     },
     "execution_count": 318,
     "metadata": {},
     "output_type": "execute_result"
    }
   ],
   "source": [
    "Student.university_name"
   ]
  },
  {
   "cell_type": "code",
   "execution_count": 319,
   "metadata": {},
   "outputs": [],
   "source": [
    "s.change_university(\"La Sapienza\")"
   ]
  },
  {
   "cell_type": "code",
   "execution_count": 320,
   "metadata": {
    "colab": {
     "base_uri": "https://localhost:8080/",
     "height": 36
    },
    "executionInfo": {
     "elapsed": 361,
     "status": "ok",
     "timestamp": 1711476230730,
     "user": {
      "displayName": "Florin Cuconasu",
      "userId": "03020322964199448520"
     },
     "user_tz": -60
    },
    "id": "ZWphW35A78Y1",
    "outputId": "b67c0ba5-cff3-431e-cab6-c0660a9df0f2"
   },
   "outputs": [
    {
     "data": {
      "text/plain": [
       "'La Sapienza'"
      ]
     },
     "execution_count": 320,
     "metadata": {},
     "output_type": "execute_result"
    }
   ],
   "source": [
    "s.university_name"
   ]
  },
  {
   "cell_type": "code",
   "execution_count": 322,
   "metadata": {
    "colab": {
     "base_uri": "https://localhost:8080/",
     "height": 36
    },
    "executionInfo": {
     "elapsed": 6,
     "status": "ok",
     "timestamp": 1711476233573,
     "user": {
      "displayName": "Florin Cuconasu",
      "userId": "03020322964199448520"
     },
     "user_tz": -60
    },
    "id": "S-qqepQ8JXXR",
    "outputId": "d513c019-6a49-4de0-9d73-e555808e4aa5"
   },
   "outputs": [
    {
     "data": {
      "text/plain": [
       "'La Sapienza'"
      ]
     },
     "execution_count": 322,
     "metadata": {},
     "output_type": "execute_result"
    }
   ],
   "source": [
    "s2.university_name"
   ]
  },
  {
   "cell_type": "markdown",
   "metadata": {
    "id": "byA7ssmCLAp2"
   },
   "source": [
    "## EXTRA: Simple Neural Network"
   ]
  },
  {
   "cell_type": "code",
   "execution_count": 207,
   "metadata": {
    "executionInfo": {
     "elapsed": 281,
     "status": "ok",
     "timestamp": 1711476237220,
     "user": {
      "displayName": "Florin Cuconasu",
      "userId": "03020322964199448520"
     },
     "user_tz": -60
    },
    "id": "epYM4dYyBMvq"
   },
   "outputs": [],
   "source": [
    "import numpy as np"
   ]
  },
  {
   "cell_type": "markdown",
   "metadata": {
    "id": "BI2XLGzdNDMy"
   },
   "source": [
    "Un metodo statico (`staticmethod`) è simile ad un metodo di classe, tuttavia in questo caso non c'è nessuna interazione con i metodi o le variabili di classe."
   ]
  },
  {
   "cell_type": "code",
   "execution_count": 323,
   "metadata": {
    "id": "TOrVzZwaBN1N"
   },
   "outputs": [],
   "source": [
    "class ActivationFunctions:\n",
    "    @staticmethod\n",
    "    def sigmoid(x):\n",
    "        return 1 / (1 + np.exp(-x))\n",
    "\n",
    "    @staticmethod\n",
    "    def tanh(x):\n",
    "        return np.tanh(x)\n",
    "\n",
    "    @staticmethod\n",
    "    def relu(x):\n",
    "        return np.maximum(0, x)"
   ]
  },
  {
   "cell_type": "code",
   "execution_count": 324,
   "metadata": {
    "id": "_ZtOFeWwLqW-"
   },
   "outputs": [],
   "source": [
    "class LinearLayer:\n",
    "    def __init__(self, input_size, output_size):\n",
    "        self.weights = np.random.randn(input_size, output_size)\n",
    "\n",
    "    def forward(self, x):\n",
    "        return np.dot(x, self.weights)"
   ]
  },
  {
   "cell_type": "markdown",
   "metadata": {
    "id": "xuG5BvYyOfAS"
   },
   "source": [
    "Una semplice rete neurale è composta da tre layer: input, hidden e output. Ogni layer contiene dei neuroni, i quali sono poi interconnessi con i neuroni del layer successivo.\n",
    "\n",
    "Ogni neurone, o nodo, è collegato ai nodi successivi tramite delle connessioni pesate (weights).\n",
    "\n",
    "Un neurone, non di input, è un numero ottenuto dalla combinazione lineare, rispetto ai pesi, dei neuroni precedenti e dall'applicazione di una funzione di attivazione.\n"
   ]
  },
  {
   "cell_type": "code",
   "execution_count": 325,
   "metadata": {
    "id": "cervoikgL58U"
   },
   "outputs": [],
   "source": [
    "class MyNN:\n",
    "    def __init__(self, input_size, hidden_size, output_size):\n",
    "        self.input_size = input_size\n",
    "        self.hidden_size = hidden_size\n",
    "        self.output_size = output_size\n",
    "\n",
    "        self.hidden_layer = LinearLayer(input_size, hidden_size)\n",
    "        self.output_layer = LinearLayer(hidden_size, output_size)\n",
    "        self.activation = ActivationFunctions.sigmoid\n",
    "\n",
    "    def forward(self, x):\n",
    "        x = self.hidden_layer.forward(x)\n",
    "        x = self.activation(x)\n",
    "        x = self.output_layer.forward(x)\n",
    "        return x"
   ]
  },
  {
   "cell_type": "code",
   "execution_count": 326,
   "metadata": {},
   "outputs": [],
   "source": [
    "nn = MyNN(2, 3, 1)"
   ]
  },
  {
   "cell_type": "code",
   "execution_count": 327,
   "metadata": {},
   "outputs": [
    {
     "data": {
      "text/plain": [
       "array([0.66969513])"
      ]
     },
     "execution_count": 327,
     "metadata": {},
     "output_type": "execute_result"
    }
   ],
   "source": [
    "x = np.array([1.4, -15.6])\n",
    "nn.forward(x)"
   ]
  }
 ],
 "metadata": {
  "colab": {
   "authorship_tag": "ABX9TyN0kYzm/wkkfx6m4YSx3Hfz",
   "provenance": []
  },
  "kernelspec": {
   "display_name": "Python 3 (ipykernel)",
   "language": "python",
   "name": "python3"
  },
  "language_info": {
   "codemirror_mode": {
    "name": "ipython",
    "version": 3
   },
   "file_extension": ".py",
   "mimetype": "text/x-python",
   "name": "python",
   "nbconvert_exporter": "python",
   "pygments_lexer": "ipython3",
   "version": "3.13.5"
  }
 },
 "nbformat": 4,
 "nbformat_minor": 4
}
