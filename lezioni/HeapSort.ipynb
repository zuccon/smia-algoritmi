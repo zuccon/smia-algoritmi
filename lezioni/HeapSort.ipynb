{
  "nbformat": 4,
  "nbformat_minor": 0,
  "metadata": {
    "colab": {
      "provenance": []
    },
    "kernelspec": {
      "name": "python3",
      "display_name": "Python 3"
    },
    "language_info": {
      "name": "python"
    }
  },
  "cells": [
    {
      "cell_type": "code",
      "execution_count": null,
      "metadata": {
        "id": "c59lb5aZIZsy"
      },
      "outputs": [],
      "source": [
        "def heapify(arr, n, i):\n",
        "    # Find the largest among root, left child, and right child\n",
        "    largest = i\n",
        "    left = 2 * i + 1\n",
        "    right = 2 * i + 2\n",
        "\n",
        "    if left < n and arr[left] > arr[largest]:\n",
        "        largest = left\n",
        "\n",
        "    if right < n and arr[right] > arr[largest]:\n",
        "        largest = right\n",
        "\n",
        "    # Swap and continue heapifying if root is not the largest\n",
        "    if largest != i:\n",
        "        arr[i], arr[largest] = arr[largest], arr[i]\n",
        "        heapify(arr, n, largest)\n",
        "\n",
        "def heapsort(arr):\n",
        "    n = len(arr)\n",
        "\n",
        "    # Build a max heap\n",
        "    for i in range(n // 2 - 1, -1, -1):\n",
        "        heapify(arr, n, i)\n",
        "\n",
        "    # Extract elements from the heap one by one\n",
        "    for i in range(n-1, 0, -1):\n",
        "        # Move current root to the end\n",
        "        arr[i], arr[0] = arr[0], arr[i]\n",
        "        # Heapify the reduced heap\n",
        "        heapify(arr, i, 0)"
      ]
    },
    {
      "cell_type": "code",
      "source": [
        "data = [4, 10, 3, 5, 1]\n",
        "print(\"Unsorted array:\", data)\n",
        "heapsort(data)\n",
        "print(\"Sorted array:\", data)"
      ],
      "metadata": {
        "colab": {
          "base_uri": "https://localhost:8080/"
        },
        "id": "Afh3C8axIe3K",
        "outputId": "4162f0fd-507e-4940-fc28-89ca8b2769cc"
      },
      "execution_count": null,
      "outputs": [
        {
          "output_type": "stream",
          "name": "stdout",
          "text": [
            "Unsorted array: [4, 10, 3, 5, 1]\n",
            "Sorted array: [1, 3, 4, 5, 10]\n"
          ]
        }
      ]
    }
  ]
}