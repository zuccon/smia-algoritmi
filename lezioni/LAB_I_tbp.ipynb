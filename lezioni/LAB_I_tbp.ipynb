{
 "cells": [
  {
   "cell_type": "markdown",
   "metadata": {
    "id": "BBnDZDlVO8r5"
   },
   "source": [
    "# Frequency Counter\n",
    "### Problem Statement\n",
    "You are given an array of integers and a threshold value. Your task is to find the smallest subarray (contiguous elements) where at least one element appears more times than the threshold.\n",
    "Write a function findSmallestSubarrayWithFrequency(arr, threshold) that returns the length of the smallest subarray where at least one element appears more than threshold times. If no such subarray exists, return -1.\n",
    "\n",
    "### Input Format\n",
    "\n",
    "arr: An array of integers\n",
    "\n",
    "threshold: A positive integer representing the frequency threshold\n",
    "\n",
    "Constraints\n",
    "\n",
    "1 ≤ arr.length ≤ 10^5\n",
    "\n",
    "1 ≤ arr[i] ≤ 10^5\n",
    "\n",
    "1 ≤ threshold ≤ 10^3\n",
    "\n",
    "## Examples"
   ]
  },
  {
   "cell_type": "code",
   "execution_count": null,
   "metadata": {
    "id": "Ai-q8B0OO9Zv"
   },
   "outputs": [],
   "source": [
    "EX. 1\n",
    "Input: arr = [1, 2, 2, 3, 1, 2, 1, 3], threshold = 2\n",
    "Output: 5\n",
    "Explanation:\n",
    "The smallest subarray where an element appears more than 2 times is [2, 2, 3, 1, 2] (elements at indices 2-6).\n",
    "In this subarray, the number 2 appears 3 times, which exceeds the threshold of 2."
   ]
  },
  {
   "cell_type": "code",
   "execution_count": null,
   "metadata": {
    "id": "KRGeWEa9O9W4"
   },
   "outputs": [],
   "source": [
    "EX. 2\n",
    "Input: arr = [5, 5, 5, 5], threshold = 1\n",
    "Output: 2\n",
    "Explanation:\n",
    "The smallest subarray where an element appears more than 1 time is [5, 5] (any two consecutive elements)."
   ]
  },
  {
   "cell_type": "code",
   "execution_count": null,
   "metadata": {
    "id": "y24z3dcyO9UD"
   },
   "outputs": [],
   "source": [
    "EX. 3\n",
    "Input: arr = [1, 2, 3, 4, 5], threshold = 1\n",
    "Output: -1\n",
    "Explanation:\n",
    "No element appears more than once in any subarray, so there's no subarray that satisfies the condition."
   ]
  },
  {
   "cell_type": "code",
   "execution_count": null,
   "metadata": {
    "id": "JV0cgwYuO9Ra"
   },
   "outputs": [],
   "source": [
    "def findSmallestSubarrayWithFrequency(arr, threshold):\n",
    "    # Your code here\n",
    "    pass"
   ]
  },
  {
   "cell_type": "markdown",
   "metadata": {
    "id": "MhbgxhAvPjNR"
   },
   "source": [
    "## Solution"
   ]
  },
  {
   "cell_type": "code",
   "execution_count": null,
   "metadata": {
    "colab": {
     "base_uri": "https://localhost:8080/"
    },
    "id": "hACu0H6tPgZD",
    "outputId": "970f5b62-66e5-46ca-efd9-9db9af29dc11"
   },
   "outputs": [
    {
     "name": "stdout",
     "output_type": "stream",
     "text": [
      "5\n",
      "2\n",
      "-1\n"
     ]
    }
   ],
   "source": [
    "def findSmallestSubarrayWithFrequency(arr, threshold):\n",
    "    \"\"\"\n",
    "    Finds the length of the smallest subarray where at least one element\n",
    "    appears more than threshold times.\n",
    "\n",
    "    Args:\n",
    "        arr: A list of integers\n",
    "        threshold: A positive integer representing the frequency threshold\n",
    "\n",
    "    Returns:\n",
    "        An integer representing the length of the smallest valid subarray,\n",
    "        or -1 if no valid subarray exists\n",
    "    \"\"\"\n",
    "    n = len(arr)\n",
    "    min_length = float('inf')\n",
    "\n",
    "    # Outer loop: consider each possible starting point\n",
    "    for left in range(n):\n",
    "        # Initialize frequency counter for current window\n",
    "        freq = {}\n",
    "\n",
    "        # Inner loop: expand window to the right\n",
    "        for right in range(left, n):\n",
    "            # Update frequency of current element\n",
    "            freq[arr[right]] = freq.get(arr[right], 0) + 1\n",
    "\n",
    "            # Check if any element exceeds threshold\n",
    "            if freq[arr[right]] > threshold:\n",
    "                # Update minimum length\n",
    "                current_length = right - left + 1\n",
    "                min_length = min(min_length, current_length)\n",
    "                break\n",
    "\n",
    "    # If no valid subarray found, return -1\n",
    "    return min_length if min_length != float('inf') else -1\n",
    "\n",
    "# Test cases\n",
    "print(findSmallestSubarrayWithFrequency([1, 2, 2, 3, 1, 2, 1, 3], 2))  # Output: 5\n",
    "print(findSmallestSubarrayWithFrequency([5, 5, 5, 5], 1))  # Output: 2\n",
    "print(findSmallestSubarrayWithFrequency([1, 2, 3, 4, 5], 1))  # Output: -1"
   ]
  },
  {
   "cell_type": "markdown",
   "metadata": {
    "id": "26rsK31mP06J"
   },
   "source": [
    "# Peak Finder\n",
    "\n",
    "## Problem Statement\n",
    "\n",
    "You are given an array of integers. A peak element is an element that is strictly greater than its neighbors. For an array `nums`, an element `nums[i]` is a peak if:\n",
    "- `nums[i-1] < nums[i]` (if `i > 0`)\n",
    "- `nums[i] > nums[i+1]` (if `i < len(nums)-1`)\n",
    "\n",
    "For example, in the array `[1, 3, 7, 4, 3, 6, 2]`, the peaks are at indices 2 (value 7) and 5 (value 6).\n",
    "\n",
    "Write a function `findPeakElement(nums)` that returns the index of **any** peak element in the array. If there are multiple peaks, you can return the index of any one of them. If no peak exists, return -1.\n",
    "\n",
    "## Input Format\n",
    "\n",
    "- `nums`: An array of integers\n",
    "\n",
    "## Constraints\n",
    "\n",
    "- 1 ≤ `nums.length` ≤ 10^5\n",
    "- -10^9 ≤ `nums[i]` ≤ 10^9\n",
    "- nums[i] != nums[i + 1] for all valid i\n",
    "- For the purpose of finding peaks, consider that elements beyond the array boundary are negative infinity\n",
    "\n",
    "## Examples\n",
    "\n",
    "### Example 1:\n",
    "```\n",
    "Input: nums = [1, 3, 7, 4, 3, 6, 2]\n",
    "Output: 2 (or 5)\n",
    "Explanation:\n",
    "The peaks are at indices 2 (value 7) and 5 (value 6). Either answer is acceptable.\n",
    "```\n",
    "\n",
    "### Example 2:\n",
    "```\n",
    "Input: nums = [1, 2, 3, 4, 5]\n",
    "Output: 4\n",
    "Explanation:\n",
    "The only peak is at index 4 (value 5) because it's only greater than its left neighbor.\n",
    "```\n",
    "\n",
    "### Example 3:\n",
    "```\n",
    "Input: nums = [5, 4, 3, 2, 1]\n",
    "Output: 0\n",
    "Explanation:\n",
    "The only peak is at index 0 (value 5) because it's only greater than its right neighbor.\n",
    "```\n",
    "\n",
    "### Example 4:\n",
    "```\n",
    "Input: nums = [1, 1, 1, 1]\n",
    "Output: -1\n",
    "Explanation:\n",
    "No peak exists because no element is strictly greater than its neighbors.\n",
    "```\n"
   ]
  },
  {
   "cell_type": "markdown",
   "metadata": {
    "id": "1dkS6VOMQGCK"
   },
   "source": [
    "## Solution"
   ]
  },
  {
   "cell_type": "code",
   "execution_count": null,
   "metadata": {
    "colab": {
     "base_uri": "https://localhost:8080/"
    },
    "id": "XLsaNNggQE6z",
    "outputId": "d286db32-ed31-41cf-a79a-903e8dc3ede4"
   },
   "outputs": [
    {
     "name": "stdout",
     "output_type": "stream",
     "text": [
      "2\n",
      "4\n",
      "0\n",
      "-1\n"
     ]
    }
   ],
   "source": [
    "def findPeakElement(nums):\n",
    "    \"\"\"\n",
    "    Finds any peak element in the array.\n",
    "    A peak element is strictly greater than its neighbors.\n",
    "\n",
    "    Args:\n",
    "        nums: A list of integers\n",
    "\n",
    "    Returns:\n",
    "        An integer representing the index of any peak element,\n",
    "        or -1 if no peak exists\n",
    "    \"\"\"\n",
    "    n = len(nums)\n",
    "\n",
    "    # Edge cases\n",
    "    if n == 1:\n",
    "        return 0  # Single element is always a peak\n",
    "\n",
    "    # Check if first element is a peak\n",
    "    if nums[0] > nums[1]:\n",
    "        return 0\n",
    "\n",
    "    # Check if last element is a peak\n",
    "    if nums[n-1] > nums[n-2]:\n",
    "        return n-1\n",
    "\n",
    "    # Linear search solution\n",
    "    for i in range(1, n-1):\n",
    "        if nums[i] > nums[i-1] and nums[i] > nums[i+1]:\n",
    "            return i\n",
    "\n",
    "    return -1\n",
    "\n",
    "# Test cases\n",
    "print(findPeakElement([1, 3, 7, 4, 3, 6, 2]))  # Output: 2 or 5\n",
    "print(findPeakElement([1, 2, 3, 4, 5]))  # Output: 4\n",
    "print(findPeakElement([5, 4, 3, 2, 1]))  # Output: 0\n",
    "print(findPeakElement([1, 1, 1, 1]))  # Output: -1"
   ]
  }
 ],
 "metadata": {
  "colab": {
   "collapsed_sections": [
    "BBnDZDlVO8r5",
    "26rsK31mP06J"
   ],
   "provenance": []
  },
  "kernelspec": {
   "display_name": "Python 3 (ipykernel)",
   "language": "python",
   "name": "python3"
  },
  "language_info": {
   "codemirror_mode": {
    "name": "ipython",
    "version": 3
   },
   "file_extension": ".py",
   "mimetype": "text/x-python",
   "name": "python",
   "nbconvert_exporter": "python",
   "pygments_lexer": "ipython3",
   "version": "3.13.5"
  }
 },
 "nbformat": 4,
 "nbformat_minor": 4
}
