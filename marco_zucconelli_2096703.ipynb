{
 "cells": [
  {
   "cell_type": "markdown",
   "metadata": {
    "id": "1N9TQAUTeTIk"
   },
   "source": [
    "# Tecniche di Programmazione\n",
    "\n",
    "---\n",
    "\n",
    "\n",
    "## Pre-Appello\n",
    "27/5/2025"
   ]
  },
  {
   "cell_type": "markdown",
   "metadata": {
    "id": "7B1Ypr_w2szo"
   },
   "source": [
    "### **ISTRUZIONI**\n",
    "\n",
    "- Scaricate questo Colab sul vostro dispositivo e lavorate in locale oppure apritelo con Colab sulla rete.\n",
    "- Il Colab che caricherete sarà `cognome_nome_matricola.ipynb`. (sostituendo nome, cognome e matricola con i vostri dati personali, se avete accenti rimuoveteli, se avete de ..., unitelo; i.e., Radà → rada, Di Martino → dimartino)\n",
    "- Caricate il Colab presso [questo link](https://docs.google.com/forms/d/e/1FAIpQLSfGG3ODf_pPw7mzYEN_jFRx-VpAQ4D2NsPw63xpdL1nCFFayg/viewform?usp=dialog)."
   ]
  },
  {
   "cell_type": "markdown",
   "metadata": {
    "id": "BE7EGzSkujDX"
   },
   "source": [
    "## **Esercizio 1. Mergesort**"
   ]
  },
  {
   "cell_type": "markdown",
   "metadata": {
    "id": "tr8rEN04yj7G"
   },
   "source": [
    "**Descrizione:**\n",
    "\n",
    "Implementare mergesort in una funzione che chiamerete `ex1`. La funzione `ex1` prende in input una lista di numeri `input_list` e deve restituire la lista ordinata, senza modificare `input_list`.\n",
    "\n",
    "**Requisiti:**\n",
    "\n",
    "- La funzione deve operare in tempo e spazio $O(n\\log n)$.\n",
    "- L'ordinamento deve essere implementato via merge sort.\n",
    "- Non si possono usare le funzioni di ordinamento built-in di python.\n",
    "\n",
    "**Input:**\n",
    "\n",
    "- Una lista ordinata di $n$ numeri `input_list`.\n",
    "\n",
    "**Output:**\n",
    "\n",
    "- Una nuova lista ordinata che contiene i valori di `input_list`.\n",
    "\n",
    "**Esempio:**\n",
    "\n",
    "```python\n",
    "input_list = [0, -1, -3, 4, 2]\n",
    "\n",
    "# La funzione dovrebbe restituire:\n",
    "output_list = [-3, -1, 0, 2, 4]\n",
    "```"
   ]
  },
  {
   "cell_type": "code",
   "execution_count": 3,
   "metadata": {
    "executionInfo": {
     "elapsed": 30,
     "status": "ok",
     "timestamp": 1748332556340,
     "user": {
      "displayName": "Federico Fusco",
      "userId": "02627142181627947655"
     },
     "user_tz": -120
    },
    "id": "blh5nEAlEP3f",
    "scrolled": true
   },
   "outputs": [
    {
     "data": {
      "text/plain": [
       "[-3, -1, 0, 1, 1, 2, 2, 3, 3, 4, 4, 5, 5, 6, 1403, 5432]"
      ]
     },
     "execution_count": 3,
     "metadata": {},
     "output_type": "execute_result"
    }
   ],
   "source": [
    "## Inserire la soluzione del primo esercizio qui\n",
    "def ex1(input_list):\n",
    "    def mergesort(A):\n",
    "        if len(A)==1:\n",
    "            return A\n",
    "        mid=len(A)//2\n",
    "        return merge(\n",
    "            mergesort(A[0  :mid]),\n",
    "            mergesort(A[mid:   ]))\n",
    "    def merge(L,R):\n",
    "        ret=[]\n",
    "        while L and R:\n",
    "            if L[0]<R[0]:\n",
    "                ret.append(L.pop(0))\n",
    "            else:\n",
    "                ret.append(R.pop(0))\n",
    "        return ret+L+R\n",
    "    return mergesort(input_list.copy())\n",
    "\n",
    "input_list = [1,2,5432,3,1,4,1403,0, -1, -3, 4, 2,5,6,3,5]\n",
    "ex1(input_list)"
   ]
  },
  {
   "cell_type": "markdown",
   "metadata": {
    "id": "nJ20PSjNQvos"
   },
   "source": [
    "# Esercizio 2. Custom Sort String"
   ]
  },
  {
   "cell_type": "markdown",
   "metadata": {
    "id": "JajVUvschsb0"
   },
   "source": [
    "Ti vengono fornite due stringhe: `ordine` e `s`. Tutti i `caratteri` in ordine sono unici e sono stati ordinati precedentemente secondo un ordine personalizzato. Devi riorganizzare i caratteri di `s` in modo che seguano lo stesso ordine specificato in `ordine`.\n",
    "\n",
    "Più specificamente, se il carattere `x` appare prima del carattere `y` in ordine, allora `x` deve apparire prima di `y` nella stringa risultante. I caratteri in `s` che non compaiono in ordine devono essere posizionati alla fine."
   ]
  },
  {
   "cell_type": "markdown",
   "metadata": {
    "id": "3ZIG35AUizM5"
   },
   "source": [
    "**Requisiti:**\n",
    "- L'algoritmo deve avere una complessità di O(m + n)\n",
    "- La funzione si deve chiamare ex2(ordine, s)\n",
    "- In output dovrà restituire una stringa\n",
    "\n",
    "**Esempi**\n",
    "\n",
    "```python\n",
    "Esempio 1:\n",
    "\n",
    "Input: ordine = \"cba\", s = \"abcd\"\n",
    "Output: \"cbad\"\n",
    "\n",
    "Esempio 2:\n",
    "\n",
    "Input: ordine = \"bcafg\", s = \"abcd\"\n",
    "Output: \"bcad\"\n",
    "\n",
    "Esempio 3:\n",
    "\n",
    "Input: ordine = \"kqep\", s = \"pekeq\"\n",
    "Output: \"kqeep\"\n",
    "```\n"
   ]
  },
  {
   "cell_type": "code",
   "execution_count": 1,
   "metadata": {
    "editable": true,
    "id": "95So2UmPiq_u",
    "slideshow": {
     "slide_type": ""
    },
    "tags": []
   },
   "outputs": [
    {
     "ename": "ValueError",
     "evalue": "list.remove(x): x not in list",
     "output_type": "error",
     "traceback": [
      "\u001b[31m---------------------------------------------------------------------------\u001b[39m",
      "\u001b[31mValueError\u001b[39m                                Traceback (most recent call last)",
      "\u001b[36mCell\u001b[39m\u001b[36m \u001b[39m\u001b[32mIn[1]\u001b[39m\u001b[32m, line 13\u001b[39m\n\u001b[32m     11\u001b[39m ordine = \u001b[33m\"\u001b[39m\u001b[33mbcafg\u001b[39m\u001b[33m\"\u001b[39m\n\u001b[32m     12\u001b[39m s = \u001b[33m\"\u001b[39m\u001b[33mabcd\u001b[39m\u001b[33m\"\u001b[39m\n\u001b[32m---> \u001b[39m\u001b[32m13\u001b[39m \u001b[43mex2\u001b[49m\u001b[43m(\u001b[49m\u001b[43mordine\u001b[49m\u001b[43m,\u001b[49m\u001b[43ms\u001b[49m\u001b[43m)\u001b[49m\n",
      "\u001b[36mCell\u001b[39m\u001b[36m \u001b[39m\u001b[32mIn[1]\u001b[39m\u001b[32m, line 7\u001b[39m, in \u001b[36mex2\u001b[39m\u001b[34m(ordine, s)\u001b[39m\n\u001b[32m      5\u001b[39m \u001b[38;5;28;01mfor\u001b[39;00m i,c \u001b[38;5;129;01min\u001b[39;00m \u001b[38;5;28menumerate\u001b[39m(ordine):\n\u001b[32m      6\u001b[39m     ret.append(c * s.count(c))\n\u001b[32m----> \u001b[39m\u001b[32m7\u001b[39m     \u001b[43ms\u001b[49m\u001b[43m.\u001b[49m\u001b[43mremove\u001b[49m\u001b[43m(\u001b[49m\u001b[43mc\u001b[49m\u001b[43m)\u001b[49m\n\u001b[32m      8\u001b[39m ret.append(s)\n\u001b[32m      9\u001b[39m \u001b[38;5;28;01mreturn\u001b[39;00m \u001b[33m\"\u001b[39m\u001b[33m\"\u001b[39m.join(ret)\n",
      "\u001b[31mValueError\u001b[39m: list.remove(x): x not in list"
     ]
    }
   ],
   "source": [
    "# la tua soluzione\n",
    "def ex2(ordine, s):\n",
    "    dp={}\n",
    "    ret=[]\n",
    "    # ordine=list(ordine)\n",
    "    s=list(s)\n",
    "    for i,c in enumerate(ordine):\n",
    "        dp[c]={'order': i, 'count': 0}\n",
    "    for i,c in enumerate(s):\n",
    "        if c in dp:\n",
    "            dp[c]['count']=dp[c]['count']+1\n",
    "        else:\n",
    "            if 'unordered' in dp:\n",
    "                dp['unordered']=dp['unordered'].append(c)\n",
    "            else:\n",
    "                dp['unordered']=[c]\n",
    "    \n",
    "        ret.append(c * s.count(c))\n",
    "        s.remove(c)\n",
    "    ret.append(s)\n",
    "    return \"\".join(ret)\n",
    "\n",
    "ordine = \"bcafg\"\n",
    "s = \"abcd\"\n",
    "ex2(ordine,s)"
   ]
  },
  {
   "cell_type": "markdown",
   "metadata": {
    "id": "zSS5gEA6wW1Q"
   },
   "source": [
    "## **Exercise 3. Domanda di teoria**\n",
    "\n"
   ]
  },
  {
   "cell_type": "markdown",
   "metadata": {
    "id": "YX03JLQzu6Ud"
   },
   "source": [
    "Consideriamo il problema di trovare un elemento all'interno di una struttura dati che contiene `n` elementi. Rispondere alle seguenti domande:"
   ]
  },
  {
   "cell_type": "markdown",
   "metadata": {
    "id": "uD5xMSLru7Dv"
   },
   "source": [
    "### **a.** *Lista ordinata*\n",
    "\n",
    "**TASK.** Quanto costa trovare un elemento all'interno di una lista ordinata? Che algoritmo usereste?"
   ]
  },
  {
   "cell_type": "markdown",
   "metadata": {
    "id": "m7d2Q_fnR5bI"
   },
   "source": [
    "**Risposta**: Userei un binary search con costo $O(\\log{n})$"
   ]
  },
  {
   "cell_type": "markdown",
   "metadata": {
    "id": "flIWFZADyf7Q"
   },
   "source": [
    "### **b.** *Lista puntata*\n",
    "\n",
    "**TASK.** Quanto costa trovare un elemento all'interno di una lista puntata? Che algoritmo usereste?"
   ]
  },
  {
   "cell_type": "markdown",
   "metadata": {
    "id": "9Wpc4jpZSRWf"
   },
   "source": [
    "**Risposta**:"
   ]
  },
  {
   "cell_type": "markdown",
   "metadata": {
    "id": "aBEIIjVlhzK0"
   },
   "source": [
    "### **c.** *Set*\n",
    "\n",
    "**TASK.** Consideriamo il tipo `set` di Python. Quanto costa trovare un elemento al suo interno? Quale struttura dati viene utilizzata?"
   ]
  },
  {
   "cell_type": "markdown",
   "metadata": {
    "id": "xRkVrfWYhzLF"
   },
   "source": [
    "**Risposta**:"
   ]
  },
  {
   "cell_type": "markdown",
   "metadata": {
    "id": "SI0s85gDVXkM"
   },
   "source": [
    "# Esercizio 4. Sistema di Gestione Biblioteca"
   ]
  },
  {
   "cell_type": "markdown",
   "metadata": {
    "id": "WOYKIYSeVXkO",
    "jp-MarkdownHeadingCollapsed": true
   },
   "source": [
    "**Obiettivo**: Implementare un sistema per gestire una piccola biblioteca utilizzando i principi della programmazione a oggetti.\n",
    "\n",
    "## Parte 1: Classe Libro\n",
    "\n",
    "Crea una classe `Libro` con i seguenti attributi:\n",
    "- `titolo` (stringa)\n",
    "- `autore` (stringa)\n",
    "- `anno_pubblicazione` (intero)\n",
    "- `isbn` (stringa)\n",
    "- `disponibile` (booleano, default True)\n",
    "\n",
    "La classe deve avere i seguenti metodi:\n",
    "\n",
    "- **Costruttore**: inizializza tutti gli attributi eccetto `disponibile` che deve essere True di default\n",
    "- **`descrizione()`**: restituisce una rappresentazione leggibile del libro nel formato \"Titolo (Autore, Anno)\"\n",
    "- **`presta()`**: marca il libro come non disponibile se è attualmente disponibile. Restituisce True se il prestito è andato a buon fine, False se il libro era già in prestito\n",
    "- **`restituisci()`**: marca il libro come disponibile\n",
    "\n",
    "## Parte 2: Classe Biblioteca\n",
    "\n",
    "Crea una classe `Biblioteca` che gestisce una collezione di libri. La classe deve avere:\n",
    "\n",
    "**Attributi**:\n",
    "- `nome` (stringa): nome della biblioteca\n",
    "- `libri` (lista): collezione di oggetti Libro\n",
    "\n",
    "**Metodi**:\n",
    "- **Costruttore**: inizializza il nome della biblioteca e una lista vuota di libri\n",
    "- **`aggiungi_libro(libro)`**: aggiunge un libro alla collezione\n",
    "- **`libri_disponibili()`**: restituisce una lista di tutti i libri attualmente disponibili\n",
    "- **`presta_libro(isbn)`**: cerca un libro per ISBN e lo presta. Restituisce True se il prestito è riuscito, False se il libro non esiste o è già in prestito\n",
    "\n",
    "## Parte 3: Programma di Test\n",
    "\n",
    "Scrivi un programma principale che:\n",
    "\n",
    "1. Crea una biblioteca chiamata \"Biblioteca Universitaria\"\n",
    "2. Crea almeno 3 libri con dati diversi\n",
    "3. Aggiunge i libri alla biblioteca\n",
    "4. Testa tutte le funzionalità implementate:\n",
    "   - Aggiunta di libri\n",
    "   - Visualizzazione dei libri disponibili\n",
    "   - Prestito e restituzione di libri\n",
    "5. Stampa i risultati in modo chiaro e leggibile\n",
    "\n",
    "## Esempio di Output Atteso\n",
    "\n",
    "```\n",
    "Biblioteca: Biblioteca Universitaria\n",
    "Libri aggiunti: 3\n",
    "\n",
    "Libri disponibili:\n",
    "- Algoritmi e Strutture Dati (Cormen, 2009)\n",
    "- Python Crash Course (Matthes, 2019)\n",
    "- Clean Code (Martin, 2008)\n",
    "\n",
    "Prestito libro ISBN 978-0262033848: Successo\n",
    "Prestito libro ISBN 978-0262033848: Fallimento - Libro già in prestito\n",
    "\n",
    "Libri disponibili dopo il prestito:\n",
    "- Python Crash Course (Matthes, 2019)\n",
    "- Clean Code (Martin, 2008)\n",
    "```\n",
    "\n",
    "**Consegna**: Il codice Python completo e funzionante con esempi di utilizzo che dimostrino il corretto funzionamento di tutte le funzionalità richieste."
   ]
  },
  {
   "cell_type": "code",
   "execution_count": 37,
   "metadata": {
    "id": "7K8mPmODwMfQ"
   },
   "outputs": [
    {
     "name": "stdout",
     "output_type": "stream",
     "text": [
      "\n",
      "        Biblioteca: Biblioteca Universitaria\n",
      "        \n",
      "Libri Disponibili:\n",
      " - common-latin LISP for recursive sorcery (Pico della Mirandola, 1491)\n",
      " - Tvoppo Odio (Truce Baldazzi, 1961)\n",
      " - Sonetti Pythoneschi (Giuseppe Gioacchino Belli, 2031)\n",
      "Libri NON Disponibili:\n",
      " Nessuno\n",
      "Prestito Libro ISBN 1234-56789: True\n",
      "Prestito Libro ISBN 1234-56789: False\n",
      "\n",
      "        Biblioteca: Biblioteca Universitaria\n",
      "        \n",
      "Libri Disponibili:\n",
      " - Tvoppo Odio (Truce Baldazzi, 1961)\n",
      " - Sonetti Pythoneschi (Giuseppe Gioacchino Belli, 2031)\n",
      "Libri NON Disponibili:\n",
      " - common-latin LISP for recursive sorcery (Pico della Mirandola, 1491)\n"
     ]
    }
   ],
   "source": [
    "#Inserire qui la risposta\n",
    "class Libro():\n",
    "    def __init__(self,titolo:str,autore:str,anno_pubblicazione:int,isbn:str,disponibile:bool=True):\n",
    "        self.titolo=titolo\n",
    "        self.autore=autore\n",
    "        self.anno_pubblicazione=anno_pubblicazione\n",
    "        self.isbn=isbn\n",
    "        self.disponibile=disponibile\n",
    "    def __str__(self):\n",
    "        return self.descrizione()\n",
    "    def descrizione(self):\n",
    "        return f\"{self.titolo} ({self.autore}, {self.anno_pubblicazione})\"\n",
    "    def presta(self):\n",
    "        if self.disponibile==True:\n",
    "            self.disponibile=False\n",
    "            return True\n",
    "        else:\n",
    "            return False\n",
    "    def restituisci(self):\n",
    "        self.disponibile=True\n",
    "        return True\n",
    "\n",
    "class Biblioteca():\n",
    "    def __init__(self,nome:str,libri:list=[]):\n",
    "        self.nome=nome\n",
    "        self.libri=libri\n",
    "    def __str__(self):\n",
    "        return self.sommario()\n",
    "    def sommario(self):\n",
    "        sommario=f\"\"\"\n",
    "        Biblioteca: {self.nome}\n",
    "        \"\"\"\n",
    "        return sommario\n",
    "    def print_sommario(self):\n",
    "        print(self)\n",
    "        print(\"Libri Disponibili:\")\n",
    "        if self.libri_disponibili():    \n",
    "            for libro_disponibile in self.libri_disponibili():\n",
    "                print(f\" - {libro_disponibile}\")\n",
    "        else:\n",
    "            print(\" Nessuno\") \n",
    "        print(\"Libri NON Disponibili:\")\n",
    "        if self.libri_non_disponibili():\n",
    "            for libro_non_disponibile in self.libri_non_disponibili():\n",
    "                print(f\" - {libro_non_disponibile}\")\n",
    "        else:\n",
    "            print(\" Nessuno\")\n",
    "    def aggiungi_libro(self,libro):\n",
    "        self.libri.append(libro)\n",
    "    def libri_disponibili(self):\n",
    "        return [ libro for libro in self.libri if libro.disponibile==True ]\n",
    "    def libri_non_disponibili(self):\n",
    "        return [ libro for libro in self.libri if libro.disponibile==False ]\n",
    "    def presta_libro(self,isbn):\n",
    "        # potrebbero esserci duplicati - no non potrebbero pero' funziona uguale\n",
    "        libri_da_prestare=[ libro for libro in self.libri if libro.isbn==isbn ] # and libro.disponibile==True # controllato da presta(), sarebbe ridondante\n",
    "        if libri_da_prestare:            \n",
    "            return libri_da_prestare[0].presta()\n",
    "        else:\n",
    "            return False\n",
    "    # la implemento anche qua per gestire sia prestiti che restituzioni da Biblioteca anziche' un'azione da Biblioteca e l'altra da Libro \n",
    "    def restituisci_libro(self,isbn):\n",
    "        libri_prestati=[ libro for libro in self.libri if libro.isbn==isbn and libro.disponibile==False ]\n",
    "        if libri_prestati:\n",
    "            return libri_prestati[0].restituisci()\n",
    "        else:\n",
    "            return False\n",
    "    \n",
    "def test_libreria():\n",
    "    # 1. Crea una biblioteca chiamata \"Biblioteca Universitaria\"\n",
    "    biblioteca=Biblioteca(nome=\"Biblioteca Universitaria\")\n",
    "    # 2. Crea almeno 3 libri con dati diversi\n",
    "    libro1=Libro(autore=\"Pico della Mirandola\",titolo=\"common-latin LISP for recursive sorcery\",anno_pubblicazione=1491,isbn=\"1234-56789\")\n",
    "    libro2=Libro(autore=\"Truce Baldazzi\",titolo=\"Tvoppo Odio\",anno_pubblicazione=1961,isbn=\"34-87592874\")\n",
    "    libro3=Libro(autore=\"Giuseppe Gioacchino Belli\",titolo=\"Sonetti Pythoneschi\",anno_pubblicazione=2031,isbn=\"4968-47273\")\n",
    "    # 3. Aggiunge i libri alla biblioteca\n",
    "    biblioteca.aggiungi_libro(libro1)\n",
    "    biblioteca.aggiungi_libro(libro2)\n",
    "    biblioteca.aggiungi_libro(libro3)\n",
    "    # stampa sommario\n",
    "    biblioteca.print_sommario()\n",
    "    # test prestito\n",
    "    libro_da_prestare=\"1234-56789\"\n",
    "    print(f\"Prestito Libro ISBN {libro_da_prestare}: {biblioteca.presta_libro(libro_da_prestare)}\")\n",
    "    print(f\"Prestito Libro ISBN {libro_da_prestare}: {biblioteca.presta_libro(libro_da_prestare)}\")\n",
    "    biblioteca.print_sommario()\n",
    "\n",
    "\n",
    "test_libreria()"
   ]
  },
  {
   "cell_type": "code",
   "execution_count": null,
   "metadata": {},
   "outputs": [],
   "source": []
  }
 ],
 "metadata": {
  "colab": {
   "provenance": []
  },
  "kernelspec": {
   "display_name": "Python 3 (ipykernel)",
   "language": "python",
   "name": "python3"
  },
  "language_info": {
   "codemirror_mode": {
    "name": "ipython",
    "version": 3
   },
   "file_extension": ".py",
   "mimetype": "text/x-python",
   "name": "python",
   "nbconvert_exporter": "python",
   "pygments_lexer": "ipython3",
   "version": "3.13.3"
  }
 },
 "nbformat": 4,
 "nbformat_minor": 4
}
