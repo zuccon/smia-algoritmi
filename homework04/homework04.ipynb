{
 "cells": [
  {
   "cell_type": "code",
   "execution_count": 2,
   "id": "d7f6731e-07fc-4092-b3e2-1d5e441e0164",
   "metadata": {},
   "outputs": [],
   "source": [
    "# Homework 04: coin change due la vendetta\n",
    "    \n",
    "def vendetta_vera(coins=[],target=0):\n",
    "    \"\"\" ritorna il numero di combinazioni di una o piu' coins la cui somma raggiunge target \"\"\"\n",
    "    # niente da fare\n",
    "    if not coins:\n",
    "        return 0\n",
    "    # somma troppo alta\n",
    "    if target < 0:\n",
    "        return 0\n",
    "    # somma esatta\n",
    "    if target == 0:\n",
    "        return 1\n",
    "    # ricorri a forma di albero binario, da un lato togli un elemento di coins a ogni livello di ricorsione\n",
    "    return vendetta_vera(target=target-coins[0], coins=coins) \\\n",
    "         + vendetta_vera(target=target,          coins=coins[1:])\n",
    "\n",
    "def coin_change_due(coins=[],target=0):\n",
    "    \"\"\" wrappa la chiamata ricorsiva, utile solo per gestire il caso limite target=0 nella prima chiamata \"\"\"\n",
    "    if target == 0:\n",
    "        return 0\n",
    "    return vendetta_vera(coins=coins,target=target)\n",
    "\n",
    "def main(coins=[],target=0):\n",
    "    return coin_change_due(coins=coins,target=target)"
   ]
  },
  {
   "cell_type": "code",
   "execution_count": 42,
   "id": "7560f675-c622-477d-a79a-98d0cd6f66d4",
   "metadata": {},
   "outputs": [
    {
     "data": {
      "text/plain": [
       "0"
      ]
     },
     "execution_count": 42,
     "metadata": {},
     "output_type": "execute_result"
    }
   ],
   "source": [
    "main([30],0)"
   ]
  },
  {
   "cell_type": "code",
   "execution_count": 43,
   "id": "79ed4bce-3ced-4b57-b323-df2a3d243df2",
   "metadata": {},
   "outputs": [
    {
     "data": {
      "text/plain": [
       "5"
      ]
     },
     "execution_count": 43,
     "metadata": {},
     "output_type": "execute_result"
    }
   ],
   "source": [
    "coins = [2, 5, 3, 6]\n",
    "target = 10\n",
    "main(coins,target)"
   ]
  },
  {
   "cell_type": "code",
   "execution_count": 44,
   "id": "91e7c684-e4cd-433e-91b2-59a5680accf7",
   "metadata": {},
   "outputs": [
    {
     "data": {
      "text/plain": [
       "3"
      ]
     },
     "execution_count": 44,
     "metadata": {},
     "output_type": "execute_result"
    }
   ],
   "source": [
    "coins=[2,5,10]\n",
    "target=10\n",
    "main(coins,target)"
   ]
  },
  {
   "cell_type": "code",
   "execution_count": 5,
   "id": "845bec7e-b21e-4297-b706-ad8333f06f9c",
   "metadata": {},
   "outputs": [
    {
     "data": {
      "text/plain": [
       "2"
      ]
     },
     "execution_count": 5,
     "metadata": {},
     "output_type": "execute_result"
    }
   ],
   "source": [
    "coins=[1,2]\n",
    "target=3\n",
    "main(coins,target)"
   ]
  }
 ],
 "metadata": {
  "kernelspec": {
   "display_name": "Python 3 (ipykernel)",
   "language": "python",
   "name": "python3"
  },
  "language_info": {
   "codemirror_mode": {
    "name": "ipython",
    "version": 3
   },
   "file_extension": ".py",
   "mimetype": "text/x-python",
   "name": "python",
   "nbconvert_exporter": "python",
   "pygments_lexer": "ipython3",
   "version": "3.13.3"
  }
 },
 "nbformat": 4,
 "nbformat_minor": 5
}
