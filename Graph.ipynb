{
 "cells": [
  {
   "cell_type": "markdown",
   "metadata": {
    "id": "3D6I6Rwk-wWr"
   },
   "source": [
    "#**Algoritmi su grafi**#\n",
    "\n",
    "Basato sul codice reperibile online (https://ocw.mit.edu/courses/6-0002-introduction-to-computational-thinking-and-data-science-fall-2016/resources/lecturegraphs/)"
   ]
  },
  {
   "cell_type": "markdown",
   "metadata": {
    "id": "z0Q-3so_R1x2"
   },
   "source": [
    "##**Classe Digraph e Graph**##\n",
    "Costruiamo le classe Digraph e Graph:\n",
    "Per prima cosa introduciamo le due classi fondamentali: nodo e arco"
   ]
  },
  {
   "cell_type": "code",
   "execution_count": 1,
   "metadata": {
    "executionInfo": {
     "elapsed": 47,
     "status": "ok",
     "timestamp": 1747810413061,
     "user": {
      "displayName": "Federico Fusco",
      "userId": "02627142181627947655"
     },
     "user_tz": -120
    },
    "id": "ZRnV76mJ_dSU"
   },
   "outputs": [],
   "source": [
    "class Node(object):\n",
    "    def __init__(self, name):\n",
    "        \"\"\"Assumes name is a string\"\"\"\n",
    "        self.name = name\n",
    "    def getName(self):\n",
    "        return self.name\n",
    "    def __str__(self):\n",
    "        return self.name\n",
    "\n",
    "class Edge(object):\n",
    "    def __init__(self, src, dest):\n",
    "        \"\"\"Assumes src and dest are nodes\"\"\"\n",
    "        self.src = src\n",
    "        self.dest = dest\n",
    "    def getSource(self):\n",
    "        return self.src\n",
    "    def getDestination(self):\n",
    "        return self.dest\n",
    "    def __str__(self):\n",
    "        return self.src.getName() + '->' + self.dest.getName()"
   ]
  },
  {
   "cell_type": "markdown",
   "metadata": {
    "id": "cW387Ajc_rgR"
   },
   "source": [
    "Una volta definiti nodi ed archi possiamo introdurre la classe **Digraph**, che rappresenta un grafo diretto.\n",
    "\n",
    "Digraph è caratterizzata da un singolo attributo, **edges**, che consiste in un dizionario che mappa ogni nodo alla lista dei suoi vicini (orientati). Nota bene: stiamo rappresentando il grafo come una **lista d'adiacenza** (in realtà un dizionario d'adiacenza)."
   ]
  },
  {
   "cell_type": "code",
   "execution_count": 2,
   "metadata": {
    "executionInfo": {
     "elapsed": 5,
     "status": "ok",
     "timestamp": 1747810413102,
     "user": {
      "displayName": "Federico Fusco",
      "userId": "02627142181627947655"
     },
     "user_tz": -120
    },
    "id": "QWCx-IzBAbET"
   },
   "outputs": [],
   "source": [
    "class Digraph(object):\n",
    "    \"\"\"edges is a dict mapping each node to a list of\n",
    "    its children\"\"\"\n",
    "    def __init__(self):\n",
    "        self.edges = {}\n",
    "    def addNode(self, node):\n",
    "        if node in self.edges:\n",
    "            raise ValueError('Duplicate node')\n",
    "        else:\n",
    "            self.edges[node] = []\n",
    "    def addEdge(self, edge):\n",
    "        src = edge.getSource()\n",
    "        dest = edge.getDestination()\n",
    "        if not (src in self.edges and dest in self.edges):\n",
    "            raise ValueError('Node not in graph')\n",
    "        self.edges[src].append(dest)\n",
    "    def childrenOf(self, node):\n",
    "        return self.edges[node]\n",
    "    def hasNode(self, node):\n",
    "        return node in self.edges\n",
    "    def getNode(self, name):\n",
    "        for n in self.edges:\n",
    "            if n.getName() == name:\n",
    "                return n\n",
    "        raise NameError(name)\n",
    "    def getNodeList(self):\n",
    "        nodeList = []\n",
    "        for node in self.edges:\n",
    "          nodeList.append(node)\n",
    "        return nodeList\n",
    "    def __str__(self):\n",
    "        result = ''\n",
    "        for src in self.edges:\n",
    "            for dest in self.edges[src]:\n",
    "                result = result + src.getName() + '->' + dest.getName() + '\\n'\n",
    "        return result[:-1] #omit final newline"
   ]
  },
  {
   "cell_type": "markdown",
   "metadata": {
    "id": "eMzoHSl3BuNq"
   },
   "source": [
    "Basandoci sulla classe Digraph possiamo definire la classe **Graph**, che rappresenta un grafo indiretto.\n",
    "\n",
    "Nota bene, l'unica differenza tra le due classi consiste nel metodo **addEdge**: quando un arco {u,v} viene inserito, addEdge inserisce sia l'arco diretto (u,v) che (v,u).   "
   ]
  },
  {
   "cell_type": "code",
   "execution_count": 3,
   "metadata": {
    "executionInfo": {
     "elapsed": 4,
     "status": "ok",
     "timestamp": 1747810413112,
     "user": {
      "displayName": "Federico Fusco",
      "userId": "02627142181627947655"
     },
     "user_tz": -120
    },
    "id": "QfEctYPlCuif"
   },
   "outputs": [],
   "source": [
    "class Graph(Digraph):\n",
    "    def addEdge(self, edge):\n",
    "        Digraph.addEdge(self, edge)\n",
    "        rev = Edge(edge.getDestination(), edge.getSource())\n",
    "        Digraph.addEdge(self, rev)"
   ]
  },
  {
   "cell_type": "markdown",
   "metadata": {
    "id": "W61H32qR3HNX"
   },
   "source": [
    "Creiamo ora una funzione che istanzia un **grafo di alcune città italiane**, collegate dall'A1, l'A4, l'A14 e l'A13. Nota, è ragionevole usare un grafo non diretto."
   ]
  },
  {
   "cell_type": "code",
   "execution_count": 4,
   "metadata": {
    "executionInfo": {
     "elapsed": 15,
     "status": "ok",
     "timestamp": 1747810570214,
     "user": {
      "displayName": "Federico Fusco",
      "userId": "02627142181627947655"
     },
     "user_tz": -120
    },
    "id": "q_KFowTLu07D"
   },
   "outputs": [],
   "source": [
    "def buildCityGraph(graphType):\n",
    "    g = graphType()\n",
    "    cities = ('Milano', 'Bologna', 'Firenze', 'Roma', 'Pescara', 'Bari', 'Taranto', 'Torino', 'Venezia', 'Trieste', 'Napoli', 'Padova', 'Salerno', 'Potenza', 'Catanzaro', 'Reggio Calabria')\n",
    "    for city in cities: #Create 11 nodes\n",
    "        g.addNode(Node(city))\n",
    "    g.addEdge(Edge(g.getNode('Milano'), g.getNode('Bologna')))\n",
    "    g.addEdge(Edge(g.getNode('Bologna'), g.getNode('Firenze')))\n",
    "    g.addEdge(Edge(g.getNode('Firenze'), g.getNode('Roma')))\n",
    "    g.addEdge(Edge(g.getNode('Roma'), g.getNode('Napoli')))\n",
    "    g.addEdge(Edge(g.getNode('Bologna'), g.getNode('Pescara')))\n",
    "    g.addEdge(Edge(g.getNode('Pescara'), g.getNode('Bari')))\n",
    "    g.addEdge(Edge(g.getNode('Bari'), g.getNode('Taranto')))\n",
    "    g.addEdge(Edge(g.getNode('Torino'), g.getNode('Milano')))\n",
    "    g.addEdge(Edge(g.getNode('Milano'), g.getNode('Padova')))\n",
    "    g.addEdge(Edge(g.getNode('Padova'), g.getNode('Venezia')))\n",
    "    g.addEdge(Edge(g.getNode('Bologna'), g.getNode('Padova')))\n",
    "    g.addEdge(Edge(g.getNode('Venezia'), g.getNode('Trieste')))\n",
    "    g.addEdge(Edge(g.getNode('Salerno'), g.getNode('Potenza')))\n",
    "    g.addEdge(Edge(g.getNode('Potenza'), g.getNode('Catanzaro')))\n",
    "    g.addEdge(Edge(g.getNode('Catanzaro'), g.getNode('Reggio Calabria')))\n",
    "    return g"
   ]
  },
  {
   "cell_type": "markdown",
   "metadata": {
    "id": "O4JeMeBXPH88"
   },
   "source": [
    "Istanziamo il grafo e usiamo print per verificare sia tutto in ordine"
   ]
  },
  {
   "cell_type": "code",
   "execution_count": 5,
   "metadata": {
    "colab": {
     "base_uri": "https://localhost:8080/"
    },
    "executionInfo": {
     "elapsed": 25,
     "status": "ok",
     "timestamp": 1747810577230,
     "user": {
      "displayName": "Federico Fusco",
      "userId": "02627142181627947655"
     },
     "user_tz": -120
    },
    "id": "_WlryxxEu6FN",
    "outputId": "c4f417e8-e9df-40ba-a236-33e99b92d353"
   },
   "outputs": [
    {
     "name": "stdout",
     "output_type": "stream",
     "text": [
      "Milano->Bologna\n",
      "Milano->Torino\n",
      "Milano->Padova\n",
      "Bologna->Milano\n",
      "Bologna->Firenze\n",
      "Bologna->Pescara\n",
      "Bologna->Padova\n",
      "Firenze->Bologna\n",
      "Firenze->Roma\n",
      "Roma->Firenze\n",
      "Roma->Napoli\n",
      "Pescara->Bologna\n",
      "Pescara->Bari\n",
      "Bari->Pescara\n",
      "Bari->Taranto\n",
      "Taranto->Bari\n",
      "Torino->Milano\n",
      "Venezia->Padova\n",
      "Venezia->Trieste\n",
      "Trieste->Venezia\n",
      "Napoli->Roma\n",
      "Padova->Milano\n",
      "Padova->Venezia\n",
      "Padova->Bologna\n",
      "Salerno->Potenza\n",
      "Potenza->Salerno\n",
      "Potenza->Catanzaro\n",
      "Catanzaro->Potenza\n",
      "Catanzaro->Reggio Calabria\n",
      "Reggio Calabria->Catanzaro\n"
     ]
    }
   ],
   "source": [
    "g = buildCityGraph(Graph)\n",
    "print(g)"
   ]
  },
  {
   "cell_type": "markdown",
   "metadata": {
    "id": "KU5gsN2UPO-2"
   },
   "source": [
    "##**Depth-first search**##\n",
    "\n",
    "Descriviamo ora una funzione che ricerca il percorso minimo tra due nodi usando DFS\n"
   ]
  },
  {
   "cell_type": "code",
   "execution_count": 7,
   "metadata": {
    "executionInfo": {
     "elapsed": 19,
     "status": "ok",
     "timestamp": 1747810849357,
     "user": {
      "displayName": "Federico Fusco",
      "userId": "02627142181627947655"
     },
     "user_tz": -120
    },
    "id": "20lsG7YtPxpZ"
   },
   "outputs": [],
   "source": [
    "def printPath(path):\n",
    "    \"\"\"Assumes path is a list of nodes\"\"\"\n",
    "    result = ''\n",
    "    for i in range(len(path)):\n",
    "        result = result + str(path[i])\n",
    "        if i != len(path) - 1:\n",
    "            result = result + '->'\n",
    "    return result\n",
    "\n",
    "def DFS(graph, start, end, path, shortest, toPrint = False):\n",
    "    \"\"\"Assumes graph is a Digraph; start and end are nodes;\n",
    "          path and shortest are lists of nodes\n",
    "       Returns a shortest path from start to end in graph\"\"\"\n",
    "    path = path + [start]\n",
    "    if toPrint:\n",
    "        print('Current DFS path:', printPath(path))\n",
    "    if start == end:\n",
    "        return path\n",
    "    for node in graph.childrenOf(start):\n",
    "        if node not in path: #avoid cycles\n",
    "            if shortest == None or len(path) < len(shortest):\n",
    "                newPath = DFS(graph, node, end, path, shortest,\n",
    "                              toPrint)\n",
    "                if newPath != None:\n",
    "                    shortest = newPath\n",
    "        elif toPrint:\n",
    "            print('Already visited', node)\n",
    "    return shortest\n",
    "\n",
    "def shortestPath_DFS(graph, start, end, toPrint = False):\n",
    "    \"\"\"Assumes graph is a Digraph; start and end are nodes\n",
    "       Returns a shortest path from start to end in graph\"\"\"\n",
    "    return DFS(graph, start, end, [], None, toPrint)\n"
   ]
  },
  {
   "cell_type": "markdown",
   "metadata": {
    "id": "FeMR6WM-PxQh"
   },
   "source": [
    "Testiamo ora la DFS per trovare la distanza minima tra Torino e Napoli"
   ]
  },
  {
   "cell_type": "code",
   "execution_count": 10,
   "metadata": {
    "colab": {
     "base_uri": "https://localhost:8080/"
    },
    "executionInfo": {
     "elapsed": 16,
     "status": "ok",
     "timestamp": 1747811876006,
     "user": {
      "displayName": "Federico Fusco",
      "userId": "02627142181627947655"
     },
     "user_tz": -120
    },
    "id": "2ZzyqbvW-tSY",
    "outputId": "dc140128-8cc6-4161-b9c8-8118204a9e8b"
   },
   "outputs": [
    {
     "name": "stdout",
     "output_type": "stream",
     "text": [
      "Current DFS path: Napoli\n",
      "Current DFS path: Napoli->Roma\n",
      "Current DFS path: Napoli->Roma->Firenze\n",
      "Current DFS path: Napoli->Roma->Firenze->Bologna\n",
      "Current DFS path: Napoli->Roma->Firenze->Bologna->Milano\n",
      "Already visited Bologna\n",
      "Current DFS path: Napoli->Roma->Firenze->Bologna->Milano->Torino\n",
      "Current DFS path: Napoli->Roma->Firenze->Bologna->Milano->Padova\n",
      "Already visited Milano\n",
      "Already visited Bologna\n",
      "Already visited Firenze\n",
      "Current DFS path: Napoli->Roma->Firenze->Bologna->Pescara\n",
      "Already visited Bologna\n",
      "Current DFS path: Napoli->Roma->Firenze->Bologna->Pescara->Bari\n",
      "Already visited Pescara\n",
      "Current DFS path: Napoli->Roma->Firenze->Bologna->Padova\n",
      "Current DFS path: Napoli->Roma->Firenze->Bologna->Padova->Milano\n",
      "Already visited Bologna\n",
      "Already visited Padova\n",
      "Current DFS path: Napoli->Roma->Firenze->Bologna->Padova->Venezia\n",
      "Already visited Padova\n",
      "Already visited Bologna\n",
      "Already visited Roma\n",
      "Already visited Napoli\n",
      "Shortest path from Napoli to Torino is Napoli->Roma->Firenze->Bologna->Milano->Torino\n"
     ]
    }
   ],
   "source": [
    "def testSP_DFS(source, destination):\n",
    "    g = buildCityGraph(Graph)\n",
    "    sp = shortestPath_DFS(g, g.getNode(source), g.getNode(destination),\n",
    "                      toPrint = True)\n",
    "    if sp != None:\n",
    "        print('Shortest path from', source, 'to',\n",
    "              destination, 'is', printPath(sp))\n",
    "    else:\n",
    "        print('There is no path from', source, 'to', destination)\n",
    "\n",
    "testSP_DFS('Napoli', 'Torino')\n"
   ]
  },
  {
   "cell_type": "markdown",
   "metadata": {
    "id": "Kl6X-NrMP8lo"
   },
   "source": [
    "##**Breadth-first search**##\n",
    "\n",
    "Descriviamo ora una funzione che ricerca il percorso minimo tra due nodi usando BFS"
   ]
  },
  {
   "cell_type": "code",
   "execution_count": 12,
   "metadata": {
    "executionInfo": {
     "elapsed": 14,
     "status": "ok",
     "timestamp": 1747812091063,
     "user": {
      "displayName": "Federico Fusco",
      "userId": "02627142181627947655"
     },
     "user_tz": -120
    },
    "id": "JKpfCLH0P86w"
   },
   "outputs": [],
   "source": [
    "printQueue = True\n",
    "\n",
    "def BFS(graph, start, end, toPrint = False):\n",
    "    \"\"\"Assumes graph is a Digraph; start and end are nodes\n",
    "       Returns a shortest path from start to end in graph\"\"\"\n",
    "    initPath = [start]\n",
    "    pathQueue = [initPath]\n",
    "    while len(pathQueue) != 0:\n",
    "        #Get and remove oldest element in pathQueue\n",
    "        if printQueue:\n",
    "            print('Queue:', len(pathQueue))\n",
    "            for p in pathQueue:\n",
    "                print(printPath(p))\n",
    "        tmpPath = pathQueue.pop(0)\n",
    "        if toPrint:\n",
    "            print('Current BFS path:', printPath(tmpPath))\n",
    "            print()\n",
    "        lastNode = tmpPath[-1]\n",
    "        if lastNode == end:\n",
    "            return tmpPath\n",
    "        for nextNode in graph.childrenOf(lastNode):\n",
    "            if nextNode not in tmpPath:\n",
    "                newPath = tmpPath + [nextNode]\n",
    "                pathQueue.append(newPath)\n",
    "    return None\n"
   ]
  },
  {
   "cell_type": "markdown",
   "metadata": {
    "id": "hBZGev3dQmnl"
   },
   "source": [
    "Cerchiamo ora il percorso minimo tra Napoli e Torino usando BFS:"
   ]
  },
  {
   "cell_type": "code",
   "execution_count": 14,
   "metadata": {
    "colab": {
     "base_uri": "https://localhost:8080/"
    },
    "executionInfo": {
     "elapsed": 29,
     "status": "ok",
     "timestamp": 1747812362844,
     "user": {
      "displayName": "Federico Fusco",
      "userId": "02627142181627947655"
     },
     "user_tz": -120
    },
    "id": "pouegiXfQujK",
    "outputId": "a4808e1d-492d-4ef9-9b73-8799d1412df5"
   },
   "outputs": [
    {
     "name": "stdout",
     "output_type": "stream",
     "text": [
      "Queue: 1\n",
      "Napoli\n",
      "Current BFS path: Napoli\n",
      "\n",
      "Queue: 1\n",
      "Napoli->Roma\n",
      "Current BFS path: Napoli->Roma\n",
      "\n",
      "Queue: 1\n",
      "Napoli->Roma->Firenze\n",
      "Current BFS path: Napoli->Roma->Firenze\n",
      "\n",
      "Queue: 1\n",
      "Napoli->Roma->Firenze->Bologna\n",
      "Current BFS path: Napoli->Roma->Firenze->Bologna\n",
      "\n",
      "Queue: 3\n",
      "Napoli->Roma->Firenze->Bologna->Milano\n",
      "Napoli->Roma->Firenze->Bologna->Pescara\n",
      "Napoli->Roma->Firenze->Bologna->Padova\n",
      "Current BFS path: Napoli->Roma->Firenze->Bologna->Milano\n",
      "\n",
      "Queue: 4\n",
      "Napoli->Roma->Firenze->Bologna->Pescara\n",
      "Napoli->Roma->Firenze->Bologna->Padova\n",
      "Napoli->Roma->Firenze->Bologna->Milano->Torino\n",
      "Napoli->Roma->Firenze->Bologna->Milano->Padova\n",
      "Current BFS path: Napoli->Roma->Firenze->Bologna->Pescara\n",
      "\n",
      "Queue: 4\n",
      "Napoli->Roma->Firenze->Bologna->Padova\n",
      "Napoli->Roma->Firenze->Bologna->Milano->Torino\n",
      "Napoli->Roma->Firenze->Bologna->Milano->Padova\n",
      "Napoli->Roma->Firenze->Bologna->Pescara->Bari\n",
      "Current BFS path: Napoli->Roma->Firenze->Bologna->Padova\n",
      "\n",
      "Queue: 5\n",
      "Napoli->Roma->Firenze->Bologna->Milano->Torino\n",
      "Napoli->Roma->Firenze->Bologna->Milano->Padova\n",
      "Napoli->Roma->Firenze->Bologna->Pescara->Bari\n",
      "Napoli->Roma->Firenze->Bologna->Padova->Milano\n",
      "Napoli->Roma->Firenze->Bologna->Padova->Venezia\n",
      "Current BFS path: Napoli->Roma->Firenze->Bologna->Milano->Torino\n",
      "\n",
      "Shortest path from Napoli to Torino is Napoli->Roma->Firenze->Bologna->Milano->Torino\n"
     ]
    }
   ],
   "source": [
    "def shortestPath_BFS(graph, start, end, toPrint = False):\n",
    "    \"\"\"Assumes graph is a Digraph; start and end are nodes\n",
    "       Returns a shortest path from start to end in graph\"\"\"\n",
    "    return BFS(graph, start, end, toPrint)\n",
    "\n",
    "def testSP_BFS(source, destination):\n",
    "    g = buildCityGraph(Graph)\n",
    "    sp = shortestPath_BFS(g, g.getNode(source), g.getNode(destination),\n",
    "                      toPrint = True)\n",
    "    if sp != None:\n",
    "        print('Shortest path from', source, 'to',\n",
    "              destination, 'is', printPath(sp))\n",
    "    else:\n",
    "        print('There is no path from', source, 'to', destination)\n",
    "\n",
    "testSP_BFS('Napoli', 'Torino')"
   ]
  },
  {
   "cell_type": "markdown",
   "metadata": {
    "id": "XMmNoXaOSKcY"
   },
   "source": [
    "##**Componenti Connesse**##\n",
    "\n",
    "Qui studiamo come usare quanto visto finora per studiare la connessione di un grafo."
   ]
  },
  {
   "cell_type": "code",
   "execution_count": null,
   "metadata": {
    "id": "B774pt75SXuF"
   },
   "outputs": [],
   "source": [
    "def reachableFrom(graph, start):\n",
    "    \"\"\"Assumes graph is a Digraph; start is a node;\n",
    "      returns the list of nodes reachable from start.\"\"\"\n",
    "    reachableNodes = {start}\n",
    "    to_visit = []\n",
    "    for node in graph.childrenOf(start):\n",
    "      to_visit.append(node)\n",
    "    while len(to_visit) > 0:\n",
    "      node = to_visit.pop()\n",
    "      reachableNodes.add(node)\n",
    "      for child in graph.childrenOf(node):\n",
    "        if child not in reachableNodes:\n",
    "            to_visit.append(child)\n",
    "    return reachableNodes\n",
    "\n",
    "def printConnectedComponent(component):\n",
    "    \"\"\"print nodes in component\"\"\"\n",
    "    component = list(component)\n",
    "    result = ''\n",
    "    for i in range(len(component)):\n",
    "        result = result + str(component[i])\n",
    "        if i != len(component) - 1:\n",
    "            result = result + ', '\n",
    "    return result"
   ]
  },
  {
   "cell_type": "code",
   "execution_count": null,
   "metadata": {
    "colab": {
     "base_uri": "https://localhost:8080/",
     "height": 36
    },
    "executionInfo": {
     "elapsed": 348,
     "status": "ok",
     "timestamp": 1715120478313,
     "user": {
      "displayName": "Federico Fusco",
      "userId": "02627142181627947655"
     },
     "user_tz": -120
    },
    "id": "gheW0_lxXBS4",
    "outputId": "b9e93a7d-e53d-4f41-9851-af972de76307"
   },
   "outputs": [
    {
     "data": {
      "application/vnd.google.colaboratory.intrinsic+json": {
       "type": "string"
      },
      "text/plain": [
       "'Bologna, Torino, Trieste, Venezia, Taranto, Firenze, Roma, Padova, Napoli, Pescara, Milano, Bari'"
      ]
     },
     "execution_count": 11,
     "metadata": {},
     "output_type": "execute_result"
    }
   ],
   "source": [
    "printConnectedComponent(reachableFrom(g,g.getNode('Napoli')))"
   ]
  },
  {
   "cell_type": "markdown",
   "metadata": {
    "id": "P_aOqgeFZeiJ"
   },
   "source": [
    "Possiamo 'automatizzare' questo procedimento per verificare che un grafo (indiretto) sia connesso o no. NB: Quale è il tempo di esecuzione di questo algoritmo?"
   ]
  },
  {
   "cell_type": "code",
   "execution_count": null,
   "metadata": {
    "id": "hcuGPpoTZwT4"
   },
   "outputs": [],
   "source": [
    "def isConnected(graph):\n",
    "  nodes = g.getNodeList()\n",
    "  if nodes == []:\n",
    "    return True\n",
    "  start = nodes[0]\n",
    "  component = reachableFrom(g, start)\n",
    "  if len(component)!= len(nodes):\n",
    "    return False\n",
    "  return True"
   ]
  },
  {
   "cell_type": "markdown",
   "metadata": {
    "id": "Y-FZ5IaU4tOa"
   },
   "source": [
    "Effettivamente il grafo non è connesso: presenta due componenti connesse!"
   ]
  },
  {
   "cell_type": "code",
   "execution_count": null,
   "metadata": {
    "colab": {
     "base_uri": "https://localhost:8080/"
    },
    "executionInfo": {
     "elapsed": 270,
     "status": "ok",
     "timestamp": 1715120487670,
     "user": {
      "displayName": "Federico Fusco",
      "userId": "02627142181627947655"
     },
     "user_tz": -120
    },
    "id": "eFP-A8eTbJrB",
    "outputId": "413f5911-d952-4e71-8e66-8a7cf5e2486d"
   },
   "outputs": [
    {
     "data": {
      "text/plain": [
       "False"
      ]
     },
     "execution_count": 13,
     "metadata": {},
     "output_type": "execute_result"
    }
   ],
   "source": [
    "isConnected(g)"
   ]
  }
 ],
 "metadata": {
  "colab": {
   "provenance": []
  },
  "kernelspec": {
   "display_name": "Python 3 (ipykernel)",
   "language": "python",
   "name": "python3"
  },
  "language_info": {
   "codemirror_mode": {
    "name": "ipython",
    "version": 3
   },
   "file_extension": ".py",
   "mimetype": "text/x-python",
   "name": "python",
   "nbconvert_exporter": "python",
   "pygments_lexer": "ipython3",
   "version": "3.13.2"
  }
 },
 "nbformat": 4,
 "nbformat_minor": 4
}
