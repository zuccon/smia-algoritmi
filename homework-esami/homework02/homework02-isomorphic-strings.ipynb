{
 "cells": [
  {
   "cell_type": "markdown",
   "id": "bc630ed0-0fbf-4598-8be9-cc5c50d8acfd",
   "metadata": {},
   "source": [
    "# Homework 2: Isomorphic Strings\n",
    "\n",
    "add = egg"
   ]
  },
  {
   "cell_type": "code",
   "execution_count": null,
   "id": "6fceb294-8b4e-497e-973e-645ca5ce7f2f",
   "metadata": {},
   "outputs": [],
   "source": [
    "def isomorphic_strings(str_1=\"\",str_2=\"\"):\n",
    "    \"\"\"\n",
    "    ritorna True se le due stringhe sono isomorfe, False altrimenti.\n",
    "\n",
    "    se le stringhe sono di lunghezza diversa, \n",
    "      verifica che la sottostringa della stringa piu' lunga, \n",
    "      lunga quanto quella piu' corta, \n",
    "      sia isomorfa con la stringa piu' corta.\n",
    "      \n",
    "    due stringhe vuote rispettano la definizione di isomorfismo,\n",
    "      quindi seguendo il modo in cui gestiamo stringhe di lunghezza diversa,\n",
    "      una stringa vuota e' sempre isomorfa con una stringa non vuota.\n",
    "    \"\"\"\n",
    "    # non serve validare input, casi limite gia' gestiti.\n",
    "    \n",
    "    # init match map dict\n",
    "    matches={}\n",
    "\n",
    "    # scegliamo stringa piu' corta, sulla quale basare il loop.\n",
    "    if len(str_1) <= len(str_2):\n",
    "        # lower() qui usera' piu' memoria. aggiungere un nome a una variabile no, sara' solo un puntatore in piu'.\n",
    "        # lower() nel loop verra' chiamato a ogni iterazione e rallentera' il processing.\n",
    "        shorter_str = str_1.lower()\n",
    "        longer_str = str_2.lower()\n",
    "    else:\n",
    "        shorter_str = str_2.lower()\n",
    "        longer_str = str_1.lower()\n",
    "\n",
    "    # iteriamo sulla stringa corta\n",
    "    for i,c in enumerate(shorter_str):\n",
    "        # carattere gia' mappato\n",
    "        if c in matches.keys():\n",
    "            # mappatura non rispettata\n",
    "            if matches[c] != longer_str[i]:\n",
    "                return False\n",
    "        # carattere non mappato\n",
    "        else:\n",
    "            # valore presente sotto un'altra chiave\n",
    "            if longer_str[i] in matches.values():\n",
    "                return False\n",
    "            else:\n",
    "                matches[c] = longer_str[i]\n",
    "    # loop completato\n",
    "    else:\n",
    "        return True\n",
    "\n",
    "def main(str_1=\"\",str_2=\"\"):\n",
    "    return isomorphic_strings(str_1,str_2)"
   ]
  },
  {
   "cell_type": "code",
   "execution_count": null,
   "id": "2ceff808-5aef-4ff1-9d45-f7ff6c1f6d57",
   "metadata": {},
   "outputs": [],
   "source": [
    "main(\"pp\",\"tta\")"
   ]
  },
  {
   "cell_type": "code",
   "execution_count": null,
   "id": "a5c42084-8606-4b0d-a52d-1c4cca33ae20",
   "metadata": {},
   "outputs": [],
   "source": [
    "asd=\"asasd\"\n",
    "asd1=asd\n",
    "print(id(asd),id(asd1))\n",
    "asd2=asd.lower()\n",
    "print(id(asd),id(asd1),id(asd2))"
   ]
  },
  {
   "cell_type": "code",
   "execution_count": null,
   "id": "27e7641c-334f-4491-9231-acf5c77c16a3",
   "metadata": {},
   "outputs": [],
   "source": [
    "import random\n",
    "#import secrets\n",
    "def gen_isomorphic_strings(str_1_len=10,str_2_len=10):\n",
    "    \"\"\"\n",
    "    genera stringhe isomorfe\n",
    "    \"\"\"\n",
    "    alphabet=[ chr(i) for i in range(ord(\"a\"),ord(\"a\")+26) ]\n",
    "    alphabet_shuffled = alphabet.copy()\n",
    "    random.shuffle(alphabet_shuffled)\n",
    "    # generate match map\n",
    "    matches=dict(zip(alphabet,alphabet_shuffled))\n",
    "    ret_1=[]\n",
    "    ret_2=[]\n",
    "    \n",
    "    if str_1_len >= str_2_len:\n",
    "        longer = str_1_len\n",
    "    else:\n",
    "        longer = str_2_len\n",
    "        \n",
    "    for i in range(longer):\n",
    "        #c=secrets.choice(alphabet)\n",
    "        c=random.choice(alphabet)\n",
    "        ret_1.append(c)\n",
    "        ret_2.append(matches[c])\n",
    "\n",
    "    return \"\".join(ret_1[0:str_1_len]), \"\".join(ret_2[0:str_2_len])\n",
    "\n",
    "gen_isomorphic_strings()"
   ]
  }
 ],
 "metadata": {
  "kernelspec": {
   "display_name": "Python 3 (ipykernel)",
   "language": "python",
   "name": "python3"
  },
  "language_info": {
   "codemirror_mode": {
    "name": "ipython",
    "version": 3
   },
   "file_extension": ".py",
   "mimetype": "text/x-python",
   "name": "python",
   "nbconvert_exporter": "python",
   "pygments_lexer": "ipython3",
   "version": "3.13.3"
  }
 },
 "nbformat": 4,
 "nbformat_minor": 5
}
