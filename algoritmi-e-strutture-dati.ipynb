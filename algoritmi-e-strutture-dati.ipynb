{
 "cells": [
  {
   "cell_type": "markdown",
   "id": "2c4d2a89-66b9-453f-91d3-36ca4d1c8ead",
   "metadata": {},
   "source": [
    "# Algoritmi e Strutture Dati\n",
    "\n",
    "\n",
    "# TODO\n",
    "- formule latex - gia' funzionano, in markdown: $c = \\sqrt{a^2 + b^2}$\n",
    "- slider\n",
    "- plot easy\n",
    "- TOC per github https://github.com/HugoGuillen/ipythontoc"
   ]
  },
  {
   "cell_type": "code",
   "execution_count": 1,
   "id": "7fb7e49b-3179-4d4a-a32c-d03416799fa0",
   "metadata": {},
   "outputs": [
    {
     "data": {
      "text/latex": [
       "$\\displaystyle F(k) = \\int_{-\\infty}^{\\infty} f(x) e^{2\\pi i k} dx$"
      ],
      "text/plain": [
       "<IPython.core.display.Math object>"
      ]
     },
     "metadata": {},
     "output_type": "display_data"
    }
   ],
   "source": [
    "# formule latex in python\n",
    "from IPython.display import display, Math, Latex\n",
    "display(Math(r'F(k) = \\int_{-\\infty}^{\\infty} f(x) e^{2\\pi i k} dx'))"
   ]
  },
  {
   "cell_type": "markdown",
   "id": "f6df639f-cea9-47ae-a61e-93f0f86a00a1",
   "metadata": {},
   "source": [
    "# 05.03.2025 Insertion Sort\n",
    "\n"
   ]
  },
  {
   "cell_type": "code",
   "execution_count": 4,
   "id": "7d037ac8-e46b-48f1-ad82-3deb6b1928fd",
   "metadata": {},
   "outputs": [],
   "source": [
    "import random\n",
    "def make_random_list(length):\n",
    "    ret = []\n",
    "    for i in range(length):\n",
    "        ret.append(random.randint(0,length))\n",
    "    return ret"
   ]
  },
  {
   "cell_type": "code",
   "execution_count": 6,
   "id": "ba2733bf-380b-4197-9504-b17321803c42",
   "metadata": {},
   "outputs": [],
   "source": [
    "def insertion_sort(lista,n=None):\n",
    "    if n==None:\n",
    "        n=len(lista)\n",
    "    for i in range(1,n):\n",
    "        key = lista[i]\n",
    "        j=i-1\n",
    "        while j>=0 and lista[j]>key:\n",
    "            lista[j+1]=lista[j]\n",
    "            j=j-1\n",
    "        lista[j+1]=key"
   ]
  },
  {
   "cell_type": "code",
   "execution_count": null,
   "id": "aeec843a-4f6c-474f-bdaa-12139cde609d",
   "metadata": {},
   "outputs": [],
   "source": [
    "lista=[1,4,6,2,4,65]\n",
    "%time insertion_sort(lista)\n",
    "print(lista)\n",
    "\n",
    "lista=[3,5,5,7,8,3,45,3,8,7,345,578,2]\n",
    "%time insertion_sort(lista)\n",
    "print(lista)\n",
    "\n",
    "%time lista=make_random_list(10)\n",
    "%time insertion_sort(lista)\n",
    "print(lista)\n",
    "\n",
    "%time lista=make_random_list(100)\n",
    "%time insertion_sort(lista)"
   ]
  },
  {
   "cell_type": "markdown",
   "id": "f46ad20d-76d0-4f13-a936-9c73669ecb65",
   "metadata": {},
   "source": [
    "# 07.03.2025 Sottoarray threshold frequenza - Peak finder"
   ]
  },
  {
   "cell_type": "code",
   "execution_count": 23,
   "id": "6e30374a-ee54-439b-9e45-58cc6af7c8ea",
   "metadata": {},
   "outputs": [],
   "source": [
    "# input\n",
    "## array of integers len() <= 10**5 arr[i] <= 10**5\n",
    "arr = [1,2,3,4,5,3,3,3,3,4,5,6,2,4,5,3,4,5,6,7,3,4]\n",
    "# frequency threshold 1 <= threshold <= 10**3\n",
    "threshold = 2\n",
    "# trovare il sottoarray in cui un elemento si ripete piu' di threshold volte\n",
    "\n"
   ]
  },
  {
   "cell_type": "code",
   "execution_count": 5,
   "id": "015ca74e-992e-42c9-acd9-d043bc7c3edc",
   "metadata": {},
   "outputs": [],
   "source": [
    "import random\n",
    "def make_random_list(length):\n",
    "    \"\"\"\n",
    "    crea una lista di lunghezza `length` popolata di valori casuali da 0 a `length`\n",
    "    \"\"\"\n",
    "    ret = []\n",
    "    for i in range(length):\n",
    "        ret.append(random.randint(0,length))\n",
    "    return ret"
   ]
  },
  {
   "cell_type": "code",
   "execution_count": 52,
   "id": "6aeb55cb-d306-4ad5-99f3-77b9315731f0",
   "metadata": {},
   "outputs": [],
   "source": [
    "def sottoarray_freq(arr,threshold):\n",
    "    # scorri array\n",
    "    # dict valore { conto, primo, ultimo }\n",
    "    # per ogni valore piu' frequente di threshold\n",
    "    # trova prima e ultima occorrenza del valore\n",
    "    myvals={}\n",
    "    for i,v in enumerate(arr):\n",
    "        if v in myvals:\n",
    "            myvals[v]['count'] = myvals[v]['count']+1\n",
    "            myvals[v]['ultimo'] = i\n",
    "        else:\n",
    "            myvals[v]={}\n",
    "            myvals[v]['primo'] = i\n",
    "            myvals[v]['count'] = 1\n",
    "            myvals[v]['ultimo'] = i\n",
    "\n",
    "    smallest_subarray_len=len(arr)\n",
    "    smallest_value=0\n",
    "    for k,v in myvals.items():\n",
    "        if v['count'] > threshold:\n",
    "            if (v['ultimo']-v['primo']) < smallest_subarray_len:\n",
    "                smallest_value=k\n",
    "                smallest_subarray_len=v['ultimo']-v['primo']\n",
    "    \n",
    "    ret = {smallest_value: arr[myvals[smallest_value]['primo']:myvals[smallest_value]['ultimo']]}\n",
    "    return ret"
   ]
  },
  {
   "cell_type": "code",
   "execution_count": 46,
   "id": "229cbb1f-d822-4fcb-9b1b-47e9e2242811",
   "metadata": {},
   "outputs": [],
   "source": [
    "def sottoarray_freq_count(arr,threshold):\n",
    "    \"\"\"\n",
    "    variante che usa list.count() invece di incrementare un contatore.\n",
    "\n",
    "     o scorri array\n",
    "     o ret = dict { valore: { conto, primo, ultimo } }\n",
    "     o per ogni valore piu' frequente di threshold\n",
    "     o trova prima e ultima occorrenza del valore\n",
    "    \"\"\"\n",
    "    myvals={}\n",
    "    for i,v in enumerate(arr):\n",
    "        if v in myvals:\n",
    "            myvals[v]['ultimo'] = i\n",
    "        else:\n",
    "            myvals[v]={}\n",
    "            myvals[v]['primo'] = i\n",
    "            myvals[v]['count'] = arr.count(v)\n",
    "            myvals[v]['ultimo'] = i\n",
    "\n",
    "    smallest_subarray_len=len(arr)\n",
    "    smallest_value=0\n",
    "    for k,v in myvals.items():\n",
    "        if v['count'] > threshold:\n",
    "            if (v['ultimo']-v['primo']) < smallest_subarray_len:\n",
    "                smallest_value=k\n",
    "                smallest_subarray_len=v['ultimo']-v['primo']\n",
    "    \n",
    "    ret = {smallest_value: arr[myvals[smallest_value]['primo']:myvals[smallest_value]['ultimo']]}\n",
    "    return ret"
   ]
  },
  {
   "cell_type": "code",
   "execution_count": 57,
   "id": "7c4eef5e-3cbd-4959-b631-21dab9fe347f",
   "metadata": {},
   "outputs": [],
   "source": [
    "arr = make_random_list(300)"
   ]
  },
  {
   "cell_type": "code",
   "execution_count": 59,
   "id": "41b3f64a-7104-4f34-9ed7-4c9a904f765e",
   "metadata": {},
   "outputs": [
    {
     "name": "stdout",
     "output_type": "stream",
     "text": [
      "CPU times: user 207 μs, sys: 5 μs, total: 212 μs\n",
      "Wall time: 217 μs\n"
     ]
    },
    {
     "data": {
      "text/plain": [
       "{25: [25, 249, 22, 99, 25]}"
      ]
     },
     "execution_count": 59,
     "metadata": {},
     "output_type": "execute_result"
    }
   ],
   "source": [
    "%time sottoarray_freq(arr,2)"
   ]
  },
  {
   "cell_type": "code",
   "execution_count": 60,
   "id": "f9efbe12-da0a-4571-8c94-e940716090a2",
   "metadata": {},
   "outputs": [
    {
     "name": "stdout",
     "output_type": "stream",
     "text": [
      "CPU times: user 1.19 ms, sys: 0 ns, total: 1.19 ms\n",
      "Wall time: 1.2 ms\n"
     ]
    },
    {
     "data": {
      "text/plain": [
       "{25: [25, 249, 22, 99, 25]}"
      ]
     },
     "execution_count": 60,
     "metadata": {},
     "output_type": "execute_result"
    }
   ],
   "source": [
    "%time sottoarray_freq_count(arr,2)"
   ]
  },
  {
   "cell_type": "markdown",
   "id": "dbf4255f-00cc-48a4-9f0b-2a6acef546ed",
   "metadata": {},
   "source": [
    "# altre soluzioni\n",
    "\n",
    "## tutte le sottoliste\n",
    "\n",
    "2**N sicuro?\n",
    "\n",
    "## doppio for\n",
    "\n",
    "per"
   ]
  },
  {
   "cell_type": "markdown",
   "id": "fc0a0b56-6f3e-451c-9b23-b6781c877176",
   "metadata": {},
   "source": [
    "# nuovo problema: peak finder\n",
    "\n",
    "picco quando i-1 e i+1 < 1\n",
    "\n",
    "per i=0 i-1=-inf\n",
    "\n",
    "\n",
    "per i>len(arr) i+1=-inf"
   ]
  },
  {
   "cell_type": "code",
   "execution_count": 86,
   "id": "670b69eb-251b-40f3-a43f-5808219928f0",
   "metadata": {},
   "outputs": [],
   "source": [
    "def find_peaks(arr):\n",
    "    ret={}\n",
    "    last=len(arr)-1\n",
    "    for i,v in enumerate(arr):\n",
    "        if i==0:\n",
    "            if v > arr[i+i]:\n",
    "                ret[i]=['-inf', v, arr[i+1]]\n",
    "        elif i==last:\n",
    "            if v > arr[i-1]:\n",
    "                ret[i]=[arr[i-1], v, '-inf']\n",
    "                break\n",
    "        if arr[i-1] < v and arr[i+1] < v:\n",
    "          ret[i]=[arr[i-1], v, arr[i+1]]  \n",
    "    return ret"
   ]
  },
  {
   "cell_type": "code",
   "execution_count": 44,
   "id": "d0eef824-8964-4314-b7cb-18c9496310de",
   "metadata": {},
   "outputs": [],
   "source": [
    "def find_peaks_casilimite(arr):\n",
    "    ret={}\n",
    "    last=len(arr)-1\n",
    "    if arr[1] > arr[0]:\n",
    "        ret[0]=['-inf', arr[0], arr[1]]\n",
    "    if arr[-1] > arr[-2]:\n",
    "        ret[last]=[arr[-2], arr[-1], '-inf']\n",
    "    for i,v in enumerate(arr):\n",
    "        if (i>0 and i<last) and arr[i-1] < v and arr[i+1] < v:\n",
    "          ret[i]=[arr[i-1], v, arr[i+1]]  \n",
    "    return ret"
   ]
  },
  {
   "cell_type": "code",
   "execution_count": 92,
   "id": "4712a57e-e121-42b2-bf6d-4e4098ea0cb5",
   "metadata": {},
   "outputs": [
    {
     "name": "stdout",
     "output_type": "stream",
     "text": [
      "CPU times: user 89 μs, sys: 2 μs, total: 91 μs\n",
      "Wall time: 94.9 μs\n"
     ]
    }
   ],
   "source": [
    "%time a = find_peaks(arr)"
   ]
  },
  {
   "cell_type": "code",
   "execution_count": 93,
   "id": "969d645c-f6a5-4722-bd93-d7bb8b685a25",
   "metadata": {},
   "outputs": [
    {
     "name": "stdout",
     "output_type": "stream",
     "text": [
      "CPU times: user 84 μs, sys: 2 μs, total: 86 μs\n",
      "Wall time: 89.4 μs\n"
     ]
    }
   ],
   "source": [
    "%time a = find_peaks_casilimite(arr)"
   ]
  },
  {
   "cell_type": "code",
   "execution_count": 94,
   "id": "69f0504e-2654-4e0e-bb21-71c3e7a402d2",
   "metadata": {},
   "outputs": [],
   "source": [
    "a=[1,3,7,4,3,6,2]"
   ]
  },
  {
   "cell_type": "markdown",
   "id": "5dc975b3-1422-4c61-83bd-0e7238a3239d",
   "metadata": {},
   "source": [
    "ci sono caratteristiche geometriche per evitare di controllare tutti i numeri?\n",
    "\n",
    "binary search - divido la lista a meta'\n",
    "\n",
    "trovare un algoritmo <N in complessita'\n",
    "soluzione sublineare nell'ordine di log(N) emerge dal fatto che splittiamo l'albero\n"
   ]
  },
  {
   "cell_type": "markdown",
   "id": "baf48413-506c-4edc-859a-82910d906078",
   "metadata": {},
   "source": [
    "# 11.03.2025 find-a-peak (lez. precedente) - \n",
    "\n",
    "```python\n",
    "arr=[1,3,7,4,3,6,2]\n",
    "```\n",
    "\n",
    "i numeri potevano essere uguali\n",
    "\n",
    "```python\n",
    "arr[i] != arr[i+1]\n",
    "```\n",
    "\n",
    "-inf"
   ]
  },
  {
   "cell_type": "code",
   "execution_count": 43,
   "id": "cb350f87-2758-4691-a8a0-ef9f18c1b442",
   "metadata": {},
   "outputs": [],
   "source": [
    "def peak_element(arr):\n",
    "    \"\"\"\n",
    "    questa funzione ritorna l'index del primo picco trovato nell'array arr\n",
    "    note: per trovare tutti i picchi e' piu' efficiente questo o il precedente?\n",
    "    \"\"\"\n",
    "    n = len(arr)\n",
    "    # elemento singolo\n",
    "    if n==1:\n",
    "        return 0\n",
    "    if arr[0] > arr[1]:\n",
    "        return 0\n",
    "    if arr[n-1] > arr[n-2]:\n",
    "        return n-1\n",
    "\n",
    "    lo,hi=1,n-2\n",
    "    while lo <= hi:\n",
    "        mid = lo + (hi - lo) // 2  # floor division\n",
    "        # se l'elemento a mid e' un picco allora ritornalo\n",
    "        if arr[mid] > arr[mid-1] and arr[mid] > arr[mid+1]:\n",
    "            return mid\n",
    "        # se non accade ho due condizioni:\n",
    "        #   o dx e' >, allora il picco e' nel sottoarray dx\n",
    "        if arr[mid] < arr[mid+1]:\n",
    "            lo=mid+1\n",
    "        #   o altrimenti e' a sx e il picco nel sottoarray di sx\n",
    "        else:\n",
    "            hi=mid-1"
   ]
  },
  {
   "cell_type": "code",
   "execution_count": 7,
   "id": "015e0751-694f-47fa-8444-ce1c38b8047a",
   "metadata": {},
   "outputs": [],
   "source": [
    "arr=[1,2,4,5,7,8,3]"
   ]
  },
  {
   "cell_type": "markdown",
   "id": "7b7d20db-6e7d-4ec3-8b1c-5f5a3172f8f8",
   "metadata": {},
   "source": [
    "# recap settimana scorsa\n",
    "\n",
    "## sorting - insertion sort\n",
    "\n",
    "input \n",
    "\n",
    "```\n",
    "[a1,a2,..,an]\n",
    "```\n",
    "\n",
    "da riordinare in modo che\n",
    "\n",
    "```\n",
    "a1 <= a2 <= ... <= an\n",
    "```\n",
    "\n",
    "abbiamo pescato una carta per volta e posizionata nell'indice giusto dell'array\n",
    "\n",
    "REMINDER: ci sono due cose tra le altre che riteniamo piu' importanti in un algoritmo:\n",
    "- efficienza (ingenuamente chiamata tempo di esecuzione) ed efficienza spaziale\n",
    "- correttezza"
   ]
  },
  {
   "cell_type": "code",
   "execution_count": 20,
   "id": "8a97accf-5361-49f5-8671-79ae063046e3",
   "metadata": {},
   "outputs": [],
   "source": [
    "def insertion_sort(arr,n):\n",
    "    \"\"\"\n",
    "    pesca una carta per volta e la posiziona nell'indice giusto dell'array\n",
    "    \"\"\"\n",
    "    for i in range(1,n):\n",
    "        key = arr[i]\n",
    "        j = i-1\n",
    "        while j>0 and arr[j] > key:\n",
    "            a[j+1] = a[j]\n",
    "            j = j-1\n",
    "        arr[j+1] = key"
   ]
  },
  {
   "cell_type": "markdown",
   "id": "7368d861-6790-4d15-9108-ebbfb99b64c8",
   "metadata": {},
   "source": [
    "# Correttezza: Invarianza di ciclo\n",
    "\n",
    "Ora andiamo a vedere la correttezza. In particolare l'invarianza di ciclo.\n",
    "\n",
    "Si basa su tre fasi.\n",
    "\n",
    "Possiamo verificare che un algoritmo si comporta correttamente verificando queste tre proprieta'.\n",
    "\n",
    "## Fase 1: Inizializzazione\n",
    "\n",
    "All'inizio dell'algoritmo l'array e' ordinato: quando pesco la prima carta, per definizione essa sara' nel giusto ordine.\n",
    "\n",
    "Significa che quando inizia l'algoritmo, la proprieta' e' verificata.\n",
    "\n",
    "## Fase 2: Mantenimento\n",
    "\n",
    "Ad ogni iterazione `i+1` manteniamo l'ordinamento, ovvero all'`i`-esima iterazione il subarray di riferimento sara' ordinato.\n",
    "\n",
    "Parte centrale dell'algoritmo.\n",
    "\n",
    "Andrebbe dimostrata ma per ora ci fidiamo.\n",
    "\n",
    "## Fase 3: Termination - Finalizzazione\n",
    "\n",
    "Dopo l'ultima iterazione l'array di riferimento sara' ordinato - o la proprieta' dell'algoritmo sara' verificata."
   ]
  },
  {
   "cell_type": "markdown",
   "id": "85a7e271-6e86-449d-8ee7-ecc32230b29b",
   "metadata": {},
   "source": [
    "# Efficienza - Tempo di Esecuzione\n",
    "\n",
    "## Assumiamo il modello RAM: Random Access Machine\n",
    "\n",
    "Le operazioni sono eseguite una dopo l'altra.\n",
    "\n",
    "Cio' implica che non ci sono operazioni concurrent.\n",
    "\n",
    "## L'altra assunzione e' che ogni istruzione impiega lo stesso quantitativo di tempo di ogni altra istruzione.\n",
    "\n",
    "es. settare una variabile e richiamarla\n",
    "\n",
    "## Come misuro il tempo di esecuzione?\n",
    "\n",
    "### A. misuro con il cronometro (o `%time`)\n",
    "\n",
    "Problema: con input diversi ottengo tempi diversi, difficile calcolare la complessita'.\n",
    "\n",
    "### B. Quali caratteristiche dell'input dobbiamo andare a guardare?\n",
    "\n",
    "Quale combinazione?\n",
    "\n",
    "Best case: (es. insertion sort su n elementi) quando l'array e' gia' ordinato perche' salta il `while`.\n",
    "\n",
    "Worst case: l'array e' ordinato al contrario, `while` fara' il numero massimo di iterazioni.\n",
    "\n",
    "Per fare qualcosa di generalizzabile devo guardare al numero di elementi n.\n",
    "\n",
    "### Contiamo il numero di istruzioni e accesso ai dati\n",
    "\n",
    "Contiamo il costo contando quante volte le righe di codice vengono eseguiteContiamo il costo contando quante volte le righe di codice vengono eseguite"
   ]
  },
  {
   "cell_type": "code",
   "execution_count": 23,
   "id": "b9ff2eab-a845-439d-805a-37aaa3e93fdf",
   "metadata": {},
   "outputs": [],
   "source": [
    "def insertion_sort(arr,n):\n",
    "    \"\"\"\n",
    "    pesca una carta per volta e la posiziona nell'indice giusto dell'array\n",
    "    \"\"\"\n",
    "    for i in range(1,n):                       # C_1 eseguito N volte\n",
    "        key = arr[i]                           # C_2 eseguito N-1 volte\n",
    "        # commento                             # C_3 eseguito 0 volte\n",
    "        j = i-1                                # C_4 eseguito N-1 volte\n",
    "        while j>0 and arr[j] > key:            # C_5 eseguito un numero variabile di volte ∑ t_i\n",
    "            a[j+1] = a[j]                      # C_6 eseguito (∑ da i=1 a n di t_i - 1 )\n",
    "            j = j-1                            # C_7 eseguito (∑ da i=1 a n di t_i - 1 )\n",
    "        arr[j+1] = key                         # C_8 eseguito N-1 volte"
   ]
  },
  {
   "cell_type": "markdown",
   "id": "289c8561-2839-4454-b8a8-bb9388b0d1d0",
   "metadata": {},
   "source": [
    "# TODO latex?\n",
    "\n",
    "# Calcoliamo la complessita'\n",
    "```latex\n",
    "T(n) = C_1 * N \n",
    "+ C_2 * (N-1)\n",
    "+ C_3 * 0\n",
    "+ C_4 * (N-1)\n",
    "+ C_5 * (∑ t_i)\n",
    "+ C_6  * (∑ da i=1 a n di t_i - 1 )\n",
    "+ C_7 * (∑ da i=1 a n di t_i - 1 )\n",
    "+ C_8 * (N-1)\n",
    "```\n",
    "## Best Case\n",
    "```\n",
    "T(n)=\n",
    "C_1 * n\n",
    "+ C_2 * (N-1)\n",
    "+ C_3 * 0\n",
    "+ C_4 * (N-1)\n",
    "+ C_5 * (N-1)\n",
    "+ C_8 * (N-1)\n",
    "=\n",
    "C_1 * n + C_2 * n + C_4 * n + C_5 * n - C_5 + C_8 * n - C_8\n",
    "=\n",
    "(C_1 + C_2 + C_4 + C_5 + C_8 ) * n\n",
    "- (C_2 + C_4 + C_5 + C_8)\n",
    "->\n",
    "a*n + b = T(n)\n",
    "funzione lineare - linear function in N\n",
    "non e' male.\n",
    "```\n",
    "\n",
    "## Worst Case\n",
    "\n",
    "$$\n",
    "T(n) = C_1 \\cdot n + C_2 \\cdot (n-1) + C_3 \\cdot 0 + C_4 \\cdot (n-1) + C_5 \\cdot ( \\sum_{i=1}^{n}i ) + C_6 \\cdot ( ( \\sum_{i=1}^{n}i )-1 ) + C_7 \\cdot ( ( \\sum_{i=1}^{n}i )-1 )\n",
    "$$\n",
    "\n",
    "$$\n",
    "\\sum_{i=1}^{n}i\n",
    "$$\n",
    "\n",
    "```\n",
    "T(n) =\n",
    "C_1 * n\n",
    "+ C_2 * (N-1)\n",
    "+ C_4 * (N-1)\n",
    "+ C_5 * (∑ i=1 a N di i)\n",
    "+ C_6 * (∑ i=1 a N di i-1)\n",
    "+ C_7 * (∑ i=1 a N di i-1)\n",
    "+ C_8 * (N-1)\n",
    "=\n",
    "C_1 * n\n",
    "+ C_2 * (N-1)\n",
    "+ C_4 * (N-1)\n",
    "+ C_5 * ( (n*(n-1))/2) -1 )\n",
    "+ C_6 * (n*(n-1))/2\n",
    "+ C_7 * (n*(n-1))/2\n",
    "+ C_8 * (N-1)\n",
    "= C_1 * n\n",
    "+ C_2 * n\n",
    "- C_2\n",
    "+ C_4 * n\n",
    "- C_4\n",
    "...\n",
    "=\n",
    "\n",
    "=\n",
    "an**2+bn+c\n",
    "```\n",
    "```\n",
    "note ∑ da i=1 a N di i = (n*(n-1))/2\n",
    "```\n",
    "\n",
    "nel caso peggiore abbiamo qualcosa che dipende in maniera quadratica da N.\n",
    "\n",
    "ha lo stesso significato di un doppio for su N.\n"
   ]
  },
  {
   "cell_type": "code",
   "execution_count": null,
   "id": "c2c60160-799f-4eac-99e4-b49c05b74fb3",
   "metadata": {},
   "outputs": [],
   "source": []
  },
  {
   "cell_type": "markdown",
   "id": "a842fc68-077c-41de-9b5a-2534c5ae8a00",
   "metadata": {},
   "source": [
    "# 12.03.2025 La Lezione piu' Noiosa dell'Anno\n",
    "\n",
    "ieri abbiamo analizzato il costo dell'operazione per l'insertion sort per due casi specifici:\n",
    "- best case, quando l'array era gia' ordinato: an+b\n",
    "- worst case, quanto gli elementi erano ordinati in ordine decrescente: an^2+bn+c\n",
    "\n",
    "stiamo cercando di capire quanto sia efficiente, ora in termini di tempo, il nostro algoritmo.\n",
    "\n",
    "Abbiamo dei problemi a capire come fare. Cronometrare non e' la maniera migliore, e come abbiamo visto a seconda dei casi il conto puo' variare parecchio.\n",
    "\n",
    "\n",
    "Abbiamo quindi una discrepanza. Come la risolviamo?\n",
    "\n",
    "Definiamo diversi tempi computazionali:\n",
    "- best case\n",
    "- worst case\n",
    "- expected case - lo vedremo piu' avanti\n",
    "\n",
    "con qualche eccezione, durante il corso ci riferiremo normalmente al worst case. Perche'?\n",
    "\n",
    "## Perche' il Worst Case\n",
    "\n",
    "1. Perche' ci da delle garanzie che non potra' andare peggio di cosi'\n",
    "\"se qualcosa puo' andare storto, lo fara'\".\n",
    "Non dire mai al tuo capo che farai una cosa in una settimana se gli andra' bene fartela fare in due.\n",
    "2. Il caso peggiore potrebbe essere molto frequente. es. ricerca in un database. se l'elemento cercato non e' presente la tabella viene scorsa dall'inizio alla fine.\n",
    "3. Il caso \"medio\" spesso performa come il peggiore. es. nell'insertion sort\n",
    "\n",
    "Piu' che al calcolo preciso della complessita', siamo interessati a una misura approssimata, che sia piu' grossolana.\n",
    "\n",
    "In particolare la domanda e' che succede se faccio andare n a infinito?\n",
    "\n",
    "Succede che abbiamo quella che chiamiamo \"notazione asintotica\" che useremo per parlare della complessita' di un algoritmo.\n",
    "\n",
    "## Notazione Asintotica\n",
    "\n",
    "La piu' importante e' la O-grande notation, anche chiamata Beacon Notation.\n",
    "\n",
    "Informalmente\n",
    "\n",
    "\n",
    "### O-Grande Notation \n",
    "La notazione O-grande caratterizza un limite superiore (upper bound) sul comportamento asintotico di una funzione.\n",
    "\n",
    "Quindi ci dice che una funzione non cresce piu' velocemente di un certo tasso di crescita, determinato dal termine di ordine superiore.\n",
    "\n",
    "es.\n",
    "\n",
    "nell'espressione $$7n^3+100n^2-20n+6$$ il termine di ordine superiore e' $$n^3$$.\n",
    "\n",
    "Quindi possiamo dire che la funzione appartiene all'ordine $$O(n^3)$$.\n",
    "\n",
    "Quindi non crescera' neanche piu' di $$O(n^4)$$ per esempio. \n",
    "\n",
    "Quindi posso scrivere che sara' $$O(n^c)$$, $$ \\forall c \\ge 3$$.\n",
    "\n",
    "La notazione O-grande e' la piu' utilizzata e il concetto piu' importante di questa lezione.\n",
    "\n",
    "Altre notazioni sono:\n",
    "\n",
    "### Ω-Notation\n",
    "\n",
    "La Ω-notation caratterizza un limite inferiore sul comportamento asintotico di una funzione.\n",
    "\n",
    "Quindi ci dice che una funzione cresce almeno alla velocita' di un certo tasso di crescita, sempre basandosi su termini di ordine superiore.\n",
    "\n",
    "es.\n",
    "\n",
    "$$7n^3+100n^2-20n+6$$\n",
    "\n",
    "Il termine superiore e' $$n^3$$, in particolare possiamo dire che questa funzione e' $$\\omega(n^3)$$, ma anche di $$\\omega(n^2)$$ e $$\\omega(n)$$.\n",
    "\n",
    "In generale e'\n",
    "\n",
    "$$\\omega(n^c)$$, $$\\forall c \\le 3$$\n",
    "\n",
    "### Θ-Notation - Notazione Θ-grande\n",
    "\n",
    "Θ-notation caratterizza un tight-bound (limite stretto? T2C?) sul comportamento asintotico di una funzione.\n",
    "\n",
    "Questo ci dice che una funzione cresce precisamente a un certo tasso di crescita, determinato dal termine di ordine superiore.\n",
    "\n",
    "Se dimostriamo che una funzione e' sia O(f(n)) che Ω(f(n)), per qualche funzione f(n), allora abbiamo mostrato che la funzione e' Θ(f(n)).\n",
    "\n",
    "es. $$7n^3+100n^2-20n+6$$ e' O(n^3), e' Ω(n^3), quindi e' Θ(n^3)\n",
    "\n",
    "Usiamo Ω quando possiamo dire che un algoritmo andra' almeno in un modo, ma non sappiamo come andra' nel peggiore dei casi.\n",
    "\n",
    "La notazione Θ non viene usata moltissimo \n",
    "\n",
    "Per ragioni storiche O-grande viene usata molto di piu', anche nei casi in cui Θ-grande sarebbe piu' appropriato.\n",
    "\n",
    "### Torniamo a O-grande\n",
    "\n",
    "che e' un upper-bound asintotico.\n",
    "\n",
    "Per ogni funzione g(n), denotiamo con O(g(n)) l'insieme delle funzioni \n",
    "\n",
    "$$ O(g(n)) = \\left{ f(n): esistono delle costanti positive c e n_0 t.c. 0 \\le f(n) \\le c\\cdot g(n) per n \\ge n_0 \\right} $$\n",
    "\n",
    "\n",
    "## Piccola Preview di numpy e matplotlib\n",
    "\n",
    "numpy e' una lib per operazioni vettoriali e su matrici che semplifica\n",
    "\n",
    "matplotlib si utilizza per le visualizzazioni"
   ]
  },
  {
   "cell_type": "code",
   "execution_count": 5,
   "id": "78751a77-2d92-455a-a0c0-a966af908944",
   "metadata": {},
   "outputs": [
    {
     "data": {
      "image/png": "[encoded data removed]",
      "text/plain": [
       "<Figure size 1000x600 with 2 Axes>"
      ]
     },
     "metadata": {},
     "output_type": "display_data"
    }
   ],
   "source": [
    "# numpy e matplotlib\n",
    "import numpy as np\n",
    "import matplotlib.pyplot as plt\n",
    "\n",
    "\n",
    "n_range = np.linspace(1,100,400) # crea un vettore da 1 a 100 con 400 numeri\n",
    "c_range = np.linspace(1,100,400)\n",
    "\n",
    "# creo una griglia - esplodo le dimensioni, creo una matrice, un reticolo, usando\n",
    "# non essendo nel mondo simbolico ma computazionale, valuteremo la funzione su tutti questi punti per vedere quando la disuguaglianza e' verificata e quando non lo e'\n",
    "N, C = np.meshgrid(n_range, c_range)\n",
    "\n",
    "# f(n)\n",
    "# vogliamo capire se appartiene all'ordine di O(n**2)\n",
    "Z = 4*N**3 + 100*N + 500 - C*N**2\n",
    "\n",
    "# plot\n",
    "plt.figure(figsize=(10,6))\n",
    "\n",
    "# definiamo un contorno - contour plot\n",
    "contour = plt.contour(N,C,Z,levels=[np.min(Z),0],cmap=\"Greens\")\n",
    "plt.colorbar(contour)\n",
    "\n",
    "# plottiamo\n",
    "plt.title(\"Regions where 4*N**2+100*N+500-C*N**2 < 0\")\n",
    "plt.xlabel(\"n\")\n",
    "plt.ylabel(\"t\")\n",
    "plt.grid(True)\n",
    "plt.show()"
   ]
  },
  {
   "cell_type": "markdown",
   "id": "39bad21b-0d13-4034-82cf-614c84884e3c",
   "metadata": {},
   "source": [
    "l'area verde ci dira'\n",
    "\n",
    "da n_0 in poi la disuguaglianza e' verificata\n",
    "\n",
    "quindi f(n) appartiene effettivamente alla famiglia di n^2\n",
    "\n",
    "in particolare ci interessa quando assume valori negativi e quindi e' verificata la condizione.\n",
    "\n",
    "a seconda di c avro' degli n_0 diversi\n",
    "\n",
    "\n"
   ]
  },
  {
   "cell_type": "markdown",
   "id": "5ea7c246-29e1-4b5f-855b-14bdb9b3596e",
   "metadata": {},
   "source": [
    "# passiamo alla Ω-notation che e' il lower-bound asintotico.\n",
    "\n",
    "Data una funzione g(n), denotiamo con Ω(g(n)) l'insieme delle funzioni Ω(g(n)) = {f(n) t.c. esistono delle costanti positive c e n_0 t.c. 0<=c*g(n)<=f(n) \\forall n >= n_0 }\n",
    "\n",
    "es. grafico piu' intuitivo quaderno (1) e (2)"
   ]
  },
  {
   "cell_type": "markdown",
   "id": "b3a8b947-6c60-47df-adef-c4996aa588fa",
   "metadata": {},
   "source": [
    "# passiamo alla Θ-notation\n",
    "\n",
    "data una funzione g(n) denotiamo con Θ(g(n)) l'insieme delle funzioni Θ(g(n)) = {f(n) t.c. esistono delle costanti positive c_1,c_2 e n_0 t.c. 0 <= c_1*g(n) <= f(n) <= c_2*g(n) \\forall n>= n_0}\n",
    "\n",
    "quaderno (3)"
   ]
  },
  {
   "cell_type": "markdown",
   "id": "bb69d5e6-dd0b-4996-8ac5-db9702e5d287",
   "metadata": {},
   "source": [
    "da sapere che ci sono anche le notazioni o-piccola e omega-piccola che faremo in futuro\n",
    "\n",
    "da ricordare sempre la def di O-grande e la consapevolezza che viene usata in maniera impropria al posto di theta-grande"
   ]
  },
  {
   "cell_type": "markdown",
   "id": "9272f828-ebe3-483f-8eb8-00b1bdd8140d",
   "metadata": {},
   "source": [
    "# 14.03.2025 laboratorio - Homework 1 - Insertion Sort in Python\n",
    "\n",
    "Implementazione di insertion sort in Python.\n",
    "\n",
    "Importante rispettare categoricamente le condizioni della consegna.\n",
    "\n",
    "## Consegna\n",
    "\n",
    "1. Creare uno script in un file chiamato `<nome_cognome_matricola>.py`.\n",
    "2. Il modulo deve contenere l'implementazione dell'algoritmo Insertion Sort.\n",
    "3. Il file dovra' contenere la funzione `main(array=[])`.\n",
    "4. `main(array=[])` ritorna l'array ordinato.\n",
    "5. Codice ben commentato e facilmente leggibile.\n",
    "6. Gestione casi limite: array gia' ordinato, ordine inverso, numeri duplicati, array vuoto.\n",
    "7. Consegna entro il 21.03.2025 AoE Anywhere on Earth - si usa in ricerca per le deadline delle submission delle conferenze.\n",
    "8. File da uploadare in un google form usando l'account google universitario."
   ]
  },
  {
   "cell_type": "code",
   "execution_count": 11,
   "id": "e0d22027-7d49-45cc-96ed-054fdfb4ce19",
   "metadata": {},
   "outputs": [],
   "source": [
    "#!/usr/bin/env python3\n",
    "#\n",
    "# Homework 1\n",
    "# Deadline 21.03.2025 AoE Age of Empires\n",
    "\n",
    "def insertion_sort_originale(lista,n=None):\n",
    "    \"\"\"\n",
    "    implementazione originale\n",
    "    \n",
    "    lista: lista da sortare\n",
    "    n: indice fino al quale sortare, oppure sorta tutta la lista\n",
    "    \"\"\"\n",
    "    # in python se lavoro sulla lista passata in argomento, la lista originale verra' modificata.\n",
    "    # senza N lo sortiamo tutto\n",
    "    if n==None:\n",
    "        n=len(lista)\n",
    "    # gestiamo altri N sbagliati\n",
    "    if n>len(lista) or n<0:\n",
    "        n=len(lista)\n",
    "    # ciclo principale\n",
    "    for i in range(1,n):\n",
    "        valore_attuale = lista[i]\n",
    "        i_precedente = i-1\n",
    "        while i_precedente >= 0 and lista[i_precedente] > valore_attuale:\n",
    "            lista[i_precedente+1]=lista[i_precedente]\n",
    "            i_precedente=i_precedente-1\n",
    "        lista[i_precedente+1]=valore_attuale\n",
    "    return lista\n",
    "\n",
    "def insertion_sort_copy_list(lista,n=None):\n",
    "    \"\"\"\n",
    "    lavora su una copia della lista per non modificare quella originale passata come argomento.\n",
    "    \n",
    "    lista: lista da sortare\n",
    "    n: indice fino al quale sortare, oppure sorta tutta la lista\n",
    "    \"\"\"\n",
    "    # in python se lavoro sulla lista passata in argomento, la lista originale verra' modificata.\n",
    "    # quindi ne faccio una copia e lavoro su quella.\n",
    "    ret_lista = lista.copy()\n",
    "    # senza N lo sortiamo tutto\n",
    "    if n==None:\n",
    "        n=len(ret_lista)\n",
    "    # gestiamo altri N sbagliati\n",
    "    if n>len(ret_lista) or n<0:\n",
    "        n=len(ret_lista)\n",
    "    # ciclo principale\n",
    "    for i in range(1,n):\n",
    "        valore_attuale = ret_lista[i]\n",
    "        i_precedente = i-1\n",
    "        while i_precedente >= 0 and ret_lista[i_precedente] > valore_attuale:\n",
    "            ret_lista[i_precedente+1]=ret_lista[i_precedente]\n",
    "            i_precedente=i_precedente-1\n",
    "        ret_lista[i_precedente+1]=valore_attuale\n",
    "    return ret_lista\n",
    "\n",
    "def insertion_sort_copy_list_max_min(lista,n=None):\n",
    "    \"\"\"\n",
    "    salta il while se puo' mettere l'elemento all'inizio o alla fine.\n",
    "    \n",
    "    lista: lista da sortare\n",
    "    n: indice fino al quale sortare, oppure sorta tutta la lista\n",
    "    \"\"\"\n",
    "    # in python se lavoro sulla lista passata in argomento, la lista originale verra' modificata.\n",
    "    # quindi ne faccio una copia e lavoro su quella.\n",
    "    ret_lista = lista.copy()\n",
    "    # senza N lo sortiamo tutto\n",
    "    if n==None:\n",
    "        n=len(ret_lista)\n",
    "    # gestiamo altri N sbagliati\n",
    "    if n>len(ret_lista) or n<0:\n",
    "        n=len(ret_lista)\n",
    "\n",
    "    \n",
    "    # ciclo principale\n",
    "    for i in range(1,n): \n",
    "        valore_attuale = ret_lista[i]\n",
    "        i_precedente = i-1\n",
    "        while i_precedente >= 0 and ret_lista[i_precedente] > valore_attuale:\n",
    "            ret_lista[i_precedente+1]=ret_lista[i_precedente]\n",
    "            i_precedente=i_precedente-1\n",
    "        ret_lista[i_precedente+1]=valore_attuale\n",
    "    return ret_lista\n",
    "\n",
    "\n",
    "\n",
    "def insertion_sort_save_value(lista,n=None):\n",
    "    pass\n",
    "    \n",
    "def main(array):\n",
    "    return insertion_sort_zucconico(array)"
   ]
  },
  {
   "cell_type": "code",
   "execution_count": 54,
   "id": "6a5383a2-5791-4d56-9463-b0b7335729ec",
   "metadata": {},
   "outputs": [],
   "source": [
    "# Homework 1: Insertion Sort\n",
    "\n",
    "def insertion_sort_zucconico(lista,n=None):\n",
    "    \"\"\"\n",
    "    - usa una return list vuota, non modifica quella originale.\n",
    "    - ogni iterazione aggiunge un elemento della lista di input \n",
    "      all'indice giusto dell'array da ritornare.\n",
    "    \n",
    "    lista: lista da sortare\n",
    "    n: indice fino al quale sortare, oppure sorta tutta la lista\n",
    "    \"\"\"\n",
    "    if len(lista) == 0:\n",
    "        return []\n",
    "    ret_list = [lista[0]]\n",
    "    \n",
    "    # senza N lo sortiamo tutto\n",
    "    if n==None:\n",
    "        n=len(lista)\n",
    "    # gestiamo altri N sbagliati\n",
    "    if n>len(lista) or n<0:\n",
    "        n=len(lista)\n",
    "\n",
    "    # scorro tutto l'input\n",
    "    for i in range(1,n):\n",
    "        valore_attuale = lista[i]\n",
    "        # scorro la lista da ritornare per capire a che indice mettere il valore\n",
    "        for ret_i,val in enumerate(ret_list):\n",
    "            if valore_attuale <= val:\n",
    "                break\n",
    "        else:\n",
    "            ret_i=ret_i+1\n",
    "        # inserisco il valore all'indice corretto\n",
    "        ret_list.insert(ret_i,valore_attuale)\n",
    "    # popola il resto di ret_list coi valori originali se non era tutta da sortare\n",
    "    if n != len(lista):\n",
    "        ret_list+=lista[len(ret_list):]\n",
    "    return ret_list\n",
    "\n",
    "def main(lista=[]):\n",
    "    return insertion_sort_zucconico(lista)\n",
    "\n",
    "# print(main([]),main([7,3,3,3,5,7,2,3,4,2,5,78,36,6,0]),main([7,6,5,4,3,2,1]),main([1,2,3,4,5,6,7]))"
   ]
  },
  {
   "cell_type": "code",
   "execution_count": 3,
   "id": "57f4e28b-018e-4c5a-9d25-904d016e6d69",
   "metadata": {},
   "outputs": [],
   "source": [
    "def insertion_sort_zucconico_intervallato(lista,n=None):\n",
    "    \"\"\"\n",
    "    - usa una return list vuota, non modifica quella originale.\n",
    "    - ogni iterazione aggiunge un elemento della lista di input \n",
    "      all'indice giusto dell'array da ritornare.\n",
    "    - trova l'indice giusto dimezzando intervalli della lista da ritornare.\n",
    "    \n",
    "    lista: lista da sortare\n",
    "    n: indice fino al quale sortare, oppure sorta tutta la lista\n",
    "    \"\"\"\n",
    "    ret_list = [lista[0]]\n",
    "    \n",
    "    # senza N lo sortiamo tutto\n",
    "    if n==None:\n",
    "        n=len(lista)\n",
    "    # gestiamo altri N sbagliati\n",
    "    if n>len(lista) or n<0:\n",
    "        n=len(lista)\n",
    "\n",
    "    # scorro tutto l'input\n",
    "    for i in range(1,n):\n",
    "        valore_attuale = lista[i]\n",
    "\n",
    "        # dimezzo intervalli per capire a che indice mettere il valore\n",
    "        ret_i = dimezza_intervallo_ricorsiva(lista,valore_attuale,0,i-1)\n",
    "        print(ret_i)\n",
    "        ret_list.insert(ret_i,valore_attuale)\n",
    "    # popola il resto di ret_list coi valori originali se non era tutta da sortare\n",
    "    if n != len(lista):\n",
    "        ret_list+=lista[len(ret_list):]\n",
    "    return ret_list"
   ]
  },
  {
   "cell_type": "code",
   "execution_count": null,
   "id": "ec9c1a94-521d-448c-a361-10c8a9e53a5d",
   "metadata": {},
   "outputs": [],
   "source": [
    "def dimezza_intervalli(lista,numero):\n",
    "    \"\"\"\n",
    "    ritorna l'indice di numero in una lista crescente dimezzando gli intervalli\n",
    "    \"\"\"\n",
    "    len_lista=len(lista)\n",
    "    \n",
    "    sx_start=0\n",
    "    sx_end=len_lista//2\n",
    "    dx_start=len_lista//2\n",
    "    dx_end=len_lista-1\n",
    "    while len_intervallo>2:\n",
    "        # valore a sinistra\n",
    "        if valore_attuale >= lista[sx_start] and valore_attuale <= lista[sx_end]:\n",
    "            dx_end=sx_end\n",
    "            sx_end=sx_start+((sx_end-sx_start)//2)\n",
    "            dx_start=sx_end\n",
    "        # siamo a destra\n",
    "        elif valore_attuale >= lista[dx_start] and valore_attuale <= lista[dx_end]:\n",
    "            sx_start=dx_start\n",
    "            sx_end=sx_start+((dx_end-dx_start)//2)\n",
    "            dx_start=sx_end"
   ]
  },
  {
   "cell_type": "code",
   "execution_count": 21,
   "id": "e5a94789-c332-4a73-85df-21c0e0d5fbb4",
   "metadata": {},
   "outputs": [],
   "source": [
    "def dimezza_intervallo_ricorsiva(lista,numero,i_low,i_high):\n",
    "    \"\"\"\n",
    "    nel resto del mondo si chiama binary search. g2k :-)\n",
    "    \"\"\"\n",
    "    # caso base, niente da dimezzare.\n",
    "    if i_high==i_low:\n",
    "        if numero >= lista[i_high]:\n",
    "            return i_high+1\n",
    "        else:\n",
    "            return i_high\n",
    "    else:\n",
    "        i_mid=i_low+((i_high-i_low)//2)\n",
    "        sx = {'start': i_low, 'end': i_mid}\n",
    "        dx = {'start': i_mid+1, 'end': i_high}\n",
    "        print(sx,dx)\n",
    "        if numero >= lista[sx['start']] and numero < lista[sx['end']]:\n",
    "            return dimezza_intervallo_ricorsiva(lista,numero,sx['start'],sx['end'])\n",
    "        elif numero >= lista[dx['start']] and numero <= lista[dx['end']]:\n",
    "            return dimezza_intervallo_ricorsiva(lista,numero,dx['start'],dx['end'])\n",
    "        "
   ]
  },
  {
   "cell_type": "code",
   "execution_count": 22,
   "id": "b513d72a-fb07-4b0e-a6d4-86f29d2456ef",
   "metadata": {},
   "outputs": [],
   "source": [
    "def dimezza(lista,numero):\n",
    "    # iterativo\n",
    "    i_mid = (i_low+i_high)//2\n",
    "    while numero != i_mid:\n",
    "        if numero == i_mid:\n",
    "            return i_mid\n",
    "        if numero < i_mid:\n",
    "            i_high = i_mid - 1\n",
    "        if numero > i_mid:\n",
    "            i_low = i_mid + 1\n",
    "        i_mid = (i_low+i_high)//2"
   ]
  },
  {
   "cell_type": "code",
   "execution_count": 36,
   "id": "84af4cfe-9bde-4849-b31f-712c227fab2f",
   "metadata": {},
   "outputs": [
    {
     "name": "stdout",
     "output_type": "stream",
     "text": [
      "[2, 1, 7, 10, 9, 14, 14, 8, 14, 13, 9, 20, 9, 20, 3, 1, 15, 6, 6, 2]\n",
      "[1, 1, 2, 2, 3, 6, 6, 7, 8, 9, 9, 9, 10, 13, 14, 14, 14, 15, 20, 20]\n",
      "CPU times: user 99 μs, sys: 17 μs, total: 116 μs\n",
      "Wall time: 126 μs\n",
      "[1, 1, 2, 2, 3, 6, 6, 7, 8, 9, 9, 9, 10, 13, 14, 14, 14, 15, 20, 20]\n",
      "CPU times: user 184 μs, sys: 0 ns, total: 184 μs\n",
      "Wall time: 195 μs\n"
     ]
    }
   ],
   "source": [
    "l=make_random_list(20)\n",
    "print(l)\n",
    "%time print(insertion_sort_copy_list(l))\n",
    "%time print(insertion_sort_zucconico(l))"
   ]
  },
  {
   "cell_type": "code",
   "execution_count": 37,
   "id": "bb2f9ebd-308a-4a2f-8646-0b7aaa81bbb1",
   "metadata": {},
   "outputs": [
    {
     "name": "stdout",
     "output_type": "stream",
     "text": [
      "0\n",
      "{'start': 0, 'end': 0} {'start': 1, 'end': 1}\n",
      "None\n"
     ]
    },
    {
     "ename": "TypeError",
     "evalue": "'NoneType' object cannot be interpreted as an integer",
     "output_type": "error",
     "traceback": [
      "\u001b[31m---------------------------------------------------------------------------\u001b[39m",
      "\u001b[31mTypeError\u001b[39m                                 Traceback (most recent call last)",
      "\u001b[36mFile \u001b[39m\u001b[32m<timed eval>:1\u001b[39m\n",
      "\u001b[36mCell\u001b[39m\u001b[36m \u001b[39m\u001b[32mIn[3]\u001b[39m\u001b[32m, line 27\u001b[39m, in \u001b[36minsertion_sort_zucconico_intervallato\u001b[39m\u001b[34m(lista, n)\u001b[39m\n\u001b[32m     25\u001b[39m     ret_i = dimezza_intervallo_ricorsiva(lista,valore_attuale,\u001b[32m0\u001b[39m,i-\u001b[32m1\u001b[39m)\n\u001b[32m     26\u001b[39m     \u001b[38;5;28mprint\u001b[39m(ret_i)\n\u001b[32m---> \u001b[39m\u001b[32m27\u001b[39m     \u001b[43mret_list\u001b[49m\u001b[43m.\u001b[49m\u001b[43minsert\u001b[49m\u001b[43m(\u001b[49m\u001b[43mret_i\u001b[49m\u001b[43m,\u001b[49m\u001b[43mvalore_attuale\u001b[49m\u001b[43m)\u001b[49m\n\u001b[32m     28\u001b[39m \u001b[38;5;66;03m# popola il resto di ret_list coi valori originali se non era tutta da sortare\u001b[39;00m\n\u001b[32m     29\u001b[39m \u001b[38;5;28;01mif\u001b[39;00m n != \u001b[38;5;28mlen\u001b[39m(lista):\n",
      "\u001b[31mTypeError\u001b[39m: 'NoneType' object cannot be interpreted as an integer"
     ]
    }
   ],
   "source": [
    "%time print(insertion_sort_zucconico_intervallato(l))"
   ]
  },
  {
   "cell_type": "markdown",
   "id": "25516ca2-b5fa-4ac7-a5b0-925c6bdedd01",
   "metadata": {},
   "source": [
    "# Balanced Parenthesis\n",
    "\n",
    "Viene fornita una stringa con alfabeto di sole parentesi\n",
    "\n",
    "\n",
    "Ritorna un boolean `is_balanced` che indica se le parentesi matchano in ordine."
   ]
  },
  {
   "cell_type": "code",
   "execution_count": 17,
   "id": "10986fa7-c8da-4bab-a468-f14289b47963",
   "metadata": {},
   "outputs": [],
   "source": [
    "def validate_bracket_string(stringa):\n",
    "    \"\"\"\n",
    "    valida una stringa che deve essere di sole parentesi\n",
    "    \"\"\"\n",
    "    pass"
   ]
  },
  {
   "cell_type": "code",
   "execution_count": 19,
   "id": "bac753ea-a6d0-41f5-90da-a58e54dc0394",
   "metadata": {},
   "outputs": [],
   "source": [
    "import random\n",
    "\n",
    "def generate_random_bracket_string(length):\n",
    "    \"\"\"\n",
    "    funzione inutile cosi' com'e' fatta perche' non genera (quasi) mai parentesi che matchano\n",
    "    \"\"\"\n",
    "    ret=[]\n",
    "    alphabet=\"{}[]()\"\n",
    "    alphabet_length = len(alphabet)\n",
    "    for i in range(length):\n",
    "        ret.append(alphabet[random.randint(0,1000)%alphabet_length])\n",
    "    return \"\".join(ret)"
   ]
  },
  {
   "cell_type": "code",
   "execution_count": 29,
   "id": "6d4d7a62-70c8-4e05-aea9-cd525928485e",
   "metadata": {},
   "outputs": [],
   "source": [
    "# scorre tutto l'array\n",
    "# c e' aperto\n",
    "# e incrementa o decrementa il conto delle parentesi\n",
    "\n",
    "# usa un dict per le matching brackets\n",
    "\n",
    "\n",
    "# insieme:\n",
    "# - parentesi aperta: va bene\n",
    "# - parentesi chiusa: c'e' una parentesi aperta prima?\n",
    "# serve una lista open_brackets=[] per tenere traccia delle parentesi aperte\n",
    "# faccio un for char in string\n",
    "#   if is_open: open_brackets.append(char)\n",
    "#   else:\n",
    "\n",
    "def is_balanced_fatto_insieme(stringa):\n",
    "    matching_brackets={\"[\",\"]\",\"{\",\"}\",\"(\",\")\"}\n",
    "    opening_brackets=\"[{(\"\n",
    "    open_brackets=[]\n",
    "    for char in stringa:\n",
    "        if char in opening_brackets:\n",
    "            open_brackets.append(char)\n",
    "        else:\n",
    "            # se la lista e' vuota non ci piace\n",
    "            if len(open_brackets) == 0:\n",
    "                return False\n",
    "            # confronto se char matcha l'ultimo elemento di open_brackets usando il dict\n",
    "            # rimuovo l'ultimo elemento\n",
    "            if char == matching_brackets[open_brackets.pop()]:\n",
    "                continue\n",
    "            else:\n",
    "                return False\n",
    "    # controllo che open_brackets e' vuoto\n",
    "    if len(open_brackets) > 0:\n",
    "        return False\n",
    "    \n",
    "    return True        "
   ]
  },
  {
   "cell_type": "markdown",
   "id": "04fc081b-aa45-46c6-8d5a-464a3b5f996e",
   "metadata": {},
   "source": [
    "# Passiamo all'homework\n",
    "# Adesso ci confondiamo un po' le idee, vedendo come avremmo dovuto consegnare in un'altra vita.\n",
    "# Introduciamo la libreria `argparse`\n",
    "\n",
    "\n",
    "\n",
    "```python\n",
    "import argparse\n",
    "\n",
    "def main(s):\n",
    "    print(s)\n",
    "\n",
    "# controlla se il file .py e' stato eseguito. non si verifica se il file e' stato importato come libreria.\n",
    "if __name__ == \"__main__\":\n",
    "    parser = argparse.ArgumentParser()\n",
    "    parser.add_argument(\"-s\",type=str,help=\"s e' la stringa da stampare\")\n",
    "    args = parser.parse_args()\n",
    "    main(args.s)\n",
    "    main()\n",
    "```"
   ]
  },
  {
   "cell_type": "markdown",
   "id": "cd5f96d9-de57-4fd6-a109-91d2b3ff5aee",
   "metadata": {},
   "source": [
    "# Nuovo esercizio: Robot Path Simulator\n",
    "\n",
    "Programmiamo un robot che si muove in una griglia 2d partendo da 0,0 affacciandosi a nord.\n",
    "\n",
    "una stringa di istruzione comanda il robot es. F forward L ruota a sx R ruota a destra\n",
    "\n",
    "una funzione tornera' True se il robot torna a 0,0 e False altrimenti.\n",
    "\n",
    "nord=(,+1)\n",
    "est=(+1,)"
   ]
  },
  {
   "cell_type": "code",
   "execution_count": 17,
   "id": "1d5674ad-c7b7-4e1c-919d-68fc81644a9f",
   "metadata": {},
   "outputs": [],
   "source": [
    "def is_robot_back_to_start(lista_movimenti):\n",
    "    # per determinare la direzione uso un array di sommatori/sottrattori di coordinate.\n",
    "    # avanzare sara' la somma element-wise degli array posizione_attuale e direzione.\n",
    "    # cambiare direzione sara' incrementare o decrementare l'integer segna-indice \n",
    "    #   dell'array direzione.\n",
    "    # per rendere l'array circolare l'indice verra' ottenuto col modulo: \n",
    "    #   indice = posizione_indice % len(direzioni)\n",
    "    direzioni=[\n",
    "        # [ x, y]\n",
    "          [ 0, 1], # nord \n",
    "          [-1, 0], # sinistra \n",
    "          [ 0,-1], # sud \n",
    "          [ 1, 0]  # destra\n",
    "    ]\n",
    "    # indice di direzioni[] per ricordare la direzione attuale. inizia orientato verso nord\n",
    "    direzione_indice=0\n",
    "    # inizia dal centro\n",
    "    posizione=[0,0]\n",
    "    for movimento in lista_movimenti:\n",
    "        if movimento == \"F\":\n",
    "            # avanza\n",
    "            direzione = direzione_indice % len(direzioni)\n",
    "            posizione[0] = posizione[0] + direzioni[direzione][0]\n",
    "            posizione[1] = posizione[1] + direzioni[direzione][1]\n",
    "        if movimento == \"L\":\n",
    "            # gira a sinistra\n",
    "            direzione_indice = direzione_indice - 1\n",
    "        if movimento == \"R\":\n",
    "            # gira a destra\n",
    "            direzione_indice = direzione_indice + 1\n",
    "    if posizione == [0,0]:\n",
    "        return True\n",
    "    else:\n",
    "        return False"
   ]
  },
  {
   "cell_type": "code",
   "execution_count": 18,
   "id": "d8d46b1f-4536-4bb2-bdb7-193c26026587",
   "metadata": {},
   "outputs": [
    {
     "data": {
      "text/plain": [
       "True"
      ]
     },
     "execution_count": 18,
     "metadata": {},
     "output_type": "execute_result"
    }
   ],
   "source": [
    "movimenti=\"FFFLLLLLLFFF\"\n",
    "is_robot_back_to_start(movimenti)"
   ]
  },
  {
   "cell_type": "markdown",
   "id": "bd2a0798-88aa-4ee8-acde-e2c2dbd344fe",
   "metadata": {},
   "source": [
    "# 19.03.2025 Merge Sort - Divide and Conquer\n",
    "\n",
    "Qual'e' il problema di insertion sort?\n",
    "\n",
    "Andando avanti nell'algoritmo abbiamo sempre piu' valori da comparare\n",
    "\n",
    "Cerchiamo una strategia che consenta di fare meno comparazioni.\n",
    "\n",
    "# Divide et Impera\n",
    "\n",
    "Parentesi sulla ricorsione \n",
    "\n",
    "L'idea dietro la funzione di Fibonacci era di trovare l'N-esimo numero della serie.\n",
    "\n",
    "Ricorsione:\n",
    "- caso base\n",
    "- funzione chiama se stessa\n",
    "\n",
    "Fibonacci:\n",
    "\n",
    "```python\n",
    "def fibonacci(n):\n",
    "  # caso base\n",
    "  if n==0 or n==1:\n",
    "    return n\n",
    "  # funzione chiama se stessa\n",
    "  return fibonacci(n-1) + fibonacci(n-2)\n",
    "```\n",
    "\n",
    "TODO visualizzazione alberi di ricorsione?\n",
    "\n",
    "Questa va come $n^n$ o e' comunque altamente inefficiente.\n",
    "\n",
    "\n",
    "Divide et Impera\n",
    "\n",
    "metodologia divisa in tre fasi\n",
    "\n",
    "## Divide\n",
    "\n",
    "Dividiamo il problema in uno o piu' sottoproblemi, che sono delle istanze piu' piccole dello stesso problema.\n",
    "\n",
    "## Impera - Conquer - Conquista\n",
    "\n",
    "Risolve il sottoproblema ricorsivamente.\n",
    "\n",
    "## Combine\n",
    "\n",
    "L'ultima fase e' quella del Combine.\n",
    "\n",
    "Le soluzioni al sottoproblema vengono combinate per formare una soluzione del problema originale.\n",
    "\n",
    "\n",
    "Ora utilizziamo questa tecnica per creare il prossimo algoritmo.\n",
    "\n",
    "Vogliamo ordinare un array con meno comparazioni di Insertion Sort, nel quale al crescere di N aumenta il numero di comparazioni.\n",
    "\n",
    "```python\n",
    "array = [1,3,3,7]\n",
    "```\n",
    "\n",
    "Prima fase: lo divido in due sottoarray:\n",
    "\n",
    "```python\n",
    "array_1 = [1,3]\n",
    "array_2 = [3,7]\n",
    "```\n",
    "\n",
    "Divido ancora\n",
    "\n",
    "```python\n",
    "array_1_1 = [1]\n",
    "array_1_2 = [3]\n",
    "array_2_1 = [3]\n",
    "array_2_2 = [7]\n",
    "```\n",
    "\n",
    "Notiamo che questi array con un elemento sono gia' ordinati di loro.\n",
    "\n",
    "Devo ora andarli ad accorpare nell'ordine giusto - merge.\n",
    "\n",
    "```python\n",
    "array_1 = array_1_1 + array_1_2\n",
    "array_2 = array_2_1 + array_2_1\n",
    "array = array_1 + array_2\n",
    "```\n",
    "\n",
    "TODO disegno albero split e merge\n",
    "\n",
    "In questo caso l'array era gia' ordinato.\n",
    "\n",
    "E' importante che durante il merge i sottoarray siano gia' ordinati.\n",
    "\n",
    "Soprattutto cerchiamo di ottenere un tempo di esecuzione breve.\n",
    "\n",
    "\n",
    "### Merge-Sort\n",
    "\n",
    "```python\n",
    "A = [1,5,10,11,12]\n",
    "B = [4,7,8,9,20]\n",
    "```\n",
    "\n",
    "Mettiamo un puntatore sulle due liste e confrontiamo elemento per elemento element-wise.\n",
    "\n",
    "Confronto \n",
    "```python\n",
    "# A[0] e B[0] -> A[0]\n",
    "C = [1]\n",
    "# A[1] e B[0] -> B[0]\n",
    "C=[1,4]\n",
    "# A[1] e B[1] -> A[1]\n",
    "C=[1,4,5]\n",
    "# A[2] e B[1]\n",
    "C=[1,4,5,7]\n",
    "```\n",
    "\n",
    "Sposto il puntatore all'indice successivo e confronto.\n",
    "\n",
    "Sfuttando l'assunzione che i due array siano ordinati, riusciamo ad avere un algoritmo con complessita' $O(n)$.\n",
    "\n",
    "Meet point q.\n",
    "\n",
    "#### Divide\n",
    "\n",
    "Dividiamo l'array a meta' in due: A[q,r] -> A[p,q] e A[q+1,r]\n",
    "\n",
    "#### Conquer\n",
    "\n",
    "Sortiamo i due sottoarray con Merge-Sort.\n",
    "\n",
    "#### Combine\n",
    "\n",
    "Combiniamo i due sottoarray ordinati.\n",
    "\n",
    "\n",
    "```python\n",
    "# nota: stavolta il libro inizia l'array dall'indice 0 anziche' da 1\n",
    "def merge(A,p,q,r):\n",
    "    \"\"\"\n",
    "        merge di due array\n",
    "        q = split point\n",
    "        p = indice iniziale\n",
    "        r = indice finale\n",
    "    \"\"\"\n",
    "    n_l = q - p+1     # A[p,q]\n",
    "    n_r = r - q       # A[q+1,r]\n",
    "    # inizializza array L = A[0:n_l-1]\n",
    "    # inizializza array R = A[0:n_r-1]\n",
    "    L = []\n",
    "    R = []\n",
    "    for i in range(0,n_l-1):\n",
    "        L[i] = A[p+i]\n",
    "    for j in range(0,n_r-1):\n",
    "        R[j] = A[q+j+1]\n",
    "    i=0\n",
    "    j=0\n",
    "    k=p\n",
    "    while i<n_l and j<n_r:\n",
    "        if L[i] <= R[j]:\n",
    "            A[k] = L[i]\n",
    "            i=i+1\n",
    "        else:\n",
    "            A[k]=R[j]\n",
    "            j=j+1\n",
    "        k=k+1\n",
    "```\n",
    "\n",
    "```python\n",
    "def merge_sort(A,p,r):\n",
    "    # caso base\n",
    "    if p >= r:\n",
    "        return\n",
    "    # definisco il punto centrale dell'array\n",
    "    q = (p+r) // 2\n",
    "    merge_sort(A,p,q)\n",
    "    merge_sort(A,q+1,r)\n",
    "    merge(A,p,q,r)\n",
    "    return A\n",
    "\n",
    "```"
   ]
  },
  {
   "cell_type": "code",
   "execution_count": 1,
   "id": "169c09ee-7a9b-41ff-934d-817236ef72ff",
   "metadata": {},
   "outputs": [],
   "source": [
    "def merge(A,p,q,r):\n",
    "    \"\"\"\n",
    "        merge di due array\n",
    "        q = split point\n",
    "        p = indice iniziale\n",
    "        r = indice finale\n",
    "    \"\"\"\n",
    "    n_l = q - p+1     # A[p:q]\n",
    "    n_r = r - q       # A[q+1:r]\n",
    "    # inizializza array L = A[0:n_l-1]\n",
    "    # inizializza array R = A[0:n_r-1]\n",
    "    L = A[p:q]\n",
    "    R = A[q+1:r]\n",
    "    # for i in range(0,n_l-1):\n",
    "    #     L[i] = A[p+i]\n",
    "    # for j in range(0,n_r-1):\n",
    "    #     R[j] = A[q+j+1]\n",
    "    i=0\n",
    "    j=0\n",
    "    k=p\n",
    "    while i<n_l-1 and j<n_r-1:\n",
    "        if L[i] <= R[j]:\n",
    "            A[k] = L[i]\n",
    "            i=i+1\n",
    "        else:\n",
    "            A[k]=R[j]\n",
    "            j=j+1\n",
    "        k=k+1\n",
    "\n",
    "def merge_sort(A,p,r):\n",
    "    # caso base len(A)=2 p=0,q=2//2=1,r=1\n",
    "    if p >= r:\n",
    "        return\n",
    "    # definisco il punto centrale dell'array\n",
    "    q = (p+r) // 2\n",
    "    merge_sort(A,p,q)\n",
    "    merge_sort(A,q+1,r)\n",
    "    merge(A,p,q,r)\n",
    "    return A"
   ]
  },
  {
   "cell_type": "code",
   "execution_count": 27,
   "id": "f94f77e1-8bec-42fd-a956-68c4d566c962",
   "metadata": {},
   "outputs": [
    {
     "name": "stdout",
     "output_type": "stream",
     "text": [
      "[16, 18, 6, 8, 19, 9, 4, 14, 5, 15, 18, 8, 6, 15, 10, 4, 8, 10, 7, 15]\n",
      "[4, 8, 8, 6, 8, 10, 7, 14, 5, 15, 9, 4, 14, 5, 15, 7, 15, 10, 7, 15]\n"
     ]
    }
   ],
   "source": [
    "array=make_random_list(20)\n",
    "print(array)\n",
    "merge_sort(array,0,len(array))\n",
    "print(array)"
   ]
  },
  {
   "cell_type": "markdown",
   "id": "01aab2b8-d572-4d2e-8361-39f8418eaef0",
   "metadata": {},
   "source": [
    "# 21.03.2025 laboratorio\n",
    "\n",
    "warm-up binary search\n",
    "\n",
    "necessario tempo O(log(n))\n",
    "\n",
    "in: nums int list in ordine crescente\n",
    "\n",
    "out nums list ritorna l'indice di un numero x se e' in nums oppure -1\n",
    "\n"
   ]
  },
  {
   "cell_type": "code",
   "execution_count": null,
   "id": "e7963670-eacf-44e4-a39a-8f003fa5b9cc",
   "metadata": {},
   "outputs": [],
   "source": [
    "def splitta(nums,x):\n",
    "    if len(nums)==1:\n",
    "        if nums[0]==x:\n",
    "            "
   ]
  },
  {
   "cell_type": "code",
   "execution_count": 20,
   "id": "cfaa0876-484b-4af8-ba33-98b32e6b3971",
   "metadata": {},
   "outputs": [],
   "source": [
    "def binary_search_naive(nums,x):\n",
    "    \"\"\"\n",
    "    O(n)\n",
    "    \"\"\"\n",
    "    for index,item in enumerate(nums):\n",
    "        if item == x:\n",
    "            return index\n",
    "    return -1"
   ]
  },
  {
   "cell_type": "code",
   "execution_count": 19,
   "id": "5e6f6ff9-1d43-46ac-b431-83981b704fde",
   "metadata": {},
   "outputs": [
    {
     "name": "stdout",
     "output_type": "stream",
     "text": [
      "[0, 9, 10, 3, 8, 0, 4, 3, 2, 3]\n",
      "[0, 0, 2, 3, 3, 3, 4, 8, 9, 10]\n",
      "3\n"
     ]
    }
   ],
   "source": [
    "numeri=make_random_list(10)\n",
    "print(numeri)\n",
    "numeri=insertion_sort_originale(numeri)\n",
    "print(numeri)\n",
    "print(binary_search_naive(numeri,3))"
   ]
  },
  {
   "cell_type": "code",
   "execution_count": 39,
   "id": "1f75f186-e70c-446c-bb99-dc566f636059",
   "metadata": {},
   "outputs": [],
   "source": [
    "def dimezza_iterativo(lista,numero):\n",
    "    # iterativo\n",
    "    i_low=0\n",
    "    i_high=len(lista)-1\n",
    "    i_mid = (i_low+i_high)//2\n",
    "    while numero != lista[i_mid]:\n",
    "        if numero == lista[i_mid]:\n",
    "            return i_mid\n",
    "        if numero < lista[i_mid]:\n",
    "            i_high = i_mid - 1\n",
    "        if numero > lista[i_mid]:\n",
    "            i_low = i_mid + 1\n",
    "        i_mid = (i_low+i_high)//2\n",
    "    else:\n",
    "        return -1\n",
    "    return i_mid"
   ]
  },
  {
   "cell_type": "code",
   "execution_count": null,
   "id": "30c9c78c-20cf-4f64-b633-d545195ff3b3",
   "metadata": {},
   "outputs": [],
   "source": [
    "def dimezza_ricorsivo(lista,numero,i_low,i_high):\n",
    "    i_mid = (i_high-i_low)//2\n",
    "    if i_high-i_low == 1:\n",
    "        if lista[i_mid] == numero:\n",
    "            return i_mid\n",
    "        else:\n",
    "            return -1\n",
    "    else:\n",
    "        if i_mid \n",
    "        return dimezza_ricorsivo(lista,numero,\n",
    "            "
   ]
  },
  {
   "cell_type": "code",
   "execution_count": 40,
   "id": "d2c85583-a5c9-421a-9f8b-cc82af87d36b",
   "metadata": {},
   "outputs": [],
   "source": [
    "def binary_search_recursive(nums,low,high,x):\n",
    "    if low <= high:\n",
    "        mid = (low+high)//2\n",
    "        if arr[mid] == x:\n",
    "            return mid\n",
    "        elif arr[mid] < x:\n",
    "            return binary_search_recursive(nums,mid+1,high,x)\n",
    "        else:\n",
    "            return binary_search_recursive(nums,low,mid-1,x)\n",
    "    else:\n",
    "        return -1"
   ]
  },
  {
   "cell_type": "code",
   "execution_count": 35,
   "id": "5fda36fc-21c8-4cbf-a61b-a04bef7edd2c",
   "metadata": {},
   "outputs": [
    {
     "name": "stdout",
     "output_type": "stream",
     "text": [
      "[5, 0, 5, 0, 2, 0, 6, 1, 1, 10]\n",
      "[0, 0, 0, 1, 1, 2, 5, 5, 6, 10]\n",
      "-1\n",
      "-1\n"
     ]
    }
   ],
   "source": [
    "numeri=make_random_list(10)\n",
    "print(numeri)\n",
    "numeri=insertion_sort_originale(numeri)\n",
    "print(numeri)\n",
    "print(binary_search_naive(numeri,3))\n",
    "print(dimezza(numeri,4))"
   ]
  },
  {
   "cell_type": "markdown",
   "id": "5d417139-a92b-4b85-b10e-6f6e555b41ab",
   "metadata": {},
   "source": [
    "ogni iterazione dimezza la lunghezza dell'array.\n",
    "\n",
    "e' implementabile in vari modi\n",
    "\n",
    "senza sfruttare nessun tipo di proprieta' sull'input scorriamo tutto l'array\n",
    "\n",
    "se e' ordinato riusciamo a farlo in O(log n) \n",
    "\n",
    "nessuno ci dice che e' il tempo migliore\n",
    "\n",
    "lower bound? dobbiamo dimostrare che non esiste un algoritmo che ci permette di sorpassare log n\n",
    "\n",
    "cardinalita' delle istanze"
   ]
  },
  {
   "cell_type": "markdown",
   "id": "8408a708-0318-488a-979b-e0dec7df3afa",
   "metadata": {},
   "source": [
    "secondo esercizio\n",
    "\n",
    "l'avversario sceglie un indice pivot casualmente, l'array viene diviso al pivot point e le slice vengono scambiate\n",
    "\n",
    "```python\n",
    "A=[1,3,4,5,6,34,5,6]\n",
    "#          ^ pivot\n",
    "A=[6,34,5,6,1,3,4,5]\n",
    "```\n",
    "\n",
    "ora dobbiamo cercare un numero nell'array\n",
    "\n",
    "domanda: possiamo trovare il numero in tempo logaritmico?\n",
    "\n"
   ]
  },
  {
   "cell_type": "code",
   "execution_count": 45,
   "id": "c28bc577-d1ab-4cdf-baee-5775b61f6c23",
   "metadata": {},
   "outputs": [],
   "source": [
    "def find_peak_in_sorted_list(nums,low,high):\n",
    "    for index in range(low,high):\n",
    "        if arr[index]>arr[index+1]:\n",
    "            return index\n",
    "    \n",
    "def binary_search_recursive(nums,low,high,x):\n",
    "    if low <= high:\n",
    "        mid = (low+high)//2\n",
    "        if arr[high] <= arr[low]:\n",
    "            pivot=find_peak_in_sorted_list(lista,low,high)\n",
    "            \n",
    "        if arr[mid] == x:\n",
    "            return mid\n",
    "        elif arr[mid] < x:\n",
    "            return binary_search_recursive(nums,mid+1,high,x)\n",
    "        else:\n",
    "            return binary_search_recursive(nums,low,mid-1,x)\n",
    "    else:\n",
    "        return -1"
   ]
  },
  {
   "cell_type": "code",
   "execution_count": 47,
   "id": "6daa84f3-b467-44b7-822a-335a92e91a19",
   "metadata": {},
   "outputs": [],
   "source": [
    "def binary_search_pivot(nums,low,high,x):\n",
    "    if low <= high:\n",
    "        mid = (low+high)//2            \n",
    "        if nums[mid]==x:\n",
    "            return mid\n",
    "        if nums[low] < nums[mid]:\n",
    "            if nums[low] <= x <= nums[mid]:\n",
    "                high = mid - 1\n",
    "            else:\n",
    "                low = mid + 1\n",
    "        else:\n",
    "            if nums[mid] <= x <= nums[high]:\n",
    "                low = mid + 1\n",
    "            else:\n",
    "                high = mid - 1\n",
    "    return -1"
   ]
  },
  {
   "cell_type": "markdown",
   "id": "f0981498-d4af-4474-8fe3-239a943b2077",
   "metadata": {},
   "source": [
    "altro problema\n",
    "\n",
    "problema di two-sum?\n",
    "\n",
    "abbiamo due varianti a seconda che la lista sia ordinata o non ordinata\n",
    "\n",
    "la domanda e' dato un array v di valori interi +/- e un numero x, esistono due numeri in v la cui somma sia x?\n",
    "\n",
    "variante non ordinata N.O.: O(n) tempo e O(n) spazio aggiuntivo (che sia della lunghezza dell'input)\n",
    "variante ordinata O.: O(n) tempo e O(1) spazio aggiuntivo - la monotonia e' fondamentale"
   ]
  },
  {
   "cell_type": "code",
   "execution_count": null,
   "id": "45745876-2b91-461f-a5dc-765aa6a5166d",
   "metadata": {},
   "outputs": [],
   "source": [
    "# risolviamo il problema su una lista ordinata\n",
    "# usiamo la disuguaglianza triangolare per scartare alcuni indici\n",
    "def two_sum_ordinato(nums,somma):\n",
    "    # |a+b| <= |a| + |b|\n",
    "    # indice somma \n",
    "    for i,num in enumerate(nums):\n",
    "        max"
   ]
  },
  {
   "cell_type": "code",
   "execution_count": 48,
   "id": "b67e4cc0-091e-48b8-94bf-885fa1c00bc0",
   "metadata": {},
   "outputs": [],
   "source": [
    "# lista ordinata\n",
    "# fatto insieme in classe\n",
    "def two_sum_ordinato_due_puntatori(nums,somma):\n",
    "    # mantieni due puntatori e scorri la lista dai due lati\n",
    "    l=0\n",
    "    h=len(v)-1\n",
    "    summ=v[l]+v[h]\n",
    "    if summ==x:\n",
    "        return v[l], v[h]\n",
    "    # undershooting\n",
    "    if summ < x:\n",
    "        l=l+1\n",
    "    # overshooting\n",
    "    if summ > x:\n",
    "        h=h-1"
   ]
  },
  {
   "cell_type": "markdown",
   "id": "54c7b696-10d5-4d08-b7b9-b26456854758",
   "metadata": {},
   "source": [
    "domande da farsi\n",
    "\n",
    "il tempo e' il migliore che possiamo ottenere?\n",
    "\n",
    "possiamo fare una domanda bidimensionale\n",
    "\n",
    "se non permetto spazio aggiuntivo O(n) ma impongo O(1), allora il tempo potra' mai essere O(n) o sara' O(n^2)?\n",
    "\n",
    "con tre numeri e' un problema aperto da decadi risolvibile in O(n^2) e ci si chiede se si possa risolvere in meno di O(n^2)"
   ]
  },
  {
   "cell_type": "markdown",
   "id": "fe343900-bad2-4d64-96f8-38192bed73fd",
   "metadata": {},
   "source": [
    "# 25.03.2025 Object-Oriented Programming\n",
    "\n",
    "Florin\n",
    "\n",
    "Immaginiamo di dover programmare un'applicazione suddivisa in diversi moduli\n",
    "\n",
    "un modulo rappresenta un'entita'\n",
    "\n",
    "questo paradigma differisce da quello procedurale perche' si basa sul concetto di classe o entita'\n",
    "\n",
    "una classe rappresenta una collezione di oggetti\n",
    "\n",
    "es. classe persona\n",
    "\n",
    "una classe ha delle proprieta' chiamate attributi.\n",
    "\n",
    "es. persona ha nome ed eta'\n",
    "\n",
    "ha anche delle funzioni proprie della classe\n",
    "\n",
    "dovremo trovare un modo per istanziare questa entita' persona in un oggetto specifico\n",
    "\n",
    "cerchiamo il parallelismo in python"
   ]
  },
  {
   "cell_type": "code",
   "execution_count": 4,
   "id": "aead6350-2fd9-4829-b5fb-62142ad82d7f",
   "metadata": {},
   "outputs": [],
   "source": [
    "# si usa la keywork class\n",
    "class Persona():\n",
    "    # dobbiamo dire a questa classe cosa fare quando viene istanziata\n",
    "    # questo e' il compito di una funzione speciale chiamata costruttore, che viene chiamata quando la classe viene istanziata in un oggetto\n",
    "    # e' una 'magic function'\n",
    "    # self e' un parametro speciale che deve essere sempre menzionato nelle funzioni di una classe, serve a referenziare le funzioni di un'istanza.\n",
    "    # non deve chiamarsi self per forza, e' una convenzione.\n",
    "    def __init__(self,nome,eta):\n",
    "        self.nome = nome\n",
    "        self.eta = eta\n",
    "\n",
    "# per istanziare la classe\n",
    "p = Persona(\"ciro\",25)"
   ]
  },
  {
   "cell_type": "markdown",
   "id": "f7356be0-223a-4e34-b2a4-9670435d34e3",
   "metadata": {},
   "source": [
    "astrazione:\n",
    "\n",
    "si usa un modello per rappresentare qualcosa\n",
    "\n",
    "incapsulamento:\n",
    "\n",
    "gli attributi sono specifici della classe e sono quindi incapsulati in essa.\n",
    "\n",
    "fino a qui abbiamo solo immagazzinato dei dati, non c'e' niente di speciale rispetto a un dict.\n",
    "\n",
    "ora definiamo dei metodi specifici della classe"
   ]
  },
  {
   "cell_type": "code",
   "execution_count": 6,
   "id": "8cf509de-f75e-4fec-ae15-bf8dae8db73b",
   "metadata": {},
   "outputs": [
    {
     "name": "stdout",
     "output_type": "stream",
     "text": [
      "Ciao, mi chiamo ciro e ho 25 anni\n"
     ]
    }
   ],
   "source": [
    "# si usa la keywork class\n",
    "class Persona():\n",
    "    # dobbiamo dire a questa classe cosa fare quando viene istanziata\n",
    "    # questo e' il compito di una funzione speciale chiamata costruttore, che viene chiamata quando la classe viene istanziata in un oggetto\n",
    "    # e' una 'magic function'\n",
    "    # self e' un parametro speciale che deve essere sempre menzionato nelle funzioni di una classe, serve a referenziare le funzioni di un'istanza.\n",
    "    # non deve chiamarsi self per forza, e' una convenzione.\n",
    "    def __init__(self,nome,eta):\n",
    "        self.nome = nome\n",
    "        self.eta = eta\n",
    "\n",
    "    def presentarsi(self):\n",
    "        print(f\"Ciao, mi chiamo {self.nome} e ho {self.eta} anni\")\n",
    "\n",
    "# per istanziare la classe\n",
    "p = Persona(\"ciro\",25)\n",
    "p.presentarsi()"
   ]
  },
  {
   "cell_type": "markdown",
   "id": "1321cc88-a02a-42b0-b002-b61d5fee706c",
   "metadata": {},
   "source": [
    "## Ereditarieta'\n",
    "\n",
    "possiamo creare delle relazioni tra classi e qui entra in gioco un altro concetto che e' l'eredita'\n",
    "\n",
    "per esempio voglio creare la classe Studente, il quale e' anche una Persona.\n",
    "\n",
    "e' una relazione che si chiama \"is a\": Studente is a Persona.\n",
    "\n",
    "in python si definisce questa relazione come\n",
    "\n",
    "```python\n",
    "class Studente(Persona):\n",
    "```\n",
    "\n",
    "Questo significa che il costruttore dovra' istanziare un oggetto Persona con tutti i suoi parametri.\n",
    "\n",
    "in python esiste una funzione `super()` che ritorna l'oggetto della super-classe"
   ]
  },
  {
   "cell_type": "code",
   "execution_count": 9,
   "id": "188b1294-460d-4e00-8fa1-3f772976f123",
   "metadata": {},
   "outputs": [],
   "source": [
    "class Studente(Persona):\n",
    "    def __init__(self,nome,eta,matricola):\n",
    "        super().__init__(nome,etc)\n",
    "        self.matricola = matricola"
   ]
  },
  {
   "cell_type": "markdown",
   "id": "1988cffc-7006-4edd-be10-625b9bdd6d8a",
   "metadata": {},
   "source": [
    "ora potro' chiamare comunque i metodi della superclasse dall'istanza della sottoclasse.\n",
    "\n",
    "pero' vorrei modificare uno di questi metodi.\n",
    "\n",
    "## Polimorfismo\n",
    "\n",
    "classi distinte posono utilizzare funzioni con lo stesso nome ma con implementazioni diverse.\n",
    "\n",
    "Fare questo si chiama \"overloading\". In python si chiama \"overriding\"."
   ]
  },
  {
   "cell_type": "code",
   "execution_count": 13,
   "id": "c592d734-5a09-4a77-9896-ba32b3b0158f",
   "metadata": {},
   "outputs": [
    {
     "name": "stdout",
     "output_type": "stream",
     "text": [
      "Ciao, mi chiamo lino, ho 23 anni e la mia matricola e' 234823.\n"
     ]
    }
   ],
   "source": [
    "class Studente(Persona):\n",
    "    def __init__(self,nome,eta,matricola):\n",
    "        super().__init__(nome,eta)\n",
    "        self.matricola = matricola\n",
    "    def presentarsi(self):\n",
    "        print(f\"Ciao, mi chiamo {self.nome}, ho {self.eta} anni e la mia matricola e' {self.matricola}.\")\n",
    "\n",
    "s = Studente(\"lino\",23,234823)\n",
    "s.presentarsi()"
   ]
  },
  {
   "cell_type": "code",
   "execution_count": 15,
   "id": "d463e80a-65ee-4af6-8541-acd3d332ca47",
   "metadata": {},
   "outputs": [
    {
     "name": "stdout",
     "output_type": "stream",
     "text": [
      "Ciao, mi chiamo lino e ho 23 anni\n",
      "La mia matricola e' 234823.\n"
     ]
    }
   ],
   "source": [
    "class Studente(Persona):\n",
    "    def __init__(self,nome,eta,matricola):\n",
    "        super().__init__(nome,eta)\n",
    "        self.matricola = matricola\n",
    "    def presentarsi(self):\n",
    "        # posso anche chiamare lo stesso metodo da super()\n",
    "        super().presentarsi()\n",
    "        print(f\"La mia matricola e' {self.matricola}.\")\n",
    "\n",
    "s = Studente(\"lino\",23,234823)\n",
    "s.presentarsi()"
   ]
  },
  {
   "cell_type": "markdown",
   "id": "05e65d67-5dbb-4044-94db-b7d59002aed4",
   "metadata": {},
   "source": [
    "definiamo funzioni per printare i nostri oggetti"
   ]
  },
  {
   "cell_type": "code",
   "execution_count": 19,
   "id": "9eabbe8b-1ddb-4372-b377-dc2d80594d9e",
   "metadata": {},
   "outputs": [
    {
     "name": "stdout",
     "output_type": "stream",
     "text": [
      "Ciao, mi chiamo lino e ho 23 anni\n",
      "La mia matricola e' 234823.\n"
     ]
    }
   ],
   "source": [
    "class Studente(Persona):\n",
    "    def __init__(self,nome,eta,matricola):\n",
    "        super().__init__(nome,eta)\n",
    "        self.matricola = matricola\n",
    "    def presentarsi(self):\n",
    "        # posso anche chiamare lo stesso metodo da super()\n",
    "        super().presentarsi()\n",
    "        print(f\"La mia matricola e' {self.matricola}.\")\n",
    "    def __str__(self):\n",
    "        return f\"{self.nome} {self.eta} {self.matricola}\"\n",
    "\n",
    "    # si usa per debugging, se non e' definito __str__() viene chiamato __repr__()\n",
    "    def __repr__(self):\n",
    "        return f\"Persona(nome={self.nome})\"\n",
    "\n",
    "s = Studente(\"lino\",23,234823)\n",
    "s.presentarsi()"
   ]
  },
  {
   "cell_type": "markdown",
   "id": "532b6e91-8ef7-4181-afa9-7c2507e609bd",
   "metadata": {},
   "source": [
    "## Esercizio\n",
    "\n",
    "Aggiungere un attributo alla classe Studente che rappresenta la lista degli esami passati dallo studente con nome e voto.\n",
    "\n",
    "Aggiungere tre metodi alla classe:\n",
    "- inserire nuovo esame\n",
    "- stampare tutti gli esami\n",
    "- stampare la media dei voti"
   ]
  },
  {
   "cell_type": "code",
   "execution_count": 26,
   "id": "56a67008-90a5-4272-a465-6809a7ccd38e",
   "metadata": {},
   "outputs": [
    {
     "name": "stdout",
     "output_type": "stream",
     "text": [
      "Ciao, mi chiamo lino e ho 23 anni\n",
      "La mia matricola e' 234823.\n",
      "Esame di analisi 1 voto 26\n",
      "Esame di algebra voto 18\n",
      "Esame di fondamenti voto 0\n",
      "14.666666666666666\n"
     ]
    }
   ],
   "source": [
    "class Esame:\n",
    "    def __init__(self,nome,voto):\n",
    "        self.nome = nome\n",
    "        self.voto = voto\n",
    "    def __str__(self):\n",
    "        return f\"Esame di {self.nome} voto {self.voto}\"\n",
    "        \n",
    "class Studente(Persona):\n",
    "    def __init__(self,nome,eta,matricola,esami=[]):\n",
    "        super().__init__(nome,eta)\n",
    "        self.matricola = matricola\n",
    "        self.esami=esami\n",
    "    def presentarsi(self):\n",
    "        # posso anche chiamare lo stesso metodo da super()\n",
    "        super().presentarsi()\n",
    "        print(f\"La mia matricola e' {self.matricola}.\")\n",
    "    def __str__(self):\n",
    "        return f\"{self.nome} {self.eta} {self.matricola}\"\n",
    "\n",
    "    # si usa per debugging, se non e' definito __str__() viene chiamato __repr__()\n",
    "    def __repr__(self):\n",
    "        pass\n",
    "\n",
    "    def inserisci_esame(self,nome_esame,voto):\n",
    "        self.esami.append(Esame(nome_esame,voto))\n",
    "    def stampa_esami(self):\n",
    "        for esame in self.esami:\n",
    "            print(esame)\n",
    "    def stampa_media_esami(self):\n",
    "        somma=0\n",
    "        for esame in self.esami:\n",
    "            somma=somma+esame.voto\n",
    "        media=somma/len(self.esami)\n",
    "        print(media)\n",
    "s = Studente(\"lino\",23,234823)\n",
    "s.presentarsi()\n",
    "s.inserisci_esame(\"analisi 1\",26)\n",
    "s.inserisci_esame(\"algebra\",18)\n",
    "s.inserisci_esame(\"fondamenti\",0)\n",
    "s.stampa_esami()\n",
    "s.stampa_media_esami()"
   ]
  },
  {
   "cell_type": "markdown",
   "id": "caeac3c6-02a4-4551-b0fe-785391bd9905",
   "metadata": {},
   "source": [
    "## Decoratori\n",
    "\n",
    "voglio che le proprieta' del'oggetto siano private, questo in python si esprime con doppio underscore.\n",
    "\n",
    "in questo caso diventano inaccessibili dall'esterno, riferendosi a `oggetto.__attributo` si avra' un errore.\n",
    "\n",
    "tramite il decoratore `@property` posso chiamare funzioni come se fossero proprieta'. il comportamento di questo metodo si chiama getter.\n",
    "\n",
    "quando si fa questo bisogna definire anche un setter, altrimenti si avra' un errore.\n",
    "\n",
    "es\n",
    "\n",
    "```python\n",
    "@property\n",
    "def name(self):\n",
    "    return self.__name\n",
    "```\n",
    "\n",
    "\n",
    "vale anche per settare valori, in tal caso il metodo e' un setter\n",
    "```python\n",
    "@age.setter\n",
    "def age(self,new_age):\n",
    "    assert new_age > 0, \"l'eta' deve essere positiva\"\n",
    "    print(f\"cambio eta' da {self.__age} a {new_age}\")\n",
    "    self.__age=new_age\n",
    "```"
   ]
  },
  {
   "cell_type": "markdown",
   "id": "9d881056-82a3-4a60-923e-2e720039e326",
   "metadata": {},
   "source": [
    "## Classmethod\n",
    "\n",
    "un metodo di una classe che non necessita che la classe venga istanziata per essere chiamato.\n",
    "\n",
    "es\n",
    "\n",
    "```python\n",
    "class Studente(Persona):\n",
    "    nome_universita = \"La Sapienza\"\n",
    "\n",
    "print(Studente.nome_universita)\n",
    "```\n",
    "\n",
    "per effettuare operazioni su questo dato serve un classmethod\n",
    "\n",
    "```python\n",
    "class Studente(Persona):\n",
    "    nome_universita = \"La Sapienza\"\n",
    "\n",
    "    @classmethod\n",
    "    def cambia_universita(cls,new_uni):\n",
    "        cls.nome_universita = new_uni\n",
    "\n",
    "# si puo' usare in un'istanza o sulla classe per applicarlo a tutte le istanze\n",
    "s.cambia_universita(\"Tor Vergata\")\n",
    "Studente.cambia_universita(\"Tor Vergata\")\n",
    "```\n",
    "\n",
    "come si comporta quando viene cambiato nell'istanza o nella classe? quando viene istanziata e' un puntatore che poi viene cambiato verso un'altra variabile nell'istanza, mentre il valore viene cambiato \n",
    "\n",
    "puo' essere usato per cambiare globalmente un parametro di tutte le classi.\n",
    "\n",
    "es. lo uso per contare le istanze di un tipo incrementando un contatore di classe da `__init__()`\n",
    "\n"
   ]
  },
  {
   "cell_type": "markdown",
   "id": "da391412-9269-4b36-a66c-1fc346ee7894",
   "metadata": {},
   "source": [
    "implementiamo una classe per una rete neurale\n",
    "\n",
    "una rete neurale e' un agglomerato di neuroni anche detto (?)\n",
    "\n",
    "in pratica modelliamo un neurone come un numero reale\n",
    "\n",
    "di per se' non fa nulla\n",
    "\n",
    "la potenza nasce quando ne mettiamo insieme tanti, rappresentiamoli come nodi e li interconnettiamo in qualche modo\n",
    "\n",
    "banalmente si definiscono dei layer e si collegano tutti i neuroni di un layer al successivo\n",
    "\n",
    "una rete neurale non e' altro che una funzione da R^n a R^m\n",
    "\n",
    "abbiamo un vettore in input e uno di output\n",
    "\n",
    "le interconnessioni sono pesate, su ogni ramo branch c'e' un valore che ne determina il suo peso.\n",
    "\n",
    "quindi vari input -> vari pesi -> prossimo neurone\n",
    "\n",
    "il valore e' un prodotto scalare degli input coi loro pesi\n",
    "\n",
    "$x_1=1.5$ \n",
    "\n",
    "$x_2=-2$\n",
    "\n",
    "$x_3=w_1x_1+w_2x_2$\n",
    "\n",
    "$(1.5 2)$\n",
    "\n",
    "si puo' esprimere in maniera vettoriale $w^Tx$\n",
    "\n",
    "$x_3=\\sigma(x_3 primo)$\n",
    "\n",
    "$\\sigma$ non e' lineare\n",
    "\n",
    "c'e' una famiglia di funzioni che servono ad applicare la non linearita' a $\\sigma$\n",
    "\n",
    "es. ReLU: 0 se x=0 x se x>0\n",
    "\n",
    "tutti i neuroni hanno la stessa funzione $\\sigma$\n",
    "\n",
    "token\n",
    "\n",
    "come si scelgono i pesi dei rami?\n",
    "\n",
    "lo scopo di queste funzioni e' di essere usate in reti neurali\n",
    "\n",
    "possiamo aggiungere attributi di classe, che non e' una classe derivata da un'entita' reale ma la usiamo come fosse un contenitore di funzioni.\n",
    "\n",
    "funzioni di attivazione. es. revu il threshold e' zero\n",
    "\n",
    "quindi possiamo avere una classe\n"
   ]
  },
  {
   "cell_type": "code",
   "execution_count": 43,
   "id": "4b864313-e761-45bc-84ea-0bbaa4466d85",
   "metadata": {},
   "outputs": [],
   "source": [
    "import numpy as np\n",
    "\n",
    "class Attivazioni:\n",
    "    # decoratore usato spesso per la progettazione concettuale\n",
    "    # un metodo statico e' un metodo specifico di una certa classe che pero' non agisce sulle proprieta' dell'istanza.\n",
    "    # nei metodi statici non conta l'istanza dell'oggetto, per questo non serve self.\n",
    "    @staticmethod\n",
    "    def ReLU(x):\n",
    "        return np.maximum(0,x)\n",
    "\n",
    "    @staticmethod\n",
    "    def sigmoid(x):\n",
    "            return 1 / (1 + np.exp(-x))"
   ]
  },
  {
   "cell_type": "markdown",
   "id": "9f15fc0e-6974-4852-ab1d-fa46a2303461",
   "metadata": {},
   "source": [
    "i neuroni a cascata layer hanno relazioni di precedenza con altri layer\n",
    "\n",
    "primo layer\n",
    "\n",
    "hidden layer\n",
    "\n",
    "\n",
    "a priori non sappiamo quanti layer potrebbe avere una rete neurale, quindi modelliamo un layer\n",
    "\n",
    "l'unica cosa che caratterizza un layer sono i pesi dei rami."
   ]
  },
  {
   "cell_type": "code",
   "execution_count": 31,
   "id": "e7ac1c9c-c023-4761-ae7a-ed7ecbcec4b1",
   "metadata": {},
   "outputs": [],
   "source": [
    "class LinearLayer:\n",
    "    def __init__(self,input_size,output_size):\n",
    "        self.weights = np.random.rand(input_size,output_size)\n",
    "    def forward(self,x):\n",
    "        return np.dot(x,self.weights)"
   ]
  },
  {
   "cell_type": "code",
   "execution_count": 33,
   "id": "f887e894-741e-41fc-81a3-c04d708f16d8",
   "metadata": {},
   "outputs": [],
   "source": [
    "l=LinearLayer(2,3)"
   ]
  },
  {
   "cell_type": "code",
   "execution_count": 34,
   "id": "e07ef96e-67f8-45b1-a16e-c2b0c0d7ea20",
   "metadata": {},
   "outputs": [
    {
     "data": {
      "text/plain": [
       "array([-0.83932302,  0.35877164, -1.32739563])"
      ]
     },
     "execution_count": 34,
     "metadata": {},
     "output_type": "execute_result"
    }
   ],
   "source": [
    "x=np.array([1.5,-2])\n",
    "l.forward(x)"
   ]
  },
  {
   "cell_type": "code",
   "execution_count": 46,
   "id": "ed38d71d-5dd6-4775-bcd1-cc6b59ea9c82",
   "metadata": {},
   "outputs": [],
   "source": [
    "class MyNN:\n",
    "    def __init__(self, input_size, hidden_size, output_size):\n",
    "        self.input_layer = LinearLayer(input_size,hidden_size)\n",
    "        self.output_layer = LinearLayer(hidden_size,output_size)\n",
    "        # mappo la funzione di attivazione desiderata\n",
    "        self.act = Attivazioni.ReLU\n",
    "\n",
    "    def forward(self,x):\n",
    "        # applico la non linearita'\n",
    "        out = self.act(self.input_layer.forward(x))\n",
    "        return self.act(self.output_layer.forward(out))"
   ]
  },
  {
   "cell_type": "code",
   "execution_count": 47,
   "id": "6c47478c-8244-474a-a1f7-604a2497bf71",
   "metadata": {},
   "outputs": [],
   "source": [
    "nn = MyNN(2,3,1)"
   ]
  },
  {
   "cell_type": "markdown",
   "id": "17e4763d-c28f-40a1-8308-579b7b00d411",
   "metadata": {},
   "source": [
    "importante nel modellare e' dividere il problema in problemi piu' piccoli da modellare come classi."
   ]
  },
  {
   "cell_type": "markdown",
   "id": "79d76528-efc1-4e75-9f54-e5b6c7ba4449",
   "metadata": {},
   "source": [
    "# 26.03.2025 Analisi di merge-sort\n",
    "\n",
    "1. divide and conquer\n",
    "2. recursive\n",
    "3. stabile -> lista di punti nel piano cartesiano\n",
    "4. not in-place (al contrario di e.g. insertion sort)\n",
    "5. \"x\" time-complexity\n",
    "\n",
    "vogliamo capire la complessita' computazionale T(n), come al solito prendendo come riferimento il caso peggiore.\n",
    "\n"
   ]
  },
  {
   "cell_type": "code",
   "execution_count": 4,
   "id": "693b5233-4fd2-4813-b296-3cedc65811a4",
   "metadata": {},
   "outputs": [
    {
     "ename": "SyntaxError",
     "evalue": "invalid syntax (3430819796.py, line 8)",
     "output_type": "error",
     "traceback": [
      "  \u001b[36mCell\u001b[39m\u001b[36m \u001b[39m\u001b[32mIn[4]\u001b[39m\u001b[32m, line 8\u001b[39m\n\u001b[31m    \u001b[39m\u001b[31mleft = array of\u001b[39m\n                 ^\n\u001b[31mSyntaxError\u001b[39m\u001b[31m:\u001b[39m invalid syntax\n"
     ]
    }
   ],
   "source": [
    "def merge_sort(A):\n",
    "    # C_1\n",
    "    n = len(A)\n",
    "    if n < 2:\n",
    "        return\n",
    "    # definisco il punto centrale dell'array\n",
    "    mid = n // 2\n",
    "    left = array of \n",
    "    right = array\n",
    "    # fine C_1\n",
    "\n",
    "    # C_2 * n\n",
    "    for i in range(0,mid-1):\n",
    "        left[i] = A[i]\n",
    "    for i in range(mid,n-1):\n",
    "        right[i-mid]=A[i]\n",
    "    # fine C_2\n",
    "\n",
    "    # chiamata ricorsiva - recursive call\n",
    "    merge_sort(left)  # T(n/2)\n",
    "    merge_sort(right) # T(n/2)\n",
    "\n",
    "    # merge\n",
    "    merge(left,right) #C_3n+C_4"
   ]
  },
  {
   "cell_type": "markdown",
   "id": "4ad81945-f2fb-4eb6-8c07-351946ebffd8",
   "metadata": {},
   "source": []
  },
  {
   "cell_type": "markdown",
   "id": "6f6e5940-5a8d-4bb4-9a9a-aacebb934070",
   "metadata": {},
   "source": [
    "## Time Complexity\n",
    "\n",
    "$$2T(\\frac{n}{2}) + (C_2+C_3)n+(C_4+C_1)$$\n",
    "$$= 2T(\\frac{n}{2})+C'n$$\n",
    "$$T(n)=2[2T(\\frac{n}{4})+C'\\frac{n}{2}]+2C'n$$\n",
    "$$=4T(\\frac{n}{4})+2C'n$$\n",
    "$$=8T(\\frac{n}{8})+3C'n$$\n",
    "$$=16T(\\frac{n}{16})+4C'n$$\n",
    "$$=2^nT(\\frac{n}{2^n}+KC'n$$\n",
    "$$=\\frac{n}{2^n}=1 => 2^n=n1 => K=\\log{n}$$\n",
    "\n",
    "manca un pezzo\n",
    "\n",
    "$$=O(n\\log{n})$$\n",
    "-> $T(n) \\le c n \\log{n}$ if $n\\ge n_0$"
   ]
  },
  {
   "cell_type": "markdown",
   "id": "632c28b8-37b7-493e-b3d6-a6cc6d04bf93",
   "metadata": {},
   "source": [
    "ci sono almeno 4 modi di fare merge sort, tra i quali il \"master theory\" che e' stato rinominato per via del linguaggio offensivo"
   ]
  },
  {
   "cell_type": "markdown",
   "id": "8f9ef532-132e-49f7-ba03-99ea033b1742",
   "metadata": {},
   "source": [
    "## Space Complexity\n",
    "\n",
    "diagramma di albero del merge-sort che splitta l'array in due fino alle foglie - casi base\n",
    "\n",
    "ogni livello ha un nome L1 L2 L3\n",
    "\n",
    "### Partiamo dalla versione \"naive\"\n",
    "\n",
    "Lo spazio ausiliario che utilizziamo usando gli array left e right:\n",
    "\n",
    "L0 - array originale\n",
    "L1 - due mezzi array\n",
    "L2 - quattro quarti di array\n",
    "\n",
    "il livello di ricorsione dipende dalla lunghezza dell'array ed e' $\\log{n}$\n",
    "\n",
    "la memoria usata sara' n=len(A) per ogni livello di ricorsione\n",
    "\n",
    "quindi lo spazio aggiuntivo sara' $O(n\\log{n})$\n",
    "\n",
    "### Cerchiamo Altre Versioni\n",
    "\n",
    "divido l'array non ordinato e poi procedo in una sola direzione mantenendo a ogni livello solamente l'array di una direzione.\n",
    "\n",
    "In questa maniera si ottimizza lo spazio:\n",
    "\n",
    "L0=n L1=n/2 L2=n/2 =>  n+n/2+n/4 = S(n) # serie geometrica\n",
    "\n",
    "n(1+1/2+1/4)\n",
    "\n",
    "=> 1n<=S(n)<2n\n",
    "\n",
    "\n",
    "es. problema di google che ha un array enorme e deve essere diviso su diverse macchine fisiche. \n",
    "\n",
    "merge sort e' comodo perche' puo' essere distribuito in una rete."
   ]
  },
  {
   "cell_type": "markdown",
   "id": "d7a8a3d8-e81b-479e-bfa5-3ba4fe816e62",
   "metadata": {},
   "source": [
    "## Comparison\n",
    "\n",
    "merge-sort \n",
    "\n",
    "time complexity -> ϑ(n\\log{n})\n",
    "\n",
    "\n",
    "caso migliore? array gia' ordinato [1,2,3,4] e' indifferente perche' si arriva comunque al caso base con lo stesso numero di passaggi\n",
    "\n",
    "anche nel caso migliore la time complexity sara' $n\\log{n}$\n",
    "\n",
    "space complexity -> O(n)\n",
    "\n",
    "nell'insertion sort\n",
    "\n",
    "time complexity -> O(n^2) worst-case O(n) best-case\n",
    "space -> O(1)\n",
    "\n",
    "quindi paragonando insertion e merge sort, notiamo che merge sort e' piu' robusto come time complexity, ma ha bisogno di piu' spazio.\n",
    "\n",
    "in generale e' buono paragonare gli algoritmi per comprendere quali sono i trade-off e scegliere quello giusto a seconda dei casi. \n",
    "\n",
    "le domande su merge-sort all'esame capitano SEMPRE."
   ]
  },
  {
   "cell_type": "markdown",
   "id": "c41892a6-77e4-4502-ba88-f49437d1544f",
   "metadata": {},
   "source": [
    "# 28.03.2025 venerdi' laboratorio\n",
    "\n",
    "primo algoritmo: 2-sum su lista non sortata\n",
    "\n",
    "secondo: frequenza di un elemento >= n/2\n",
    "\n",
    "terzo: ordinare una lista disordinata con solo 3 valori\n",
    "\n"
   ]
  },
  {
   "cell_type": "markdown",
   "id": "59cfca54-d901-4c4f-9492-cc7ffe6b770b",
   "metadata": {},
   "source": [
    "# 02.04.2025 Strutture Dati\n",
    "\n",
    "- array\n",
    "- pila\n",
    "- coda\n",
    "- lista concatenata - linked list\n",
    "- matrici\n",
    "\n",
    "tavola\n",
    "\n",
    "| algoritmo | array | lista c |\n",
    "| insert | O(n) | O(1) |\n",
    "| delete | O(n) | O(1) o O(n) |\n",
    "| search | O(n) | O(n) |\n",
    "\n",
    "una lista ordinata si puo' rappresentare come un albero di ricerca\n",
    "\n",
    "## Binary Search Tree\n",
    "\n",
    "l'albero si naviga a destra o sinistra\n",
    "\n",
    "a sinistra i numeri minori e a destra i maggiori\n",
    "\n",
    "ricercare in un albero ha un costo di O(log(n)) perche' ogni iterazione e' un livello dell'albero e il numero massimo di livelli e' log(n).\n",
    "\n",
    "Sia x un nodo in un albero di ricerca binario.\n",
    "\n",
    "Se y e' un nodo nel sottoalbero destro di x, allora la chiave di x sara' minore o uguale della chiave di y.\n",
    "\n",
    "Chiaramente se y e' un nodo nel sottoalbero sinistro di x, allora sara' vero il contrario, cioe' che la chiave di x sara' maggiore o uguale della chiave di y.\n",
    "\n",
    "Consideriamo come navigarlo, come inserire o rimuovere un nodo.\n",
    "\n",
    "Ci sono due problemi:\n",
    "- e' molto meno banale\n",
    "- se facciamo troppe insertion dobbiamo ri-bilanciarlo\n",
    "- differiamo alberi bilanciati, completi, o nessuno dei due\n",
    "\n",
    "Non e' completamente vero che impiega O(log(n)). Se l'albero e' completamente bilanciato impieghera' O(n).\n",
    "\n",
    "bilanciato: tutti i livelli sono riempiti.\n",
    "\n",
    "completo: tutte le foglie sono piene.\n",
    "\n",
    "Se non e' bilanciato si sviluppa solo da una parte e causa problemi.\n",
    "\n",
    "e.s. dopo insertion va bilanciato altrimenti degenera in uno di questi due casi.\n",
    "\n",
    "es. collezionando e inserendo timestamp nell'albero essi saranno sempre successivi.\n",
    "\n",
    "Oggi vogliamo pero' arrivare a un costo costante.\n",
    "\n",
    "Per fare questo posso creare una tabella a indirizzamento diretto.\n",
    "\n",
    "Sara' questa che ci portera' all'hashing e agli hashmaps.\n",
    "\n",
    "### Tabella a Indirizzamento Diretto\n",
    "\n",
    "L'idea e' che c'e' qualche universo che chiamiamo U, le cui chiavi effettive sono un sottoinsieme.\n",
    "\n",
    "Avro' quindi un array di chiavi, che non saranno sempre numeri ordinabili.\n",
    "\n",
    "Voglio quindi una funzione di hash che associ alle chiavi dei numeri.\n",
    "\n",
    "e.s. conto la lunghezza di una stringa.\n",
    "\n",
    "Il problema e' che possono capitare delle collisioni.\n",
    "\n",
    "Per risolvere questo problema posso fare tante cose, che rientrano in due categorie:\n",
    "\n",
    "1. una funzione di hashing iniettiva - migliorare le proprieta' statistiche di h() - e.s. gia' sommare i valori dei caratteri - per quanto puo' essere buona potro' osservare delle collisioni.\n",
    "2. strategie\n",
    "3. - linear probing - primary clustering - le chiavi si accumulano negli stessi punti ed e' poi difficile capire qual'e' quella giusta.\n",
    "   - lista concatenata, il problema e' che nel caso peggiore in cui molte chiavi si riferiscono alla stessa cella impieghera' O(n) perche' tutta la lista linkata va scorsa\n",
    "   - cose piu' complicate, quadratic probing\n",
    "\n",
    "secondary clustering\n",
    "\n",
    "tiny pointers\n",
    "\n",
    "una proprieta' importante e' il numero di celle m, riducendolo si avranno piu' collisioni. il vantaggio e' che occupero' meno spazio.\n",
    "\n",
    "Se aumento m avro' meno collisioni ma occupero' meno spazio.\n",
    "\n",
    "normalmente sono astratte al programmatore ma vanno tenute a mente\n",
    "\n",
    "il costo di un insert e delete da un hashmap in python e' O(1)\n",
    "\n",
    "\n",
    "\n",
    "es. ricerco una chiave \"giovanni\":\n",
    "- faccio l'hash di \"giovanni\"\n",
    "- la chiave hashata punta a una lista linkata nella quale c'e' \"giovanni\"\n",
    "\n",
    "mettiamo caso che \"mariana\" abbia lo stesso hash.\n",
    "\n",
    "aggiungendo \"mariana\" si avra' lo steso hash e verra' aggiunta alla lista linkata dov'e' anche \"giovanni\"\n",
    "\n",
    "nel worst case tutti gli elementi hanno lo stesso hash e fanno parte di una sola lista linkata per la quale il problema della ricerca si ripete spostandosi su questa lista.\n",
    "\n",
    "i set di fatto sono hashmap semplificati, perche' hanno solo l'appartenenza o meno all'insieme.\n",
    "\n"
   ]
  },
  {
   "cell_type": "code",
   "execution_count": 9,
   "id": "4c8b460e-bdf4-4312-a94b-981d99798f0f",
   "metadata": {},
   "outputs": [],
   "source": [
    "def my_hash(stringa):\n",
    "    # voglio un algoritmo di hash che causi collisioni per tutti gli anagrammi di stringa\n",
    "    # somma valori ascii? collisioni non volute\n",
    "    pass\n",
    "    \n",
    "def is_anagram(stringa1,stringa2):\n",
    "    if len(stringa1) == len(stringa2):\n",
    "        for char in stringa1:\n",
    "            if char not in stringa2:\n",
    "                return False\n",
    "        else:\n",
    "            return True\n",
    "    else:\n",
    "        return False\n",
    "\n",
    "# Problema: raggruppare anagrammi\n",
    "def raggruppa_anagrammi(A=[]):\n",
    "    mappa={}\n",
    "    ret=[]\n",
    "    for stringa in A:\n",
    "        hash_stringa=my_hash(stringa)\n",
    "        if hash_stringa in mappa:\n",
    "            mappa[hash_stringa] = mappa[hash_stringa].append(stringa)\n",
    "        else:\n",
    "            mappa[hash_stringa] = [ stringa ]\n",
    "    for k,stringhe in mappa:\n",
    "        ret_stringa=[]\n",
    "        for stringa in stringhe:\n",
    "            ret_stringa.append(stringa)\n",
    "        ret.append(ret_stringa)\n",
    "    return ret"
   ]
  },
  {
   "cell_type": "code",
   "execution_count": 5,
   "id": "c26d89a5-c39e-48e9-95f9-45ac1631b020",
   "metadata": {},
   "outputs": [
    {
     "data": {
      "text/plain": [
       "False"
      ]
     },
     "execution_count": 5,
     "metadata": {},
     "output_type": "execute_result"
    }
   ],
   "source": [
    "is_anagram(\"ciao\",\"ocsa\")"
   ]
  },
  {
   "cell_type": "markdown",
   "id": "1c151bd9-ab56-48b7-a7a9-8841cff3ab63",
   "metadata": {},
   "source": [
    "nella vita ci sono tre tipi di problemi, che si risolvono in tre modi:\n",
    "\n",
    "1. programmazione dinamica: vi dice malissimo, potrebbe essere gia' troppo tardi per risolvere il problema\n",
    "2. hashing\n",
    "3. sorting\n",
    "4. hashing e sorting"
   ]
  },
  {
   "cell_type": "code",
   "execution_count": 15,
   "id": "044b7a3b-ccf4-45e4-9d5e-2cb470b555ae",
   "metadata": {},
   "outputs": [],
   "source": [
    "# fatto in classe\n",
    "\n",
    "# voglio ricondurre una stringa in una forma \"anagrammabile\" ovvero trovare il simbolo di tutte le combinazioni dei suoi caratteri\n",
    "# quindi sortiamo la stringa e la compariamo. usiamo la stringa sortata come chiave.\n",
    "# \n",
    "\n",
    "def anagrams(lista_stringhe):\n",
    "    d = dict()\n",
    "    for stringa in lista_stringhe:\n",
    "        str_sorted = \"\".join(sorted(stringa))\n",
    "        if str_sorted not in d.keys():\n",
    "            d[str_sorted] = [ stringa ]\n",
    "        else:\n",
    "            d[str_sorted].append(stringa)\n",
    "    return d.values()\n",
    "        "
   ]
  },
  {
   "cell_type": "code",
   "execution_count": 14,
   "id": "2d547a02-ada1-4b30-8674-767d9b76e054",
   "metadata": {},
   "outputs": [
    {
     "data": {
      "text/plain": [
       "dict_values([['cat', 'tac', 'cta'], ['tan']])"
      ]
     },
     "execution_count": 14,
     "metadata": {},
     "output_type": "execute_result"
    }
   ],
   "source": [
    "lista_input=[\"cat\",\"tan\",\"tac\",\"cta\"]\n",
    "\n",
    "anagrams(lista_input)"
   ]
  },
  {
   "cell_type": "markdown",
   "id": "3d8d2280-04bb-4168-9d44-cc5424387b29",
   "metadata": {},
   "source": [
    "esercizio\n",
    "\n",
    "data una stringa, trovare la sottostringa piu' lunga senza caratteri che si ripetono.\n",
    "\n",
    "es. s=\"abcabcbb\"\n",
    "\n",
    "output: 3\n"
   ]
  },
  {
   "cell_type": "code",
   "execution_count": 20,
   "id": "c3a90209-bd4c-469e-b8e1-9f79bc8f7907",
   "metadata": {},
   "outputs": [
    {
     "ename": "SyntaxError",
     "evalue": "invalid syntax (3075456062.py, line 17)",
     "output_type": "error",
     "traceback": [
      "  \u001b[36mCell\u001b[39m\u001b[36m \u001b[39m\u001b[32mIn[20]\u001b[39m\u001b[32m, line 17\u001b[39m\n\u001b[31m    \u001b[39m\u001b[31mif\u001b[39m\n       ^\n\u001b[31mSyntaxError\u001b[39m\u001b[31m:\u001b[39m invalid syntax\n"
     ]
    }
   ],
   "source": [
    "# uso gli index e salvo gli index\n",
    "# oppure salvo liste di char/sottostringhe\n",
    "# oppure entrambi - uso un index e salvo sottostringhe\n",
    "\n",
    "def sottostringa_non_ripetuta_index(stringa):\n",
    "    substr=[]\n",
    "    substr_s=[]\n",
    "    start=0\n",
    "    for i in range(0,len(stringa)-1):\n",
    "        if c in stringa[start:i]:\n",
    "            start=i\n",
    "\n",
    "def sottostringa_non_ripetuta_substr(stringa):\n",
    "    sottostringhe=[]\n",
    "    start=0\n",
    "    for char in stringa:\n",
    "        if "
   ]
  },
  {
   "cell_type": "code",
   "execution_count": 19,
   "id": "8a0d3355-2017-4922-b9f4-330e53c49b37",
   "metadata": {},
   "outputs": [
    {
     "data": {
      "text/plain": [
       "[['a', 'b', 'c'],\n",
       " ['a', 'b', 'c'],\n",
       " ['a', 'b', 'c'],\n",
       " ['b', 'c'],\n",
       " ['b', 'c'],\n",
       " ['b', 'c'],\n",
       " ['b'],\n",
       " ['b']]"
      ]
     },
     "execution_count": 19,
     "metadata": {},
     "output_type": "execute_result"
    }
   ],
   "source": [
    "s=\"abcabcbb\"\n",
    "sottostringa_non_ripetuta(s)"
   ]
  }
 ],
 "metadata": {
  "kernelspec": {
   "display_name": "Python 3 (ipykernel)",
   "language": "python",
   "name": "python3"
  },
  "language_info": {
   "codemirror_mode": {
    "name": "ipython",
    "version": 3
   },
   "file_extension": ".py",
   "mimetype": "text/x-python",
   "name": "python",
   "nbconvert_exporter": "python",
   "pygments_lexer": "ipython3",
   "version": "3.13.2"
  }
 },
 "nbformat": 4,
 "nbformat_minor": 5
}
